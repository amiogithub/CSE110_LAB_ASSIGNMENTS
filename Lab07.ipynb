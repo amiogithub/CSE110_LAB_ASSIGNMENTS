{
  "nbformat": 4,
  "nbformat_minor": 0,
  "metadata": {
    "colab": {
      "provenance": []
    },
    "kernelspec": {
      "name": "python3",
      "display_name": "Python 3"
    },
    "language_info": {
      "name": "python"
    }
  },
  "cells": [
    {
      "cell_type": "code",
      "source": [
        "def a_name(x,y): #vitore parameter\n",
        "   c=x+y #body c=local variable\n",
        "   return c\n",
        "c=a_name(3,4) #function call dibo vitore argument c=global variable\n",
        "print(c)\n",
        "print(a_name(5,5))\n",
        "\n",
        "\n"
      ],
      "metadata": {
        "colab": {
          "base_uri": "https://localhost:8080/"
        },
        "id": "IcPD23W6GXKv",
        "outputId": "0fdc4a24-603d-4924-fda6-3326c8ba1483"
      },
      "execution_count": null,
      "outputs": [
        {
          "output_type": "stream",
          "name": "stdout",
          "text": [
            "7\n",
            "10\n"
          ]
        }
      ]
    },
    {
      "cell_type": "markdown",
      "source": [
        "1. Write a function called even_checker that takes a number as an argument and prints whether the number is even or odd inside the function.\n"
      ],
      "metadata": {
        "id": "x-jkoBLBf2xZ"
      }
    },
    {
      "cell_type": "code",
      "source": [
        "def even_checker(i):\n",
        "  if i%2==0:\n",
        "    print('even')\n",
        "  else:\n",
        "    print('odd')\n",
        "\n",
        "\n",
        "even_checker(int(input('Maam please enter a number: ')))     "
      ],
      "metadata": {
        "colab": {
          "base_uri": "https://localhost:8080/"
        },
        "id": "p0TiEv2dAAAi",
        "outputId": "9ab858f7-2ce1-4426-d3bd-ef0cdefc24e8"
      },
      "execution_count": 1,
      "outputs": [
        {
          "output_type": "stream",
          "name": "stdout",
          "text": [
            "Maam please enter a number: 5\n",
            "odd\n"
          ]
        }
      ]
    },
    {
      "cell_type": "markdown",
      "source": [
        "2. Write a python function that takes the limit as an argument of the Fibonacci series and prints till that limit. \n"
      ],
      "metadata": {
        "id": "UOaIaMQHf9v_"
      }
    },
    {
      "cell_type": "code",
      "source": [
        "#Solution:2 (Method:01)\n",
        "\n",
        "def fibonacci(number):\n",
        "   \n",
        "   previous_number=0\n",
        "   next_number=1\n",
        "   print(0,end=\" \")\n",
        "   print(1,end=\" \")\n",
        "   for i in range(number):\n",
        "     fibonacci=previous_number+next_number\n",
        "     if fibonacci>number:\n",
        "       break\n",
        "     else: \n",
        "       print(fibonacci,end=\" \")   \n",
        "       previous_number=next_number\n",
        "       next_number=fibonacci\n",
        "\n",
        "num=int(input('Sir,please enter the limit: '))\n",
        "\n",
        "fibonacci(num) "
      ],
      "metadata": {
        "colab": {
          "base_uri": "https://localhost:8080/"
        },
        "id": "v1Ny85vHBTvR",
        "outputId": "45be11a3-79f8-4ce9-fdf7-5ea82c97bb4c"
      },
      "execution_count": null,
      "outputs": [
        {
          "output_type": "stream",
          "name": "stdout",
          "text": [
            "Sir,please enter the limit: 13\n",
            "0 1 1 2 3 5 8 13 "
          ]
        }
      ]
    },
    {
      "cell_type": "markdown",
      "source": [
        "2. Write a python function that takes the limit as an argument of the Fibonacci series and prints till that limit. \n"
      ],
      "metadata": {
        "id": "BkpUvkNQf_Vc"
      }
    },
    {
      "cell_type": "markdown",
      "source": [],
      "metadata": {
        "id": "ppOZ2pVef_Tw"
      }
    },
    {
      "cell_type": "code",
      "source": [
        "user=int(input(\"enter the number \"))\n",
        "def fibonacci(num):\n",
        "  a=0\n",
        "  b=1\n",
        "  c=0\n",
        "  print(a,end=' ')\n",
        "  print(b,end=' ')\n",
        "  while c<=num:   \n",
        "    c=a+b\n",
        "    a=b\n",
        "    b=c\n",
        "    if c>=num:\n",
        "      break\n",
        "    else:\n",
        "      print(c,end=' ')  \n",
        "fibonacci(user)"
      ],
      "metadata": {
        "id": "wOt3Dfc5bC6h",
        "colab": {
          "base_uri": "https://localhost:8080/"
        },
        "outputId": "fbc7155f-24e6-4ad1-af8b-3695a9161091"
      },
      "execution_count": null,
      "outputs": [
        {
          "output_type": "stream",
          "name": "stdout",
          "text": [
            "enter the number 10\n",
            "0 1 1 2 3 5 8 "
          ]
        }
      ]
    },
    {
      "cell_type": "code",
      "source": [
        "#Solution: 02\n",
        "def fibonacci(num):  #Function ke define korlam. Num holo parameter\n",
        "  \n",
        "  lst=[0,1]\n",
        "  sum=0\n",
        "  while True:\n",
        "    sum=0\n",
        "    sum+=lst[-1]\n",
        "    sum+=lst[-2]\n",
        "    if sum<=num:\n",
        "      lst.append(sum)   \n",
        "    else:\n",
        "      print(*lst)    #print korte hobe cause output hishabe ami eita dekte chai\n",
        "      break  \n",
        "\n",
        "num=int(input('Sir,please enter the limit: ')) #input nilam bahire\n",
        "fibonacci(num)   #finction ke daak dilam"
      ],
      "metadata": {
        "id": "oXRSOjpbCR4R"
      },
      "execution_count": null,
      "outputs": []
    },
    {
      "cell_type": "markdown",
      "source": [
        "3. Write a function called foo_moo that takes a number as an argument and returns the following statements according to the below mentioned conditions. Then, finally prints the statement in the function call. \n",
        "\n",
        "If the number is divisible by 2, it should return \"Foo\".\n",
        "\n",
        "If the number is divisible by 3, it should return \"Moo\". \n",
        "\n",
        "If the number is divisible by both 2 and 3, it should return \"FooMoo\".\n",
        "\n",
        "Otherwise, it returns \"Boo\".\n",
        "\n",
        "\n"
      ],
      "metadata": {
        "id": "O5Hc4TvbgCwY"
      }
    },
    {
      "cell_type": "code",
      "source": [
        "#Solution: 03\n",
        "def foo_moo(num):\n",
        "  \n",
        "  if num%2==0 and num%3==0:\n",
        "    return 'FooMoo'\n",
        "  elif num%2==0:\n",
        "    return 'Foo'\n",
        "  elif num%3==0:\n",
        "    return 'Moo'\n",
        "  else:\n",
        "    return 'Boo'\n",
        "\n",
        "num=int(input('Sir,please enter an argument: '))\n",
        "\n",
        "print(foo_moo(num))\n",
        "\n"
      ],
      "metadata": {
        "id": "x_tA2692iCeV"
      },
      "execution_count": null,
      "outputs": []
    },
    {
      "cell_type": "markdown",
      "source": [
        "4. Write a python function that takes a string as an argument. Your task is to calculate the number of uppercase letters and lowercase letters and print them in the function. \n"
      ],
      "metadata": {
        "id": "TdD0TwwegOQO"
      }
    },
    {
      "cell_type": "code",
      "source": [
        "#'The quick Sand Man'\n",
        "#Solution:04(Method:01)\n",
        "def function_name(sentence):\n",
        "  \n",
        "  count_upper=0\n",
        "  count_lower=0\n",
        "\n",
        "  for i in sentence:\n",
        "    if i.islower():\n",
        "      count_lower+=1\n",
        "    elif i.isupper():\n",
        "      count_upper+=1\n",
        "\n",
        "  print(f'No. of Uppercase characters : {count_upper}')\n",
        "  print(f'No. of Lowercase Characters : {count_lower}')\n",
        "\n",
        "\n",
        "function_name(input())\n",
        "\n",
        "  "
      ],
      "metadata": {
        "id": "x1HVImCCt13l",
        "colab": {
          "base_uri": "https://localhost:8080/"
        },
        "outputId": "36701c62-890c-420a-fbfe-5fd824ee5c48"
      },
      "execution_count": null,
      "outputs": [
        {
          "output_type": "stream",
          "name": "stdout",
          "text": [
            "'The quick Sand Man'\n",
            "No. of Uppercase characters : 3\n",
            "No. of Lowercase Characters : 12\n"
          ]
        }
      ]
    },
    {
      "cell_type": "code",
      "source": [
        "#Solution:04(Method:02)\n",
        "def function_name(sentence):\n",
        "  \n",
        "  count_upper=0\n",
        "  count_lower=0\n",
        "\n",
        "  for i in sentence:\n",
        "    if ord('a')<=ord(i)<=ord('z'):\n",
        "      count_lower+=1\n",
        "    elif ord('A')<=ord(i)<=ord('Z') :\n",
        "      count_upper+=1\n",
        "      \n",
        "  print(f'No. of Uppercase characters : {count_upper}')\n",
        "  print(f'No. of Lowercase Characters : {count_lower}')\n",
        "\n",
        "\n",
        "function_name(input())"
      ],
      "metadata": {
        "colab": {
          "base_uri": "https://localhost:8080/"
        },
        "id": "uhAQNBcgxabN",
        "outputId": "800930e0-16d7-4412-dd6b-e240789ff0c7"
      },
      "execution_count": null,
      "outputs": [
        {
          "output_type": "stream",
          "name": "stdout",
          "text": [
            "'The quick Sand Man'\n",
            "No. of Uppercase characters : 3\n",
            "No. of Lowercase Characters : 12\n"
          ]
        }
      ]
    },
    {
      "cell_type": "code",
      "source": [
        "#Solution:04 (Method:03)\n",
        "def function_name(sentence):\n",
        "  small='abcdefghijklmnopqrstuvwxyz'\n",
        "  capital='ABCDEFGHIJKLMNOPQRSTUVWXYZ'\n",
        "  \n",
        "  count_upper=0\n",
        "  count_lower=0\n",
        "\n",
        "  for i in sentence:\n",
        "    if i in small:\n",
        "      count_lower+=1\n",
        "    elif i in capital:\n",
        "      count_upper+=1\n",
        "      \n",
        "  print(f'No. of Uppercase characters : {count_upper}')\n",
        "  print(f'No. of Lowercase Characters : {count_lower}')\n",
        "\n",
        "\n",
        "function_name(input())"
      ],
      "metadata": {
        "colab": {
          "base_uri": "https://localhost:8080/"
        },
        "id": "NFJebxmtyYUs",
        "outputId": "8646441d-271b-4b7e-c54e-02c9c1b1a6a8"
      },
      "execution_count": null,
      "outputs": [
        {
          "output_type": "stream",
          "name": "stdout",
          "text": [
            "The quick Sand Man\n",
            "No. of Uppercase characters : 3\n",
            "No. of Lowercase Characters : 12\n"
          ]
        }
      ]
    },
    {
      "cell_type": "markdown",
      "source": [
        "5. Write a function called calculate_tax that takes 3 arguments: your age, salary, and current job designation.\n",
        "Your first task is to take these arguments as user input and pass these values to the function.\n",
        "Your second task is to implement the function and calculate the tax as the following conditions:\n",
        "\n",
        "NO TAX IF YOU ARE LESS THAN 18 YEARS OLD.\n",
        "\n",
        "NO TAX IF YOU ARE THE PRESIDENT OF THE COMPANY \n",
        "\n",
        "No tax if you get paid less than 10,000\n",
        "\n",
        "5% tax if you get paid between 10K and 20K\n",
        "\n",
        "10% tax if you get paid more than 20K\n",
        "\n",
        "\n"
      ],
      "metadata": {
        "id": "_5ZTsFI2gS1u"
      }
    },
    {
      "cell_type": "code",
      "source": [
        "#Solution:05 (method:01)\n",
        "def calculate_tax(age,salary,designation):\n",
        "   if designation=='president' or age<18 or salary<10000:\n",
        "     return 0\n",
        "   elif 10000<=salary<=20000:\n",
        "     return(5/100)*salary\n",
        "     \n",
        "   elif salary>20000:\n",
        "     return(10/100)*salary          \n",
        "     \n",
        "age=int(input('Sir,please enter the real age of yours: '))\n",
        "salary=int(input('Sir,please enter your real salary: '))\n",
        "designation=input('Sir,please enter the real designation: ').lower() \n",
        "print(calculate_tax(age,salary,designation))"
      ],
      "metadata": {
        "colab": {
          "base_uri": "https://localhost:8080/"
        },
        "id": "w4xE-G226y08",
        "outputId": "ec26088d-bd9b-4628-bf62-e4207648f4d4"
      },
      "execution_count": null,
      "outputs": [
        {
          "output_type": "stream",
          "name": "stdout",
          "text": [
            "Sir,please enter the real age of yours: 17\n",
            "Sir,please enter your real salary: 2000\n",
            "Sir,please enter the real designation: student\n",
            "None\n"
          ]
        }
      ]
    },
    {
      "cell_type": "code",
      "source": [
        "#Solution:05 (method:02)\n",
        "def calculate_tax(age,salary,designation):\n",
        "  \n",
        "\n",
        "  if age<18 or presidency==1 or salary<10000:\n",
        "    return 0\n",
        "  elif 10000<=salary<=20000:\n",
        "    return(salary*5)/100  \n",
        "    \n",
        "  elif salary>20000:\n",
        "    return(salary*10)/100\n",
        "    \n",
        "age=int(input('Sir,please enter your real age: '))\n",
        "salary=float(input('Sir,please enter your salary: '))\n",
        "designation=input().lower()\n",
        "\n",
        "if designation=='president':\n",
        "  presidency=1\n",
        "else:\n",
        "  presidency=0\n",
        "print(calculate_tax(age,salary,designation))       \n"
      ],
      "metadata": {
        "colab": {
          "base_uri": "https://localhost:8080/"
        },
        "id": "XNuyB4Zw4Uxs",
        "outputId": "36afa2de-223c-44d7-ddb3-0e1fdbd756de"
      },
      "execution_count": null,
      "outputs": [
        {
          "output_type": "stream",
          "name": "stdout",
          "text": [
            "Sir,please enter your real age: 25\n",
            "Sir,please enter your salary: 900000000\n",
            "businesswoman\n",
            "90000000.0\n"
          ]
        }
      ]
    },
    {
      "cell_type": "markdown",
      "source": [
        "6. Write a function which will take 1 argument, number of days.\n",
        "Your first task is to take the number of days as user input and pass the value to the function.\n",
        "Your second task is to implement the function and calculate the total number of years, number of months, and the remaining number of days as output. No need to return any value, print inside the function. \n",
        "Note: Assume, each year to be 365 days and month to be 30 days.\n"
      ],
      "metadata": {
        "id": "S8HFk7fMgZbp"
      }
    },
    {
      "cell_type": "code",
      "source": [
        "# Solution:06(Method:01)\n",
        "def function_name(days):\n",
        "  years=days//365\n",
        "  remain=days%365\n",
        "  months=remain//30\n",
        "  days=remain%30\n",
        "  print(f'{years} years, {months} months and {days} days')\n",
        "\n",
        "\n",
        "\n",
        "days=int(input('Sir,please enter the number of days: ')) \n",
        "function_name(days) "
      ],
      "metadata": {
        "colab": {
          "base_uri": "https://localhost:8080/"
        },
        "id": "xJoR4iZO_-hW",
        "outputId": "38604db2-41a6-436c-f092-938931766249"
      },
      "execution_count": null,
      "outputs": [
        {
          "output_type": "stream",
          "name": "stdout",
          "text": [
            "Sir,please enter the number of days: 2250\n",
            "6 years, 2 months and 0 days\n"
          ]
        }
      ]
    },
    {
      "cell_type": "code",
      "source": [
        "#Method:02\n",
        "\n",
        "def number_of_days(n): return(n//365),((n%365)//30),((n%365)%30)\n",
        "print(*number_of_days(int(input())))"
      ],
      "metadata": {
        "colab": {
          "base_uri": "https://localhost:8080/"
        },
        "id": "AMiMPTT1BWGX",
        "outputId": "8d6ce04c-ff2e-4b7d-e110-ef8b0242f4d1"
      },
      "execution_count": null,
      "outputs": [
        {
          "output_type": "stream",
          "name": "stdout",
          "text": [
            "4330\n",
            "11 10 15\n"
          ]
        }
      ]
    },
    {
      "cell_type": "code",
      "source": [
        "#Method:03\n",
        "def func(n):\n",
        "    year = n//365\n",
        "    mon = n%365\n",
        "    month = mon//30\n",
        "    days = mon%30\n",
        "    print(year , 'years,',month, 'months and',days,'days' )\n",
        "    \n",
        "n = int(input())\n",
        "func(n)"
      ],
      "metadata": {
        "id": "j4We03Q2CLOi"
      },
      "execution_count": null,
      "outputs": []
    },
    {
      "cell_type": "code",
      "source": [
        "# Solution to the task 6\n",
        "\n",
        "def function_name(days):\n",
        "    print(days // 365, \"years\", end=\", \")\n",
        "    print((days % 365) // 30, \"months\", end=\" and \")\n",
        "    print((days % 365) % 30, \"days\")\n",
        "\n",
        "\n",
        "if __name__ == '__main__':\n",
        "    user = int(input(\"Sir please enter the amount of days: \"))\n",
        "    function_name(user)"
      ],
      "metadata": {
        "colab": {
          "base_uri": "https://localhost:8080/"
        },
        "id": "ohJTz4X8ESlY",
        "outputId": "eac73cf6-9310-401c-ef3b-083247f018f6"
      },
      "execution_count": null,
      "outputs": [
        {
          "output_type": "stream",
          "name": "stdout",
          "text": [
            "Sir please enter the amount of days: 4330\n",
            "11 years, 10 months and 15 days\n"
          ]
        }
      ]
    },
    {
      "cell_type": "code",
      "source": [
        "#Solution:07"
      ],
      "metadata": {
        "id": "WucyJxQMETXy"
      },
      "execution_count": null,
      "outputs": []
    },
    {
      "cell_type": "code",
      "source": [
        "#Solution:07(method:01)\n",
        "\n",
        "def show_palindrome(num):\n",
        "  string=''\n",
        "  for i in range(1,num+1):\n",
        "    \n",
        "    string+=str(i)\n",
        "    # return string (return korbo sbar shesh e)\n",
        "  for j in range(num-1,0,-1):\n",
        "    string+=str(j)\n",
        "\n",
        "  return string\n",
        "\n",
        "print(show_palindrome(5))\n"
      ],
      "metadata": {
        "colab": {
          "base_uri": "https://localhost:8080/"
        },
        "id": "ZtNMOcXHE5tT",
        "outputId": "31d58038-cfeb-4800-8d75-c0429335d807"
      },
      "execution_count": null,
      "outputs": [
        {
          "output_type": "stream",
          "name": "stdout",
          "text": [
            "12345\n"
          ]
        }
      ]
    },
    {
      "cell_type": "markdown",
      "source": [
        "7. Write a function called show_palindrome that takes a number as an argument and then returns a palindrome string. Finally, prints the returned value in the function call.\n"
      ],
      "metadata": {
        "id": "0gvPHtchgdlw"
      }
    },
    {
      "cell_type": "code",
      "source": [
        "\n",
        "def show_palindrome(number, i=1):\n",
        "    if number == i:\n",
        "        print(number, end=\"\")\n",
        "        return\n",
        "    else:\n",
        "        print(i, end=\"\")\n",
        "        show_palindrome(number, i+1)\n",
        "        print(i, end=\"\")\n",
        "\n",
        "\n",
        "if __name__ == '__main__':\n",
        "    user = int(input(\"Sir, please enter your desired number: \"))\n",
        "    show_palindrome(user)"
      ],
      "metadata": {
        "colab": {
          "base_uri": "https://localhost:8080/"
        },
        "id": "Xhki3UNiGczr",
        "outputId": "0e45af16-a43c-416c-fa70-529ccba5eace"
      },
      "execution_count": null,
      "outputs": [
        {
          "output_type": "stream",
          "name": "stdout",
          "text": [
            "Sir, please enter your desired number: 5\n",
            "123454321"
          ]
        }
      ]
    },
    {
      "cell_type": "markdown",
      "source": [
        "8. Write a function called show_palindromic_triangle that takes a number as an argument and prints a Palindromic Triangle in the function.\n"
      ],
      "metadata": {
        "id": "ih6Alk9_ghJN"
      }
    },
    {
      "cell_type": "code",
      "source": [
        "#Solution:08(Method:01)\n",
        "\n",
        "def show_palindromic_triangle(row):\n",
        "\n",
        "   for row_count in range(1,row+1):\n",
        "     for space_count in range(1,(row-row_count)+1):\n",
        "       print(' ',end=\" \")\n",
        "     \n",
        "     for column_count in range(1,row_count+1):\n",
        "       print(column_count,end=\" \")\n",
        "   \n",
        "     for column_count in range(row_count-1,0,-1):\n",
        "       print(column_count,end=\" \")\n",
        "\n",
        "     print()\n",
        "\n",
        "show_palindromic_triangle(5)"
      ],
      "metadata": {
        "colab": {
          "base_uri": "https://localhost:8080/"
        },
        "id": "6hCORWgpHT_k",
        "outputId": "15a3bd8b-e1e0-4d15-c6c7-2b84730ac933"
      },
      "execution_count": null,
      "outputs": [
        {
          "output_type": "stream",
          "name": "stdout",
          "text": [
            "        1 \n",
            "      1 2 1 \n",
            "    1 2 3 2 1 \n",
            "  1 2 3 4 3 2 1 \n",
            "1 2 3 4 5 4 3 2 1 \n"
          ]
        }
      ]
    },
    {
      "cell_type": "markdown",
      "source": [
        "9. Write a function called area_circumference_generator that takes a radius of a circle as a function parameter and calculates its circumference and area. Then returns these two results as a tuple and prints the results using tuple unpacking in the function call according to the given format. \n"
      ],
      "metadata": {
        "id": "LSPuJuL8gkK3"
      }
    },
    {
      "cell_type": "code",
      "source": [
        "#09 (method:01)\n",
        "\n",
        "def area_circumference_generator(radius,pi=(3.141592653589793)):\n",
        "  return (pi*radius**2),(2*pi*radius)\n",
        "  \n",
        "radius=float(input('Sir,please eneter the desired radius: '))\n",
        "print(area_circumference_generator(radius))  \n",
        "\n",
        "area,circumference=area_circumference_generator(radius)\n",
        "print(f\"Area of the circle is {area} and circumference is {circumference}\")\n"
      ],
      "metadata": {
        "colab": {
          "base_uri": "https://localhost:8080/"
        },
        "id": "3fhZ0G3tRUHb",
        "outputId": "0e9b93e4-63ca-4413-f7ba-c323bd8a155c"
      },
      "execution_count": null,
      "outputs": [
        {
          "output_type": "stream",
          "name": "stdout",
          "text": [
            "Sir,please eneter the desired radius: 5\n",
            "(78.53981633974483, 31.41592653589793)\n",
            "Area of the circle is 78.53981633974483 and circumference is 31.41592653589793\n"
          ]
        }
      ]
    },
    {
      "cell_type": "code",
      "source": [
        "#09(method:02)\n",
        "# to do\n",
        "import math\n",
        "usr_input=float(input('Enter the radius: '))\n",
        "list1=[]\n",
        "\n",
        "def areaCircumferenceGenerator(radius):\n",
        "    area=math.pi*(usr_input**2)\n",
        "    list1.append(area)\n",
        "    circumference=2*math.pi*usr_input\n",
        "    list1.append(circumference)\n",
        "    a_tuple=tuple(list1)\n",
        "    a,b=a_tuple\n",
        "    print('Area of the circle is', a,' and circumference is ',b)\n",
        "    return area,circumference\n",
        "print(areaCircumferenceGenerator(usr_input))"
      ],
      "metadata": {
        "colab": {
          "base_uri": "https://localhost:8080/"
        },
        "id": "uEPEamZ0TfBT",
        "outputId": "38113d1f-df72-4236-fde8-f08c539cb23e"
      },
      "execution_count": null,
      "outputs": [
        {
          "output_type": "stream",
          "name": "stdout",
          "text": [
            "Enter the radius: 1\n",
            "Area of the circle is 3.141592653589793  and circumference is  6.283185307179586\n",
            "(3.141592653589793, 6.283185307179586)\n"
          ]
        }
      ]
    },
    {
      "cell_type": "markdown",
      "source": [
        "10. Write a function called make_square that takes a tuple in the parameter as a range of numbers (starting point and ending point (included)). The function should return a dictionary with the numbers as keys and its squares as values.\n"
      ],
      "metadata": {
        "id": "ysx1qGSLgoIu"
      }
    },
    {
      "cell_type": "code",
      "source": [
        "a_tuple=(1,3)\n",
        "d={}\n",
        "for i in range(1,3+1):\n",
        "  d[i]=i**2\n",
        "print(d)  \n",
        "\n",
        "   "
      ],
      "metadata": {
        "colab": {
          "base_uri": "https://localhost:8080/"
        },
        "id": "uEWoCu8wUixb",
        "outputId": "c28fe7cc-2eb0-4882-dc0f-c8bb140dbb40"
      },
      "execution_count": null,
      "outputs": [
        {
          "output_type": "stream",
          "name": "stdout",
          "text": [
            "{1: 1, 2: 4, 3: 9}\n"
          ]
        }
      ]
    },
    {
      "cell_type": "code",
      "source": [
        "def make_square(*args):\n",
        "  d={}\n",
        "  for i in range(1,3+1):\n",
        "     d[i]=i**2\n",
        "     return d\n",
        "\n",
        "args=input()\n",
        "make_square(args)     \n",
        " "
      ],
      "metadata": {
        "colab": {
          "base_uri": "https://localhost:8080/"
        },
        "id": "28KUNKgRVjKZ",
        "outputId": "3ea0a852-a10b-4539-e9f9-c5866d702dff"
      },
      "execution_count": null,
      "outputs": [
        {
          "name": "stdout",
          "output_type": "stream",
          "text": [
            "(1,3)\n"
          ]
        },
        {
          "output_type": "execute_result",
          "data": {
            "text/plain": [
              "{1: 1}"
            ]
          },
          "metadata": {},
          "execution_count": 80
        }
      ]
    },
    {
      "cell_type": "code",
      "source": [
        "# Solution:10 (method:01)\n",
        "list1=[]\n",
        "num1=int(input('Enter starting number: '))\n",
        "list1.append(num1)\n",
        "num2=int(input('Enter ending number: '))\n",
        "list1.append(num2)\n",
        "a_dict={}\n",
        "\n",
        "a_tuple=tuple(list1)\n",
        "a,b=a_tuple\n",
        "def makeSquare(starting,ending):\n",
        "    for i in range(num1,num2+1):\n",
        "        a=i*i\n",
        "        a_dict[i]=a\n",
        "    return a_dict\n",
        "    \n",
        "print(makeSquare(num1,num2))"
      ],
      "metadata": {
        "id": "vCdtym6FWPoN",
        "colab": {
          "base_uri": "https://localhost:8080/"
        },
        "outputId": "c2fd97ab-7b29-43a2-b776-ae34560682ce"
      },
      "execution_count": null,
      "outputs": [
        {
          "output_type": "stream",
          "name": "stdout",
          "text": [
            "Enter starting number: 1\n",
            "Enter ending number: 3\n",
            "{1: 1, 2: 4, 3: 9}\n"
          ]
        }
      ]
    },
    {
      "cell_type": "code",
      "source": [
        "def make_square(start, limit):\n",
        "    global dic\n",
        "    if start == limit:                #start=3=limit\n",
        "        dic[limit] = limit ** 2       #dic[3]=3**2\n",
        "        print(dic)                     #  \n",
        "        return                         #\n",
        "    else:\n",
        "        dic[start] = start ** 2   #dic[3]=2**2=4\n",
        "        make_square(start+1, limit)\n",
        "\n",
        "\n",
        "\n",
        "dic = {}\n",
        "make_square(1, 3)"
      ],
      "metadata": {
        "colab": {
          "base_uri": "https://localhost:8080/"
        },
        "id": "VHnfvmPRV50i",
        "outputId": "f6570657-bcc5-48a7-b142-b8a9fb180926"
      },
      "execution_count": null,
      "outputs": [
        {
          "output_type": "stream",
          "name": "stdout",
          "text": [
            "{1: 1, 2: 4, 3: 9}\n"
          ]
        }
      ]
    },
    {
      "cell_type": "markdown",
      "source": [
        "Write a function called make_square that takes a tuple in the parameter as a range of numbers (starting point and ending point (included)). The function should return a dictionary with the numbers as keys and its squares as values.\n"
      ],
      "metadata": {
        "id": "Z7N9mTzugstp"
      }
    },
    {
      "cell_type": "code",
      "source": [
        "# Solution to Task 11 (method:01)\n",
        "x=(1,1,1,2,3,4,5,6,6,6,6,4,0,0,0)\n",
        "\n",
        "def remDuplicate(x):\n",
        "\n",
        "    unique_list=[]\n",
        "    for item in x:\n",
        "\n",
        "        if item not in unique_list:\n",
        "            unique_list.append(item)\n",
        "        else:\n",
        "            continue\n",
        "\n",
        "    a=unique_list\n",
        "    a_tuple=tuple(a)\n",
        "    \n",
        "    return a_tuple\n",
        "print(remDuplicate(x))"
      ],
      "metadata": {
        "colab": {
          "base_uri": "https://localhost:8080/"
        },
        "id": "BAadjzucoPub",
        "outputId": "e0888316-c80b-4cb2-b296-24d2656a0f30"
      },
      "execution_count": null,
      "outputs": [
        {
          "output_type": "stream",
          "name": "stdout",
          "text": [
            "(1, 2, 3, 4, 5, 6, 0)\n"
          ]
        }
      ]
    },
    {
      "cell_type": "code",
      "source": [
        "# Solution to Task 11 (method:02)\n",
        "\n",
        "def rem_duplicate(given_tuple):\n",
        "    result = []\n",
        "    for i in given_tuple:\n",
        "        if i not in result:\n",
        "            result.append(i)\n",
        "\n",
        "    return(tuple(result))        \n",
        "    print(result)\n",
        "\n",
        "\n",
        "\n",
        "rem_duplicate((\"Hi\", 1, 2, 3, 3, \"Hi\",'a', 'a', [1,2]))"
      ],
      "metadata": {
        "colab": {
          "base_uri": "https://localhost:8080/"
        },
        "id": "Wyt66gMkoyoa",
        "outputId": "ac2578e2-2e25-4ea1-8985-17f692f987f7"
      },
      "execution_count": null,
      "outputs": [
        {
          "output_type": "execute_result",
          "data": {
            "text/plain": [
              "('Hi', 1, 2, 3, 'a', [1, 2])"
            ]
          },
          "metadata": {},
          "execution_count": 179
        }
      ]
    },
    {
      "cell_type": "markdown",
      "source": [
        "Write a function called make_square that takes a tuple in the parameter as a range of numbers (starting point and ending point (included)). The function should return a dictionary with the numbers as keys and its squares as values.\n"
      ],
      "metadata": {
        "id": "sghFV-FMgv9m"
      }
    },
    {
      "cell_type": "code",
      "source": [
        "#12\n",
        "\n",
        "new=[]\n",
        "removed=[]\n",
        "def function_name(a_list):\n",
        "  \n",
        "  for i in a_list:\n",
        "    if a_list.count(i)<=2:\n",
        "      new.append(i)\n",
        "    else:\n",
        "      removed.append(i)\n",
        "  print('Removed:',len(removed))\n",
        "   \n",
        "  return new \n",
        "  \n",
        "print(function_name([1, 2, 3, 3, 3, 3, 4, 5, 8, 8]))\n",
        "\n"
      ],
      "metadata": {
        "colab": {
          "base_uri": "https://localhost:8080/"
        },
        "id": "D9Ai6dHvs53b",
        "outputId": "3885a47f-476d-4bda-ad46-951168828159"
      },
      "execution_count": null,
      "outputs": [
        {
          "output_type": "stream",
          "name": "stdout",
          "text": [
            "Removed: 4\n",
            "[1, 2, 4, 5, 8, 8]\n"
          ]
        }
      ]
    },
    {
      "cell_type": "code",
      "source": [
        "\n",
        "# todo\n",
        "x=[1, 2, 3, 3, 3, 3, 4, 5, 8, 8]\n",
        "list1=[]\n",
        "list2=[]\n",
        "\n",
        "def function_name(given):\n",
        "    \n",
        "    for item in x:\n",
        "        if list1.count(item)<2:\n",
        "            list1.append(item)\n",
        "        else:\n",
        "            list2.append(item)\n",
        "    print('Removed: ',len(list2))\n",
        "    return list1\n",
        "\n",
        "\n",
        "\n",
        "print(function_name(list1))\n"
      ],
      "metadata": {
        "colab": {
          "base_uri": "https://localhost:8080/"
        },
        "id": "f81a_dRh1Jab",
        "outputId": "f9b3c4f0-9dee-481c-a429-164e63629896"
      },
      "execution_count": null,
      "outputs": [
        {
          "output_type": "stream",
          "name": "stdout",
          "text": [
            "Removed:  2\n",
            "[1, 2, 3, 3, 4, 5, 8, 8]\n"
          ]
        }
      ]
    },
    {
      "cell_type": "markdown",
      "source": [
        "Write a python function that will perform the basic calculation (addition, subtraction, multiplication and division) based on 3 arguments. They are:\n",
        "Operator ('+', '-', '/', '*')\n",
        "First Operand (any number)\n",
        "Second Operand (any number)\n"
      ],
      "metadata": {
        "id": "45mWOJE7gzDB"
      }
    },
    {
      "cell_type": "code",
      "source": [
        "#Solution 13 (Method:01)\n",
        "\n",
        "def function_name(x,y,z):\n",
        "  \n",
        "  if x=='+':\n",
        "    return y+z\n",
        "  elif x=='-':\n",
        "    return y-z \n",
        "  elif x=='*':\n",
        "    return y*z \n",
        "  elif x=='/':\n",
        "    return y/z\n",
        "\n",
        "print(function_name(input('sir,enter the opearator '),float(input('sir,enter first operand ')),float(input('sir,enter second operand '))))\n",
        "\n",
        "\n",
        "\n",
        "\n"
      ],
      "metadata": {
        "colab": {
          "base_uri": "https://localhost:8080/"
        },
        "id": "G2xHkkTt23EB",
        "outputId": "4f05e908-bbcc-458c-93c3-ff9aa1dbf948"
      },
      "execution_count": null,
      "outputs": [
        {
          "output_type": "stream",
          "name": "stdout",
          "text": [
            "sir,enter the opearator *\n",
            "sir,enter first operand 6\n",
            "sir,enter second operand 3\n",
            "18.0\n"
          ]
        }
      ]
    },
    {
      "cell_type": "code",
      "source": [
        "#Solution 13 (Method:02)\n",
        "def numfuction(opt,num1,num2):\n",
        "    if opt =='+':\n",
        "        x=num1+num2\n",
        "        return x\n",
        "    elif opt=='-':\n",
        "        x=num1-num2\n",
        "        return x\n",
        "    elif opt=='*':\n",
        "        x=num1*num2\n",
        "        return x\n",
        "    elif opt=='/':\n",
        "        x=num1/num2\n",
        "        return x\n",
        "\n",
        "opt=input(\"Sir, which function do you want to use? (+, -, *, /) :\")\n",
        "num1=float(input('Enter 1st number: '))\n",
        "num2=float(input('Enter 2nd number: '))\n",
        "\n",
        "print(numfuction(opt,num1,num2))\n"
      ],
      "metadata": {
        "id": "75SdN5Jv6nM7"
      },
      "execution_count": null,
      "outputs": []
    },
    {
      "cell_type": "markdown",
      "source": [
        "14. Write a function which will take 2 arguments. They are:\n",
        "\n",
        "Sentence \n",
        "\n",
        "Position \n",
        "\n",
        "Your first task is to take these arguments as user input and pass these values to the function parameters.\n",
        "Your second task is to implement the function and remove the characters at the index number which is divisible by the position (Avoid the index number 0 as it will always be divisible by the position, so no need to remove the index 0 character). Finally, add the removed characters at the end of the new string.\n",
        "Return the value and then finally, print the new string at the function call.\n",
        "\n"
      ],
      "metadata": {
        "id": "TMkDyVDug1_v"
      }
    },
    {
      "cell_type": "code",
      "source": [
        "#Task:14 (Method: 01)\n",
        "\n",
        "def function_name(sentence,position):\n",
        "\n",
        "   left=''\n",
        "   new=''\n",
        "   for i in range(0,len(sentence)):\n",
        "     if i==0:\n",
        "       new+=sentence[i]\n",
        "     elif i%position==0:\n",
        "       left+=sentence[i]\n",
        "     else:\n",
        "       new+=sentence[i]\n",
        "     \n",
        "  \n",
        "   return new+left\n",
        "\n",
        "print(function_name(input('sir,please enter the sentence '),int(input('sir,please enter the posiiton '))))     "
      ],
      "metadata": {
        "colab": {
          "base_uri": "https://localhost:8080/"
        },
        "id": "YkcuHipC8vcB",
        "outputId": "216de1fb-9659-4a85-9962-5accd2da4332"
      },
      "execution_count": null,
      "outputs": [
        {
          "output_type": "stream",
          "name": "stdout",
          "text": [
            "Python is easy to learn. I love python.\n",
            "6\n",
            "Pythonis eay to earn.I lov pythn. sl eo\n"
          ]
        }
      ]
    },
    {
      "cell_type": "code",
      "source": [
        "#Solution:14(method:02)\n",
        "def cutttherope(sentence,position):\n",
        "    newleft=''\n",
        "    left=''\n",
        "    for p in range(0,len(sentence)):\n",
        "        if p!=0 and p%position==0:\n",
        "            newleft+=sentence[p]\n",
        "        else:\n",
        "            left+=sentence[p]\n",
        "\n",
        "    return left+newleft\n",
        "sentence=str(input('Enter sentence: '))\n",
        "position=int(input('Enter position: '))\n",
        "print(cutttherope(sentence,position))"
      ],
      "metadata": {
        "colab": {
          "base_uri": "https://localhost:8080/"
        },
        "id": "ldaDR5uOW3iM",
        "outputId": "6e42afe5-0074-4b83-ed45-120335f75d34"
      },
      "execution_count": null,
      "outputs": [
        {
          "output_type": "stream",
          "name": "stdout",
          "text": [
            "Enter sentence: I love programming.\n",
            "Enter position: 3\n",
            "I lveprgrmmngo oai.\n"
          ]
        }
      ]
    },
    {
      "cell_type": "code",
      "source": [
        "#Solution:15 (method:01)\n",
        "\n",
        "item_number=int(input('Sir,please enter your item number: '))\n",
        "\n",
        "new_list=[]\n",
        "\n",
        "for count in range(0,item_number):\n",
        "  item=input(\"Sir,please enter your item name: \")\n",
        "  low=item.lower()\n",
        "  new_list.append(item)\n",
        "\n",
        "a_dict={'rice':105,'potato':20,'chicken':250,'beef':510,'oil':85}\n",
        "\n",
        "def function_name(new_list,loc='Dhanmondi'):\n",
        "   sum=0\n",
        "\n",
        "   for count in range(0,len(new_list)):\n",
        "     sum+=a_dict[new_list[count]]\n",
        "\n",
        "   if loc=='Dhanmondi' or loc=='':\n",
        "     sum+=30\n",
        "   else:\n",
        "     sum+=70\n",
        "\n",
        "   return sum\n",
        "print(function_name(new_list,loc=input()))  "
      ],
      "metadata": {
        "colab": {
          "base_uri": "https://localhost:8080/"
        },
        "id": "HOMw3vYLaqH5",
        "outputId": "95013738-2655-42dd-e974-f927d8154a4b"
      },
      "execution_count": null,
      "outputs": [
        {
          "output_type": "stream",
          "name": "stdout",
          "text": [
            "Sir,please enter your item number: 3\n",
            "Sir,please enter your item name: beef\n",
            "Sir,please enter your item name: rice\n",
            "Sir,please enter your item name: rice\n",
            "banani\n",
            "790\n"
          ]
        }
      ]
    },
    {
      "cell_type": "code",
      "source": [
        "def food_panda(food, destination=\"Dhanmondi\"):\n",
        "    price = {\"Rice\": 105, \"Potato\": 20, \"Chicken\": 250, \"Beef\": 510, \"Oil\": 85}\n",
        "    total = 0\n",
        "    for item in food:\n",
        "        total += price[item]\n",
        "    if destination == \"Dhanmondi\":\n",
        "        total += 30\n",
        "    else:\n",
        "        total += 70\n",
        "    return total\n",
        "\n",
        "\n",
        "food = ['Beef','Rice','Rice']\n",
        "destination = input()\n",
        "\n",
        "# Function Call\n",
        "if len(destination) > 0:\n",
        "    print(food_panda(food, destination))\n",
        "else:\n",
        "    print(food_panda(food))"
      ],
      "metadata": {
        "colab": {
          "base_uri": "https://localhost:8080/"
        },
        "id": "0vyPSeEafA6q",
        "outputId": "0be28d66-8ebc-4c39-bf61-fd23ea8b5ed5"
      },
      "execution_count": null,
      "outputs": [
        {
          "output_type": "stream",
          "name": "stdout",
          "text": [
            "banani\n",
            "790\n"
          ]
        }
      ]
    },
    {
      "cell_type": "code",
      "source": [
        "#Task: 16\n",
        "\n",
        "def spliting_money(amount):\n",
        "  notes=[500,100,50,20,10,2,1]\n",
        "  d1={}\n",
        "\n",
        "  for note in notes:\n",
        "    if not amount//note==0:\n",
        "      d1[note]=amount//note\n",
        "      amount=amount%note\n",
        "\n",
        "  return d1\n",
        "\n",
        "splitted=spliting_money(1234)\n",
        "print('\"',end=\"\")\n",
        "c=1\n",
        "for i in splitted:\n",
        "  if c!=len(splitted):\n",
        "    print(f'{i} Taka: {splitted[i]} note(s)')\n",
        "\n",
        "  else:\n",
        "    print(f'{i} Taka: {splitted[i]} note(s)\"')\n",
        "\n",
        "  c+=1 \n"
      ],
      "metadata": {
        "colab": {
          "base_uri": "https://localhost:8080/"
        },
        "id": "YrSohfbH49AQ",
        "outputId": "380cdd13-1b01-4d90-a0f7-d7463498a296"
      },
      "execution_count": null,
      "outputs": [
        {
          "output_type": "stream",
          "name": "stdout",
          "text": [
            "\"500 Taka: 2 note(s)\n",
            "100 Taka: 2 note(s)\n",
            "20 Taka: 1 note(s)\n",
            "10 Taka: 1 note(s)\n",
            "2 Taka: 2 note(s)\"\n"
          ]
        }
      ]
    },
    {
      "cell_type": "markdown",
      "source": [
        "17. Write a function called remove_odd that takes a list of numbers that have both even and odd numbers mixed. \n",
        "Your function should remove all the odd numbers and return a compact list which only contains the even numbers. \n",
        "\n"
      ],
      "metadata": {
        "id": "xmYozkXshBJB"
      }
    },
    {
      "cell_type": "code",
      "source": [
        "#Task 17\n",
        "def remove_odd(a_list):\n",
        "   \n",
        "   even=[]\n",
        "   for i in a_list:\n",
        "     if i%2==0:\n",
        "        even.append(i)\n",
        "   return even\n",
        "print(remove_odd([21, 33, 44, 66, 11, 1, 88, 45, 10, 9]))"
      ],
      "metadata": {
        "colab": {
          "base_uri": "https://localhost:8080/"
        },
        "id": "01XyH6JmVhLb",
        "outputId": "7fbea577-5203-4563-d4c5-03acdb48217c"
      },
      "execution_count": null,
      "outputs": [
        {
          "output_type": "stream",
          "name": "stdout",
          "text": [
            "[44, 66, 88, 10]\n"
          ]
        }
      ]
    },
    {
      "cell_type": "code",
      "source": [
        "#17(method:02)\n",
        "\n",
        "i=int(input('Enter element no: '))\n",
        "mixed_list=[]\n",
        "counter=0\n",
        "while counter<i:\n",
        "    num=int(input('Enter element: '))\n",
        "    mixed_list.append(num)\n",
        "    counter+=1\n",
        "\n",
        "even_list=[]\n",
        "def remove_odd(even_list):\n",
        "\n",
        "\n",
        "   for i in mixed_list:\n",
        "     if i%2==0:\n",
        "         even_list.append(i)\n",
        "   \n",
        "   return even_list\n",
        "\n",
        "print(remove_odd(even_list))\n"
      ],
      "metadata": {
        "id": "QFsqCZTagcwh"
      },
      "execution_count": null,
      "outputs": []
    },
    {
      "cell_type": "code",
      "source": [
        "#Task:18\n",
        "def division(starting,ending,first_divisor,second_divisor):\n",
        "    sum=0\n",
        "    for i in range(starting,ending):\n",
        "        if i%first_divisor==0 and i%second_divisor==0:\n",
        "            continue\n",
        "        elif i%first_divisor==0:\n",
        "            sum=sum+i\n",
        "        elif i % second_divisor == 0:\n",
        "            sum = sum + i\n",
        "    return sum\n",
        "starting=int(input())\n",
        "ending=int(input())\n",
        "first_divisor=int(input())\n",
        "second_divisor=int(input())\n",
        "\n",
        "print(division(starting,ending,first_divisor,second_divisor))"
      ],
      "metadata": {
        "id": "wpeFy4R3V0SC",
        "colab": {
          "base_uri": "https://localhost:8080/"
        },
        "outputId": "6a1285f4-bd91-4baa-8d68-66e38f74596a"
      },
      "execution_count": null,
      "outputs": [
        {
          "output_type": "stream",
          "name": "stdout",
          "text": [
            "10\n",
            "40\n",
            "4\n",
            "7\n",
            "210\n"
          ]
        }
      ]
    },
    {
      "cell_type": "code",
      "source": [
        "#19\n",
        "def stringTest(name):\n",
        "    counter=0\n",
        "    for char in usr_input:\n",
        "        if char in list:\n",
        "            counter+=1\n",
        "\n",
        "    if counter>0:\n",
        "        return 5\n",
        "    else:\n",
        "        return 6\n",
        "\n",
        "usr_input=str(input())\n",
        "\n",
        "list=['a','b','c','d','e','f','g','h','i','j']\n",
        "stringTest(usr_input)\n",
        "print('Chelsea is the best club in England \\n'*stringTest(usr_input))"
      ],
      "metadata": {
        "id": "3FrPnk3KV0x6",
        "colab": {
          "base_uri": "https://localhost:8080/"
        },
        "outputId": "da6bf99c-28bd-4250-87cb-0a878dc8422c"
      },
      "execution_count": null,
      "outputs": [
        {
          "output_type": "stream",
          "name": "stdout",
          "text": [
            "\"A black jackal is hunting a full grown deer\" \n",
            "Chelsea is the best club in England \n",
            "Chelsea is the best club in England \n",
            "Chelsea is the best club in England \n",
            "Chelsea is the best club in England \n",
            "Chelsea is the best club in England \n",
            "\n"
          ]
        }
      ]
    },
    {
      "cell_type": "code",
      "source": [
        "#20\n",
        "player=input('Sir,please enter your name: ')\n",
        "earnings=float(input('enter your earnings: '))\n",
        "goal=int(input('enter the total goal scored: '))\n",
        "percent=float(input('bonus '))\n",
        "\n",
        "def individul_bonus_calculation(player,earnings,goal,percent):\n",
        "  if 20>=goal>=30:\n",
        "    bonus=goal*(percent/100*earnings)+5000\n",
        "    return bonus\n",
        "  elif goal>30:\n",
        "    bonus=goal*(percent/100*earnings)+10000\n",
        "    return bonus\n",
        "  else:\n",
        "    bonus=goal*(percent/100*earnings)\n",
        "\n",
        "  print(f'Neymar earned a bonus of {bonus} for {goal} goals')  \n",
        "  \n",
        "\n",
        "\n",
        "(individul_bonus_calculation(player,earnings,goal,percent))\n",
        "\n",
        "\n"
      ],
      "metadata": {
        "colab": {
          "base_uri": "https://localhost:8080/"
        },
        "id": "DntHZzj1Spba",
        "outputId": "21212c20-5150-419b-fc6e-6d3933dc9d7b"
      },
      "execution_count": null,
      "outputs": [
        {
          "name": "stdout",
          "output_type": "stream",
          "text": [
            "Sir,please enter your name: Neymar\n",
            "enter your earnings: 120000\n",
            "enter the total goal scored: 35\n",
            "bonus 5\n"
          ]
        },
        {
          "output_type": "execute_result",
          "data": {
            "text/plain": [
              "220000.0"
            ]
          },
          "metadata": {},
          "execution_count": 10
        }
      ]
    },
    {
      "cell_type": "code",
      "source": [
        "#21\n",
        "def function_name(*x):\n",
        "  a=1\n",
        "  b=list(x)\n",
        "  c=[]\n",
        "  j=0\n",
        "\n",
        "  for i in range(len(b)+1):\n",
        "    if i==0:\n",
        "      pass\n",
        "    elif i%4==0:\n",
        "      c.append(b[j:i])\n",
        "      j=i\n",
        "  bonus=0\n",
        "\n",
        "  for i in c:\n",
        "    if i[2]<10000:\n",
        "      bonus=((i[3]/100)*i[1]*i[2])+10000\n",
        "    elif 20<=i[2]<=30:\n",
        "      bonus=((i[3]/100)*i[1]*i[2])+5000     \n",
        "\n",
        "    print(f'{i[0]} earned a bonus of {bonus} taka for {i[2]} goals.')\n",
        "\n",
        "function_name(\"Neymar\", 1200000, 35, 5, 'Jamal', 700000, 19, 8, 'Luis', 80000, 25, 10)\n",
        "\n"
      ],
      "metadata": {
        "colab": {
          "base_uri": "https://localhost:8080/"
        },
        "id": "XX5L80QM6jIF",
        "outputId": "2fa5ee90-1ee5-4225-8cd3-9054cfba6459"
      },
      "execution_count": null,
      "outputs": [
        {
          "output_type": "stream",
          "name": "stdout",
          "text": [
            "Neymar earned a bonus of 2110000.0 taka for 35 goals.\n",
            "Jamal earned a bonus of 1074000.0 taka for 19 goals.\n",
            "Luis earned a bonus of 210000.0 taka for 25 goals.\n"
          ]
        }
      ]
    },
    {
      "cell_type": "code",
      "source": [
        "#                       ==================================================================================================================="
      ],
      "metadata": {
        "id": "HmrPLoEa-l55"
      },
      "execution_count": null,
      "outputs": []
    }
  ]
}