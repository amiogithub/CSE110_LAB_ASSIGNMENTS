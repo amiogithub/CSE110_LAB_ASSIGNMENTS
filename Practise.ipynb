{
  "nbformat": 4,
  "nbformat_minor": 0,
  "metadata": {
    "colab": {
      "provenance": []
    },
    "kernelspec": {
      "name": "python3",
      "display_name": "Python 3"
    },
    "language_info": {
      "name": "python"
    }
  },
  "cells": [
    {
      "cell_type": "markdown",
      "source": [
        "1. Write a python program that takes a string input containing (Lower-case letters, upper-case letters, digits, and, special characters) from the user and creates four new strings containing only the lower-case letters, upper-case letters, digits and special characters, ignoring the spaces and then prints them. For each category of characters, print them in the order that they appear in the input. In each step of the procedure, print the upper-case letter at first, then the lower-case letter, then the number and the symbol at last.\n"
      ],
      "metadata": {
        "id": "eYkCVhuaKzCt"
      }
    },
    {
      "cell_type": "code",
      "execution_count": null,
      "metadata": {
        "id": "4Cq5c70hnUke"
      },
      "outputs": [],
      "source": [
        "word=input()\n",
        "cap=\"\" \n",
        "small=\"\"\n",
        "\n",
        "\n",
        "dig=\"\" \n",
        "special=\"\"\n",
        "for i in word:\n",
        "   if ord(\"Z\") >= ord(i) >= ord(\"A\"):\n",
        "       cap += i\n",
        "   elif ord(\"z\") >= ord(i) >= ord(\"a\"):\n",
        "       small += i\n",
        "   elif ord(\"9\") >= ord(i) >= ord(\"0\"):\n",
        "       dig += i\n",
        "   elif ord(i) == ord(\"@\") or ord(i) == ord(\"$\") or ord(i)==(\"#\"):\n",
        "       special += i\n",
        "print(f\"Upper-Case: {cap}\")\n",
        "print(f\"Lower-Case:{small}\")\n",
        "print(f\"Digits:{dig}\")\n",
        "print(f\"Special:{special}\")\n",
        "\n",
        "re=\"\"\n",
        "for i in range(len(dig)):\n",
        "     re += cap[i]\n",
        "     re += small[i]\n",
        "     re += dig[i]\n",
        "     re += special[i]\n",
        "print(\"Final Word\")\n",
        "print(re)"
      ]
    },
    {
      "cell_type": "code",
      "source": [
        "#ektu check kortesi string add korle ki hoi\n",
        "a='6'\n",
        "p=3\n",
        "p=str(p)\n",
        "print(a+p)"
      ],
      "metadata": {
        "colab": {
          "base_uri": "https://localhost:8080/"
        },
        "id": "6L-Nd97E5c0I",
        "outputId": "b9459ba0-5522-4594-8b4d-0de1e94e60bf"
      },
      "execution_count": null,
      "outputs": [
        {
          "output_type": "stream",
          "name": "stdout",
          "text": [
            "63\n"
          ]
        }
      ]
    },
    {
      "cell_type": "markdown",
      "source": [
        "2. Write a python program that takes a string input containing (Lower-case letters, upper-case letters, digits or special characters) from the user and calculate the total ascii-code of the lower-case letters, upper-case letters, digits and special characters except spaces separately and then prints them. Spaces are ignored. Finally, you have to concatenate the strings of the total ascii-codes and print that string.\n"
      ],
      "metadata": {
        "id": "91o1P5KJGKeA"
      }
    },
    {
      "cell_type": "code",
      "source": [
        "word=input()\n",
        "capital=0\n",
        "small=0\n",
        "special=0\n",
        "number=0\n",
        "\n",
        "for i in word:\n",
        "   if ord(\"Z\") >= ord(i) >= ord(\"A\"):\n",
        "       capital+=ord(i)\n",
        "\n",
        "   elif ord(\"z\") >= ord(i) >= ord(\"a\"):\n",
        "       small +=ord(i)\n",
        "\n",
        "   elif ord(\"9\") >= ord(i) >= ord(\"0\"):\n",
        "       number+=ord(i)\n",
        "     \n",
        "   elif ord(i) == ord(\"@\") or ord(i) == ord(\"$\") or ord(i)==(\"#\"):\n",
        "       special +=ord(i)\n",
        "\n",
        "print(f\"Upper-Case: {capital}\")\n",
        "print(f\"Lower-Case:{small}\")\n",
        "print(f\"Digits:{number}\")\n",
        "print(f\"Special:{special}\")  \n",
        "print(\"Final string:\\n\",str(capital),str(small),str(number),str(special),sep=\"\")\n"
      ],
      "metadata": {
        "colab": {
          "base_uri": "https://localhost:8080/"
        },
        "id": "KPEOvk9351sh",
        "outputId": "6ae6d3fc-fde4-4537-b2bd-edbaefff90fd"
      },
      "execution_count": null,
      "outputs": [
        {
          "output_type": "stream",
          "name": "stdout",
          "text": [
            "ab@2  a3$   3w\n",
            "Upper-Case: 0\n",
            "Lower-Case:411\n",
            "Digits:152\n",
            "Special:100\n",
            "Final string:\n",
            "0411152100\n"
          ]
        }
      ]
    },
    {
      "cell_type": "markdown",
      "source": [
        "3.Write a python program that takes a string (it might contain upper-case and lower-case letters) from the user. Then prints only the characters whose ASCII values are divisible by 2 in upper-case.\n"
      ],
      "metadata": {
        "id": "S2EOMh7qGvwv"
      }
    },
    {
      "cell_type": "code",
      "source": [
        "user=input()\n",
        "result=\"\"\n",
        "for i in user:\n",
        "  if ord(i)%2==0 and ord('a')<=ord(i)<=ord('z'):\n",
        "    result+=(chr(ord(i)-32))\n",
        "  elif ord(i)%2==0 and ord('A')<=ord(i)<=ord('Z'):  \n",
        "    result+=i\n",
        "  else:\n",
        "    pass\n",
        "print(result)     "
      ],
      "metadata": {
        "colab": {
          "base_uri": "https://localhost:8080/"
        },
        "id": "XIP4moV2Gyt2",
        "outputId": "7100de7f-9fbf-44ee-fdda-140ea1ed97be"
      },
      "execution_count": null,
      "outputs": [
        {
          "output_type": "stream",
          "name": "stdout",
          "text": [
            "GoOD\n",
            "D\n"
          ]
        }
      ]
    },
    {
      "cell_type": "markdown",
      "source": [
        "4.Write a python program that takes a string (it might contain upper-case and lower-case letters) from the user. Then prints only the characters whose ASCII values are divisible by 2 in lower-case.\n"
      ],
      "metadata": {
        "id": "z1o2uGafJEKm"
      }
    },
    {
      "cell_type": "code",
      "source": [
        "user=input()\n",
        "result=\"\"\n",
        "for i in user:\n",
        "  if ord(i)%2==0 and ord('A')<=ord(i)<=ord('Z'):\n",
        "    result+=(chr(ord(i)+32))\n",
        "  elif ord(i)%2==0 and ord('a')<=ord(i)<=ord('z'):  \n",
        "    result+=i\n",
        "  else:\n",
        "    pass\n",
        "print(result)  "
      ],
      "metadata": {
        "colab": {
          "base_uri": "https://localhost:8080/"
        },
        "id": "1r7xS52XJFLW",
        "outputId": "374c51d9-184b-4ca9-a464-265fa73a5293"
      },
      "execution_count": null,
      "outputs": [
        {
          "output_type": "stream",
          "name": "stdout",
          "text": [
            "Hello\n",
            "hll\n"
          ]
        }
      ]
    },
    {
      "cell_type": "markdown",
      "source": [
        "5. PRINT UB71202 and mention building name floor name and room no."
      ],
      "metadata": {
        "id": "_UL8YaqKK4p2"
      }
    },
    {
      "cell_type": "code",
      "source": [
        "user=input()\n",
        "print(f\"Building no: {user[2:3]} Floor no: {user[3:5]} Room no: {user[5:]}\")"
      ],
      "metadata": {
        "colab": {
          "base_uri": "https://localhost:8080/"
        },
        "id": "t7pgEW2OK_rZ",
        "outputId": "01a11f03-6cde-43e6-b540-c32e4c2e2fc6"
      },
      "execution_count": null,
      "outputs": [
        {
          "output_type": "stream",
          "name": "stdout",
          "text": [
            "UB71212\n",
            "Building no: 7 Floor no: 12 Room no: 2\n"
          ]
        }
      ]
    },
    {
      "cell_type": "markdown",
      "source": [
        "6.Write a Python program that takes the value of n from the user and calculates the value of y using the following equation: y= 3^2+6^2-9^2+12^2+15^2-18^2+.......... (3n)^2\n",
        "33\n",
        "3-6\n",
        "Sample Input 1:\n",
        "4 Sample Output 1:\n",
        "Value of y is: 108\n",
        "Sample Input 2:\n",
        "9 Sample Output 2:\n",
        "Value of y is: 297"
      ],
      "metadata": {
        "id": "5pYSXCeUN03O"
      }
    },
    {
      "cell_type": "code",
      "source": [
        "user=int(input())\n",
        "\n",
        "y=0\n",
        "for i in range(3,3*user+1,3):\n",
        "  if i%9==0:\n",
        "    y-=i**2\n",
        "  else:\n",
        "    y+=i**2\n",
        "print(y)    "
      ],
      "metadata": {
        "colab": {
          "base_uri": "https://localhost:8080/"
        },
        "id": "XFg1q68DN5h2",
        "outputId": "8014beb8-72a3-4a50-e32a-b487a0b9f808"
      },
      "execution_count": null,
      "outputs": [
        {
          "output_type": "stream",
          "name": "stdout",
          "text": [
            "4\n",
            "108\n"
          ]
        }
      ]
    },
    {
      "cell_type": "markdown",
      "source": [
        "7. Write a python program that takes a string input containing (Lower-case letters, upper-case letters, digits and special characters) from the user and calculates the summation of the ascii-code of the lower-case letters, upper-case letters and digits except for the special characters and only if that character is in an odd index and then print total summation. The Ascii range for upper-case letters are 65-90, lower-case letters are 97-122, digits are 48-57. For convenience, consider the special characters are only @, #, $\n",
        "\n",
        "\n",
        "Sample Input 1: CsQUI25@$ 01234567 9"
      ],
      "metadata": {
        "id": "se5_kJQuOE0W"
      }
    },
    {
      "cell_type": "code",
      "source": [
        "user=input()\n",
        "large=\"ABCDEFGHIJKLMNOPQRSTUVWXYZ\"\n",
        "small=\"abcdefghijklmnopqrstuvwxyz\"\n",
        "special=\"%$#\"\n",
        "digit=\"0123456789\"\n",
        "result=0\n",
        "for i in range(len(user)):\n",
        "  if i%2!=0 and user[i] in large:\n",
        "    result+=ord(user[i])\n",
        "  if i%2!=0 and user[i] in small:\n",
        "    result+=ord(user[i])\n",
        "  if i%2!=0 and user[i] in digit:\n",
        "    result+=ord(user[i])\n",
        "  else:\n",
        "    pass\n",
        "print(result) "
      ],
      "metadata": {
        "id": "aHkS8XktOST2",
        "colab": {
          "base_uri": "https://localhost:8080/"
        },
        "outputId": "8596164f-6b99-4bec-ae54-2eb4010cfbf6"
      },
      "execution_count": null,
      "outputs": [
        {
          "output_type": "stream",
          "name": "stdout",
          "text": [
            "CsQUI25@$ 01234567 9\n",
            "515\n"
          ]
        }
      ]
    },
    {
      "cell_type": "markdown",
      "source": [
        "8. Password Generator\n",
        " minimum 8 characters\n",
        " 1 capital\n",
        " 1 special\n",
        " 1 small\n",
        " 1 number"
      ],
      "metadata": {
        "id": "gz-OlI5WOZ01"
      }
    },
    {
      "cell_type": "code",
      "source": [
        "#pASSWORD GENERATOR\n",
        "user_input=input(\"Press 8 digit character\")\n",
        "small=\"abcdefghijklmnopqrstuvwxyz\"\n",
        "large=\"ABCDEFGHIJKLMNOPQRSTUVWXYZ\"\n",
        "digit_scope=\"0123456789\"\n",
        "special_scope=\"$#%\"\n",
        "small_no=0\n",
        "large_no=0\n",
        "special_scope_no=0\n",
        "digit_scope_no=0\n",
        "\n",
        "for i in user_input:\n",
        "   if i in small:\n",
        "     small_no+=1\n",
        "   if i in large:\n",
        "     large_no+=1\n",
        "   if i in special_scope:\n",
        "     special_scope_no+=1\n",
        "   if i in digit_scope:\n",
        "     digit_scope_no+=1\n",
        "if large_no>=1 and special_scope_no>=1 and small_no>=1 and digit_scope_no>=1:   \n",
        "    print(\"valid\") \n",
        "else:\n",
        "     print(\"Invalid\") \n",
        " "
      ],
      "metadata": {
        "id": "LUjXZJ1NOh8V"
      },
      "execution_count": null,
      "outputs": []
    },
    {
      "cell_type": "markdown",
      "source": [
        "9. write a python program that takes a string of 10 characters from the user. Then checks whet her the sum of all the ascii values of the uppercase letters are greater than the sum of the ascii values of the lowercase letters. If the user enters a digit in the string, the digit will be added to the sum of uppercase letters. After comparing, the code should print the value of the greater sum. 10\n",
        "Sample Input: Vq3T9cZeXM Sample Output: The sum of uppercase is: 437."
      ],
      "metadata": {
        "id": "fLAqNJ1PioN9"
      }
    },
    {
      "cell_type": "code",
      "source": [
        "user=input()\n",
        "sum_upper=0\n",
        "sum_lower=0\n",
        "digit='0123456789'\n",
        "for i in user:\n",
        "  if ord('A')<=ord(i)<=ord('Z'):\n",
        "    sum_upper+=ord(i)\n",
        "  if i in digit:\n",
        "    sum_upper+=int(i)\n",
        "\n",
        "  elif ord('a')<=ord(i)<=ord('z'):\n",
        "    sum_lower+=ord(i)\n",
        "  else:\n",
        "    pass\n",
        "if len(user)!=10:\n",
        "  print(\"Please enter  string of 10 Characters\")    \n",
        "elif sum_upper>sum_lower:\n",
        "  print(sum_upper)\n",
        "else:\n",
        "  print(sum_lower)"
      ],
      "metadata": {
        "id": "wMUeMiWO-5mR",
        "colab": {
          "base_uri": "https://localhost:8080/"
        },
        "outputId": "2d2b900a-a065-4b53-bc3c-c2a1a33c99db"
      },
      "execution_count": null,
      "outputs": [
        {
          "output_type": "stream",
          "name": "stdout",
          "text": [
            "Vq3T9cZeXM\n",
            "437\n"
          ]
        }
      ]
    },
    {
      "cell_type": "markdown",
      "source": [
        "10. input nao then uppercase pele minus 3 lowercase hole minus 5. erpor print koro"
      ],
      "metadata": {
        "id": "9KQOIHx8DH7r"
      }
    },
    {
      "cell_type": "code",
      "source": [
        "word=input()\n",
        "new=\"\"\n",
        "for i in word:\n",
        "  if i==\"e\":\n",
        "    \n",
        "   new+=\"z\"\n",
        "  elif ord('a')<=ord(i)<=ord('z'):\n",
        "    new+=chr(ord(i)-5)\n",
        "  else:\n",
        "    new+=chr(ord(i)-3)\n",
        "print(new)      "
      ],
      "metadata": {
        "id": "vWtBbEwtA9vz"
      },
      "execution_count": null,
      "outputs": []
    },
    {
      "cell_type": "markdown",
      "source": [
        "Question[1] lab mid"
      ],
      "metadata": {
        "id": "1ytlmPcl_wSz"
      }
    },
    {
      "cell_type": "markdown",
      "source": [
        "11. String e input nao. prottek ta character sathe +2 ascii. vowel find out. reverse printing."
      ],
      "metadata": {
        "id": "OisQ5MqcDndt"
      }
    },
    {
      "cell_type": "code",
      "source": [
        "\n",
        "word=input()\n",
        "new=\"\"\n",
        "for i in word:\n",
        "   new+=chr(ord(i)+2)\n",
        "vowel=\"\"\n",
        "print(f\"New word:{new}\")\n",
        "for j in new:\n",
        "  if j in \"aeiou\":\n",
        "    vowel+=j\n",
        "print(f\"Vowels:{vowel[-1::-1]}\")    \n"
      ],
      "metadata": {
        "colab": {
          "base_uri": "https://localhost:8080/"
        },
        "id": "cBTOEzZ9_yxq",
        "outputId": "3a0069ee-d9e8-41b7-f1a5-22774031cc9a"
      },
      "execution_count": null,
      "outputs": [
        {
          "output_type": "stream",
          "name": "stdout",
          "text": [
            "abcdefg\n",
            "New word:cdefghi\n",
            "Vowels: ie\n"
          ]
        }
      ]
    },
    {
      "cell_type": "markdown",
      "source": [
        "12. second input e ja dibe oita baad diye akta space add koro"
      ],
      "metadata": {
        "id": "IGCGLpBXDY4N"
      }
    },
    {
      "cell_type": "code",
      "source": [
        "#mid: 02\n",
        "input1=input()\n",
        "input2=input()\n",
        "new=\"\"\n",
        "for i in input1:\n",
        "  if i not in input2:\n",
        "    new+=i\n",
        "  else:\n",
        "    new+=\" \"  \n",
        "print(new)\n",
        "final=\"\"\n",
        "for i in new:\n",
        "  final=i+final\n",
        "print(final)  \n"
      ],
      "metadata": {
        "colab": {
          "base_uri": "https://localhost:8080/"
        },
        "id": "OsAaTFIPD3aV",
        "outputId": "ebd5b20a-6c4d-4e7c-eb0b-ce88781b2f48"
      },
      "execution_count": null,
      "outputs": [
        {
          "output_type": "stream",
          "name": "stdout",
          "text": [
            "i-can-cook-\n",
            "-\n",
            "i can cook \n",
            " kooc nac i\n"
          ]
        }
      ]
    },
    {
      "cell_type": "markdown",
      "source": [
        "13. Input string : THE snOW wAs frEEzinG cOLD\n",
        "\n",
        "    output: THE cdOW hAj lmEEpqrG uOLD\n",
        "    "
      ],
      "metadata": {
        "id": "OyTn6PS6DglT"
      }
    },
    {
      "cell_type": "code",
      "source": [
        "word=input()\n",
        "index=0\n",
        "lowercase=\"\"\n",
        "for i in range(len(word)):\n",
        "  if ord('a')<=ord(word[i])<=ord('z'):\n",
        "    index+=i\n",
        "    lowercase+=word[i]\n",
        "  else:\n",
        "    lowercase+=word[i]\n",
        "final=\"\" \n",
        "print(index)   \n",
        "if index>99:\n",
        "  for i in range(len(lowercase)):\n",
        "    if ord('a')<=ord(word[i])<=ord('z'):\n",
        "      final+=chr(i+95)\n",
        "    else:\n",
        "      final+=word[i] \n",
        "else:\n",
        "  final=lowercase      \n",
        "print(final)\n",
        "\n",
        "\n"
      ],
      "metadata": {
        "colab": {
          "base_uri": "https://localhost:8080/"
        },
        "id": "ZNwqfKj_I7PE",
        "outputId": "411255b8-1c82-4fb4-c6fa-e31345ce48dd"
      },
      "execution_count": null,
      "outputs": [
        {
          "output_type": "stream",
          "name": "stdout",
          "text": [
            "THE snOW wAs frEEzinG cOLD\n",
            "132\n",
            "THE cdOW hAj lmEEpqrG uOLD\n"
          ]
        }
      ]
    },
    {
      "cell_type": "code",
      "source": [
        "# 14.\n",
        "row=int(input(\"Sir,please enter the number of wows\"))\n",
        "for row_count in range(1,row+1):\n",
        "  for space_count in range(1,(row-row_count)+1):\n",
        "     print(\" \",end=\"\")\n",
        "  for number_count in range(1,(2*row_count-1)+1):\n",
        "    print(number_count,end=\"\")\n",
        "  print()\n",
        "       "
      ],
      "metadata": {
        "colab": {
          "base_uri": "https://localhost:8080/"
        },
        "id": "gGZBWIuAwrCR",
        "outputId": "bf65109a-3fd8-41d1-d57a-d92eede8cc1e"
      },
      "execution_count": null,
      "outputs": [
        {
          "output_type": "stream",
          "name": "stdout",
          "text": [
            "Sir,please enter the number of wows4\n",
            "   1\n",
            "  123\n",
            " 12345\n",
            "1234567\n"
          ]
        }
      ]
    },
    {
      "cell_type": "code",
      "source": [
        "row=int(input())\n",
        "for row_count in range(1,row+1):\n",
        "  for column_count in range(1,row_count+1):\n",
        "    print(column_count,end=\"\")\n",
        "  print()"
      ],
      "metadata": {
        "colab": {
          "base_uri": "https://localhost:8080/"
        },
        "id": "svy8qBEsyUUr",
        "outputId": "002d6659-ddf0-47ef-c5a1-cf948ce9900d"
      },
      "execution_count": null,
      "outputs": [
        {
          "output_type": "stream",
          "name": "stdout",
          "text": [
            "4\n",
            "1\n",
            "12\n",
            "123\n",
            "1234\n"
          ]
        }
      ]
    },
    {
      "cell_type": "code",
      "source": [
        "#Usage of Join string"
      ],
      "metadata": {
        "id": "rVFIM6T-18Tk"
      },
      "execution_count": null,
      "outputs": []
    },
    {
      "cell_type": "code",
      "source": [
        "my_name = {'Nashid': 1, 'A': 2, 'Sikder': 3}\n",
        "\n",
        "# Joining special character with dictionary\n",
        "string = '-'.join(my_name)\n",
        "\n",
        "print(string)\n",
        "\n"
      ],
      "metadata": {
        "colab": {
          "base_uri": "https://localhost:8080/"
        },
        "id": "ADmrJ0pw5Oc7",
        "outputId": "3970f656-a62c-4941-94e9-9840b561513e"
      },
      "execution_count": null,
      "outputs": [
        {
          "output_type": "stream",
          "name": "stdout",
          "text": [
            "Nashid-A-Sikder\n"
          ]
        }
      ]
    },
    {
      "cell_type": "code",
      "source": [
        "list1 = {'Batman','Superman','Ironman','Daredevil','Deadpool'}\n",
        "\n",
        "# put any characher to join\n",
        "s = \"-#-\"\n",
        "\n",
        "# joins elements of list1 by '-#-'\n",
        "# and stores in string s\n",
        "s = s.join(list1)\n",
        "\n",
        "# join use to join a list of\n",
        "# strings to a separator s\n",
        "print(s)\n"
      ],
      "metadata": {
        "colab": {
          "base_uri": "https://localhost:8080/"
        },
        "id": "qByQS3Hg5P1T",
        "outputId": "65bd4b03-b084-422b-90cc-3ac8e1d42766"
      },
      "execution_count": null,
      "outputs": [
        {
          "output_type": "stream",
          "name": "stdout",
          "text": [
            "Deadpool-#-Batman-#-Superman-#-Ironman-#-Daredevil\n"
          ]
        }
      ]
    },
    {
      "cell_type": "code",
      "source": [
        "my_name = {'I': 1, 'Am': 2, 'Vengeance': 3}\n",
        "\n",
        "# Joining special character with dictionary\n",
        "string = '-'.join(my_name)\n",
        "\n",
        "print(string)\n",
        "\n"
      ],
      "metadata": {
        "colab": {
          "base_uri": "https://localhost:8080/"
        },
        "id": "Ak6VPc7f5jVD",
        "outputId": "745621bc-8a7c-4332-c5db-16537b36b4e3"
      },
      "execution_count": null,
      "outputs": [
        {
          "output_type": "stream",
          "name": "stdout",
          "text": [
            "I-Am-Vengeance\n"
          ]
        }
      ]
    },
    {
      "cell_type": "code",
      "source": [
        "#17.\n",
        "#$$$$$$$$\n",
        "#RR0000RR\n",
        "#RR0000RR\n",
        "#RR0000RR\n",
        "#RR0000RR\n",
        "#RR0000RR\n",
        "#RR0000RR\n",
        "#RR0000RR"
      ],
      "metadata": {
        "id": "3vDLtARL8oa7"
      },
      "execution_count": null,
      "outputs": []
    },
    {
      "cell_type": "code",
      "source": [
        "row=int(input(\"Sir,please enter your desired number \"))\n",
        "\n",
        "for row_count in range(1,row+1):\n",
        "  for column_count in range(1,row+1):\n",
        "    if row_count==1:\n",
        "      print(\"$\",end=\"\")\n",
        "    elif column_count==1 or column_count==2 or column_count==7 or column_count==8:\n",
        "\n",
        "      print(\"R\",end=\"\")\n",
        "    else:\n",
        "      print(\"O\",end=\"\")  \n",
        "  print()  "
      ],
      "metadata": {
        "colab": {
          "base_uri": "https://localhost:8080/"
        },
        "id": "qoD6Cfq39DFO",
        "outputId": "f78de9cf-cbaa-4c16-dfc1-7a116b3fd672"
      },
      "execution_count": null,
      "outputs": [
        {
          "output_type": "stream",
          "name": "stdout",
          "text": [
            "Sir,please enter your desired number 8\n",
            "$$$$$$$$\n",
            "RROOOORR\n",
            "RROOOORR\n",
            "RROOOORR\n",
            "RROOOORR\n",
            "RROOOORR\n",
            "RROOOORR\n",
            "RROOOORR\n"
          ]
        }
      ]
    },
    {
      "cell_type": "markdown",
      "source": [
        "18. Input: 1104Python programming is very easy\n",
        "\n",
        "    Output:1104PyThOn PrOgRaMmInG iS vErY eAsY\n"
      ],
      "metadata": {
        "id": "k50i9g47Et4m"
      }
    },
    {
      "cell_type": "code",
      "source": [
        "#Practise\n",
        "#Input: 1104Python programming is very easy\n",
        "#Output:1104PyThOn PrOgRaMmInG iS vErY eAsY\n",
        "\n",
        "user='1104Python Programming is very easy'\n",
        "new_list=[]\n",
        "index=0\n",
        "for count in range(len(user)):\n",
        "  if 65<=ord(user[count])<=90 or 97<=ord(user[count])<=122:\n",
        "    if count%2==0:\n",
        "      large=user[count].upper()\n",
        "      new_list.append(large)\n",
        "      index+=1\n",
        "    else:\n",
        "      small=user[count].lower()\n",
        "      new_list.append(small)\n",
        "      index+=1\n",
        "  else:\n",
        "     new_list.append(user[count])\n",
        "# print(*new_list)     \n",
        "\n",
        "add=\"\"\n",
        "for count in range(0,len(new_list)):\n",
        "  add+=new_list[count]\n",
        "print(add)  \n"
      ],
      "metadata": {
        "colab": {
          "base_uri": "https://localhost:8080/"
        },
        "id": "yFQPHYIt-jY1",
        "outputId": "8efe873b-f379-4c07-b359-f9cf0f330a7e"
      },
      "execution_count": null,
      "outputs": [
        {
          "output_type": "stream",
          "name": "stdout",
          "text": [
            "1104PyThOn pRoGrAmMiNg iS VeRy eAsY\n"
          ]
        }
      ]
    },
    {
      "cell_type": "markdown",
      "source": [
        "19.  Take a list and divide into 2 lists in such a way that left list\n",
        "\n",
        " sum==   right lists sum. if not\n",
        "\n",
        "  possible then print not possible"
      ],
      "metadata": {
        "id": "z3xDXJToE3PY"
      }
    },
    {
      "cell_type": "code",
      "source": [
        "a_list=[-2,-12,14,0,0,0]\n",
        "total_right=0\n",
        "total_left=0\n",
        "done=False\n",
        "for value in a_list:\n",
        "  total_right+=value\n",
        "for index in range(0,len(a_list)):\n",
        "  if total_right==total_left:\n",
        "    done=True\n",
        "    print(a_list[:index],a_list[index:])\n",
        "    break\n",
        "  else:\n",
        "    total_left=total_left+a_list[index]\n",
        "    total_right=total_right-a_list[index]\n",
        "      \n",
        "\n"
      ],
      "metadata": {
        "colab": {
          "base_uri": "https://localhost:8080/"
        },
        "id": "-t3ktbFmfXXM",
        "outputId": "d814de9c-0410-4afb-e978-6051c8d7306b"
      },
      "execution_count": null,
      "outputs": [
        {
          "output_type": "stream",
          "name": "stdout",
          "text": [
            "[] [-2, -12, 14, 0, 0, 0]\n"
          ]
        }
      ]
    },
    {
      "cell_type": "markdown",
      "source": [
        "20. Replace [10,20,3,4,5,6,7,8] with [20,400000,3,4,5,6,7,8]"
      ],
      "metadata": {
        "id": "BBq5Z8o8FxOj"
      }
    },
    {
      "cell_type": "code",
      "source": [
        "list=[10,20,3,4,5,6,7,8]\n",
        "for i in range(len(list)):\n",
        "  if list[i]==20:\n",
        "    list[i]=400000\n",
        "print(list)    "
      ],
      "metadata": {
        "colab": {
          "base_uri": "https://localhost:8080/"
        },
        "id": "zViSVjY3kvHc",
        "outputId": "8f363015-e250-4544-e4f8-fd787938d800"
      },
      "execution_count": null,
      "outputs": [
        {
          "output_type": "stream",
          "name": "stdout",
          "text": [
            "[10, 400000, 3, 4, 5, 6, 7, 8]\n"
          ]
        }
      ]
    },
    {
      "cell_type": "markdown",
      "source": [
        "21. duita word dewa ase of inequal length. apnake akbar first word er letter nite hobe then second word er letter nite hobe. then finally word banate hobe then apnake list e new word tar proti letter rakte hobe."
      ],
      "metadata": {
        "id": "QP4BaLRpF7I-"
      }
    },
    {
      "cell_type": "code",
      "source": [
        "word1='ABCDEFGH'\n",
        "word2='ijkl'\n",
        "if len(word1)>len(word2):\n",
        "  add=''\n",
        "  for counter in range(0,len(word2)):\n",
        "    add+=word1[counter]+word2[counter]\n",
        "  new_word=''\n",
        "  new_word=add+word1[counter+1:]\n",
        "else:\n",
        "  add=''\n",
        "  for counter in range(0,len(word1)):\n",
        "    add+=word1[counter]+word2[counter]\n",
        "  new_word=''\n",
        "  new_word=add+word2[counter+1:]\n",
        "\n",
        "print(new_word)  \n",
        "a_list=list(new_word)\n",
        "print(a_list)"
      ],
      "metadata": {
        "colab": {
          "base_uri": "https://localhost:8080/"
        },
        "id": "k9R1931plFbE",
        "outputId": "018ee75d-6602-4c80-9f1c-eb09b4b7d4e0"
      },
      "execution_count": null,
      "outputs": [
        {
          "output_type": "stream",
          "name": "stdout",
          "text": [
            "AiBjCkDlEFGH\n",
            "['A', 'i', 'B', 'j', 'C', 'k', 'D', 'l', 'E', 'F', 'G', 'H']\n"
          ]
        }
      ]
    },
    {
      "cell_type": "markdown",
      "source": [
        "22. how to create a backup list (notun jinish)"
      ],
      "metadata": {
        "id": "CF_D9mNVGNi7"
      }
    },
    {
      "cell_type": "code",
      "source": [
        "backup_list=[0*26]\n",
        "a_list=[0 for abc in range(26)]\n",
        "print(a_list)\n",
        "b_list=[2 for saiful in range(26)]\n",
        "print(b_list)"
      ],
      "metadata": {
        "colab": {
          "base_uri": "https://localhost:8080/"
        },
        "id": "YMutvGCsr-RG",
        "outputId": "ad6e4766-6eb8-4e0d-f015-0ada2a5bbecf"
      },
      "execution_count": null,
      "outputs": [
        {
          "output_type": "stream",
          "name": "stdout",
          "text": [
            "[0, 0, 0, 0, 0, 0, 0, 0, 0, 0, 0, 0, 0, 0, 0, 0, 0, 0, 0, 0, 0, 0, 0, 0, 0, 0]\n",
            "[2, 2, 2, 2, 2, 2, 2, 2, 2, 2, 2, 2, 2, 2, 2, 2, 2, 2, 2, 2, 2, 2, 2, 2, 2, 2]\n"
          ]
        }
      ]
    },
    {
      "cell_type": "markdown",
      "source": [
        "23. Counts how many similar digits entry! #frequency measurement"
      ],
      "metadata": {
        "id": "umG0ZzfNGZhE"
      }
    },
    {
      "cell_type": "code",
      "source": [
        "#Counts how many similar digits entry! #frequency measurement\n",
        "a_tuple=(0,1,1,2,2,4,4,5,5,8,8,9,9,5,5,4,4,7,7,6,6,1,1,2,2,3,4,1,2,3,4,5,6,7,8,9)\n",
        "print('Original Tuple:',a_tuple)\n",
        "a_string=''\n",
        "\n",
        "for string in a_tuple:                                                           \n",
        "  a_string+=str(string)\n",
        "# print(a_list)                                                                    #011224455889955447766112234123456789\n",
        "\n",
        "backup_list=[0 for numbers in range(10)]\n",
        "# print(backup_list)                                                              #[0, 0, 0, 0, 0, 0, 0, 0, 0, 0]\n",
        "\n",
        "for count in range(len(a_string)):                                              # index=ord('0')-48=48-48=0          index=ord('1')-48=49-48=1        index=ord('1')-48=49-48=1 \n",
        "  index=ord(a_string[count])-48                                                      \n",
        "  backup_list[index]=backup_list[index]+1                                        #backup_list[0]=backup_list[0]+1    backup_list[1]=backup_list[1]+1=1  backup_list[1]=backup_list[1]+1=2\n",
        "# print('Backup_list',backup_list)\n",
        "\n",
        "for count in range(0,len(backup_list)):\n",
        "  print(f\"{chr(count+48)} has entered {backup_list[count]} times.\")\n",
        "\n"
      ],
      "metadata": {
        "id": "DEd5SvHaFBdi",
        "colab": {
          "base_uri": "https://localhost:8080/"
        },
        "outputId": "d5fe750a-99a1-4e0b-ce35-96d98dbbcfbd"
      },
      "execution_count": null,
      "outputs": [
        {
          "output_type": "stream",
          "name": "stdout",
          "text": [
            "Original Tuple: (0, 1, 1, 2, 2, 4, 4, 5, 5, 8, 8, 9, 9, 5, 5, 4, 4, 7, 7, 6, 6, 1, 1, 2, 2, 3, 4, 1, 2, 3, 4, 5, 6, 7, 8, 9)\n",
            "0 has entered 1 times.\n",
            "1 has entered 5 times.\n",
            "2 has entered 5 times.\n",
            "3 has entered 2 times.\n",
            "4 has entered 6 times.\n",
            "5 has entered 5 times.\n",
            "6 has entered 3 times.\n",
            "7 has entered 3 times.\n",
            "8 has entered 3 times.\n",
            "9 has entered 3 times.\n"
          ]
        }
      ]
    },
    {
      "cell_type": "markdown",
      "source": [
        "24. count how many alphabets"
      ],
      "metadata": {
        "id": "vCcF-mkYKRjT"
      }
    },
    {
      "cell_type": "code",
      "source": [
        "\n",
        "word='AAbAcBdDdEFGH'\n",
        "length=len(word)\n",
        "print(length)\n",
        "new_list=list(word)\n",
        "print(\"New list\",new_list)\n",
        "\n",
        "backup_list=[0 for abc in range(26)]\n",
        "print(\"Backup List:\", backup_list)\n",
        "\n",
        "for count in range(0,len(new_list)):\n",
        "  index=ord((new_list[count]).upper())-65\n",
        "  backup_list[index]=backup_list[index]+1\n",
        "print(\"Backup_list\",backup_list)\n",
        "\n",
        "for count in range(0,len(backup_list)):\n",
        "  print(f\"{chr(count+65)} has been entered {backup_list[count]} times\")\n",
        "\n"
      ],
      "metadata": {
        "id": "VbgFYqRNs-C1",
        "colab": {
          "base_uri": "https://localhost:8080/"
        },
        "outputId": "3d659c9f-0adb-458f-c761-dfad5472e0dc"
      },
      "execution_count": null,
      "outputs": [
        {
          "output_type": "stream",
          "name": "stdout",
          "text": [
            "13\n",
            "New list ['A', 'A', 'b', 'A', 'c', 'B', 'd', 'D', 'd', 'E', 'F', 'G', 'H']\n",
            "Backup List: [0, 0, 0, 0, 0, 0, 0, 0, 0, 0, 0, 0, 0, 0, 0, 0, 0, 0, 0, 0, 0, 0, 0, 0, 0, 0]\n",
            "Backup_list [3, 2, 1, 3, 1, 1, 1, 1, 0, 0, 0, 0, 0, 0, 0, 0, 0, 0, 0, 0, 0, 0, 0, 0, 0, 0]\n",
            "A has been entered 3 times\n",
            "B has been entered 2 times\n",
            "C has been entered 1 times\n",
            "D has been entered 3 times\n",
            "E has been entered 1 times\n",
            "F has been entered 1 times\n",
            "G has been entered 1 times\n",
            "H has been entered 1 times\n",
            "I has been entered 0 times\n",
            "J has been entered 0 times\n",
            "K has been entered 0 times\n",
            "L has been entered 0 times\n",
            "M has been entered 0 times\n",
            "N has been entered 0 times\n",
            "O has been entered 0 times\n",
            "P has been entered 0 times\n",
            "Q has been entered 0 times\n",
            "R has been entered 0 times\n",
            "S has been entered 0 times\n",
            "T has been entered 0 times\n",
            "U has been entered 0 times\n",
            "V has been entered 0 times\n",
            "W has been entered 0 times\n",
            "X has been entered 0 times\n",
            "Y has been entered 0 times\n",
            "Z has been entered 0 times\n"
          ]
        }
      ]
    },
    {
      "cell_type": "markdown",
      "source": [
        "27. same thing count how many alphabets "
      ],
      "metadata": {
        "id": "d6OZKYFTKXh5"
      }
    },
    {
      "cell_type": "code",
      "source": [
        "#Take two words of different alphabets. split them and print them in \n",
        "# a list and count how many individual characters\n",
        "#Solution of task:10 (breakdown)\n",
        "word1='ABCDEFGHMNOPWXYZabcdefghijkl'\n",
        "word2='ijklqrstuvmnopqrstuvwzxyyzaq'\n",
        "large_word=len(word1)\n",
        "small_word=len(word2)\n",
        "add=''\n",
        "for counter in range(0,small_word):\n",
        "  add+=word1[counter]+word2[counter]\n",
        "word=''\n",
        "word=add+word1[counter+1:]\n",
        "print(word)  \n",
        "length=len(word)\n",
        "print(length)\n",
        "new_list=list(word)\n",
        "print(\"New list\",new_list)\n",
        "\n",
        "backup_list=[0 for abc in range(26)]\n",
        "print(\"Backup List:\", backup_list)\n",
        "\n",
        "for count in range(0,len(new_list)):\n",
        "  index=ord((new_list[count]).upper())-65\n",
        "  backup_list[index]=backup_list[index]+1\n",
        "print(\"Backup_list\",backup_list)\n",
        "\n",
        "for count in range(0,len(backup_list)):\n",
        "  print(f\"{chr(count+65)} has been entered {backup_list[count]} times\")\n",
        "\n"
      ],
      "metadata": {
        "colab": {
          "base_uri": "https://localhost:8080/"
        },
        "id": "jZIwoAFCveWu",
        "outputId": "4d0d73b3-d97d-44fb-b76d-ccc7bfe804fe"
      },
      "execution_count": null,
      "outputs": [
        {
          "output_type": "stream",
          "name": "stdout",
          "text": [
            "AiBjCkDlEqFrGsHtMuNvOmPnWoXpYqZrasbtcudvewfzgxhyiyjzkalq\n",
            "56\n",
            "New list ['A', 'i', 'B', 'j', 'C', 'k', 'D', 'l', 'E', 'q', 'F', 'r', 'G', 's', 'H', 't', 'M', 'u', 'N', 'v', 'O', 'm', 'P', 'n', 'W', 'o', 'X', 'p', 'Y', 'q', 'Z', 'r', 'a', 's', 'b', 't', 'c', 'u', 'd', 'v', 'e', 'w', 'f', 'z', 'g', 'x', 'h', 'y', 'i', 'y', 'j', 'z', 'k', 'a', 'l', 'q']\n",
            "Backup List: [0, 0, 0, 0, 0, 0, 0, 0, 0, 0, 0, 0, 0, 0, 0, 0, 0, 0, 0, 0, 0, 0, 0, 0, 0, 0]\n",
            "Backup_list [3, 2, 2, 2, 2, 2, 2, 2, 2, 2, 2, 2, 2, 2, 2, 2, 3, 2, 2, 2, 2, 2, 2, 2, 3, 3]\n",
            "A has been entered 3 times\n",
            "B has been entered 2 times\n",
            "C has been entered 2 times\n",
            "D has been entered 2 times\n",
            "E has been entered 2 times\n",
            "F has been entered 2 times\n",
            "G has been entered 2 times\n",
            "H has been entered 2 times\n",
            "I has been entered 2 times\n",
            "J has been entered 2 times\n",
            "K has been entered 2 times\n",
            "L has been entered 2 times\n",
            "M has been entered 2 times\n",
            "N has been entered 2 times\n",
            "O has been entered 2 times\n",
            "P has been entered 2 times\n",
            "Q has been entered 3 times\n",
            "R has been entered 2 times\n",
            "S has been entered 2 times\n",
            "T has been entered 2 times\n",
            "U has been entered 2 times\n",
            "V has been entered 2 times\n",
            "W has been entered 2 times\n",
            "X has been entered 2 times\n",
            "Y has been entered 3 times\n",
            "Z has been entered 3 times\n"
          ]
        }
      ]
    },
    {
      "cell_type": "markdown",
      "source": [
        "28. Magic number: If the summation of even indexed digits is equal to the summation of odd indexed digits, then the number is\n",
        "a magic number.\n",
        "\n",
        "Now, write a Python program that will take a string of numbers where each \n",
        "number is separated by a comma. The program should\n",
        "\n",
        "print a tuple containing two sub-tuples, where the first sub-tuple will hold the magic numbers and the second sub-tuple will hold\n",
        "\n",
        "the non-magic numbers.\n"
      ],
      "metadata": {
        "id": "1Ks-TLuRKesK"
      }
    },
    {
      "cell_type": "code",
      "source": [
        "word=\"442310,441310,42251,42241,451,452\".strip(\" \").split(',')\n",
        "print(word)\n",
        "sum_even=0\n",
        "sum_odd=0\n",
        "magic=[]\n",
        "nonmagic=[]\n",
        "for i in word:\n",
        "  a=i\n",
        "  for j in range(0,len(a)):\n",
        "    if j%2==0:\n",
        "      sum_even+=int(a[j])\n",
        "    else:\n",
        "      sum_odd+=int(a[j])\n",
        "  \n",
        "  if sum_even==sum_odd:\n",
        "    magic.append(int(a))\n",
        "    sum_even=sum_odd=0\n",
        "  else:\n",
        "    nonmagic.append(int(a))\n",
        "    sum_even=sum_odd=0     \n",
        "# print(sum_even)\n",
        "# print(sum_odd)\n",
        "# print(nonmagic)\n",
        "# print(magic)\n",
        "\n",
        "lst=[]\n",
        "lst.append(tuple(magic))\n",
        "lst.append(tuple(nonmagic))\n",
        "print('List of Magic and Non Magic numbers: ',tuple(lst))\n",
        "\n"
      ],
      "metadata": {
        "colab": {
          "base_uri": "https://localhost:8080/"
        },
        "id": "EQylYAT6X9HW",
        "outputId": "49f3f326-4d18-4fe5-8501-55f5fd65c577"
      },
      "execution_count": null,
      "outputs": [
        {
          "output_type": "stream",
          "name": "stdout",
          "text": [
            "['442310', '441310', '42251', '42241', '451', '452']\n",
            "List of Magic and Non Magic numbers:  ((442310, 42251, 451), (441310, 42241, 452))\n"
          ]
        }
      ]
    },
    {
      "cell_type": "code",
      "source": [
        "word1='RGBRGB'\n",
        "lst=[]\n",
        "for i in word1:\n",
        "  lst.append(i)\n",
        "print(lst)  \n",
        "backup_list=[0 for abc in range(26)]\n",
        "print(\"Backup List:\", backup_list)\n",
        "\n",
        "new_list=[]\n",
        "for count in range(0,len(lst)):\n",
        "  index=ord((lst[count]).upper())-65\n",
        "  backup_list[index]=backup_list[index]+1\n",
        "  if backup_list[index]==0:\n",
        "    pass\n",
        "  else:\n",
        "    new_list.append(backup_list[index]) \n",
        "print(\"Backup_list\",backup_list)\n",
        "\n",
        " \n",
        "print(new_list)"
      ],
      "metadata": {
        "colab": {
          "base_uri": "https://localhost:8080/"
        },
        "id": "g9sJuWiFpWfj",
        "outputId": "325f8631-27aa-4f6c-f649-02b9c91f3d9f"
      },
      "execution_count": null,
      "outputs": [
        {
          "output_type": "stream",
          "name": "stdout",
          "text": [
            "['R', 'G', 'B', 'R', 'G', 'B']\n",
            "Backup List: [0, 0, 0, 0, 0, 0, 0, 0, 0, 0, 0, 0, 0, 0, 0, 0, 0, 0, 0, 0, 0, 0, 0, 0, 0, 0]\n",
            "Backup_list [0, 2, 0, 0, 0, 0, 2, 0, 0, 0, 0, 0, 0, 0, 0, 0, 0, 2, 0, 0, 0, 0, 0, 0, 0, 0]\n",
            "[1, 1, 1, 2, 2, 2]\n"
          ]
        }
      ]
    },
    {
      "cell_type": "markdown",
      "source": [
        "29. We all know that the additive primaries are red, green, and blue. Now, write a Python program that will take a color sequence as a\n",
        "string from the user where R represents Red, G represents Green and B represents Blue. The program should print the choice of\n",
        "colors that is actually a tuple containing the sub-tuples as (color_name, color_frequency) only if the color_frequency for that color is\n",
        "at least one in the given color sequence. [You are not allowed to use count() function here.]"
      ],
      "metadata": {
        "id": "ZfW6iYiLLIET"
      }
    },
    {
      "cell_type": "code",
      "source": [
        "a_tuple=((33, 22, 11), (30, 45, 56, 45,20), (81, 90, 39, 45), (1, 2, 3, 4,5,6))\n",
        "maximum=0\n",
        "sum=0\n",
        "average=0\n",
        "lst=[]\n",
        "for i in a_tuple:\n",
        "  a=i\n",
        "  for i in a:\n",
        "    sum+=i\n",
        "  average=sum/len(a) \n",
        "  lst.append(average) \n",
        "  if sum>maximum:\n",
        "    maximum=sum \n",
        "    maximum_tuple=a  \n",
        "  # print(sum)\n",
        "  # print(average)\n",
        "  sum=0\n",
        "  average=0  \n",
        "\n",
        "print('Average of tuples',lst)\n",
        "# print(maximum)  \n",
        "\n",
        "print('Tuple with maximum sum is',maximum_tuple)"
      ],
      "metadata": {
        "colab": {
          "base_uri": "https://localhost:8080/"
        },
        "id": "OAuTtdKXw1ew",
        "outputId": "1baa8ebb-556c-4405-ab67-c0b2d6df4ab9"
      },
      "execution_count": null,
      "outputs": [
        {
          "output_type": "stream",
          "name": "stdout",
          "text": [
            "Average of tuples [22.0, 39.2, 63.75, 3.5]\n",
            "Tuple with maximum sum is (81, 90, 39, 45)\n"
          ]
        }
      ]
    },
    {
      "cell_type": "markdown",
      "source": [
        "30. Suppose two dictionaries are given. Write a Python program that combines two dictionaries and creates a list of values for each\n",
        "key. Then finally print the combined dictionary."
      ],
      "metadata": {
        "id": "qu8i5gvtLl1T"
      }
    },
    {
      "cell_type": "code",
      "source": [
        "dict1 = {'w': 50, 'y': 'Green', 'z': 400}\n",
        "dict2 = {'x': 300, 'y': 'Red', 'z': 600}\n",
        "\n",
        "\n",
        "        \n",
        "for key,values in dict2.items():\n",
        "\n",
        "   if key  in dict1:\n",
        "      dict1[key] = [dict1[key]] + [dict2[key]]\n",
        "   else:\n",
        "     dict1[key]=[dict2[key]]\n",
        "         \n",
        "print(dict1)\n"
      ],
      "metadata": {
        "colab": {
          "base_uri": "https://localhost:8080/"
        },
        "id": "0L9y-Ema1UAn",
        "outputId": "f8623038-2545-41ca-e76f-a3b46606608f"
      },
      "execution_count": null,
      "outputs": [
        {
          "output_type": "stream",
          "name": "stdout",
          "text": [
            "{'w': 50, 'y': ['Green', 'Red'], 'z': [400, 600], 'x': [300]}\n"
          ]
        }
      ]
    },
    {
      "cell_type": "markdown",
      "source": [
        "31. 3.Assume in a video game, there are three agents named Rage, Jett, and Sage. Each of these agents has three normal skills along\n",
        "with an ultimate skill. Each of these skills have a damage score. To calculate the additive of this score, you need to use the\n",
        "following formula.\n",
        "\n",
        "\n",
        "additive_damage_score = sum of the Normal Skill Damage + Ultimate skill damage\n",
        "\n",
        "\n",
        "Now, write a Python program that will detect the agent’s name using \n",
        "“additive_damage_score” the from a given dictionary\n",
        "\n",
        "where the keys are \"Normal Skills\", \"Ultimate Skill\" and the values are the\n",
        " damages due to the use of those skills on the\n",
        "\n",
        "opponents.\n",
        "\n",
        "• If the additive damage score is less than or equal to 70, then the agent’s name is “Rage”.\n",
        "\n",
        "• If the additive damage score is greater than 70 and less than or equal to 100, then the agent’s name is “Jett”.\n",
        "\n",
        "• Otherwise, the agent’s name is “Sage”.\n",
        "\n",
        "\n",
        "===========================================================\n"
      ],
      "metadata": {
        "id": "0wyRVt3MMGSi"
      }
    },
    {
      "cell_type": "code",
      "source": [
        "#Solution:31\n",
        "\n",
        "given_dict = { \"Normal Skills\":[10,15,20], \"Ultimate Skill\":50 }\n",
        "sum=0\n",
        "lst=[]\n",
        "\n",
        "for keys,values in given_dict.items():\n",
        "  if keys=='Normal Skills':\n",
        "    a=values\n",
        "    for i in a:\n",
        "      sum+=i\n",
        "\n",
        "  else:\n",
        "    sum+=values\n",
        "\n",
        "print('Additive Damage score',sum)\n",
        "if sum<=70:\n",
        "  print(\"The agents name is Rage\")\n",
        "elif 70<=sum<=100:\n",
        "  print('The agents name is Jett')\n",
        "else:\n",
        "  print('The agents name is Sage')  "
      ],
      "metadata": {
        "colab": {
          "base_uri": "https://localhost:8080/"
        },
        "id": "xazWt5xVAo9b",
        "outputId": "fb92f2cc-0cb9-4a3c-e4f1-07ef81e6f699"
      },
      "execution_count": null,
      "outputs": [
        {
          "output_type": "stream",
          "name": "stdout",
          "text": [
            "Additive Damage score 95\n",
            "The agents name is Jett\n"
          ]
        }
      ]
    },
    {
      "cell_type": "code",
      "source": [
        "#ami bujhlam je integer ke loop e chalano jaai nah\n",
        "a=50\n",
        "for i in a:\n",
        "  print(i) "
      ],
      "metadata": {
        "id": "75GVaxz2Ba2i"
      },
      "execution_count": null,
      "outputs": []
    },
    {
      "cell_type": "code",
      "source": [
        "#Quiz Tracing Please solve this (section:47)\n",
        "\n",
        "d1={'Harry' : [20,15], 'Ron': [12,13], 'Hermione': [20,18]}\n",
        "d2=d1\n",
        "for i in d1:\n",
        "   for j in range (len(d2[i])-1):\n",
        "      if (j%2==0):\n",
        "         d2 [i][j]=d1[i][j] +d2[i][j]+len(i)\n",
        "         print(d2[i][j]%5)\n",
        "      else:\n",
        "         d2[i][j]= d1[i][j-1] - d2[i][j]+len(i) \n",
        "\n",
        "      print(str(d2[i][j]%7)+i[-len(i)])\n",
        "\n",
        "   print(i[1]+str(d1[i][0])+str(len(d2)/2))\n",
        "\n"
      ],
      "metadata": {
        "colab": {
          "base_uri": "https://localhost:8080/"
        },
        "id": "i7I82IwE4a0c",
        "outputId": "77830ca1-bcb9-4b3a-f4d0-3482ce9165ab"
      },
      "execution_count": null,
      "outputs": [
        {
          "output_type": "stream",
          "name": "stdout",
          "text": [
            "0\n",
            "3H\n",
            "a451.5\n",
            "2\n",
            "6R\n",
            "o271.5\n",
            "3\n",
            "6H\n",
            "e481.5\n"
          ]
        }
      ]
    },
    {
      "cell_type": "markdown",
      "source": [
        "33. INPUT= 10,20,20,30,10,50,90,STOP\n",
        "\n",
        "    OUTPUT=10-2 times,20-2 times,30-1 times,50-1 times,90-1 times"
      ],
      "metadata": {
        "id": "ysXdQde-mG9c"
      }
    },
    {
      "cell_type": "code",
      "source": [
        "user=input().split(\",\")\n",
        "myl=[]\n",
        "# print(myl)\n",
        "\n",
        "for i in user:\n",
        "  if i != \",\" and i!=\"STOP\":\n",
        "     myl.append(int(i))\n",
        "     \n",
        "# print(myl)\n",
        "\n",
        "newdic={}\n",
        "\n",
        "for i in myl:\n",
        "  if i not in newdic:\n",
        "    newdic[i]=1\n",
        "  else:\n",
        "    newdic[i]+=1\n",
        "\n",
        "for keys,values in newdic.items():\n",
        "\n",
        "  if keys==90:    \n",
        "    print(f'{keys}-{values} times',end=(\"\"))\n",
        "  else:\n",
        "    print(f'{keys}-{values} times',end=(\",\"))"
      ],
      "metadata": {
        "colab": {
          "base_uri": "https://localhost:8080/"
        },
        "id": "7riHzAZkj8D8",
        "outputId": "6c0fff2e-c7b5-4244-c7e3-4f626c4fb3d7"
      },
      "execution_count": null,
      "outputs": [
        {
          "output_type": "stream",
          "name": "stdout",
          "text": [
            "10,20,20,30,10,50,90,STOP\n",
            "10-2 times,20-2 times,30-1 times,50-1 times,90-1 times"
          ]
        }
      ]
    },
    {
      "cell_type": "code",
      "source": [
        "#print 33 number question into a dictionary\n",
        "user=input().split(\",\")\n",
        "myl=[]\n",
        "for i in user:\n",
        "  if i != \",\" and i!=\"STOP\":\n",
        "     myl.append(int(i))\n",
        "print(myl)\n",
        "new_dic={}\n",
        "for j in myl:\n",
        "  if j not in new_dic:\n",
        "    new_dic[j]=1\n",
        "  else:\n",
        "    new_dic[j]+=1 \n",
        "print(new_dic)  "
      ],
      "metadata": {
        "colab": {
          "base_uri": "https://localhost:8080/"
        },
        "id": "levE6aPNrboQ",
        "outputId": "61c5f9a7-ab9f-4e33-d6d1-9be8ed92798b"
      },
      "execution_count": null,
      "outputs": [
        {
          "output_type": "stream",
          "name": "stdout",
          "text": [
            "10,20,20,30,10,50,90,STOP\n",
            "[10, 20, 20, 30, 10, 50, 90]\n",
            "{10: 2, 20: 2, 30: 1, 50: 1, 90: 1}\n"
          ]
        }
      ]
    },
    {
      "cell_type": "code",
      "source": [
        "# ========================================================"
      ],
      "metadata": {
        "id": "fEyuNwmoama7"
      },
      "execution_count": null,
      "outputs": []
    },
    {
      "cell_type": "markdown",
      "source": [
        "#Noob practise for noob coders"
      ],
      "metadata": {
        "id": "o3w3_jWl1uxo"
      }
    },
    {
      "cell_type": "code",
      "source": [
        "#print see the output\n",
        "d= {\"First Name\":\"Sifat\", \"Last Name\":\"Tanvir\"}\n",
        "for keys,values in d.items():\n",
        "  print(f'{keys}:{values}')"
      ],
      "metadata": {
        "colab": {
          "base_uri": "https://localhost:8080/"
        },
        "id": "GJrj61_eanzp",
        "outputId": "743a8971-7097-4862-f693-216b3e057479"
      },
      "execution_count": null,
      "outputs": [
        {
          "output_type": "stream",
          "name": "stdout",
          "text": [
            "First Name:Sifat\n",
            "Last Name:Tanvir\n"
          ]
        }
      ]
    },
    {
      "cell_type": "code",
      "source": [
        "#print see the output\n",
        "d= {\"A\":[10,20,30], \"B\":(-10,-20,-30), \"C\":\"Junu\"}\n",
        "for values in d:\n",
        "  for i in d[values]:\n",
        "    print(i)"
      ],
      "metadata": {
        "colab": {
          "base_uri": "https://localhost:8080/"
        },
        "id": "8rdPJ2DybRcq",
        "outputId": "ada6051c-0c4f-4e68-b8ce-b50a7b774625"
      },
      "execution_count": null,
      "outputs": [
        {
          "output_type": "stream",
          "name": "stdout",
          "text": [
            "10\n",
            "20\n",
            "30\n",
            "-10\n",
            "-20\n",
            "-30\n",
            "J\n",
            "u\n",
            "n\n",
            "u\n"
          ]
        }
      ]
    },
    {
      "cell_type": "code",
      "source": [
        "#print see the output\n",
        "d= {1:\"N\", 2:\"B\", 3:\"U\", 4:\"D\", 5:\"N\", 6:\"F\", 9:\"U\"}\n",
        "my={}\n",
        "for keys,values in d.items():\n",
        "  if keys%2!=0:\n",
        "     my[keys]=values\n",
        "print(my)     \n"
      ],
      "metadata": {
        "colab": {
          "base_uri": "https://localhost:8080/"
        },
        "id": "7pS4aaq3cUff",
        "outputId": "a1b661d3-3938-4e27-a786-1d83f46ee156"
      },
      "execution_count": null,
      "outputs": [
        {
          "output_type": "stream",
          "name": "stdout",
          "text": [
            "{1: 'N', 3: 'U', 5: 'N', 9: 'U'}\n"
          ]
        }
      ]
    },
    {
      "cell_type": "code",
      "source": [
        "#print see the output\n",
        "students={\"CSE\" : [\"Alex\", \"Murphy\", \"Reynolds\"], \"BBA\": [\"Joseph\", \"Sarah\", \"Elias\"], \"MNS\":[\"Ray\", \"Darby\"] }\n",
        "name=input().upper()\n",
        "c=0\n",
        "for keys,values in students.items():\n",
        "  if name==keys:\n",
        "    c=values\n",
        "\n",
        "if c==0:\n",
        "  print('Not found')\n",
        "else:\n",
        "  print(c)        \n",
        "    "
      ],
      "metadata": {
        "colab": {
          "base_uri": "https://localhost:8080/"
        },
        "id": "LQFZMMIwdB8h",
        "outputId": "43146fda-4944-40ee-f77f-1c39f71fc396"
      },
      "execution_count": null,
      "outputs": [
        {
          "output_type": "stream",
          "name": "stdout",
          "text": [
            "LLB\n",
            "Not found\n"
          ]
        }
      ]
    },
    {
      "cell_type": "code",
      "source": [
        "# 5. Trace the following code and write the outputs.\n",
        "d1={1:[2,3,4], 2:[4,5,6], 3:[15]}\n",
        "d2= d1\n",
        "d3= d2.copy()\n",
        "for i in d1:\n",
        "  for j in range(len(d1[i])):\n",
        "    if(j==0):\n",
        "      d2[i][j]= d1[i][j]+d3[i][j]\n",
        "      print(d2[i][j])\n",
        "    if (j>0):\n",
        "      d3[i][j]= d1[i][j-1] - d2[i][j]\n",
        "    else:\n",
        "      d3[i][j]= d1[i][j] - d2[i][j]\n",
        "    print(d3[i][j])\n",
        "  print(i+d1[i][0]+len(d3))"
      ],
      "metadata": {
        "colab": {
          "base_uri": "https://localhost:8080/"
        },
        "id": "v5iIIWvldjbo",
        "outputId": "eda6feb4-1873-4178-9891-e8e30e268887"
      },
      "execution_count": null,
      "outputs": [
        {
          "output_type": "stream",
          "name": "stdout",
          "text": [
            "4\n",
            "0\n",
            "-3\n",
            "-7\n",
            "4\n",
            "8\n",
            "0\n",
            "-5\n",
            "-11\n",
            "5\n",
            "30\n",
            "0\n",
            "6\n"
          ]
        }
      ]
    },
    {
      "cell_type": "code",
      "source": [
        "# d1={1:[2,3,4], 2:[4,5,6], 3:[15]}\n",
        "d2= d1\n",
        "d3= d2.copy()\n",
        "for i,x in d1.items():\n",
        "  for j in range(len(x)):\n",
        "    if (i%3==0):\n",
        "      d3[i][j]= d1[i][j] - d2[i][j]\n",
        "    elif (j%2==0):\n",
        "      d2[i][j]= d1[i][j]+d3[i][j]\n",
        "    else:\n",
        "      d3[i][j]= d1[i][j] - d2[i][j]\n",
        "    print(d3[i][j]+d2[i][j])\n",
        "  print(i+d1[i][0]+len(d3))\n",
        "print(d1.keys()== d3.keys())"
      ],
      "metadata": {
        "colab": {
          "base_uri": "https://localhost:8080/"
        },
        "id": "owwxbJzRf28X",
        "outputId": "4cc78653-f583-4bbb-8d6d-70e7c55ade8d"
      },
      "execution_count": null,
      "outputs": [
        {
          "output_type": "stream",
          "name": "stdout",
          "text": [
            "0\n",
            "0\n",
            "-28\n",
            "4\n",
            "0\n",
            "0\n",
            "-44\n",
            "5\n",
            "0\n",
            "6\n",
            "True\n"
          ]
        }
      ]
    },
    {
      "cell_type": "code",
      "source": [
        "#8.Take 10 inputs from the user and create a dictionary with keys 1 to 5 in such a way that \n",
        "# each key will indicate to list of numbers divisible by that key.\n",
        "\n",
        "\n",
        "i=0\n",
        "lst=[11,2,13,41,25,46,17,28,91,10]\n",
        "# while i<10:\n",
        "#   numbers=int(input('sir please enter your desired number: '))\n",
        "#   lst.append(numbers)\n",
        "#   i+=1\n",
        "\n",
        "keys=[1,2,3,4,5]\n",
        "my={}\n",
        "for i in keys:\n",
        "  my[i]=[]\n",
        "print(my)  \n",
        " \n",
        "for keys,values in my.items():\n",
        "  for i in lst:\n",
        "    if i%keys==0:\n",
        "      my[keys].append(i)\n",
        "\n",
        "print(my)      \n",
        "  \n"
      ],
      "metadata": {
        "colab": {
          "base_uri": "https://localhost:8080/"
        },
        "id": "ARB6BRK6XApY",
        "outputId": "e438831b-a58e-4155-8893-7ceaf2d6b087"
      },
      "execution_count": null,
      "outputs": [
        {
          "output_type": "stream",
          "name": "stdout",
          "text": [
            "{1: [], 2: [], 3: [], 4: [], 5: []}\n",
            "{1: [11, 2, 13, 41, 25, 46, 17, 28, 91, 10], 2: [2, 46, 28, 10], 3: [], 4: [28], 5: [25, 10]}\n"
          ]
        }
      ]
    },
    {
      "cell_type": "code",
      "source": [
        "# 9. Merge the following two dictionaries to make the output dictionary:\n",
        "\n",
        "d1= {\"CSE\": [\"Alex\", \"Murphy\"], \"BBA\": [\"Joseph\", \"Sarah\"] }\n",
        "d2= {\"CSE\": [\"Murphy\", \"Reynolds\"], \"MNS\": [\"Ray\", \"Darby\"] }\n",
        "d3={}\n",
        "d3.update(d1)\n",
        "d3.update(d2)\n",
        "print(d3)\n"
      ],
      "metadata": {
        "colab": {
          "base_uri": "https://localhost:8080/"
        },
        "id": "V1N3685Abvao",
        "outputId": "77229f07-941a-464a-c2e8-0228ec80b810"
      },
      "execution_count": null,
      "outputs": [
        {
          "output_type": "stream",
          "name": "stdout",
          "text": [
            "{'CSE': ['Murphy', 'Reynolds'], 'BBA': ['Joseph', 'Sarah'], 'MNS': ['Ray', 'Darby']}\n"
          ]
        }
      ]
    },
    {
      "cell_type": "code",
      "source": [
        "d1= { \"A\": [13, 31, 24], \"B\": [23, 12, 24], \"C\":[14, 31] }\n"
      ],
      "metadata": {
        "id": "gkwQHNJbdG-g"
      },
      "execution_count": null,
      "outputs": []
    },
    {
      "cell_type": "markdown",
      "source": [
        "36. Take an input. the key will be words and the values will be letters"
      ],
      "metadata": {
        "id": "BNo6j6bGsYMh"
      }
    },
    {
      "cell_type": "code",
      "source": [
        "input=\"Good,things,take,time\"\n",
        "# print(input)\n",
        "d={}\n",
        "lsd=''\n",
        "\n",
        "for i in input:\n",
        "  for j in i:\n",
        "    if  j==\",\":\n",
        "      lsd+=\" \"\n",
        "    else:\n",
        "      lsd+=j\n",
        "\n",
        "lsd=lsd.split(\" \")\n",
        "\n",
        "for i in lsd:\n",
        "  d[i]=[]\n",
        "  for j in i:\n",
        "    d[i]+=j\n",
        "       \n",
        "   \n",
        "\n",
        "# print(lsd) \n",
        "print(d)    "
      ],
      "metadata": {
        "colab": {
          "base_uri": "https://localhost:8080/"
        },
        "id": "jGe3lTgWvA5R",
        "outputId": "d7bf631a-9958-4555-afc5-dbd5ef962ba8"
      },
      "execution_count": null,
      "outputs": [
        {
          "output_type": "stream",
          "name": "stdout",
          "text": [
            "Good,things,take,time\n",
            "['Good', 'things', 'take', 'time']\n",
            "{'Good': ['G', 'o', 'o', 'd'], 'things': ['t', 'h', 'i', 'n', 'g', 's'], 'take': ['t', 'a', 'k', 'e'], 'time': ['t', 'i', 'm', 'e']}\n"
          ]
        }
      ]
    },
    {
      "cell_type": "markdown",
      "source": [
        "37. take a sentence. split them and then make a dicitonary. the words\n",
        "\n",
        "    will be keys and the alphabets of the words will be values seperated by a \n",
        "\n",
        "    hypen.\n",
        "\n",
        "    Input : The,right,people,stay\n",
        "\n",
        "    Output: {'The': 'T-h-e', 'right': 'r-i-g-h-t', 'people': 'p-e-o-p-l-e',\n",
        "    \n",
        "    'stay': 's-t-a-y'}"
      ],
      "metadata": {
        "id": "mwSAoEZjsoaT"
      }
    },
    {
      "cell_type": "code",
      "source": [
        "word='The,right,people,stay'.split(\",\")\n",
        "\n",
        "# print(word)\n",
        "\n",
        "a=\"\"\n",
        "for i in word:\n",
        "  for j in range(0,len(i)):\n",
        "    if j==len(i)-1:\n",
        "      a+=i[j]+\" \"\n",
        "      \n",
        "    else:\n",
        "      a+=i[j]+\"-\"  \n",
        "# print(a)\n",
        "a=a.split(\" \")\n",
        "# print(a)\n",
        "\n",
        "lst=[]\n",
        "for i in a:\n",
        "  if i=='':\n",
        "    pass\n",
        "  else:\n",
        "    lst.append(i)  \n",
        "\n",
        "d1={}\n",
        "for keys in word:\n",
        "  for values in lst:\n",
        "    d1[keys]=values\n",
        "    lst.remove(values)\n",
        "    break\n",
        "\n",
        "print(d1)    \n"
      ],
      "metadata": {
        "colab": {
          "base_uri": "https://localhost:8080/"
        },
        "id": "igtsR_n3yOQx",
        "outputId": "6249f057-2ed7-4684-9dbc-6c9da1f4eaad"
      },
      "execution_count": null,
      "outputs": [
        {
          "output_type": "stream",
          "name": "stdout",
          "text": [
            "{'The': 'T-h-e', 'right': 'r-i-g-h-t', 'people': 'p-e-o-p-l-e', 'stay': 's-t-a-y'}\n"
          ]
        }
      ]
    },
    {
      "cell_type": "code",
      "source": [
        "# 1. Extract \"Brazil\" from the following tuple. Copy the tuple directly onto your code:\n",
        "t= (4,95,\"Hello\",(4,((\"Germany>Brazil-Argentina\")),True), 5.5)\n",
        "print(t[3][1][8:14])\n",
        "\n"
      ],
      "metadata": {
        "colab": {
          "base_uri": "https://localhost:8080/"
        },
        "id": "cPU0fcsCbnS3",
        "outputId": "b0c8acf7-fd80-4f0f-e0aa-703c4f0d9bc3"
      },
      "execution_count": null,
      "outputs": [
        {
          "output_type": "stream",
          "name": "stdout",
          "text": [
            "Brazil\n"
          ]
        }
      ]
    },
    {
      "cell_type": "code",
      "source": [
        "# 2. Print all the numbers in the tuple. Copy the tuple directly onto your code:\n",
        "t= ((21, 34), (41, 23, 21),(10,))\n",
        "\n",
        "for i in t:\n",
        "  for j in i:\n",
        "    print(j)\n",
        "\n"
      ],
      "metadata": {
        "colab": {
          "base_uri": "https://localhost:8080/"
        },
        "id": "Ywmj5P5lemXG",
        "outputId": "50c3a266-c0d5-44c1-b9b5-64c01a911bae"
      },
      "execution_count": null,
      "outputs": [
        {
          "output_type": "stream",
          "name": "stdout",
          "text": [
            "21\n",
            "34\n",
            "41\n",
            "23\n",
            "21\n",
            "10\n"
          ]
        }
      ]
    },
    {
      "cell_type": "code",
      "source": [
        "# 3. Take 5 numbers from the user and append the in the following tuple. Then print it.\n",
        "i=0\n",
        "lst=[]\n",
        "while i<5:\n",
        "  numbers=int(input('sir,pleaseeee '))\n",
        "  i+=1\n",
        "  lst.append(numbers)\n",
        "\n",
        "print(tuple(lst))\n",
        "\n"
      ],
      "metadata": {
        "colab": {
          "base_uri": "https://localhost:8080/"
        },
        "id": "s-_FmFTpl1BW",
        "outputId": "a4559e31-3fb4-4cad-98f7-0c6e2ca892f4"
      },
      "execution_count": null,
      "outputs": [
        {
          "output_type": "stream",
          "name": "stdout",
          "text": [
            "sir,pleaseeee21\n",
            "sir,pleaseeee12\n",
            "sir,pleaseeee34\n",
            "sir,pleaseeee43\n",
            "sir,pleaseeee23\n",
            "(21, 12, 34, 43, 23)\n"
          ]
        }
      ]
    },
    {
      "cell_type": "code",
      "source": [
        "# 8. Trace the following code and write the outputs.\n",
        "t1 = (5, 4, 3, 4, 5)\n",
        "j = 0 \n",
        "t2=t1\n",
        "l=list(t1)\n",
        "while j <= 2: \n",
        "    for i in range (0,j+1):\n",
        "        k= int(str(i)+str(j))%9\n",
        "        l[j] = t2[j] - t1[k] \n",
        "        print(l[j]) \n",
        "    j+=1\n",
        "    print(l[j])\n",
        "print(l[j-1]==t2[j-1])"
      ],
      "metadata": {
        "colab": {
          "base_uri": "https://localhost:8080/"
        },
        "id": "K1mYdkXVozPO",
        "outputId": "cbc7d99b-aa9e-4d5a-cf90-a09858da0aca"
      },
      "execution_count": null,
      "outputs": [
        {
          "output_type": "stream",
          "name": "stdout",
          "text": [
            "0\n",
            "4\n",
            "0\n",
            "1\n",
            "3\n",
            "0\n",
            "-1\n",
            "-2\n",
            "4\n",
            "False\n"
          ]
        }
      ]
    },
    {
      "cell_type": "code",
      "source": [
        "# 7. Declare a blank tuple and a tuple with only one element.\n",
        "#  Then concat the tuples. Then print it.\n",
        "a=(1,)\n",
        "b=()\n",
        "print(a+b)\n"
      ],
      "metadata": {
        "id": "xMfcNCkipHZH"
      },
      "execution_count": null,
      "outputs": []
    },
    {
      "cell_type": "code",
      "source": [
        "# 1. Imagine you have the following list in your code\n",
        "#  (Copy paste it into the code).\n",
        "# Now extract \"baba\" from this list. (copy the list directly onto your code)\n",
        "list1= [5, 6, 7.34, [4,[6,\"hi\"], [\"hello\", [\"abbaba\"], False], 23]]\n",
        "\n",
        "print(list1[3][2][1][0][2:6])\n"
      ],
      "metadata": {
        "colab": {
          "base_uri": "https://localhost:8080/"
        },
        "id": "F_c4pS6yq2Ff",
        "outputId": "80e61628-e3d9-4e61-b756-c371274722f8"
      },
      "execution_count": null,
      "outputs": [
        {
          "output_type": "stream",
          "name": "stdout",
          "text": [
            "baba\n"
          ]
        }
      ]
    },
    {
      "cell_type": "code",
      "source": [
        "# 2. Reverse the following list without any built-in method.\n",
        "# Sample List: (copy the list directly onto your code)\n",
        "a=[5, -6, 2, 1, 0, 16]\n",
        "print(a[-1::-1])"
      ],
      "metadata": {
        "colab": {
          "base_uri": "https://localhost:8080/"
        },
        "id": "ejcZc2WkrWtP",
        "outputId": "e12876d4-67d7-4d9a-b064-bac1d1aaeecd"
      },
      "execution_count": null,
      "outputs": [
        {
          "output_type": "stream",
          "name": "stdout",
          "text": [
            "[16, 0, 1, 2, -6, 5]\n"
          ]
        }
      ]
    },
    {
      "cell_type": "code",
      "source": [
        "# 4. Keep taking inputs from the user until he gives 4\n",
        "#  unique odd-positive numbers ranging between 0-12 and find their sum.\n",
        "# Print the list. However, there are 5 unique odd-positive numbers\n",
        "#  within 0 to 12. \n",
        "# Find and print that one missing odd-positive number.\n",
        "\n",
        "lst=[]\n",
        "lsd=[1,3,5,7,9,11]\n",
        "count=0\n",
        "while count<=4:\n",
        "  odd=int(input())\n",
        "  if odd%2!=0 and odd not in lst:\n",
        "    lst.append(odd)\n",
        "    count+=1\n",
        "print(lst) \n",
        "for i in lsd:\n",
        "  if i not in lst:\n",
        "    print(f'Missing: {i}')"
      ],
      "metadata": {
        "colab": {
          "base_uri": "https://localhost:8080/"
        },
        "id": "Hoa0_kRAuV1W",
        "outputId": "34cca2cb-f06f-4cff-e3f6-1c6c1d12410d"
      },
      "execution_count": null,
      "outputs": [
        {
          "output_type": "stream",
          "name": "stdout",
          "text": [
            "2\n",
            "1\n",
            "3\n",
            "4\n",
            "3\n",
            "5\n",
            "7\n",
            "11\n",
            "[1, 3, 5, 7, 11]\n",
            "Missing: 9\n"
          ]
        }
      ]
    },
    {
      "cell_type": "code",
      "source": [
        "# 8. Trace the following code\n",
        "myList = [10, 20, 30, 40, 50, 40, 30, 20, 10]\n",
        "p = 5 \n",
        "q = 0 \n",
        "r = 0 \n",
        "while q < 9: \n",
        "    r = (p + q - r) % 9 \n",
        "    while r < q: \n",
        "        p = p + r \n",
        "        myList[q] = myList[q] - myList[r] - int(str(p) + \"3\")\n",
        "        r += 1 \n",
        "    print(myList[q]) \n",
        "    p = p - q \n",
        "    q += 25 % 12 \n",
        "print(len(myList) == q)"
      ],
      "metadata": {
        "colab": {
          "base_uri": "https://localhost:8080/"
        },
        "id": "8G1dWdxTNsDM",
        "outputId": "73c36863-0167-46f0-d37f-ee4604c489a4"
      },
      "execution_count": null,
      "outputs": [
        {
          "output_type": "stream",
          "name": "stdout",
          "text": [
            "10\n",
            "20\n",
            "30\n",
            "-129\n",
            "126\n",
            "-186\n",
            "30\n",
            "-386\n",
            "-187\n",
            "True\n"
          ]
        }
      ]
    },
    {
      "cell_type": "code",
      "source": [
        "# 9. Trace the following code\n",
        "l1 = [5, 4, 3, 4, 5, 4, 8, 2, 1]\n",
        "j = 1 \n",
        "while j <= 3: \n",
        "    for i in range (1,j+1):\n",
        "        k= int(str(i)+str(j))%9\n",
        "        l1[j] = l1[j] - l1[k] \n",
        "        print(l1[i]) \n",
        "    j+=1\n",
        "    print(l1[j])\n",
        "print(j%3!=0)"
      ],
      "metadata": {
        "colab": {
          "base_uri": "https://localhost:8080/"
        },
        "id": "vS6yFdlUT00U",
        "outputId": "82e525c3-655c-430a-e505-8b1f4b14b7cd"
      },
      "execution_count": null,
      "outputs": [
        {
          "output_type": "stream",
          "name": "stdout",
          "text": [
            "1\n",
            "3\n",
            "1\n",
            "-6\n",
            "4\n",
            "1\n",
            "-6\n",
            "-13\n",
            "5\n",
            "True\n"
          ]
        }
      ]
    },
    {
      "cell_type": "code",
      "source": [
        "L1 = [1,2,3,4,5,6,7]\n",
        "L2 = ['A','B','C','D']\n",
        "l3=[]\n",
        "count=0\n",
        "\n",
        "for i in L1:\n",
        "  if count%2==0:\n",
        "    l3.append(i)\n",
        "    count+=1\n",
        "  else:\n",
        "    for j in L2:\n",
        "      if count%2!=0:\n",
        "        l3.append(j)\n",
        "        count+=1\n",
        "print(l3)"
      ],
      "metadata": {
        "colab": {
          "base_uri": "https://localhost:8080/"
        },
        "id": "ZDvbb6Q2T307",
        "outputId": "bed967ff-250b-436a-a324-d2a481a5460a"
      },
      "execution_count": null,
      "outputs": [
        {
          "output_type": "stream",
          "name": "stdout",
          "text": [
            "['A', 2, 'A', 4, 'A', 6, 'A']\n"
          ]
        }
      ]
    },
    {
      "cell_type": "code",
      "source": [
        "# 9. Trace the following code\n",
        "givenList = [10, 4, 20, 9, 30, 10, 5, 40, 3, 7]\n",
        "a = 1\n",
        "b = 5\n",
        "c = 2\n",
        "newList = givenList\n",
        "while(a<10):\n",
        "  b = (b + a) % 2\n",
        "  while(b<a):\n",
        "    givenList[a] = newList[a]- givenList[b]+c\n",
        "    b = b+1\n",
        "  print(givenList[a])\n",
        " \n",
        "  a = a+1\n",
        "  c += 2\n",
        "print(10 in givenList)"
      ],
      "metadata": {
        "colab": {
          "base_uri": "https://localhost:8080/"
        },
        "id": "UTLPwOCLUygE",
        "outputId": "3d9608c8-3b14-467a-86bb-c3f6f8a29a2e"
      },
      "execution_count": null,
      "outputs": [
        {
          "output_type": "stream",
          "name": "stdout",
          "text": [
            "-4\n",
            "28\n",
            "-3\n",
            "33\n",
            "-4\n",
            "15\n",
            "59\n",
            "-9\n",
            "36\n",
            "True\n"
          ]
        }
      ]
    },
    {
      "cell_type": "code",
      "source": [
        "# 18. Trace the following code\n",
        "myList1 = [5,6,1,4,6]\n",
        "var1 = 2\n",
        "var3 = myList1\n",
        "while(var1 < 5):\n",
        "     var2 = 1\n",
        "     while(var2 <= var1):\n",
        "         print(myList1[var2])\n",
        "         var3[var2] = myList1[var2] + var3[var1] - 9\n",
        "         var2 = var2 + 1\n",
        "     var1 = var1 + 1\n",
        "print(len(var3) in myList1)"
      ],
      "metadata": {
        "colab": {
          "base_uri": "https://localhost:8080/"
        },
        "id": "4zUShc1dXqbX",
        "outputId": "e309996a-474d-4d60-edb6-9f08d1701746"
      },
      "execution_count": null,
      "outputs": [
        {
          "output_type": "stream",
          "name": "stdout",
          "text": [
            "6\n",
            "1\n",
            "-2\n",
            "-7\n",
            "4\n",
            "-7\n",
            "-12\n",
            "-1\n",
            "6\n",
            "True\n"
          ]
        }
      ]
    },
    {
      "cell_type": "code",
      "source": [
        "# 17. Trace the following code\n",
        "myList = [0, 0, 0, 0, 0, 0, 0, 0, 0, 0]\n",
        "b = []\n",
        "index1 = 0\n",
        "index2 = 0\n",
        "b = myList\n",
        "while (index1 < 10):\n",
        "   myList[index1] += myList[index2 % 10] + 5\n",
        "   index2 = 1\n",
        "   while (index2 < index1):\n",
        "       myList[index1] = b[index2 % 5] - index1\n",
        "       index2 += 3\n",
        "   print(myList[index1])\n",
        "   index1 += 1"
      ],
      "metadata": {
        "colab": {
          "base_uri": "https://localhost:8080/"
        },
        "id": "yyeKWZXcXtgL",
        "outputId": "5fb0a14e-5a39-4dad-d5eb-863dfb2febba"
      },
      "execution_count": null,
      "outputs": [
        {
          "output_type": "stream",
          "name": "stdout",
          "text": [
            "5\n",
            "5\n",
            "3\n",
            "2\n",
            "1\n",
            "-4\n",
            "-5\n",
            "-6\n",
            "-5\n",
            "-6\n"
          ]
        }
      ]
    },
    {
      "cell_type": "markdown",
      "source": [
        "39. Take a fully smaller-cased word from the user\n",
        "\n",
        " and count the number of occurances of each vowel in that word."
      ],
      "metadata": {
        "id": "YrveJ9I2u9HQ"
      }
    },
    {
      "cell_type": "code",
      "source": [
        "# 15. Take a fully smaller-cased word from the user\n",
        "#  and count the number of occurances of each vowel in that word.\n",
        "\n",
        "word='alphanumeric'\n",
        "new_list=['a','e','i','o','u']\n",
        "backup_list=[0 for abc in range(5)]\n",
        "# print(\"Backup List:\", backup_list)\n",
        "\n",
        "for i in word:\n",
        "  if i =='a':\n",
        "    backup_list[0]+=1\n",
        "  elif i=='e':\n",
        "    backup_list[1]+=1\n",
        "  elif i=='i':\n",
        "    backup_list[2]+=1\n",
        "  elif i=='o':\n",
        "    backup_list[3]+=1 \n",
        "  elif i=='u':\n",
        "    backup_list[4]+=1\n",
        "  else:\n",
        "    pass\n",
        "for i in range(0,5):\n",
        "  print(f'{new_list[i]} has occured {backup_list[i]} time(s)')            "
      ],
      "metadata": {
        "colab": {
          "base_uri": "https://localhost:8080/"
        },
        "id": "suoVAI2-XxFj",
        "outputId": "f1f17443-e962-4c80-b3e4-8a1f4573943a"
      },
      "execution_count": null,
      "outputs": [
        {
          "output_type": "stream",
          "name": "stdout",
          "text": [
            "Backup List: [0, 0, 0, 0, 0]\n",
            "a has occured 2 time(s)\n",
            "e has occured 1 time(s)\n",
            "i has occured 1 time(s)\n",
            "o has occured 0 time(s)\n",
            "u has occured 1 time(s)\n"
          ]
        }
      ]
    },
    {
      "cell_type": "markdown",
      "source": [
        "40. Write a function in Python that will take a string text as input from the user and returns the list of\n",
        "\n",
        "unique characters concatenated with their ASCII value at the front and back \n",
        "side.\n",
        "\n",
        "==================================================\n",
        "\n",
        "Sample Input:\n",
        "\n",
        "\"pythonbook\"\n",
        "\n",
        "\n",
        "Function Calling:\n",
        "\n",
        "function_name(\"pythonbook\")\n",
        "\n",
        "\n",
        "Sample Output:\n",
        "\n",
        "['112p112', '121y121', '116t116', '104h104', '111o111', '110n110', '98b98', \n",
        "'107k107']"
      ],
      "metadata": {
        "id": "M2Uq-pbLvJF5"
      }
    },
    {
      "cell_type": "code",
      "source": [
        "\n",
        "def function_name(name):\n",
        "    res=''\n",
        "\n",
        "    for i in name:\n",
        "      if i not in res:\n",
        "         res+=i\n",
        "\n",
        "    lst=[]\n",
        "    for i in res:\n",
        "\n",
        "        lst.append(str(ord(i))+i+str(ord(i)))\n",
        "    return lst\n",
        "    # print(lst)    \n",
        "\n",
        "\n",
        "print(function_name(input('Sir,please enter a string text: ')))"
      ],
      "metadata": {
        "colab": {
          "base_uri": "https://localhost:8080/"
        },
        "id": "_xLALCHfMBYI",
        "outputId": "01e3490c-ca74-4cdc-b432-bdef8879f43e"
      },
      "execution_count": null,
      "outputs": [
        {
          "output_type": "stream",
          "name": "stdout",
          "text": [
            "Sir,please enter a string text: pythonbook\n",
            "['112p112', '121y121', '116t116', '104h104', '111o111', '110n110', '98b98', '107k107']\n"
          ]
        }
      ]
    },
    {
      "cell_type": "code",
      "source": [
        "#Question: 01\n",
        "def times_table(num):\n",
        "  \n",
        "  for i in range(1,11):\n",
        "     \n",
        "     print(f'{num} X {i}={num*i}')\n",
        "\n",
        "times_table(10)     \n"
      ],
      "metadata": {
        "colab": {
          "base_uri": "https://localhost:8080/"
        },
        "id": "rPEU1_LAS3tb",
        "outputId": "8f7f0312-bbf8-422a-802b-cea741bd3bf3"
      },
      "execution_count": null,
      "outputs": [
        {
          "output_type": "stream",
          "name": "stdout",
          "text": [
            "10 X 1=10\n",
            "10 X 2=20\n",
            "10 X 3=30\n",
            "10 X 4=40\n",
            "10 X 5=50\n",
            "10 X 6=60\n",
            "10 X 7=70\n",
            "10 X 8=80\n",
            "10 X 9=90\n",
            "10 X 10=100\n"
          ]
        }
      ]
    },
    {
      "cell_type": "code",
      "source": [
        "#Quiz 2\n",
        "\n",
        "given_list=[1,3,2,2,3,7,6,4]\n",
        "def index_number(num):\n",
        "  for i in range(len(given_list)):\n",
        "      if num==given_list[i]:\n",
        "\n",
        "        print('index=',end=\"\")\n",
        "        return i\n",
        "        break\n",
        "\n",
        "      else:\n",
        "        index='Number not Found!'\n",
        " \n",
        "  return index\n",
        "\n",
        "\n",
        "print(index_number(6))   \n",
        "     \n"
      ],
      "metadata": {
        "colab": {
          "base_uri": "https://localhost:8080/"
        },
        "id": "C1qPo0S3WtgS",
        "outputId": "2d9e934e-f2a5-4cca-85cf-d1f2120eb274"
      },
      "execution_count": null,
      "outputs": [
        {
          "output_type": "stream",
          "name": "stdout",
          "text": [
            "index=6\n"
          ]
        }
      ]
    },
    {
      "cell_type": "markdown",
      "source": [
        "41. Write a function in Python that will take a number string text as input from the user and returns a\n",
        "dictionary having the unique numbers as the keys and the tuple of being the number to be even, odd,\n",
        "prime and perfect as thevalues."
      ],
      "metadata": {
        "id": "8hYuh8HxviIn"
      }
    },
    {
      "cell_type": "code",
      "source": [
        "def isprime(n):\n",
        "  if(n<=1):\n",
        "    return 0\n",
        "  else:\n",
        "    for j in range(2,n):\n",
        "      if (n%j)==0:\n",
        "        return 0\n",
        "        return 1\n",
        "def isperfect(n):\n",
        "  sum=0\n",
        "  for i in range(1,n):\n",
        "    if (n%i)==0:\n",
        "      sum+=i\n",
        "\n",
        "    if (sum==n):\n",
        "      return 1\n",
        "    else:\n",
        "      return 0\n",
        "\n",
        "\n",
        "def function_name(str):\n",
        "   dict1={}\n",
        "\n",
        "   for i in str:\n",
        "     if (i>='0' or i<='9'):\n",
        "       s=''\n",
        "       tup1=()\n",
        "       tup=()\n",
        "       i=int(i)\n",
        "\n",
        "       if (i%2==0):\n",
        "         s='even'\n",
        "         tup1=(s,)\n",
        "         tup+=tup1\n",
        "       else:\n",
        "         s='odd' \n",
        "         tup1=(s,)\n",
        "         tup+=tup1\n",
        "\n",
        "       isp=isprime(i)\n",
        "\n",
        "       if (isp):\n",
        "         s='prime'\n",
        "         tup1=(s,)\n",
        "         tup+=tup1\n",
        "       else:\n",
        "         s='not prime'\n",
        "         tup1=(s,)\n",
        "         tup+=tup1\n",
        "       isper=isperfect(i)\n",
        "\n",
        "       if (isper):\n",
        "         s='perfect'\n",
        "         tup1=(s,)\n",
        "         tup+=tup1\n",
        "\n",
        "       else:\n",
        "         s='not perfect'\n",
        "         tup1=(s,)\n",
        "         tup+=tup1\n",
        "\n",
        "       dict1[i]=tup\n",
        "\n",
        "   return dict1\n",
        "\n",
        "print(function_name('2441396'))\n"
      ],
      "metadata": {
        "colab": {
          "base_uri": "https://localhost:8080/"
        },
        "id": "vzbSCQRfcsCM",
        "outputId": "eb278d8c-5a52-4ca5-d08c-5dd69a50d1e1"
      },
      "execution_count": null,
      "outputs": [
        {
          "output_type": "stream",
          "name": "stdout",
          "text": [
            "{2: ('even', 'not prime', 'not perfect'), 4: ('even', 'not prime', 'not perfect'), 1: ('odd', 'not prime', 'not perfect'), 3: ('odd', 'not prime', 'not perfect'), 9: ('odd', 'not prime', 'not perfect'), 6: ('even', 'not prime', 'not perfect')}\n"
          ]
        }
      ]
    },
    {
      "cell_type": "code",
      "source": [
        "def occurence_counter(sentence):\n",
        "  l=sentence.split(' ')\n",
        "  word_dict={}\n",
        "\n",
        "  for word in l:\n",
        "    if word in word_dict:\n",
        "      word_dict[word]=word_dict[word]+1\n",
        "    else:\n",
        "      word_dict[word]=1\n",
        "\n",
        "    sorted_dict=sorted(word_dict.items())\n",
        "    key=lambda kv:(kv[1],kv[0])\n",
        "\n",
        "  print(sorted_dict)\n",
        "\n",
        "text=input('Enter a space sperated string:- ')\n",
        "\n",
        "occurence_counter(text)"
      ],
      "metadata": {
        "colab": {
          "base_uri": "https://localhost:8080/"
        },
        "id": "hlCNV0mFnZVc",
        "outputId": "decd84a3-e257-4261-b7c5-97a9a2c6712b"
      },
      "execution_count": null,
      "outputs": [
        {
          "output_type": "stream",
          "name": "stdout",
          "text": [
            "Enter a space sperated string:- \"go there come and go here and there go care\"\n",
            "[('\"go', 1), ('and', 2), ('care\"', 1), ('come', 1), ('go', 2), ('here', 1), ('there', 2)]\n"
          ]
        }
      ]
    },
    {
      "cell_type": "code",
      "source": [
        "#armeen maam questions"
      ],
      "metadata": {
        "id": "eyPTEWewonQk"
      },
      "execution_count": null,
      "outputs": []
    },
    {
      "cell_type": "code",
      "source": [
        "a='82 * 92 = 1022'.split(\" \")\n",
        "if a[1]=='*':\n",
        "  if int(a[0])*int(a[2])==int(a[4]):\n",
        "     b=True\n",
        "  else:\n",
        "    a=int(a[0])*int(a[2])\n",
        "    b=False\n",
        "\n",
        "elif a[1]=='+':\n",
        "  if int(a[0])+int(a[2])==int(a[4]):       \n",
        "      b=True\n",
        "  else:\n",
        "    a=int(a[0])+int(a[2])\n",
        "    b=False\n",
        "\n",
        "elif a[1]=='-':\n",
        "  if int(a[0])-int(a[2])==int(a[4]):       \n",
        "      b=True\n",
        "  else:\n",
        "    if a[0]>a[2]:\n",
        "       a=int(a[0])-int(a[2])\n",
        "       b=False\n",
        "    else:\n",
        "      a=int(a[2])-int(a[0])\n",
        "      b=False\n",
        "\n",
        "\n",
        "print({'operand 1':int(a[0]),'operand 2':int(a[2]),'operator':a[1],'is it correct':b})\n",
        "\n"
      ],
      "metadata": {
        "id": "rRNcc3Gmqwu9"
      },
      "execution_count": null,
      "outputs": []
    },
    {
      "cell_type": "markdown",
      "source": [
        "42. Write a function in Python that will take a string text as input from the user and returns a dictionary\n",
        "having the unique characters as the keys and the list of their both-way indexes (positive and negative\n",
        "index) as the values.\n"
      ],
      "metadata": {
        "id": "gKZa-PIivyRe"
      }
    },
    {
      "cell_type": "code",
      "source": [
        "#msi practise sheet fucntion\n",
        "\n",
        "def function_name(a):\n",
        "  d1={}\n",
        "  index=[]\n",
        "  done=[]\n",
        "\n",
        "  for i in a:\n",
        "    if i not in done:\n",
        "      for j in range(len(a)):\n",
        "        if i==a[j]:\n",
        "          index.append(j)\n",
        "          index.append(-1*len(a)+j)\n",
        "      d1[i]=index\n",
        "      index=[]\n",
        "      done.append(i)\n",
        "  print(d1)\n",
        "\n",
        "function_name(input())\n"
      ],
      "metadata": {
        "colab": {
          "base_uri": "https://localhost:8080/"
        },
        "id": "LTIUIiILY1MG",
        "outputId": "c6302857-6bd6-42f5-c808-fa98723f9a8d"
      },
      "execution_count": null,
      "outputs": [
        {
          "output_type": "stream",
          "name": "stdout",
          "text": [
            "pythonbook\n",
            "{'p': [0, -10], 'y': [1, -9], 't': [2, -8], 'h': [3, -7], 'o': [4, -6, 7, -3, 8, -2], 'n': [5, -5], 'b': [6, -4], 'k': [9, -1]}\n"
          ]
        }
      ]
    },
    {
      "cell_type": "code",
      "source": [
        "a='1#2#3#4'.split('#')\n",
        "b=[]\n",
        "\n",
        "for i in a:\n",
        "  b.append(int(i))\n",
        "print(b)\n",
        "\n",
        "flag=0\n",
        "d={}\n",
        "\n",
        "for i in range(len(b)):\n",
        "  if flag==0:\n",
        "    pro=1\n",
        "    for j in range(i+1):\n",
        "      pro*=b[j]\n",
        "    flag=1\n",
        "\n",
        "  else:\n",
        "    pro=0\n",
        "    for j in range(i+1):\n",
        "      pro+=b[j]\n",
        "\n",
        "    flag=0\n",
        "\n",
        "  d[i]=pro\n",
        "\n",
        "print(d)\n",
        "\n",
        "\n"
      ],
      "metadata": {
        "colab": {
          "base_uri": "https://localhost:8080/"
        },
        "id": "whUuJfcXdhh1",
        "outputId": "7f2ef3d8-617c-451b-90a9-cd51a885fbfb"
      },
      "execution_count": null,
      "outputs": [
        {
          "output_type": "stream",
          "name": "stdout",
          "text": [
            "[1, 2, 3, 4]\n",
            "{0: 1, 1: 3, 2: 6, 3: 10}\n"
          ]
        }
      ]
    },
    {
      "cell_type": "code",
      "source": [
        "a={'0':(3,4),'1':(2,3),'2':(1,2)}\n",
        "b=[]\n",
        "c=''\n",
        "\n",
        "for i in a.values():\n",
        "  b.append(i[1])\n",
        "b.sort()\n",
        "\n",
        "for i in b:\n",
        "  for j,k in a.items():\n",
        "    if k[1]==i:\n",
        "      c+=(j*(k[0]))\n",
        "\n",
        "print(c)      \n"
      ],
      "metadata": {
        "colab": {
          "base_uri": "https://localhost:8080/"
        },
        "id": "1wEXRq-feLDN",
        "outputId": "87719f91-b876-4ac7-8a47-e53cea922071"
      },
      "execution_count": null,
      "outputs": [
        {
          "output_type": "stream",
          "name": "stdout",
          "text": [
            "211000\n"
          ]
        }
      ]
    },
    {
      "cell_type": "code",
      "source": [
        "import math\n",
        "x=int(input())\n",
        "y=int(input())\n",
        "p={'a':(2,5),'b':(1,7),'c':(9,5),'d':(2,6)}\n",
        "z=[]\n",
        "\n",
        "for i,j in p.items():\n",
        "  su=math.sqrt((j[0])-x)**2+(j[1]-y)**2)\n",
        "  z.append(su)\n",
        "\n",
        "for i in range(len(z)):\n",
        "  if i==0:\n",
        "    mi=z[i]\n",
        "    index=i\n",
        "\n",
        "n=0\n",
        "for i in p.keys():\n",
        "  if n==index:\n",
        "    print(i)\n",
        "    break\n",
        "  n+=1\n",
        "\n",
        " "
      ],
      "metadata": {
        "id": "anyu-bmHg1Sm"
      },
      "execution_count": null,
      "outputs": []
    },
    {
      "cell_type": "markdown",
      "source": [
        "43. \n",
        "Assume, you have been given a Matrix in a list format. Write a Python function called\n",
        "print_matrix_list() that will take a list as an argument and print the Matrix in its proper square form.\n",
        "\n",
        "\n",
        "===================================================================\n",
        "\n",
        "Given Matrix1:\n",
        "\n",
        "matrix= [[1, 2, 3, 4], [4, 5, 6, 7], [7, 8, 9, 3], [9, 1, 2, 3]]\n",
        "\n",
        "Function Call1:\n",
        "\n",
        "print_matrix_list(matrix)\n",
        "\n",
        "Sample Output1:\n",
        "\n",
        "1 2 3 4\n",
        "\n",
        "4 5 6 7\n",
        "\n",
        "7 8 9 3\n",
        "\n",
        "9 1 2 3\n"
      ],
      "metadata": {
        "id": "NKHW9VSav9lX"
      }
    },
    {
      "cell_type": "code",
      "source": [
        "def print_matrix_list(matrix):\n",
        "  for i in matrix:\n",
        "    print(*i)\n",
        "\n",
        "print_matrix_list([[1, 2, 3, 4], [4, 5, 6, 7], [7, 8, 9, 3], [9, 1, 2, 3]])\n"
      ],
      "metadata": {
        "colab": {
          "base_uri": "https://localhost:8080/"
        },
        "id": "T_KrOD2XhvZt",
        "outputId": "71669b7e-79cd-420b-ae05-497c97a8dacc"
      },
      "execution_count": null,
      "outputs": [
        {
          "output_type": "stream",
          "name": "stdout",
          "text": [
            "1 2 3 4\n",
            "4 5 6 7\n",
            "7 8 9 3\n",
            "9 1 2 3\n"
          ]
        }
      ]
    },
    {
      "cell_type": "markdown",
      "source": [
        "44. Assume you have been given a dictionary named cast where the keys are the names of different series and the values are the list of tuples, where each tuple represents a pair of characters and the actors who played the characters. You need to write a code that will take the name of a character as input and print his/her information according to the output samples.\n",
        "\n",
        " \n",
        "cast = {'Friends': [('Joey', 'Matt'),\n",
        " ('Chandler', 'Matthew')],\n",
        "\n",
        "'BBT': [('Penny', 'Kaley'), ('Sheldon',\n",
        " 'Jim')],\n",
        "\n",
        "'Breaking Bad': [('Jesse', 'Aaron'), \n",
        "('Walter', 'Bryan')]}\n",
        "\n"
      ],
      "metadata": {
        "id": "Lyt3RFSYhTUV"
      }
    },
    {
      "cell_type": "code",
      "source": [
        "cast = {'Friends': [('Joey', 'Matt'), ('Chandler', 'Matthew')],\n",
        "'BBT': [('Penny', 'Kaley'), ('Sheldon', 'Jim')],\n",
        "'Breaking Bad': [('Jesse', 'Aaron'), ('Walter', 'Bryan')]}\n",
        "\n",
        "name=input('Enter a character name: ')\n",
        "\n",
        "for keys,values in cast.items():\n",
        "  if name==values[0][0]:\n",
        "    print(f'{name} was played by {values[0][1]} in {keys}')"
      ],
      "metadata": {
        "colab": {
          "base_uri": "https://localhost:8080/"
        },
        "id": "ZUetC3OVxneN",
        "outputId": "6fe8a09d-19fb-40e1-c2ae-3fbb03e78d16"
      },
      "execution_count": null,
      "outputs": [
        {
          "output_type": "stream",
          "name": "stdout",
          "text": [
            "Enter a character name: Jesse\n",
            "Jesse was played by Aaron in Breaking Bad\n"
          ]
        }
      ]
    },
    {
      "cell_type": "markdown",
      "source": [
        "Question 45: Assume, you have been given a dictionary where the keys present the name of the father and the value is a list of names of the sons of that person. For\n",
        "example A has 3 sons namely X, Y, and Z. Again X has three sons namely E,\n",
        "F, and G. So, A is the grandfather of E, F, and G.\n",
        " \n",
        "family = {\"A\" : [\"X\", \"Y\", \"Z\"], \"B\": \n",
        "[\"M\", \"N\"], \"W\" : [\"A\", \"B\"], \"X\" :\n",
        "\n",
        "[\"E\", \"F\", \"G\"]}\n",
        "\n",
        "You need to write a code which takes an input and prints the names of all\n",
        "his grandsons in the format shown in output samples. If he does not have\n",
        "any grandchildren just print “Get your sons married first! Wanna_be_grandpa!!”\n",
        "You can assume the input will always be a key from the dictionary. But we\n",
        "will check your code with a different dictionary. So do not write a code\n",
        "for this particular dictionary only. \n"
      ],
      "metadata": {
        "id": "8YxCxHvFhkc-"
      }
    },
    {
      "cell_type": "code",
      "source": [
        "id=input()\n",
        "lst=[]\n",
        "lst.append(id)\n",
        "while True:\n",
        "   if id!='STOP':\n",
        "     id=input()\n",
        "     lst.append(id)\n",
        "   else:\n",
        "     break  \n",
        "d1={}     \n",
        "\n",
        "lsd=['Spring','Summer','Fall']\n",
        "\n",
        "for i in lsd:\n",
        "   d1[i]=[]\n",
        "\n",
        "for i in lst:\n",
        "     if i[2]=='1':\n",
        "       d1['Spring'].append(i)\n",
        "\n",
        "     elif i[2]=='2':\n",
        "       d1['Fall'].append(i)\n",
        "\n",
        "     elif i[2]=='3':\n",
        "       d1['Spring'].append(i)\n",
        "\n",
        "print(d1)        \n"
      ],
      "metadata": {
        "colab": {
          "base_uri": "https://localhost:8080/"
        },
        "id": "L5rXYGNQndXt",
        "outputId": "b9a5ed22-5afa-4b4d-ec0d-e797adb1a31a"
      },
      "execution_count": null,
      "outputs": [
        {
          "output_type": "stream",
          "name": "stdout",
          "text": [
            "18101202\n",
            "20101457\n",
            "18204354\n",
            "20201999\n",
            "19303372\n",
            "22201858\n",
            "STOP\n",
            "{'Spring': [], 'Summer': [], 'Fall': []}\n",
            "['18101202', '20101457', '18204354', '20201999', '19303372', '22201858', 'STOP']\n",
            "{'Spring': ['18101202', '20101457', '19303372'], 'Summer': [], 'Fall': ['18204354', '20201999', '22201858']}\n"
          ]
        }
      ]
    },
    {
      "cell_type": "code",
      "source": [
        "#07\n",
        "square_matrix_dict = {1 : [1,2,3,4] , 2 : [4,5,6,7] , 3 : [7,8,9,3] , 4:[9,1,2,3] }\n",
        "def convert_to_list(square_matrix_dict):\n",
        "   lst=[]\n",
        "   for i in square_matrix_dict.values():\n",
        "     lst.append(i)\n",
        "   print(lst)  \n",
        "convert_to_list(square_matrix_dict)"
      ],
      "metadata": {
        "colab": {
          "base_uri": "https://localhost:8080/"
        },
        "id": "Y9HzA57Gy65W",
        "outputId": "18d85c92-cb11-42f7-c6de-26fb7e820241"
      },
      "execution_count": null,
      "outputs": [
        {
          "output_type": "stream",
          "name": "stdout",
          "text": [
            "[[1, 2, 3, 4], [4, 5, 6, 7], [7, 8, 9, 3], [9, 1, 2, 3]]\n"
          ]
        }
      ]
    },
    {
      "cell_type": "markdown",
      "source": [
        "46. Assume, you have been given a Square Matrix in a dictionary format. Now, write function called\n",
        "convert_to_diagonal() which converts the Square Matrix into a Diagonal Matrix. Then prints both the\n",
        "Square Matrix and Diagonal Matrix in list of list format and their original square format.\n",
        "\n",
        "[ For printing in square format MUST use the print_matrix_list() function.]\n",
        "\n",
        "Square Matrix: A square matrix is a matrix with the same number of rows and \n",
        "columns.\n",
        "\n",
        "Diagonal Matrix: Any given square matrix where all the elements are zero except for the elements that\n",
        "\n",
        "are present diagonally is called a diagonal matrix.\n",
        "\n",
        "\n",
        "===================================================================\n",
        "Hints:\n",
        "Step1: Inside the convert_to_diagonal(), call convert_to_list() for converting \n",
        "the dictionary into a list\n",
        "\n",
        "of lists.\n",
        "\n",
        "Step2: Store and print the returned Square- Non-diagonal matrix in a variable.\n",
        "\n",
        "Step3: Call the print_matrix_list() with the returned Square- Non-diagonal \n",
        "matrix for printing it in the\n",
        "\n",
        "original square format.\n",
        "\n",
        "Step4: Except for the cases, when row_number & column_no is equal, make all \n",
        "other elements 0. By\n",
        "\n",
        "doing this, you will get your Diagonal matrix.\n",
        "\n",
        "Step5: Call the print_matrix_list() with the Diagonal matrix made in step4 \n",
        "matrix for printing it in the\n",
        "\n",
        "original square format.\n",
        "\n",
        "===================================================================\n"
      ],
      "metadata": {
        "id": "een9-DvrCY9a"
      }
    },
    {
      "cell_type": "code",
      "source": [
        "# 46\n",
        "a={1 : [1,2,3,4] , 2 : [4,5,6,7] , 3 : [7,8,9,3] , 4:[9,1,2,3] }\n",
        "\n",
        "def convert_to_diagonal(matrix):\n",
        "  for keys,values in matrix.items():\n",
        "    print(*matrix[keys])\n",
        "  var=0\n",
        "  print()\n",
        "  print()\n",
        "  for i in matrix.values():\n",
        "    for j in range(len(i)):\n",
        "      if j!=var:\n",
        "        i[j]=0\n",
        "\n",
        "    var+=1\n",
        "  for keys,values in matrix.items():\n",
        "    print(*matrix[keys])      \n",
        "\n",
        "\n",
        "\n",
        "\n",
        "convert_to_diagonal({1 : [1,2,3,4] , 2 : [4,5,6,7] , 3 : [7,8,9,3] , 4:[9,1,2,3] })"
      ],
      "metadata": {
        "id": "_b2ruD6lzy91",
        "colab": {
          "base_uri": "https://localhost:8080/"
        },
        "outputId": "0b74ac01-331b-44be-f7b5-30fe14e629f0"
      },
      "execution_count": null,
      "outputs": [
        {
          "output_type": "stream",
          "name": "stdout",
          "text": [
            "1 2 3 4\n",
            "4 5 6 7\n",
            "7 8 9 3\n",
            "9 1 2 3\n",
            "\n",
            "\n",
            "1 0 0 0\n",
            "0 5 0 0\n",
            "0 0 9 0\n",
            "0 0 0 3\n"
          ]
        }
      ]
    },
    {
      "cell_type": "code",
      "source": [
        "#Question 01 (output dekle bujha jaai)\n",
        "def myfunc(word):\n",
        "  quote=word.split(',')\n",
        "  print(quote)\n",
        "  d1={}\n",
        "  for i in quote:\n",
        "    d1[i]=[]\n",
        "  \n",
        "    for j in i:\n",
        "      d1[i].append(j)\n",
        "  return d1    \n",
        "\n",
        "print(myfunc('After,all,this,time'))    "
      ],
      "metadata": {
        "colab": {
          "base_uri": "https://localhost:8080/"
        },
        "id": "8D1pHK7Ke_hg",
        "outputId": "811cfef4-21fd-44ed-bf52-581571f4d0a2"
      },
      "execution_count": null,
      "outputs": [
        {
          "output_type": "stream",
          "name": "stdout",
          "text": [
            "['After', 'all', 'this', 'time']\n",
            "{'After': ['A', 'f', 't', 'e', 'r'], 'all': ['a', 'l', 'l'], 'this': ['t', 'h', 'i', 's'], 'time': ['t', 'i', 'm', 'e']}\n"
          ]
        }
      ]
    },
    {
      "cell_type": "code",
      "source": [
        "#Question 01 (method 02)\n",
        "def myfunc(word):\n",
        "  quote=word.split(',')\n",
        "  d1={}\n",
        "  for i in quote:\n",
        "    d1[i]=[]\n",
        "  for i in quote:    \n",
        "    for j in i:\n",
        "      d1[i].append(j)\n",
        "  return d1    \n",
        "\n",
        "print(myfunc('After,all,this,time'))    "
      ],
      "metadata": {
        "colab": {
          "base_uri": "https://localhost:8080/"
        },
        "id": "khoIpAUV_HCg",
        "outputId": "f5014037-7a58-4566-829e-a8e64714cc7a"
      },
      "execution_count": null,
      "outputs": [
        {
          "output_type": "stream",
          "name": "stdout",
          "text": [
            "{'After': ['A', 'f', 't', 'e', 'r'], 'all': ['a', 'l', 'l'], 'this': ['t', 'h', 'i', 's'], 'time': ['t', 'i', 'm', 'e']}\n"
          ]
        }
      ]
    },
    {
      "cell_type": "code",
      "source": [
        "quote='After,all,this,time'.split(',')\n",
        "d1={}\n",
        "for i in quote:\n",
        "  d1[i]=[]\n",
        "for i in quote:  \n",
        "  for j in i:\n",
        "    d1[i].append(j)\n",
        "    \n",
        "print(d1)"
      ],
      "metadata": {
        "colab": {
          "base_uri": "https://localhost:8080/"
        },
        "id": "k0NVha15fAdB",
        "outputId": "70ebf816-c13a-4031-a218-e42aabbe5a43"
      },
      "execution_count": null,
      "outputs": [
        {
          "output_type": "stream",
          "name": "stdout",
          "text": [
            "{'After': ['A', 'f', 't', 'e', 'r'], 'all': ['a', 'l', 'l'], 'this': ['t', 'h', 'i', 's'], 'time': ['t', 'i', 'm', 'e']}\n"
          ]
        }
      ]
    },
    {
      "cell_type": "code",
      "source": [
        "#Question 02\n",
        "def myfunc(given):\n",
        "  d1={}\n",
        "\n",
        "  for keys,values in given.items():\n",
        "    if keys[0]==keys[-1]:\n",
        "      d1[keys[0]]=[values]\n",
        "      \n",
        "  return d1\n",
        "\n",
        "print(myfunc({'madam':512,'harry':550,'doll':427,'lol':327}))    "
      ],
      "metadata": {
        "id": "Lsh8qbKjhkT7",
        "colab": {
          "base_uri": "https://localhost:8080/"
        },
        "outputId": "c7bca34a-5df7-4e10-a7ef-91d2f1f7063a"
      },
      "execution_count": null,
      "outputs": [
        {
          "output_type": "stream",
          "name": "stdout",
          "text": [
            "{'m': [512], 'l': [327]}\n"
          ]
        }
      ]
    },
    {
      "cell_type": "code",
      "source": [
        "myList1= [1,7,5,7,8]\n",
        "var1 = 2\n",
        "var3 = myList1\n",
        "while (var1< 5):\n",
        "   var2 = 1\n",
        "   while (var2 <= var1): \n",
        "      print (myList1 [var2])\n",
        "      var3 [var2] = myList1 [var2] - var3 [var1] - 3\n",
        "      var2 = var2 + 1\n",
        "\n",
        "   var1 = var1 + 1\n",
        "\n",
        "print (len (var3) in myList1)"
      ],
      "metadata": {
        "colab": {
          "base_uri": "https://localhost:8080/"
        },
        "id": "FsCHkVd3__Zv",
        "outputId": "46f61dd6-ecc8-4fcc-c5c4-883c931f799b"
      },
      "execution_count": null,
      "outputs": [
        {
          "output_type": "stream",
          "name": "stdout",
          "text": [
            "7\n",
            "5\n",
            "-1\n",
            "-3\n",
            "7\n",
            "-11\n",
            "-13\n",
            "-3\n",
            "8\n",
            "False\n"
          ]
        }
      ]
    },
    {
      "cell_type": "markdown",
      "source": [
        "47. Septon Eustace wanted to account for the dragons that fought during the Targaryen Civil War \n",
        "called Dance of The Dragons. Surprisingly, technology thrives in the Seven Kingdoms and the\n",
        " old septon has been given the following dictionary -\n",
        "\n",
        "dragon_dict { \"Sunfyre\": (\"Aegon II\",), \"Vhagar\": (\"Visenya\", \"Baelon\", \"Laena\", = \"Aemond\"),\n",
        "\n",
        "\"Dreamfyre\":(\"Rhaena\", \"Helaena\"), \"Tessarion\": (\"Daeron\",), \"Syrax\": \n",
        "(\"Rhaenyra\",), \"Meleys\":\n",
        "\n",
        "(\"Rhaenys\",), \"Caraxes\": (\"Aemon\", \"Daemon\"), \"Vermax\": (\"Jacaerys\",), \"Arrax\": (\"Lucerys\",), \n",
        "\n",
        "\"Tyraxas\": (\"Joffrey\",), \"Moondancer\": (\"Baela\",), \"Sheepstealer\": (\"Nettles\",)\n",
        ", \"Seasmoke\": (\"Laenor\", \"Addam\") }\n",
        "\n",
        "The given dictionary has dragons as the keys and their riders (in the form of a\n",
        " tuple) as the value.\n",
        " Write a Python program that takes the given dictionary and prints a list of dragonriders who rode dragons \n",
        " that were ridden by multiple people. \n",
        " (Meaning the dragons had more than one rider).\n",
        "\n",
        "Output:\n",
        "Multiple Riders: ['Visenya', 'Baelon' 'Laena', 'Aemond', 'Rhaena', 'Helaena',\n",
        " Aemon' 'Daemon', 'Laenor', 'Addam']\n"
      ],
      "metadata": {
        "id": "64zmMrpFBQ4b"
      }
    },
    {
      "cell_type": "code",
      "source": [
        "dragon_dict={ \"Sunfyre\": (\"Aegon II\",), \"Vhagar\": (\"Visenya\", \"Baelon\", \"Laena\", \"Aemond\"),\n",
        "\"Dreamfyre\":(\"Rhaena\", \"Helaena\"), \"Tessarion\": (\"Daeron\",), \"Syrax\": (\"Rhaenyra\",), \"Meleys\": \n",
        "(\"Rhaenys\",), \"Caraxes\": (\"Aemon\", \"Daemon\"), \"Vermax\": (\"Jacaerys\",), \"Arrax\": (\"Lucerys\",), \n",
        "\"Tyraxas\": (\"Joffrey\",), \"Moondancer\": (\"Baela\",), \"Sheepstealer\": (\"Nettles\",), \"Seasmoke\": (\"Laenor\", \"Addam\") }\n",
        "\n",
        "lst=[]\n",
        "\n",
        "for i in dragon_dict.values():\n",
        "  if len(i)>1:\n",
        "    for j in i:\n",
        "      lst.append(j)\n",
        "\n",
        "print('Multiple Riders:',lst)      "
      ],
      "metadata": {
        "colab": {
          "base_uri": "https://localhost:8080/"
        },
        "id": "Cq4EwmwmL0U3",
        "outputId": "dc784c26-b10d-4ca8-cc9a-fdd488c524fc"
      },
      "execution_count": null,
      "outputs": [
        {
          "output_type": "stream",
          "name": "stdout",
          "text": [
            "Multiple Riders: ['Visenya', 'Baelon', 'Laena', 'Aemond', 'Rhaena', 'Helaena', 'Aemon', 'Daemon', 'Laenor', 'Addam']\n"
          ]
        }
      ]
    },
    {
      "cell_type": "code",
      "source": [
        "a_list=input()[1:-1].split(',')\n",
        "print(a_list)\n"
      ],
      "metadata": {
        "colab": {
          "base_uri": "https://localhost:8080/"
        },
        "id": "_bn8A1lyL5NT",
        "outputId": "12251736-af63-4497-9270-a78e0db6d207"
      },
      "execution_count": null,
      "outputs": [
        {
          "output_type": "stream",
          "name": "stdout",
          "text": [
            "'ahona,aboni,enan'\n",
            "['ahona', 'aboni', 'enan']\n"
          ]
        }
      ]
    },
    {
      "cell_type": "code",
      "source": [
        "java=[166, 16, 47, 75, 941] \n",
        "python=[98, 19, 56, 27, 80]\n",
        "lang=[java, python]\n",
        "\n",
        "none=None\n",
        "i=0\n",
        "while i < 10:\n",
        "   j=0\n",
        "   k=2**i\n",
        "\n",
        "   while j <k:\n",
        "       lang [j % 2] [j % 5] += k % 3\n",
        "       if i * j % 5 == 0:\n",
        "          none=lang[-1]\n",
        "       elif i * j % 6 == 0:\n",
        "         lang[j %2 ]==None\n",
        "       if j + 1 == k:\n",
        "         i += j\n",
        "        \n",
        "       else:\n",
        "        print(lang[j % 2] [j % 5])\n",
        "       j += 1\n",
        "   i += 1\n",
        "print (java in lang)\n",
        "print (python or java)"
      ],
      "metadata": {
        "colab": {
          "base_uri": "https://localhost:8080/"
        },
        "id": "H_MZ9I0cggYN",
        "outputId": "96725db2-60e5-4bc4-e048-b14a5db6d215"
      },
      "execution_count": null,
      "outputs": [
        {
          "output_type": "stream",
          "name": "stdout",
          "text": [
            "169\n",
            "171\n",
            "23\n",
            "49\n",
            "29\n",
            "943\n",
            "100\n",
            "18\n",
            "True\n",
            "[100, 23, 58, 29, 80]\n"
          ]
        }
      ]
    },
    {
      "cell_type": "code",
      "source": [
        "a_list=[[166, 16, 47, 75, 941], [98, 19, 56, 27, 80]]\n",
        "print(a_list[0][2])"
      ],
      "metadata": {
        "colab": {
          "base_uri": "https://localhost:8080/"
        },
        "id": "8swjjQSayeUr",
        "outputId": "c97a0d3c-b918-470e-e172-d1708ab801a5"
      },
      "execution_count": null,
      "outputs": [
        {
          "output_type": "stream",
          "name": "stdout",
          "text": [
            "47\n"
          ]
        }
      ]
    },
    {
      "cell_type": "markdown",
      "source": [
        "48. \n",
        "Write a function named ascii_summation that finds the total ascii values of all the words in a list,\n",
        "and returns a dictionary with the highest and lowest ascii_values as corresponding words as values. keys and their\n",
        "\n",
        "Function Call:\n",
        "\n",
        "print(ascii_summation([\"Disorder\", \"Anarchy\", \"Crime\", \"Lawless\"]))\n",
        "\n",
        "\"Chaos\",\n",
        "\n",
        "Output:\n",
        "\n",
        "{828: \"Disorder\", 494:\"Chaos\"}\n"
      ],
      "metadata": {
        "id": "ZKADblsED6qS"
      }
    },
    {
      "cell_type": "code",
      "source": [
        "def myfunc(a_list):\n",
        "    sum=0\n",
        "    lst=[]\n",
        "    for i in a_list:\n",
        "      for j in i:\n",
        "         sum+=ord(j)\n",
        "      lst.append(sum)   \n",
        "      sum=0\n",
        "\n",
        "    maximum=lst[0]\n",
        "    minimum=lst[0]\n",
        "    for i in lst:\n",
        "      if i>maximum:\n",
        "        maximum=i\n",
        "      if i<minimum:\n",
        "        minimum=i  \n",
        "\n",
        "    d1={}\n",
        "    for i in a_list:\n",
        "      for j in i:\n",
        "        sum+=ord(j)\n",
        "      if sum==maximum:\n",
        "        d1[sum]=i\n",
        "      if sum==minimum:\n",
        "        d1[sum]=i\n",
        "      sum=0      \n",
        "    return d1\n",
        "\n",
        "a_list=['Disorder','Chaos','Anarchy','Crime','Lawless']\n",
        "print(myfunc(a_list))\n"
      ],
      "metadata": {
        "colab": {
          "base_uri": "https://localhost:8080/"
        },
        "id": "IwJJpY1KKYfX",
        "outputId": "144bc37a-a4bf-4766-ecd5-4685bbc22740"
      },
      "execution_count": null,
      "outputs": [
        {
          "output_type": "stream",
          "name": "stdout",
          "text": [
            "{828: 'Disorder', 494: 'Chaos'}\n"
          ]
        }
      ]
    },
    {
      "cell_type": "markdown",
      "source": [
        "49. Write a python function that takes a string as an argument and searches all the vowels having at least\n",
        "two occurrences in that string. Then, prepare and RETURN a dictionary where the keys will be the vowels\n",
        "occuring at least two times and values will be the list of the positions of those characters in the string.\n",
        "(You are not allowed to use builtin .count() function here)\n",
        "\n",
        "Function Call:\n",
        "\n",
        "print(function_name(\"hello hi how are you\"))\n",
        "\n",
        "Output:\n",
        "\n",
        "{'e': [1,15], 'o': [4,10,18]}\n"
      ],
      "metadata": {
        "id": "iIkwbmZnEWAv"
      }
    },
    {
      "cell_type": "code",
      "source": [
        "string='hello hi how are you'\n",
        "\n",
        "d1={}\n",
        "lst=[]\n",
        "new=''\n",
        "vowels='aeiou'\n",
        "for i in range(len(string)):\n",
        "  if string[i] in vowels:\n",
        "    new+=string[i]\n",
        "for i in new:\n",
        "  if i in vowel:\n",
        "    count\n",
        "\n",
        "\n",
        "print(new)    "
      ],
      "metadata": {
        "colab": {
          "base_uri": "https://localhost:8080/"
        },
        "id": "F9hgr_s7NfM3",
        "outputId": "9baba0fe-6d19-4f8f-e498-58bf27ca0f27"
      },
      "execution_count": null,
      "outputs": [
        {
          "output_type": "stream",
          "name": "stdout",
          "text": [
            "eoioaeou\n"
          ]
        }
      ]
    },
    {
      "cell_type": "code",
      "source": [
        "#cute problem\n",
        "def myfunc(string):\n",
        "  \n",
        "\n",
        "   d1={}\n",
        "   d2={}\n",
        "   vowel='aeiou'\n",
        "   for i in range(len(string)):\n",
        "     if string[i] in vowel:\n",
        "       if string[i] not in d1:\n",
        "         d1[string[i]]=[i]\n",
        "       else:\n",
        "         d1[string[i]].append(i)  \n",
        "\n",
        "   for keys,values in d1.items():\n",
        "     if len(d1[keys])>1:\n",
        "       d2[keys]=values\n",
        "\n",
        "   return d2    \n",
        "string='hello hi how are you'\n",
        "print(myfunc(string))    "
      ],
      "metadata": {
        "colab": {
          "base_uri": "https://localhost:8080/"
        },
        "id": "atrC8A4CPBj-",
        "outputId": "490fae7d-ed3c-4ea9-efc5-f07c3bf28614"
      },
      "execution_count": null,
      "outputs": [
        {
          "output_type": "stream",
          "name": "stdout",
          "text": [
            "{'e': [1, 15], 'o': [4, 10, 18]}\n"
          ]
        }
      ]
    },
    {
      "cell_type": "markdown",
      "source": [
        "51. print the values of the dictionary if first letter and last letter of the word matches inside a tuple"
      ],
      "metadata": {
        "id": "hthGzAYUE05y"
      }
    },
    {
      "cell_type": "code",
      "source": [
        "def makeTuple(d1):\n",
        "   \n",
        "   lst=[]\n",
        "   for keys,values in d1.items():\n",
        "     if keys[0]!=keys[-1]:\n",
        "        lst.append(values)\n",
        " \n",
        "\n",
        "   return tuple(lst)\n",
        "\n",
        "d1={'bat':311,'madam':512,'hurrah':650,'race car':753,'car':310}\n",
        "print(makeTuple(d1))"
      ],
      "metadata": {
        "colab": {
          "base_uri": "https://localhost:8080/"
        },
        "id": "h6hQtON5UyQC",
        "outputId": "f3d31880-36ec-4203-a3a4-e79183364d5b"
      },
      "execution_count": null,
      "outputs": [
        {
          "output_type": "stream",
          "name": "stdout",
          "text": [
            "(311, 310)\n"
          ]
        }
      ]
    },
    {
      "cell_type": "markdown",
      "source": [
        "52. ummmhu find average of the values and put the keys and average inside a tuple in a list"
      ],
      "metadata": {
        "id": "afrIb7rbE9bH"
      }
    },
    {
      "cell_type": "code",
      "source": [
        "#cuteeeeeeee\n",
        "d1={'17101318': [6,3,15,15], '17101265': [5.5,1,7,12], '17101290':[8,5,12.5,19],'17101103': [9,3,11,15],\n",
        "'17101122': [7.5,5,15,201], '17101153': [4,2,6,9.5]}\n",
        "\n",
        "sum=0\n",
        "average=0\n",
        "lsd=[]\n",
        "for keys,values in d1.items():\n",
        "  for j in values:\n",
        "     sum+=j\n",
        "  average=(sum/50)*100\n",
        "  lst.append(keys)\n",
        "  lst.append(average)\n",
        "  lsd.append(lst)\n",
        "  lst=[]\n",
        "  sum=0\n",
        "psg=[]\n",
        "for i in lsd:\n",
        "  psg.append(tuple(i))\n",
        "print(psg)\n"
      ],
      "metadata": {
        "colab": {
          "base_uri": "https://localhost:8080/"
        },
        "id": "fsoQor8tWcKq",
        "outputId": "eb5788b2-962e-46ec-b8e9-cf62e96fad1c"
      },
      "execution_count": null,
      "outputs": [
        {
          "output_type": "stream",
          "name": "stdout",
          "text": [
            "[('17101318', 78.0), ('17101265', 51.0), ('17101290', 89.0), ('17101103', 76.0), ('17101122', 457.0), ('17101153', 43.0)]\n"
          ]
        }
      ]
    },
    {
      "cell_type": "code",
      "source": [
        "print(f'This is \" my hobby')"
      ],
      "metadata": {
        "colab": {
          "base_uri": "https://localhost:8080/"
        },
        "id": "AhZw2nqDYXjR",
        "outputId": "60e5a4ad-c73e-40dc-e37c-cd2740f1b29d"
      },
      "execution_count": null,
      "outputs": [
        {
          "output_type": "stream",
          "name": "stdout",
          "text": [
            "This is \" my hobby\n"
          ]
        }
      ]
    },
    {
      "cell_type": "code",
      "source": [
        "def A(a,b):\n",
        "  dict1={}\n",
        "  for i in range(len(a)):\n",
        "    total=0\n",
        "    for k in b[i]:\n",
        "        total+=int(k)\n",
        "    dict1[a[i]]=total\n",
        "  return dict1\n",
        "\n",
        "student=input().split(' ')\n",
        "z=[]\n",
        "for i in range(len(student)):\n",
        "  x=input().split(\" \")\n",
        "  # print(x)\n",
        "  z.append(x)\n",
        "\n",
        "print(A(student,z))"
      ],
      "metadata": {
        "colab": {
          "base_uri": "https://localhost:8080/"
        },
        "id": "Gri-ius8YouJ",
        "outputId": "d12c069f-8869-4c0d-e3ac-444f59eda3a5"
      },
      "execution_count": null,
      "outputs": [
        {
          "output_type": "stream",
          "name": "stdout",
          "text": [
            "Jay Ray May\n",
            "10 50 40 20\n",
            "40 20 30 40\n",
            "10 20 30 40\n",
            "{'Jay': 120, 'Ray': 130, 'May': 100}\n"
          ]
        }
      ]
    },
    {
      "cell_type": "code",
      "source": [
        "print(-7//2)"
      ],
      "metadata": {
        "colab": {
          "base_uri": "https://localhost:8080/"
        },
        "id": "x2CGttUvvAc9",
        "outputId": "4028047c-5362-4599-8c37-2182ffd29a4f"
      },
      "execution_count": null,
      "outputs": [
        {
          "output_type": "stream",
          "name": "stdout",
          "text": [
            "-4\n"
          ]
        }
      ]
    },
    {
      "cell_type": "markdown",
      "source": [
        "53. Suppose you are given a dictionary where each key is a digit and the corresponding Values is a codeword for that digit. You are also given a list containing special characters. Take a string input from the user. It is guaranteed that the string contains lowercase characters, spaces, digits and underscore ().\n",
        " Now write a Python function that takes the dictionary, the list and the string as\n",
        "arguments. In your function create a string from the argument string where\n",
        "\n",
        "a. the digits will be its corresponding code (in the given dictionary) followed\n",
        " by a space.\n",
        "\n",
        "b. every vowel will be its next alphabet.\n",
        "\n",
        "c. every consonant will be its previous alphabet\n",
        "\n",
        "d every underscore will be a special character of index (ascii value of '_' * index \n",
        "of that '_')%length of the given list in the given list and\n",
        "\n",
        "e. The spaces are as it is.\n",
        "\n",
        "And return the string.\n",
        "\n",
        "[Your program should work for any given dictionary]\n",
        "\n",
        "Given Dictionary:\n",
        "\n",
        "codeword = {0: 'nada' 1: 'una', 2: 'bisso' 3 'terra', 4: 'karte', 5: 'panta',\n",
        " 6: 'soxi'.7: 'sette'\n",
        "\n",
        "8: 'okto', 9:'nove'}\n",
        "\n",
        " special= ['#','@','*','$']\n",
        "\n",
        "Example 1:\n",
        "\n",
        "Input:\n",
        "\n",
        "3r_d world cu_p won i_n 1970\n",
        "\n",
        "Function Call:\n",
        "\n",
        "print(NATO_alphabets(codeword, special, '3r_d world cu_p won i_n 1970'))\n",
        "\n",
        "Output:\n",
        "\n",
        "terra q*c vpqkc bv$o vpm j$m una nove settle nada \n",
        "\n",
        "Explanation:\n",
        "\n",
        "In the codeword dictionary., the string nada represents its key 0. una \n",
        "represents its key 1, sette represents its key 7 and so on and so forth. In the\n",
        " given input, the digits are 31, 9, 7, 0, the vowels are o,u,i. Therefore, in \n",
        "the resulting string the digits 3, 1, 9, 7, 0 will be una nove: 'sette 'nada \n",
        "(followed by a space) the vowel o, u, i will be their next alphabet p, v. \n",
        "consonants will be their previous alphabet (for example: d in 3r_d is replaced\n",
        " by its previous alphabet c in the resulting string). For the in 3r_d, index of\n",
        " is 2, ascii ofis 95 and length of the special list is 4. Therefore, calculated \n",
        "index = (95°2) %4 = 2 and the character in 2nd index of the special list is\".\n",
        " Therefore, in 3rd will be in the resulting string.\n",
        "\n",
        "For the in Ln, index of is 21, ascii of is 95 and length of the special list is\n",
        " 4. Therefore, calculated index = (95°21) %4 3 and the character in the 3rd\n",
        " index of the special list is $. Therefore, in In will be $ in the resulting\n",
        " string.\n"
      ],
      "metadata": {
        "id": "EmuAppXBwdqm"
      }
    },
    {
      "cell_type": "code",
      "source": [
        "#vyrevy\n",
        "def A(x,y,z):\n",
        "    a=''\n",
        "\n",
        "    for i in range(len(z)):\n",
        "      if ord('0')<=ord(z[i])<=ord('9'):\n",
        "        a+=x[int(z[i])]+' '\n",
        "      elif z[i] in 'AEIOUaeiou':\n",
        "        if z[i]=='z':\n",
        "          a+='a'\n",
        "        elif z[i]=='Z':\n",
        "          a+='A'\n",
        "        else:\n",
        "          a+=chr(ord(z[i])+1)\n",
        "      elif z[i]==\" \":\n",
        "        a+=' '\n",
        "      elif z[i]==\"_\":\n",
        "        a+=y[(ord('_')*i)%len(y)]\n",
        "      else: #consonant\n",
        "        if z[i]=='a':\n",
        "          a+='z'\n",
        "        elif z[i]=='A':\n",
        "          a+='Z'\n",
        "        else:\n",
        "          a+=chr(ord(z[i])-1)\n",
        "    return a  \n",
        "\n",
        "codeword={0:'nada',1:'una',2:'bisso',3:'terra',4:'karte',5:'panta',6:'soxi',7:'settle',\n",
        "          8:'okto',9:'nove'}\n",
        "\n",
        "special=['#','@','*','$']\n",
        "\n",
        "user=input() #3r_d world cu_p won i_n 1970\n",
        "\n",
        "print(A(codeword,special,user))\n",
        "      "
      ],
      "metadata": {
        "colab": {
          "base_uri": "https://localhost:8080/"
        },
        "id": "VHUrTFNyjzLN",
        "outputId": "b17b7919-13ae-4128-c8c6-41beea5a0cc2"
      },
      "execution_count": null,
      "outputs": [
        {
          "output_type": "stream",
          "name": "stdout",
          "text": [
            "3r_d world cu_p won i_n 1970\n",
            "terra q*c vpqkc bv$o vpm j$m una nove settle nada \n"
          ]
        }
      ]
    },
    {
      "cell_type": "markdown",
      "source": [
        "54. Write a python program that asks the user for a range (a starting number(inclusive) and an ending number(exclusive)). Make a dictionary with all the numbers that DO NOT end with 1, 2, and 7 within that range. Here in the dictionary, all the digits except 1, 2& 7 are the keys, and numbers that do not end with 1, 2 & 7 are the values. Finally, print the dictionary.\n",
        "\n",
        "Sample Input 1:\n",
        "\n",
        "30\n",
        "\n",
        "50\n",
        "\n",
        "Sample Output 1:\n",
        "\n",
        "\n",
        "\n",
        "{0: [30, 40], 3: [33, 43], 4: [34, 44], 5: [35, 45], 6: [36, 46], 8: [38, 48],\n",
        " 9: [39, 49]}\n"
      ],
      "metadata": {
        "id": "asXNi1c5zodG"
      }
    },
    {
      "cell_type": "code",
      "source": [
        "####\n",
        "start=int(input())\n",
        "end=int(input())\n",
        "d1={}\n",
        "for i in range(start,end):\n",
        "   if str(i)[-1]!='1' and str(i)[-1]!='2' and str(i)[-1]!='7':\n",
        "     a=str(i)[-1]\n",
        "     if int(a) not in d1.keys():\n",
        "        d1[int(a)]=[]\n",
        "\n",
        "for i in range(start,end):\n",
        "  if str(i)[-1]!='1' and str(i)[-1]!='2' and str(i)[-1]!='7':\n",
        "    a=str(i)[-1]\n",
        "    if int(a) in d1.keys():\n",
        "      d1[int(a)].append(i)\n",
        "\n",
        "\n",
        "\n",
        "print(d1)     "
      ],
      "metadata": {
        "colab": {
          "base_uri": "https://localhost:8080/"
        },
        "id": "a5hmetuwob7G",
        "outputId": "1bb9d40d-c716-47f7-f4ed-312446c269b5"
      },
      "execution_count": null,
      "outputs": [
        {
          "output_type": "stream",
          "name": "stdout",
          "text": [
            "30\n",
            "50\n",
            "{0: [30, 40], 3: [33, 43], 4: [34, 44], 5: [35, 45], 6: [36, 46], 8: [38, 48], 9: [39, 49]}\n"
          ]
        }
      ]
    },
    {
      "cell_type": "code",
      "source": [],
      "metadata": {
        "id": "zs2LlQex1OFs"
      },
      "execution_count": null,
      "outputs": []
    },
    {
      "cell_type": "code",
      "source": [
        "#PASSWORD GENERATION\n",
        "\n",
        "\n",
        "'''\n",
        "amicse110pro\n",
        "bnjdtg331gqsp\n",
        "'''\n",
        "\n",
        "def encrypt_pass(password):\n",
        "  d={}\n",
        "  \n",
        "  for i in password:\n",
        "    if i in d:\n",
        "      d[i]+=1\n",
        "    else:\n",
        "      d[i]=1\n",
        "\n",
        "  encrypt=''\n",
        "  for i in password:\n",
        "    val=ord(i)+d[i]\n",
        "\n",
        "    if val>122:\n",
        "      val-=26\n",
        "      encrypt+=chr(val)\n",
        "#print(encrypt)\n",
        "  return encrypt,d\n",
        "\n",
        "password=input('sss ')\n",
        "encrypted_pass,d=encrypt_pass(password)\n",
        "print(encrypted_pass)\n",
        "print(d)"
      ],
      "metadata": {
        "colab": {
          "base_uri": "https://localhost:8080/"
        },
        "id": "g5xddvlbLtxT",
        "outputId": "21bd02c2-0e78-4395-95cb-ac980a7b2726"
      },
      "execution_count": null,
      "outputs": [
        {
          "output_type": "stream",
          "name": "stdout",
          "text": [
            "sss aaaaaa\n",
            "\n",
            "{'a': 6}\n"
          ]
        }
      ]
    },
    {
      "cell_type": "code",
      "source": [
        "#anagram problem\n",
        "a=input(\"Enter string 1:\")\n",
        "\n",
        "b=input(\"Enter string 2:\")\n",
        "\n",
        "count=0\n",
        "\n",
        "for i in a:\n",
        "\n",
        "    for j in b:\n",
        "\n",
        "        if i==j:\n",
        "\n",
        "            count=count+1\n",
        "\n",
        "if count==len(a):\n",
        "\n",
        "    print(\"Strings are anagram of each other.\")\n",
        "\n",
        "else:\n",
        "   print(\"Strings are not anagram of each other.\")\n"
      ],
      "metadata": {
        "id": "2jeMiRcwMeYc"
      },
      "execution_count": null,
      "outputs": []
    }
  ]
}