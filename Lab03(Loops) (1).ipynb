{
  "nbformat": 4,
  "nbformat_minor": 0,
  "metadata": {
    "colab": {
      "provenance": []
    },
    "kernelspec": {
      "name": "python3",
      "display_name": "Python 3"
    },
    "language_info": {
      "name": "python"
    }
  },
  "cells": [
    {
      "cell_type": "markdown",
      "source": [
        "1. Write the python programs, which prints the following sequences of values in loops:\n"
      ],
      "metadata": {
        "id": "-9wpvy7HY9Xo"
      }
    },
    {
      "cell_type": "code",
      "source": [
        "#Task:1(a) a) 24, 18, 12, 6, 0, -6\n",
        "#Solution: 1(a)\n",
        "for counter in range(24,-7,-6):   #-6-1=-7....-5 dile kintu hobena\n",
        "  if counter==-6: \n",
        "    print(counter,end=\"\")\n",
        "  else:\n",
        "    print(counter,end=\",\")  \n",
        "      "
      ],
      "metadata": {
        "colab": {
          "base_uri": "https://localhost:8080/"
        },
        "id": "g_uqZ9psZM14",
        "outputId": "ce8de3dd-0411-4c7f-fbe5-229752315178"
      },
      "execution_count": null,
      "outputs": [
        {
          "output_type": "stream",
          "name": "stdout",
          "text": [
            "24,18,12,6,0,-6"
          ]
        }
      ]
    },
    {
      "cell_type": "code",
      "source": [
        "#New Method\n",
        "#Solution: 1(a)\n",
        "counter=24\n",
        "my_list=[]\n",
        "while counter>=-6:\n",
        "     if counter==-6:\n",
        "       my_list.append(counter)\n",
        "     else:\n",
        "       my_list.append(counter)\n",
        "     counter-=6\n",
        "print(*my_list,sep=\",\")           "
      ],
      "metadata": {
        "colab": {
          "base_uri": "https://localhost:8080/"
        },
        "id": "X1DGut5QQJlu",
        "outputId": "c8fbda19-f3e1-450c-94e0-7cc56471668e"
      },
      "execution_count": null,
      "outputs": [
        {
          "output_type": "stream",
          "name": "stdout",
          "text": [
            "24,18,12,6,0,-6\n"
          ]
        }
      ]
    },
    {
      "cell_type": "code",
      "source": [
        "#Solution: 1(a)\n",
        "counter=24\n",
        "\n",
        "while counter>=-6:\n",
        "  if counter==-6:\n",
        "    print(counter,end=\"\")\n",
        "  else:\n",
        "    print(counter,end=\",\")  \n",
        "  counter-=6  "
      ],
      "metadata": {
        "colab": {
          "base_uri": "https://localhost:8080/"
        },
        "id": "ENLfWlNkM1Of",
        "outputId": "67691332-7c3c-4f15-d3cb-95b9a5283d92"
      },
      "execution_count": null,
      "outputs": [
        {
          "output_type": "stream",
          "name": "stdout",
          "text": [
            "24,18,12,6,0,-6"
          ]
        }
      ]
    },
    {
      "cell_type": "code",
      "source": [
        "#Task:1(b)  b) -10, -5, 0, 5, 10, 15, 20\n",
        "#Solution:1(b) \n",
        "counter=0\n",
        "for counter in range(-10,21,5):\n",
        "  if counter==20:\n",
        "    print(counter,end=\"\")\n",
        "  else:\n",
        "    print(counter,end=\",\")\n"
      ],
      "metadata": {
        "colab": {
          "base_uri": "https://localhost:8080/"
        },
        "id": "IUoyye58ZK5J",
        "outputId": "af24b7e5-823b-4610-cd12-d0147b54f7ea"
      },
      "execution_count": null,
      "outputs": [
        {
          "output_type": "stream",
          "name": "stdout",
          "text": [
            "-10,-5,0,5,10,15,20"
          ]
        }
      ]
    },
    {
      "cell_type": "code",
      "source": [
        "#Task:1(c) 18, 27, 36, 45, 54, 63\n",
        "#Solution:1(c)\n",
        "counter=0\n",
        "for counter in range(18,64,9):\n",
        "  if counter==63:\n",
        "    print(counter,end=\"\")\n",
        "  else:\n",
        "    print(counter,end=\",\")"
      ],
      "metadata": {
        "colab": {
          "base_uri": "https://localhost:8080/"
        },
        "id": "sqARteKdZ-v4",
        "outputId": "25a08636-06b3-4cae-8153-9037840dbf7c"
      },
      "execution_count": null,
      "outputs": [
        {
          "output_type": "stream",
          "name": "stdout",
          "text": [
            "18,27,36,45,54,63"
          ]
        }
      ]
    },
    {
      "cell_type": "code",
      "source": [
        "#Method:02 \n",
        "#Solution:1(c)\n",
        "counter=9\n",
        "for i in range(2,8):\n",
        "  if i==7:\n",
        "    print(counter*i,end=\"\")\n",
        "  else:  \n",
        "    print(counter*i,end=\",\")"
      ],
      "metadata": {
        "id": "TiLI2b6RP6hl",
        "colab": {
          "base_uri": "https://localhost:8080/"
        },
        "outputId": "f675fb2d-6592-48a8-fd3d-23037cc48bb7"
      },
      "execution_count": 1,
      "outputs": [
        {
          "output_type": "stream",
          "name": "stdout",
          "text": [
            "18,27,36,45,54,63"
          ]
        }
      ]
    },
    {
      "cell_type": "code",
      "source": [
        "#Method:02\n",
        "#Solution:1(d)\n",
        "counter=9\n",
        "for i in range(2,8):\n",
        "  if i==7:\n",
        "    print(counter*i,end=\"\")\n",
        "  elif i%2==0:\n",
        "    print(counter*-i,end=\",\")\n",
        "  else:\n",
        "    print(counter*i,end=\",\")  "
      ],
      "metadata": {
        "colab": {
          "base_uri": "https://localhost:8080/"
        },
        "id": "8iDoCeiwQ7HN",
        "outputId": "35599a65-71d5-4a9b-b5fa-6fa3f0a34312"
      },
      "execution_count": null,
      "outputs": [
        {
          "output_type": "stream",
          "name": "stdout",
          "text": [
            "-18,27,-36,45,-54,63"
          ]
        }
      ]
    },
    {
      "cell_type": "code",
      "source": [
        "#Method:03\n",
        "#Solution:1(d)\n",
        "for i in range(18,64,9):\n",
        "  if i==63:\n",
        "    print(i,end=\"\")\n",
        "  elif i%2==0:\n",
        "    print(-i,end=\",\")\n",
        "  else:\n",
        "    print(i,end=\",\")"
      ],
      "metadata": {
        "colab": {
          "base_uri": "https://localhost:8080/"
        },
        "id": "R8KTYII-Rz6V",
        "outputId": "84dcd69f-a2a6-4a44-d44b-0fdba947de51"
      },
      "execution_count": null,
      "outputs": [
        {
          "output_type": "stream",
          "name": "stdout",
          "text": [
            "-18,27,-36,45,-54,63"
          ]
        }
      ]
    },
    {
      "cell_type": "code",
      "source": [
        "#Method:04\n",
        "#Solution:1(d)\n",
        "counter=18\n",
        "my_list=[]\n",
        "while counter<=63:\n",
        "  if counter%2==0:\n",
        "    counter2=counter*-1\n",
        "    my_list.append(counter2)\n",
        "  else:\n",
        "    my_list.append(counter)\n",
        "  counter+=9\n",
        "print(*my_list,sep=\",\")     "
      ],
      "metadata": {
        "colab": {
          "base_uri": "https://localhost:8080/"
        },
        "id": "oWZS9zX_SzO8",
        "outputId": "72fc91a4-0d01-4e92-fb77-ce06c1dd188d"
      },
      "execution_count": null,
      "outputs": [
        {
          "output_type": "stream",
          "name": "stdout",
          "text": [
            "-18,27,-36,45,-54,63\n"
          ]
        }
      ]
    },
    {
      "cell_type": "markdown",
      "source": [
        "Task#02 : Write a Python code for the following:\n",
        "\n",
        "2) Ask the user to enter the name of his favorite car. 2) Ask the user to enter a Number\n",
        "\n",
        "Display the name of the user’s favorite car, the number of times specified in the second step."
      ],
      "metadata": {
        "id": "SM_LbpXka4CQ"
      }
    },
    {
      "cell_type": "code",
      "source": [
        "#Solution:2\n",
        "car_name = input(\"Sir, please enter the name of your favourite car:\")\n",
        "number = int(input(\"How many times would you like to print?\"))\n",
        "for i in range( 1,number+1):\n",
        "  print(car_name)"
      ],
      "metadata": {
        "id": "rbtk7DSCa8Co",
        "colab": {
          "base_uri": "https://localhost:8080/"
        },
        "outputId": "c4a88e83-09a3-47ee-9964-f613ce2c10a3"
      },
      "execution_count": null,
      "outputs": [
        {
          "output_type": "stream",
          "name": "stdout",
          "text": [
            "Sir, please enter the name of your favourite car:ll\n",
            "How many times would you like to print?5\n",
            "llllllllll\t"
          ]
        }
      ]
    },
    {
      "cell_type": "markdown",
      "source": [
        "TasK#03: Write the Python code of a program that adds all numbers that are multiples of both 7 and 9 up to 600 (including 600) i.e. 63, 126, 189, 252"
      ],
      "metadata": {
        "id": "pCs4Zu3jbVxC"
      }
    },
    {
      "cell_type": "code",
      "source": [
        "#Solution:03\n",
        "counter = 0\n",
        "result = 0\n",
        "\n",
        "for counter in range(601):\n",
        "    if counter % 7 == 0 and counter % 9 == 0:\n",
        "        result+= counter\n",
        "    counter += 1\n",
        "\n",
        "print(result)"
      ],
      "metadata": {
        "colab": {
          "base_uri": "https://localhost:8080/"
        },
        "id": "va4tZ278bbPB",
        "outputId": "c4985094-6518-412d-bae5-49e9027bb355"
      },
      "execution_count": null,
      "outputs": [
        {
          "output_type": "stream",
          "name": "stdout",
          "text": [
            "2835\n"
          ]
        }
      ]
    },
    {
      "cell_type": "code",
      "source": [
        "#Solution:03 (Method:02)\n",
        "counter=0\n",
        "sum=0\n",
        "while counter<=600:\n",
        "     if counter%7==0 and counter%9==0:\n",
        "       sum+=counter\n",
        "     counter+=1\n",
        "print(sum)       "
      ],
      "metadata": {
        "colab": {
          "base_uri": "https://localhost:8080/"
        },
        "id": "4_4rHmfsXedE",
        "outputId": "706a0f09-5e3d-4213-d8a5-fac81b6b0f09"
      },
      "execution_count": null,
      "outputs": [
        {
          "output_type": "stream",
          "name": "stdout",
          "text": [
            "2835\n"
          ]
        }
      ]
    },
    {
      "cell_type": "markdown",
      "source": [
        "Extra ! Write the Python code of a program that adds all numbers that are multiples of either 7 or 9 up to 600 (including 600) i.e. 7, 9, 14, 18, 21, 27, 28, 35, 36..... \\ Ensure that numbers like 63, 126, 189 which are multiples of both 7 and 9 are added only once in the sum."
      ],
      "metadata": {
        "id": "TmezSV9dbsuZ"
      }
    },
    {
      "cell_type": "code",
      "source": [
        "#Solution:Extra (Method:01)\n",
        "counter = 0\n",
        "result = 0\n",
        "for counter in range(601):\n",
        "    if counter % 7 == 0 or counter % 9 == 0:\n",
        "        result+=counter\n",
        "    counter += 1\n",
        "\n",
        "print(result)"
      ],
      "metadata": {
        "colab": {
          "base_uri": "https://localhost:8080/"
        },
        "id": "KSLqnNaBbwLI",
        "outputId": "224f7134-cc3c-4a9e-a87e-8188bc137791"
      },
      "execution_count": null,
      "outputs": [
        {
          "output_type": "stream",
          "name": "stdout",
          "text": [
            "42649\n"
          ]
        }
      ]
    },
    {
      "cell_type": "markdown",
      "source": [
        "Task:04.Write a Python code of a program that adds all numbers that are multiples of either 7 or 9 but not both, up to 600 (including 600) i.e. 7, 9, 14, 18, 21..... and so on but not the numbers 63, 126, 189..... which are multiples of both 7 and 9.\n",
        "\n",
        "The output of your program should be: 39814"
      ],
      "metadata": {
        "id": "PMiFzG4wb__B"
      }
    },
    {
      "cell_type": "code",
      "source": [
        "#Solution:04 (Method:01)\n",
        "\n",
        "counter = 0\n",
        "result = 0\n",
        "for counter in range(601):\n",
        "    if counter % 7 == 0 or counter % 9 == 0:\n",
        "        if counter % 7 == 0 and counter % 9 == 0:\n",
        "            counter += 1\n",
        "            pass\n",
        "        else:\n",
        "            result = result + counter\n",
        "    counter += 1\n",
        " \n",
        "print(result)"
      ],
      "metadata": {
        "colab": {
          "base_uri": "https://localhost:8080/"
        },
        "id": "WSmT-Lm9cDq4",
        "outputId": "a2f2407a-2d27-4e0d-e962-992cde231c40"
      },
      "execution_count": null,
      "outputs": [
        {
          "output_type": "stream",
          "name": "stdout",
          "text": [
            "39814\n"
          ]
        }
      ]
    },
    {
      "cell_type": "markdown",
      "source": [
        "Task#05. write the Python code of a program that displays all the odd numbers between 10 and 50 (inclusive)."
      ],
      "metadata": {
        "id": "oOUj6M_B1cdJ"
      }
    },
    {
      "cell_type": "code",
      "source": [
        "#Solution:05 (Method:01)\n",
        "for i in range(10,51):\n",
        "  if i==49:\n",
        "    print(i,end=\"\")\n",
        "  elif i%2!=0:\n",
        "    print(i,end=\" \")\n",
        "  else:\n",
        "    pass  "
      ],
      "metadata": {
        "colab": {
          "base_uri": "https://localhost:8080/"
        },
        "id": "LKmjeGk8am8Z",
        "outputId": "14b431d9-23f2-439d-86f2-76d3ba23f4d2"
      },
      "execution_count": null,
      "outputs": [
        {
          "output_type": "stream",
          "name": "stdout",
          "text": [
            "11 13 15 17 19 21 23 25 27 29 31 33 35 37 39 41 43 45 47 49"
          ]
        }
      ]
    },
    {
      "cell_type": "code",
      "source": [
        "#Solution:05 (Method:02)\n",
        "counter=0\n",
        "my_list=[]\n",
        "for counter in range(10,49):\n",
        "  if i%2!=0:\n",
        "    my_list.append(counter)\n",
        "  else:\n",
        "    pass\n",
        "print(*my_list,sep=\",\")      "
      ],
      "metadata": {
        "colab": {
          "base_uri": "https://localhost:8080/"
        },
        "id": "1B-pKIwcbLya",
        "outputId": "d996a580-f04f-4709-d447-834857430899"
      },
      "execution_count": 2,
      "outputs": [
        {
          "output_type": "stream",
          "name": "stdout",
          "text": [
            "10,11,12,13,14,15,16,17,18,19,20,21,22,23,24,25,26,27,28,29,30,31,32,33,34,35,36,37,38,39,40,41,42,43,44,45,46,47,48\n"
          ]
        }
      ]
    },
    {
      "cell_type": "code",
      "execution_count": null,
      "metadata": {
        "id": "UOrMMMGT0V1u",
        "colab": {
          "base_uri": "https://localhost:8080/"
        },
        "outputId": "53adbdbe-ef52-423e-f45a-00f223f58a6f"
      },
      "outputs": [
        {
          "output_type": "stream",
          "name": "stdout",
          "text": [
            "11 13 15 17 19 21 23 25 27 29 31 33 35 37 39 41 43 45 47 49\n"
          ]
        }
      ],
      "source": [
        "#Solution:05 (Method:03)\n",
        "counter = 10\n",
        "list_output = []\n",
        "\n",
        "while counter <= 50:\n",
        "    if counter % 2 == 0:\n",
        "        counter += 1\n",
        "        continue\n",
        "    else:\n",
        "        list_output.append(counter)\n",
        "    counter += 1\n",
        "\n",
        "print(*list_output, sep=\" \")"
      ]
    },
    {
      "cell_type": "code",
      "source": [
        "#Solution:05 (Method:04)\n",
        "my_list=[]\n",
        "for counter in range(10,51):\n",
        "  if counter%2!=0:\n",
        "    my_list.append(counter)\n",
        "    counter+=1\n",
        "  else:\n",
        "    counter+=1\n",
        "print(*my_list)      "
      ],
      "metadata": {
        "colab": {
          "base_uri": "https://localhost:8080/"
        },
        "id": "kSPEgfbccYPp",
        "outputId": "bba9b19e-18a3-4ebd-a65c-403e801e497e"
      },
      "execution_count": null,
      "outputs": [
        {
          "output_type": "stream",
          "name": "stdout",
          "text": [
            "11 13 15 17 19 21 23 25 27 29 31 33 35 37 39 41 43 45 47 49\n"
          ]
        }
      ]
    },
    {
      "cell_type": "code",
      "source": [
        "#Solution:05 (Method:05)\n",
        "counter=10\n",
        "my_list=[]\n",
        "while counter<=50:\n",
        "    if counter%2!=0:\n",
        "       my_list.append(counter)\n",
        "       counter+=1\n",
        "    else:\n",
        "        counter+=1\n",
        "print(*my_list)        "
      ],
      "metadata": {
        "colab": {
          "base_uri": "https://localhost:8080/"
        },
        "id": "WTQ19KTDGpPS",
        "outputId": "d5e040c6-f4ae-4e99-92e9-bd5bff57a2dc"
      },
      "execution_count": 3,
      "outputs": [
        {
          "output_type": "stream",
          "name": "stdout",
          "text": [
            "11 13 15 17 19 21 23 25 27 29 31 33 35 37 39 41 43 45 47 49\n"
          ]
        }
      ]
    },
    {
      "cell_type": "markdown",
      "source": [
        "Task:06. Write a Python code that will calculate the value of y if the expression of y is as follows (n is the input):\n",
        "y=1^2−2^2+3^2−4^2+5^2.........+n^2\n",
        "\n",
        "\n"
      ],
      "metadata": {
        "id": "S5VezFkgIoUT"
      }
    },
    {
      "cell_type": "code",
      "source": [
        "#Solution:06 (Method:01)\n",
        "n=int(input())\n",
        "y=0\n",
        "for i in range(n+1):\n",
        "  if i%2!=0:\n",
        "    y+=pow(i,2)\n",
        "  else:\n",
        "    y-=pow(i,2)  \n",
        "print(y)"
      ],
      "metadata": {
        "colab": {
          "base_uri": "https://localhost:8080/"
        },
        "id": "Z8vKqcD6eo7s",
        "outputId": "da8aeb46-3781-40e9-a8c4-9473d2a13c29"
      },
      "execution_count": null,
      "outputs": [
        {
          "output_type": "stream",
          "name": "stdout",
          "text": [
            "5\n",
            "15\n"
          ]
        }
      ]
    },
    {
      "cell_type": "code",
      "source": [
        "#Solution:06 (Method:02)\n",
        "n=int(input())\n",
        "y=0\n",
        "i=1\n",
        "while i<=n:\n",
        "  if i%2!=0:\n",
        "    y+=i**2\n",
        "  else:\n",
        "    y-=i**2\n",
        "  i+=1\n",
        "print(y)        "
      ],
      "metadata": {
        "colab": {
          "base_uri": "https://localhost:8080/"
        },
        "id": "uGjY2-aBfU7Y",
        "outputId": "13a81acb-2e51-4131-8d4d-4dc64d182b50"
      },
      "execution_count": null,
      "outputs": [
        {
          "output_type": "stream",
          "name": "stdout",
          "text": [
            "5\n",
            "15\n"
          ]
        }
      ]
    },
    {
      "cell_type": "code",
      "source": [
        "#Solution:06 (Method:03)\n",
        "n=int(input())\n",
        "y=0\n",
        "for i in range(n+1):\n",
        "   if i%2==0:\n",
        "     y-=i**2\n",
        "   else:\n",
        "     y+=i**2  \n",
        "print(y)   \n",
        "\n"
      ],
      "metadata": {
        "colab": {
          "base_uri": "https://localhost:8080/"
        },
        "id": "WF2IL8uAIpWZ",
        "outputId": "de5f4d6b-9756-47c7-da5c-d1c9b93c7441"
      },
      "execution_count": null,
      "outputs": [
        {
          "output_type": "stream",
          "name": "stdout",
          "text": [
            "5\n",
            "15\n"
          ]
        }
      ]
    },
    {
      "cell_type": "markdown",
      "source": [
        "Task#07 . Write a Python code of a program that asks the user to enter ten numbers and then display the total and the average of ONLY the odd numbers among those ten numbers."
      ],
      "metadata": {
        "id": "QQOhsGLhdZU5"
      }
    },
    {
      "cell_type": "code",
      "source": [
        "#Solution:07 (Method:01)\n",
        "sum=0\n",
        "counter=0\n",
        "for i in range(0,10):\n",
        "  n=int(input())\n",
        "  if n%2!=0:\n",
        "     sum+=n\n",
        "     counter+=1 \n",
        "  else:\n",
        "    pass\n",
        "print(\"Total is\",sum)       \n",
        "print(\"average\",sum/counter)"
      ],
      "metadata": {
        "id": "Kemqn3kPhAFg"
      },
      "execution_count": null,
      "outputs": []
    },
    {
      "cell_type": "code",
      "source": [
        "#Solution:07 (Method:02)\n",
        "total = 0\n",
        "number = 0\n",
        "counter = 0\n",
        "\n",
        "for counter in  range(0,10):\n",
        "\n",
        "    if counter == 0:\n",
        "        user_input = int(input(f\"Sir, please input the {counter + 1}st number: \"))\n",
        "    elif counter == 1:\n",
        "        user_input = int(input(f\"Sir, please input the {counter + 1}nd number: \"))\n",
        "    elif counter == 2:\n",
        "        user_input = int(input(f\"Sir, please input the {counter + 1}rd number: \"))\n",
        "    else:\n",
        "        user_input = int(input(f\"Sir, please input the {counter + 1}th number: \"))\n",
        "\n",
        "    if user_input % 2 != 0:\n",
        "        total += user_input\n",
        "        number += 1\n",
        "\n",
        "    counter += 1\n",
        "\n",
        "print(f\"The total of the odd numbers is {total} and their average is {(total / number):.1f}\")"
      ],
      "metadata": {
        "colab": {
          "base_uri": "https://localhost:8080/"
        },
        "id": "XJ9eNKnFSSKc",
        "outputId": "71bc5468-2984-4c32-d836-d07f8e4440d3"
      },
      "execution_count": null,
      "outputs": [
        {
          "output_type": "stream",
          "name": "stdout",
          "text": [
            "Sir, please input the 1st number: 1\n",
            "Sir, please input the 2nd number: 2\n",
            "Sir, please input the 3rd number: 3\n",
            "Sir, please input the 4th number: 4\n",
            "Sir, please input the 5th number: 5\n",
            "Sir, please input the 6th number: 6\n",
            "Sir, please input the 7th number: 7\n",
            "Sir, please input the 8th number: 8\n",
            "Sir, please input the 9th number: 9\n",
            "Sir, please input the 10th number: 10\n",
            "The total of the odd numbers is 25 and their average is 5.0\n"
          ]
        }
      ]
    },
    {
      "cell_type": "markdown",
      "source": [
        "Task:08. Write a Python code for the following:\n",
        "\n",
        "Ask the user to enter a Number, N\n",
        "Display the summation of multiples of 7 up to that number (from 1 to N inclusive)"
      ],
      "metadata": {
        "id": "R6Ivn62vUTKk"
      }
    },
    {
      "cell_type": "code",
      "source": [
        "#Solution:08 (Method:01)\n",
        "N=int(input())\n",
        "sum=0\n",
        "for i in range(1,N+1):\n",
        "  if i%7==0:\n",
        "    sum+=i\n",
        "print(sum)  "
      ],
      "metadata": {
        "colab": {
          "base_uri": "https://localhost:8080/"
        },
        "id": "KYlVXc80jcri",
        "outputId": "ca0d9926-2f69-4fb5-8bae-8e9ffab3510d"
      },
      "execution_count": null,
      "outputs": [
        {
          "output_type": "stream",
          "name": "stdout",
          "text": [
            "50\n",
            "196\n"
          ]
        }
      ]
    },
    {
      "cell_type": "code",
      "source": [
        "#Solution:08 (Method:02)\n",
        "n=int(input())\n",
        "sum=0\n",
        "counter=0\n",
        "while counter<=n:\n",
        "  if counter%7==0:\n",
        "    sum+=counter\n",
        "  counter+=1  \n",
        "print(sum)    \n"
      ],
      "metadata": {
        "colab": {
          "base_uri": "https://localhost:8080/"
        },
        "id": "Kpbodo0DUV68",
        "outputId": "9939bd54-4045-4a79-af08-728d28c60423"
      },
      "execution_count": null,
      "outputs": [
        {
          "output_type": "stream",
          "name": "stdout",
          "text": [
            "50\n",
            "196\n"
          ]
        }
      ]
    },
    {
      "cell_type": "code",
      "source": [
        "#Solution:08 (Method:03)\n",
        "user_input = int(input(\"Sir, please enter nth number: \"))\n",
        "counter = 0\n",
        "result = 0\n",
        "for counter in range(user_input+1):\n",
        "    if counter % 7 == 0:\n",
        "        result = result + counter\n",
        "    counter += 1\n",
        "\n",
        "print(result)"
      ],
      "metadata": {
        "colab": {
          "base_uri": "https://localhost:8080/"
        },
        "id": "wvXrWhgVb2LV",
        "outputId": "faf7e08f-1d56-42cb-bb20-d553b637dad1"
      },
      "execution_count": null,
      "outputs": [
        {
          "output_type": "stream",
          "name": "stdout",
          "text": [
            "Sir, please enter nth number: 50\n",
            "196\n"
          ]
        }
      ]
    },
    {
      "cell_type": "markdown",
      "source": [
        "Task:09. Write a Python code that will read 5 numbers from the user. Your program should print the first number, the sum of the first 2 numbers, the sum of the first 3 numbers, and so on up to the sum of 5 numbers.\n"
      ],
      "metadata": {
        "id": "ptRHdMFmcCfc"
      }
    },
    {
      "cell_type": "code",
      "source": [
        "#Solution:09 (Method:01)\n",
        "sum=0\n",
        "for i in range(1,6):\n",
        "  n=int(input(\"Sir,please enter your number: \"))\n",
        "  sum+=n\n",
        "  print(sum)"
      ],
      "metadata": {
        "colab": {
          "base_uri": "https://localhost:8080/"
        },
        "id": "5QKQz4P2lQWX",
        "outputId": "88f012c3-b678-4581-ddf0-e994c03ca4d7"
      },
      "execution_count": null,
      "outputs": [
        {
          "output_type": "stream",
          "name": "stdout",
          "text": [
            "Sir,please enter your number: 1\n",
            "1\n",
            "Sir,please enter your number: 2\n",
            "3\n",
            "Sir,please enter your number: 3\n",
            "6\n",
            "Sir,please enter your number: 4\n",
            "10\n",
            "Sir,please enter your number: 5\n",
            "15\n"
          ]
        }
      ]
    },
    {
      "cell_type": "code",
      "source": [
        "#Solution:09 (Method:01)\n",
        "counter = 0\n",
        "result = 0\n",
        "\n",
        "while counter < 5:\n",
        "\n",
        "    if counter == 0:\n",
        "        user_input = int(input(f\"Sir, please input the {counter + 1}st number: \"))\n",
        "    elif counter == 1:\n",
        "        user_input = int(input(f\"Sir, please input the {counter + 1}nd number: \"))\n",
        "    elif counter == 2:\n",
        "        user_input = int(input(f\"Sir, please input the {counter + 1}rd number: \"))\n",
        "    else:\n",
        "        user_input = int(input(f\"Sir, please input the {counter + 1}th number: \"))\n",
        "\n",
        "    result = result + user_input\n",
        "\n",
        "    print(result)\n",
        "\n",
        "    counter += 1"
      ],
      "metadata": {
        "colab": {
          "base_uri": "https://localhost:8080/"
        },
        "id": "V51BKLWPgN41",
        "outputId": "4dc16bba-feb0-44f7-9147-272d19dc2b3c"
      },
      "execution_count": null,
      "outputs": [
        {
          "output_type": "stream",
          "name": "stdout",
          "text": [
            "Sir, please input the 1st number: 1\n",
            "1\n",
            "Sir, please input the 2nd number: 2\n",
            "3\n",
            "Sir, please input the 3rd number: 3\n",
            "6\n",
            "Sir, please input the 4th number: 4\n",
            "10\n",
            "Sir, please input the 5th number: 5\n",
            "15\n"
          ]
        }
      ]
    },
    {
      "cell_type": "code",
      "source": [
        "#Solution:09 (Method:03)\n",
        "counter = 0\n",
        "result = 0\n",
        "\n",
        "for counter in range(5):\n",
        "    if counter == 0:\n",
        "        user_input = int(input(f\"Sir, please input the {counter + 1}st number: \"))\n",
        "    elif counter == 1:\n",
        "        user_input = int(input(f\"Sir, please input the {counter + 1}nd number: \"))\n",
        "    elif counter == 2:\n",
        "        user_input = int(input(f\"Sir, please input the {counter + 1}rd number: \"))\n",
        "    else:\n",
        "        user_input = int(input(f\"Sir, please input the {counter + 1}th number: \"))\n",
        "\n",
        "    result = result + user_input\n",
        "\n",
        "    print(result)\n",
        "\n",
        "    counter += 1"
      ],
      "metadata": {
        "colab": {
          "base_uri": "https://localhost:8080/"
        },
        "id": "f46WESHdgvGt",
        "outputId": "e766dbce-e96b-4a41-c5a1-b93e3b0f3b74"
      },
      "execution_count": null,
      "outputs": [
        {
          "output_type": "stream",
          "name": "stdout",
          "text": [
            "Sir, please input the 1st number: 1\n",
            "1\n",
            "Sir, please input the 2nd number: 2\n",
            "3\n",
            "Sir, please input the 3rd number: 3\n",
            "6\n",
            "Sir, please input the 4th number: 4\n",
            "10\n",
            "Sir, please input the 5th number: 5\n",
            "15\n"
          ]
        }
      ]
    },
    {
      "cell_type": "markdown",
      "source": [
        "Task:10. Write a Python program which takes a number and prints the digits from the unit place, then the tenth, then hundredth, etc. (Right to Left)\n",
        "\n",
        "[Consider the input number to be an INTEGER. You are not allowed to use String indexing for solving this task]"
      ],
      "metadata": {
        "id": "Oiqgn8wVjqAX"
      }
    },
    {
      "cell_type": "code",
      "source": [
        "#This kind of tasks are done with while loop (recommended)\n",
        "#Solution:10 (Method:01)\n",
        "user=int(input())\n",
        "while True:\n",
        "\n",
        "     if user<10:\n",
        "       print(user)\n",
        "       break\n",
        "\n",
        "     print(user%10, end=\",\")\n",
        "     user=user//10\n",
        "\n"
      ],
      "metadata": {
        "colab": {
          "base_uri": "https://localhost:8080/"
        },
        "id": "kih0lnF3jtoo",
        "outputId": "76626dd6-f5c1-4d84-8c45-d4e45783b890"
      },
      "execution_count": null,
      "outputs": [
        {
          "output_type": "stream",
          "name": "stdout",
          "text": [
            "5200\n",
            "0,0,2,5\n"
          ]
        }
      ]
    },
    {
      "cell_type": "code",
      "source": [
        "#Solution:10 (Method:02)\n",
        "num=int(input())\n",
        "while num>0:\n",
        "  if num%10==num and num//10==0:\n",
        "    print(num)\n",
        "    break\n",
        "  else:\n",
        "    last_digit=int(num%10)\n",
        "    print(last_digit,end=\",\")\n",
        "  num//=10    "
      ],
      "metadata": {
        "colab": {
          "base_uri": "https://localhost:8080/"
        },
        "id": "gW2gi3VnVWTH",
        "outputId": "1fe2476b-9e7e-4fc6-afed-02b040f5e81a"
      },
      "execution_count": null,
      "outputs": [
        {
          "output_type": "stream",
          "name": "stdout",
          "text": [
            "5200\n",
            "0,0,2,5\n"
          ]
        }
      ]
    },
    {
      "cell_type": "markdown",
      "source": [
        "Task:11. Write a Python program that takes a number and prints how many digits are in that number. \\ [Consider the input number to be an INTEGER.]"
      ],
      "metadata": {
        "id": "YpkZEYd7fd4R"
      }
    },
    {
      "cell_type": "code",
      "source": [
        "#Solution:11 (Method:01)\n",
        "digit=0\n",
        "user=int(input())\n",
        "while True:\n",
        "\n",
        "  if user<10:\n",
        "    digit+=1\n",
        "    break\n",
        "  else:\n",
        "    user%10\n",
        "    user//=10\n",
        "    digit+=1  \n",
        "print(digit)"
      ],
      "metadata": {
        "colab": {
          "base_uri": "https://localhost:8080/"
        },
        "id": "GLlqH24IofpN",
        "outputId": "4b7e05f9-c90f-4606-d8bb-f449ec21ab13"
      },
      "execution_count": null,
      "outputs": [
        {
          "output_type": "stream",
          "name": "stdout",
          "text": [
            "012\n",
            "2\n"
          ]
        }
      ]
    },
    {
      "cell_type": "code",
      "source": [
        "#Solution:11 (Method:02)\n",
        "user_input = int(input(\"Sir, please input a number: \"))\n",
        "number_of_digits = 0\n",
        "\n",
        "while True:\n",
        "    if user_input < 10:\n",
        "        number_of_digits += 1\n",
        "        break\n",
        "    number_of_digits += 1\n",
        "    user_input = user_input // 10\n",
        "\n",
        "print(number_of_digits)"
      ],
      "metadata": {
        "id": "huhIJvg2fcjB",
        "colab": {
          "base_uri": "https://localhost:8080/"
        },
        "outputId": "79c79918-9c7e-4f88-8f57-30f145d3e86b"
      },
      "execution_count": 4,
      "outputs": [
        {
          "output_type": "stream",
          "name": "stdout",
          "text": [
            "Sir, please input a number: 0123\n",
            "3\n"
          ]
        }
      ]
    },
    {
      "cell_type": "markdown",
      "source": [
        "Task:12. Write a Python program that takes a number from the user and prints its digits from left to right.\n",
        "[Consider the input number to be an INTEGER. You are not allowed to use String indexing for solving this task]\n"
      ],
      "metadata": {
        "id": "VjeCRu8InQa-"
      }
    },
    {
      "cell_type": "code",
      "source": [
        "#Solution:12 (Method:01)\n",
        "num=int(input())\n",
        "digit_count=0\n",
        "new_num=num\n",
        "while num>0:\n",
        "  num=num//10\n",
        "  digit_count+=1\n",
        "print(digit_count)  \n",
        "while digit_count>0 or new_num>0 :\n",
        "  first_digit=new_num//(10**(digit_count-1))\n",
        "  new_num=new_num%(10**(digit_count-1))\n",
        "  print(first_digit)\n",
        "  digit_count-=1    "
      ],
      "metadata": {
        "colab": {
          "base_uri": "https://localhost:8080/"
        },
        "id": "SP3TIvfaRmZA",
        "outputId": "2c1bf483-da04-4c0d-cc18-1113e6b6d272"
      },
      "execution_count": null,
      "outputs": [
        {
          "output_type": "stream",
          "name": "stdout",
          "text": [
            "6528\n",
            "4\n",
            "6\n",
            "5\n",
            "2\n",
            "8\n"
          ]
        }
      ]
    },
    {
      "cell_type": "code",
      "source": [
        "#Solution:12 (Method:02)\n",
        "num=int(input())\n",
        "digit_count=0\n",
        "new_num=num\n",
        "while num>0:\n",
        "  num=num//10\n",
        "  digit_count+=1\n",
        "while digit_count>0 or new_num>0 :\n",
        "  first_digit=new_num//(10**(digit_count-1)) #6 \n",
        "  new_num=new_num%(10**(digit_count-1)) #528\n",
        "  if(digit_count>1):\n",
        "    print(first_digit,end=\",\")\n",
        "  else:\n",
        "    print(first_digit)\n",
        "  digit_count-=1    \n",
        "  "
      ],
      "metadata": {
        "colab": {
          "base_uri": "https://localhost:8080/"
        },
        "id": "g8hqTvJNTUD5",
        "outputId": "d6ff93a1-405a-474a-b850-ee81b6cfef80"
      },
      "execution_count": null,
      "outputs": [
        {
          "output_type": "stream",
          "name": "stdout",
          "text": [
            "12598\n",
            "1,2,5,9,8\n"
          ]
        }
      ]
    },
    {
      "cell_type": "markdown",
      "source": [
        "Task:13. Write a Python program that takes a number as input from the user and prints the divisors of that number as well as how many divisors the number has.\n"
      ],
      "metadata": {
        "id": "Kd08QzyRwdNK"
      }
    },
    {
      "cell_type": "code",
      "source": [
        "#Solution:13 (Method:01)\n",
        "n=int(input())\n",
        "\n",
        "divisor_no=0\n",
        "if n==0:\n",
        "  print(\"You have entered 0\\n No divisors\")\n",
        "elif n<0:\n",
        "  n*=-1  \n",
        "for counter in range(1,n+1):\n",
        "  if n%counter==0:\n",
        "    print(counter)\n",
        "    divisor_no+=1\n",
        "print(f\"Total {divisor_no} divisors\")\n"
      ],
      "metadata": {
        "colab": {
          "base_uri": "https://localhost:8080/"
        },
        "id": "-QhRa5MNsu9X",
        "outputId": "2193e9ea-7fcf-4104-9127-d97701ab5520"
      },
      "execution_count": null,
      "outputs": [
        {
          "output_type": "stream",
          "name": "stdout",
          "text": [
            "6\n",
            "1\n",
            "2\n",
            "3\n",
            "6\n",
            "Total 4 divisors\n"
          ]
        }
      ]
    },
    {
      "cell_type": "code",
      "source": [
        "#Solution:13 (Method:02)\n",
        "n=int(input())\n",
        "my_list=[]\n",
        "divisor_no=0\n",
        "for i in range(1,n+1):\n",
        "  if n%i==0:\n",
        "    my_list.append(i)\n",
        "    divisor_no+=1\n",
        "print(*my_list,sep=\",\")\n",
        "print(\"Total divisors\",divisor_no )"
      ],
      "metadata": {
        "colab": {
          "base_uri": "https://localhost:8080/"
        },
        "id": "Jvv5Ln2xvO3m",
        "outputId": "3eedd6b1-a3b3-4d71-8842-ab729d0159aa"
      },
      "execution_count": null,
      "outputs": [
        {
          "output_type": "stream",
          "name": "stdout",
          "text": [
            "6\n",
            "1,2,3,6\n",
            "Total divisors 4\n"
          ]
        }
      ]
    },
    {
      "cell_type": "code",
      "source": [
        "# if a number is 32\n",
        "# if first digit is greater than second digit. to get reverse we\n",
        "# can minus\n",
        "# 9. if second digit is greater than first digit then to get reverse\n",
        "# we have to add 9.\n",
        "  "
      ],
      "metadata": {
        "id": "yVhedfFUDpoh"
      },
      "execution_count": null,
      "outputs": []
    },
    {
      "cell_type": "code",
      "source": [
        "#Approach 3\n",
        "#Task:13\n",
        "divisor_no=0\n",
        "n=int(input())\n",
        "if n==0:\n",
        "    print(\"You have entered 0, there is no divisor\")\n",
        "elif n<0:\n",
        "    n=n*-1\n",
        "for i in range(1,n+1):\n",
        "    if i==n:\n",
        "       print(i) \n",
        "       divisor_no+=1\n",
        "    elif n%i==0:\n",
        "        divisor_no+=1\n",
        "        print(i,end=\",\")\n",
        "    else:\n",
        "        pass \n",
        "print(\"Total divisor no.\",divisor_no)\n"
      ],
      "metadata": {
        "id": "TjyWq265wZPp",
        "colab": {
          "base_uri": "https://localhost:8080/"
        },
        "outputId": "03e1bc3a-09c4-45fe-8f1c-dce482847a76"
      },
      "execution_count": null,
      "outputs": [
        {
          "output_type": "stream",
          "name": "stdout",
          "text": [
            "6528\n",
            "1,2,3,4,6,8,12,16,17,24,32,34,48,51,64,68,96,102,128,136,192,204,272,384,408,544,816,1088,1632,2176,3264,6528\n",
            "Total divisor no. 32\n"
          ]
        }
      ]
    },
    {
      "cell_type": "markdown",
      "source": [
        "Task:14. Write a Python program that takes a number as input from the user and tells if it is a perfect number or not.\n",
        "Perfect Number: An integer number is said to be a perfect number if its factors, including 1 but not the number itself, sum to the number.\n"
      ],
      "metadata": {
        "id": "k9Pf9o7ywiZ4"
      }
    },
    {
      "cell_type": "code",
      "source": [
        "#Solution:14 (Method:01)\n",
        "n=int(input())\n",
        "divisor_no=1\n",
        "sum=0\n",
        "if n==0:\n",
        "  print(\"You have entered 0\\nNo divisors\")\n",
        "if n<0:\n",
        "  n*=-1\n",
        "for i in range(1,n):\n",
        "  if n%i==0:\n",
        "    sum+=i\n",
        "    divisor_no+=1\n",
        "if sum==n and n!=0:\n",
        "    print(f\"{n}perfect number\")\n",
        "else:\n",
        "    print(f\"{n} is not a perfect number\")"
      ],
      "metadata": {
        "colab": {
          "base_uri": "https://localhost:8080/"
        },
        "id": "ByDCsxY0wuZF",
        "outputId": "ffaaf177-8635-4535-875f-274dd9e0e309"
      },
      "execution_count": null,
      "outputs": [
        {
          "output_type": "stream",
          "name": "stdout",
          "text": [
            "36\n",
            "36 is not a perfect number\n"
          ]
        }
      ]
    },
    {
      "cell_type": "code",
      "source": [
        "#Solution:14 (Method:02)\n",
        "divisor_no=0\n",
        "sum=0\n",
        "n=int(input())\n",
        "if n== 0:\n",
        "    print(\"You entered 0\\nNo divisors\")\n",
        "    \n",
        "elif n < 0:\n",
        "    n = n * -1\n",
        "\n",
        "for i in range(1,n+1):\n",
        "    if n%i==0 and i!=n:\n",
        "        \n",
        "        sum+=i\n",
        "if sum==n:\n",
        "    print('Perfect number')\n",
        "else:\n",
        "    print(\"No\")    "
      ],
      "metadata": {
        "id": "bVHG3ikdwkO_",
        "colab": {
          "base_uri": "https://localhost:8080/"
        },
        "outputId": "428841da-4236-4c99-de89-787929cc9bb0"
      },
      "execution_count": null,
      "outputs": [
        {
          "output_type": "stream",
          "name": "stdout",
          "text": [
            "9\n",
            "No\n"
          ]
        }
      ]
    },
    {
      "cell_type": "markdown",
      "source": [
        "Task:15. Write a Python program that asks the user for one number and tells if it is a prime number or not.\n",
        "\n",
        "Prime Number: If a number has only two divisors, (1 and itself), then it is a prime number. If it is divisible by more numbers, then it is not a prime.\n"
      ],
      "metadata": {
        "id": "nx_fqTYlwnOA"
      }
    },
    {
      "cell_type": "code",
      "source": [
        "#Solution:15 (Method:01)\n",
        "num=int(input())\n",
        "divisor_no=0\n",
        "for i in range(1,num+1):\n",
        "  if num%i==0:\n",
        "    divisor_no+=1\n",
        "if divisor_no==2:\n",
        "  print(\"Prime\")\n",
        "else:\n",
        "  print(\"Not Prime\")      "
      ],
      "metadata": {
        "colab": {
          "base_uri": "https://localhost:8080/"
        },
        "id": "h6h2y5mw1Ej8",
        "outputId": "50b734b9-d778-41a0-c804-fb46e8e60eb7"
      },
      "execution_count": null,
      "outputs": [
        {
          "output_type": "stream",
          "name": "stdout",
          "text": [
            "17\n",
            "Prime\n"
          ]
        }
      ]
    },
    {
      "cell_type": "code",
      "source": [
        "#Solution:15 (Method:02)\n",
        "n=int(input(\"Sir, please input the number you want to check: \"))\n",
        "prime=True\n",
        "for i in range(2,n):\n",
        "        if n%i==0:\n",
        "           prime= False\n",
        "           break\n",
        "if prime: \n",
        "    print(\"The number is Prime\")\n",
        "else:\n",
        "    print(\"The number is not prime\")  \n"
      ],
      "metadata": {
        "id": "t7JFA-ztwpC_",
        "colab": {
          "base_uri": "https://localhost:8080/"
        },
        "outputId": "9d0ab028-65a1-454d-aa7c-1dcc6cbbc3c1"
      },
      "execution_count": null,
      "outputs": [
        {
          "output_type": "stream",
          "name": "stdout",
          "text": [
            "269\n",
            "The number is Prime\n"
          ]
        }
      ]
    },
    {
      "cell_type": "markdown",
      "source": [
        "Task:16. Write a Python program that asks the user for a quantity, then takes that many numbers as input and prints the maximum, minimum and average of those numbers.\n"
      ],
      "metadata": {
        "id": "7_rKDHO7wwM3"
      }
    },
    {
      "cell_type": "code",
      "source": [
        "#Solution:16 (Method:01)\n",
        "number=int(input(\"enter how many numbers?\"))\n",
        "num=int(input(\"first num\"))\n",
        "maximum=num\n",
        "minimum=num\n",
        "sum=num\n",
        "for i in range (2,number+1):\n",
        "  n=int(input(\"enter\"))\n",
        "  sum+=n\n",
        "if n>maximum:\n",
        "  maximum=n\n",
        "elif maximum>n:\n",
        "  minimum=n\n",
        "average=sum/number  \n",
        "print(maximum)\n",
        "print(minimum)\n",
        "print(\"Average\",average)    \n",
        "print(f\"Average {sum/number:.2f}\") #.2f ensures 2 floating values 2 decimals"
      ],
      "metadata": {
        "colab": {
          "base_uri": "https://localhost:8080/"
        },
        "id": "_3KRUk7Awyl3",
        "outputId": "d9343d23-b5ae-4c68-c5d5-247d0168c429"
      },
      "execution_count": null,
      "outputs": [
        {
          "output_type": "stream",
          "name": "stdout",
          "text": [
            "enter how many numbers?2\n",
            "first num2\n",
            "enter3\n",
            "3\n",
            "2\n",
            "Average 2.5\n",
            "Average 2.50\n"
          ]
        }
      ]
    },
    {
      "cell_type": "code",
      "source": [
        "#Solution:16 (Method:02)\n",
        "user_input = int(input(\"Sir, please enter how many numbers you want to input: \"))\n",
        "number = int(input(\"Sir, please enter the first number: \"))\n",
        "\n",
        "minimum_number = number\n",
        "maximum_number = number\n",
        "sum_of_numbers = number\n",
        "\n",
        "for serial in range(2, user_input+1):\n",
        "    number = int(input(f\"Sir, please the number {serial}: \"))\n",
        "\n",
        "    sum_of_numbers += number\n",
        "\n",
        "    if number > maximum_number:\n",
        "        maximum_number = number\n",
        "    elif number < minimum_number:\n",
        "        minimum_number = number\n",
        "\n",
        "print(f\"Maximum {maximum_number}\")\n",
        "print(f\"Minimum {minimum_number}\")\n",
        "print(f\"Average {sum_of_numbers/user_input:.2f}\")"
      ],
      "metadata": {
        "colab": {
          "base_uri": "https://localhost:8080/"
        },
        "id": "3cLH5Jqu1Zoi",
        "outputId": "400053ea-1f11-44c4-e3ee-85019fa3b9cd"
      },
      "execution_count": null,
      "outputs": [
        {
          "output_type": "stream",
          "name": "stdout",
          "text": [
            "Sir, please enter how many numbers you want to input: 5\n",
            "Sir, please enter the first number: 10\n",
            "Sir, please the number 2: 4\n",
            "Sir, please the number 3: -100\n",
            "Sir, please the number 4: -1\n",
            "Sir, please the number 5: 1\n",
            "Maximum 10\n",
            "Minimum -100\n",
            "Average -17.20\n"
          ]
        }
      ]
    },
    {
      "cell_type": "markdown",
      "source": [
        "Task: 17. Write a python program that prints a square of size N using + where N will be given as input as illustrated in the examples below.\n",
        "Hint: You may need to use nested loops to solve this problem.\n"
      ],
      "metadata": {
        "id": "cfMGaPfNdjK3"
      }
    },
    {
      "cell_type": "code",
      "source": [
        "#Solution:17 (Method:01)\n",
        "n=int(input())\n",
        "for i in range(n):\n",
        "  for j in range(n):\n",
        "    print(\"+\", end=\"\")\n",
        "  print()  "
      ],
      "metadata": {
        "id": "ch-tS9Tvdlav",
        "colab": {
          "base_uri": "https://localhost:8080/"
        },
        "outputId": "dcdfa3b0-b658-40ce-93af-bee9a1b81bec"
      },
      "execution_count": 5,
      "outputs": [
        {
          "output_type": "stream",
          "name": "stdout",
          "text": [
            "4\n",
            "++++\n",
            "++++\n",
            "++++\n",
            "++++\n"
          ]
        }
      ]
    },
    {
      "cell_type": "code",
      "source": [
        "#Solution:17 (Method:02)\n",
        "\n",
        "user_input = int(input(\"Sir, please enter how many rows and columns you want: \"))\n",
        "\n",
        "for counter in range(1, user_input+1):\n",
        "    print('+'*user_input)"
      ],
      "metadata": {
        "colab": {
          "base_uri": "https://localhost:8080/"
        },
        "id": "FuMwKZfgg2J4",
        "outputId": "8c87516a-4fa9-4e4f-830f-3faaa61aaa48"
      },
      "execution_count": null,
      "outputs": [
        {
          "output_type": "stream",
          "name": "stdout",
          "text": [
            "Sir, please enter how many rows and columns you want: 5\n",
            "+++++\n",
            "+++++\n",
            "+++++\n",
            "+++++\n",
            "+++++\n"
          ]
        }
      ]
    },
    {
      "cell_type": "code",
      "source": [
        "#Solution:17 (Method:03)\n",
        "n=int(input(\"How many rows and columns do you want?\"))\n",
        "for rows in range(n):\n",
        "    for column in range(n):\n",
        "        print(\"+\", end=\"\")\n",
        "    print()    \n"
      ],
      "metadata": {
        "id": "60JuUX_gyTsZ",
        "colab": {
          "base_uri": "https://localhost:8080/"
        },
        "outputId": "6c85a76d-91ee-4007-a639-de74962ee99e"
      },
      "execution_count": null,
      "outputs": [
        {
          "output_type": "stream",
          "name": "stdout",
          "text": [
            "How many rows and columns do you want?5\n",
            "+++++\n",
            "+++++\n",
            "+++++\n",
            "+++++\n",
            "+++++\n"
          ]
        }
      ]
    },
    {
      "cell_type": "markdown",
      "source": [
        "Task:18. Write a python program that prints a rectangle of size M (height/line numbers) and N (length/column numbers) using incrementing numbers where M and N will be given as input. Please look at the examples below for clarification.\n"
      ],
      "metadata": {
        "id": "2eQ4TU8SV95H"
      }
    },
    {
      "cell_type": "code",
      "source": [
        "#Solution:18 (Method:01)\n",
        "M=int(input())\n",
        "N=int(input())\n",
        "for M in range(1,M+1):\n",
        "  for N in range(1,N+1):\n",
        "    print(N,end=\"\")\n",
        "  print()  "
      ],
      "metadata": {
        "colab": {
          "base_uri": "https://localhost:8080/"
        },
        "id": "cXB2MCdoV_k-",
        "outputId": "0014430a-94d1-4b39-aaa3-3d2bb8b0d6ad"
      },
      "execution_count": null,
      "outputs": [
        {
          "output_type": "stream",
          "name": "stdout",
          "text": [
            "4\n",
            "6\n",
            "123456\n",
            "123456\n",
            "123456\n",
            "123456\n"
          ]
        }
      ]
    },
    {
      "cell_type": "code",
      "source": [
        "#Solution:18 (Method:02)\n",
        "\n",
        "number_of_rows = int(input(\"Sir, please enter how many rows you want: \"))\n",
        "number_of_column = int(input(\"Sir, please enter how many column you want: \"))\n",
        "\n",
        "for rows in range(1, number_of_rows+1):\n",
        "    for columns in range(1, number_of_column+1):\n",
        "        print(columns, end=\"\")\n",
        "    print()"
      ],
      "metadata": {
        "id": "m_2LvF84rbCM"
      },
      "execution_count": null,
      "outputs": []
    },
    {
      "cell_type": "markdown",
      "source": [
        "Task:19. Write a python program that prints a right-angled triangle of height N using incrementing numbers where N will be given as input.\n"
      ],
      "metadata": {
        "id": "KqYI7nVRr7y-"
      }
    },
    {
      "cell_type": "code",
      "source": [
        "#Solution:19 (Method:01)\n",
        "\n",
        "number_of_rows = int(input(\"Sir, please enter how many rows you want: \"))\n",
        "\n",
        "for rows in range(1, number_of_rows+1):\n",
        "    for columns in range(1, rows+1):\n",
        "        print(columns, end=\"\")\n",
        "    print()"
      ],
      "metadata": {
        "id": "14PQG32bsRkL"
      },
      "execution_count": null,
      "outputs": []
    },
    {
      "cell_type": "code",
      "source": [
        "#Solution:19 (Method:02)\n",
        "n=int(input())\n",
        "for i in range(1,n+1):\n",
        "  for j in range(1,i+1):\n",
        "    print(j,end=\"\")\n",
        "  print()  "
      ],
      "metadata": {
        "colab": {
          "base_uri": "https://localhost:8080/"
        },
        "id": "3kakcmSKz_yO",
        "outputId": "85206ac6-e4e4-41c3-af0c-f92ea58f154e"
      },
      "execution_count": null,
      "outputs": [
        {
          "output_type": "stream",
          "name": "stdout",
          "text": [
            "4\n",
            "1\n",
            "12\n",
            "123\n",
            "1234\n"
          ]
        }
      ]
    },
    {
      "cell_type": "markdown",
      "source": [
        "# Optional Tasks (25 - 29) [Ungraded]\n",
        "\n",
        "====================================\n",
        "\n",
        "Task: 25 Write a python program that prints all the Fibonacci numbers from 0 to N where N will be given as input by the user.\n",
        "\n",
        "A Fibonacci number is a number which is the summation of its previous two Fibonacci numbers.\n",
        "The first two Fibonacci numbers are 0 and 1.\n"
      ],
      "metadata": {
        "id": "FG9xMYEp-ipI"
      }
    },
    {
      "cell_type": "code",
      "source": [
        "#Solution:25 (Method:01)\n",
        "number=int(input())\n",
        "previous_number=0\n",
        "next_number=1\n",
        "print(0,end=\" \")\n",
        "print(1,end=\" \")\n",
        "for i in range(number):\n",
        "  fibonacci=previous_number+next_number\n",
        "  if fibonacci>number:\n",
        "    break\n",
        "  else: \n",
        "    print(fibonacci,end=\" \")   \n",
        "    previous_number=next_number\n",
        "    next_number=fibonacci\n",
        "\n",
        "  "
      ],
      "metadata": {
        "id": "IvB4LIty-uW6"
      },
      "execution_count": null,
      "outputs": []
    },
    {
      "cell_type": "code",
      "source": [
        "#Solution:25 (Method:02)\n",
        "n=int(input())\n",
        "a=0                             #as we have to add 2 previous value we need 2 variable\n",
        "b=1\n",
        "while(a+b<n):\n",
        "  if(a==0):                                   #0                                                #1 \n",
        "    print(0,end=\"\")\n",
        "  if(b==1):\n",
        "    print(1,end=\"\")\n",
        "  c=a+b                                 #exechanging the start and end\n",
        "  a=b\n",
        "  b=c\n",
        " \n",
        "  print(c,end=\"\")"
      ],
      "metadata": {
        "id": "rZ8tcdeJkkjL"
      },
      "execution_count": null,
      "outputs": []
    },
    {
      "cell_type": "markdown",
      "source": [
        "26. Write a python program that converts a decimal integer number to a binary number.\n",
        "\n",
        "Hint: A decimal can be converted to a binary number by keeping track of the remainders after each division of that number by 2.\n"
      ],
      "metadata": {
        "id": "z2di5BZ4E1lZ"
      }
    },
    {
      "cell_type": "code",
      "source": [
        "#Solution:26 (Method:01)\n",
        "num=int(input())\n",
        "my_list=[]\n",
        "while num>0:\n",
        "  digit=num%2\n",
        "  my_list.append(digit)\n",
        "  num//=2\n",
        " \n",
        "print(*my_list[::-1],sep=\"\")  "
      ],
      "metadata": {
        "id": "CUIf6biUE9KI"
      },
      "execution_count": null,
      "outputs": []
    },
    {
      "cell_type": "code",
      "source": [
        "#Solution:26 (Method:02)\n",
        "num=int(input())\n",
        "s=''\n",
        "while num>0:\n",
        "  digit=str(num%2)\n",
        "  s+=digit\n",
        "  num//=2\n",
        " \n",
        "print(s[::-1])  "
      ],
      "metadata": {
        "id": "SESbQvxzHKDG"
      },
      "execution_count": null,
      "outputs": []
    },
    {
      "cell_type": "markdown",
      "source": [
        "27. Write a python program that converts a binary number to a decimal integer number after taking the binary number as an input from the user.\n"
      ],
      "metadata": {
        "id": "J7N3EdLaKmS9"
      }
    },
    {
      "cell_type": "code",
      "source": [
        "#Solution:27 (Method:01)\n",
        "\n",
        "binary_input = int(input(\"Sir, please enter a binary number: \"))\n",
        "decimal_number = 0\n",
        "counter = 0\n",
        "\n",
        "while binary_input > 0:\n",
        "    remainder = binary_input % 10\n",
        "    binary_input = binary_input // 10\n",
        "    decimal_number += remainder * (2 ** counter)\n",
        "    counter += 1\n",
        "\n",
        "print(decimal_number)"
      ],
      "metadata": {
        "id": "C8Y3znONKsPl"
      },
      "execution_count": null,
      "outputs": []
    },
    {
      "cell_type": "code",
      "source": [
        "#Solution:27 (Method:02)\n",
        "a=input()\n",
        "length=len(a)\n",
        "sum=0\n",
        "for i in range(length):\n",
        "  sum+=2**(length-1)*int(a[i])\n",
        "  length-=1\n",
        "print(sum)  "
      ],
      "metadata": {
        "id": "j-WwfhEmmMNp"
      },
      "execution_count": null,
      "outputs": []
    },
    {
      "cell_type": "markdown",
      "source": [
        "Task:28----Prime and Perfect number "
      ],
      "metadata": {
        "id": "EHxz4kcR2Zxz"
      }
    },
    {
      "cell_type": "code",
      "source": [
        "#Solution:28 (Method:01)\n",
        "s=int(input())\n",
        "e=int(input())\n",
        "prime=[]\n",
        "perfect=[]\n",
        "for i in range(s,e+1):\n",
        "  divisors_list=[]\n",
        "  for j in range(1,i):\n",
        "     if i%j==0:\n",
        "       divisors_list.append(j)\n",
        "  if len(divisors_list)==1:\n",
        "    prime.append(i)\n",
        "  if sum(divisors_list)==i:\n",
        "    perfect.append(i)     \n",
        "print(f\"Between {s} and {e}\")\n",
        "print(f\"Found {len(prime)} prime numbers and \\nFound {len(perfect)} perfect number\")\n",
        "print(\"Prime number:\",end=\"\")  \n",
        "print(\",\".join([str(i) for i in prime]))\n",
        "print(\"Perfect number:\",end=\"\")\n",
        "print(\"-\".join([str(i) for i in perfect]))\n"
      ],
      "metadata": {
        "colab": {
          "base_uri": "https://localhost:8080/"
        },
        "id": "KkeBm_H22bJK",
        "outputId": "c5a4f619-80a3-4a45-953c-7679e2261fc0"
      },
      "execution_count": null,
      "outputs": [
        {
          "output_type": "stream",
          "name": "stdout",
          "text": [
            "2\n",
            "6\n",
            "Between 2 and 6\n",
            "Found 3 prime numbers and \n",
            "Found 1 perfect number\n",
            "Prime number:2,3,5\n",
            "Perfect number:6\n"
          ]
        }
      ]
    },
    {
      "cell_type": "markdown",
      "source": [
        "Task:29"
      ],
      "metadata": {
        "id": "_wKRaCZum-1b"
      }
    },
    {
      "cell_type": "code",
      "source": [
        "#29\n",
        "a=int(input(\"Enter a \"))\n",
        "b=int(input(\"Enter b \"))\n",
        "c=int(input(\"Enter c \"))\n",
        "for i in range(a,b+1):                             #25,30,4                   25,26,27,28,29,30\n",
        "  product=1\n",
        "  while(i>0):\n",
        "    product=product*int(i%10)\n",
        "    i=i//10\n",
        "  if(product%c==0):\n",
        "    print(product,end=\" \")"
      ],
      "metadata": {
        "id": "YVlOBobS4qjt"
      },
      "execution_count": null,
      "outputs": []
    },
    {
      "cell_type": "markdown",
      "source": [
        "*****Extras***"
      ],
      "metadata": {
        "id": "sUkuqzGbQwB_"
      }
    },
    {
      "cell_type": "code",
      "source": [
        "start = int(input(\"Enter start year: \"))\n",
        "end = int(input(\"Enter end year: \"))\n",
        "\n",
        "if start < end:\n",
        "  print (\"Here is a list of leap years between \" + str(start) + \" and \" + str(end)  + \":\")\n",
        "  while start<=end:\n",
        "    if start%4==0 and start%100!=0:\n",
        "       print(start)\n",
        "    if start%100==0 and start%400==0:\n",
        "       print(start)\n",
        "    start+=1   \n",
        "\n",
        "else:\n",
        " print(\"Check your year input again.\")"
      ],
      "metadata": {
        "id": "ddZnZMx4qVXJ"
      },
      "execution_count": null,
      "outputs": []
    }
  ]
}