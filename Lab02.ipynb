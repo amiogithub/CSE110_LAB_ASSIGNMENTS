{
  "nbformat": 4,
  "nbformat_minor": 0,
  "metadata": {
    "colab": {
      "provenance": [],
      "collapsed_sections": []
    },
    "kernelspec": {
      "name": "python3",
      "display_name": "Python 3"
    },
    "language_info": {
      "name": "python"
    }
  },
  "cells": [
    {
      "cell_type": "markdown",
      "source": [
        "1.Write the Python code of a program that reads two numbers from the user, and prints their sum\n",
        "product, and difference. "
      ],
      "metadata": {
        "id": "Dg7NR3jJuwI2"
      }
    },
    {
      "cell_type": "code",
      "source": [
        "num_1=int(input(\"Sir,please enter the first number: \"))\n",
        "num_2=int(input(\"Sir,please enter the second number: \"))\n",
        "Sum=num_1+num_2\n",
        "Product=num_1*num_2\n",
        "difference=num_1-num_2\n",
        "print(f\"Sum ={Sum}\")\n",
        "print(f\"Product ={Product}\")\n",
        "print(f\"Difference ={difference}\")"
      ],
      "metadata": {
        "id": "1gk_gPVKuyCg",
        "colab": {
          "base_uri": "https://localhost:8080/"
        },
        "outputId": "e6f9d05f-ab44-4b1e-be44-a21b6803d93e"
      },
      "execution_count": null,
      "outputs": [
        {
          "output_type": "stream",
          "name": "stdout",
          "text": [
            "Sir,please enter the first number: 4\n",
            "Sir,please enter the second number: 5\n",
            "Sum =9\n",
            "Product =20\n",
            "Difference =-1\n"
          ]
        }
      ]
    },
    {
      "cell_type": "markdown",
      "source": [
        "2.Write the Python code of a program that reads the radius of a circle and prints its circumference\n",
        "and area."
      ],
      "metadata": {
        "id": "FVsa6gPS8TEF"
      }
    },
    {
      "cell_type": "code",
      "source": [
        "import math\n",
        "radius=float(input(\"Sir,please enter your desired radius:\\n\"))\n",
        "area=math.pi*pow(radius,2)\n",
        "circumference=2*math.pi*radius\n",
        "print(f\"Area is {area}\")\n",
        "print(f\"Circumference is {circumference}\")\n"
      ],
      "metadata": {
        "colab": {
          "base_uri": "https://localhost:8080/"
        },
        "id": "gchkBT2Z8VL0",
        "outputId": "3bf0c171-03e7-40f3-e205-96c6282ccb36"
      },
      "execution_count": null,
      "outputs": [
        {
          "output_type": "stream",
          "name": "stdout",
          "text": [
            "Sir,please enter your desired radius:\n",
            "4\n",
            "Area is 50.26548245743669\n",
            "Circumference is 25.132741228718345\n"
          ]
        }
      ]
    },
    {
      "cell_type": "markdown",
      "source": [
        "3.Write the Python code of a program that reads two numbers from the user. The program should\n",
        "then print \"First is greater\" if the first number is greater, \"Second is greater\" if the second number\n",
        "is greater, and \"The numbers are equal\" otherwise."
      ],
      "metadata": {
        "id": "upjvtPNXAYHD"
      }
    },
    {
      "cell_type": "code",
      "source": [
        "num_1=int(input(\"Sir,please enter the first number: \"))\n",
        "num_2=int(input(\"Sir,please enter the second number: \"))\n",
        "if num_1>num_2:\n",
        "  print(\"First is greater\\n\")\n",
        "elif num_2>num_1:\n",
        "  print(\"Second is greater\\n\")\n",
        "else:\n",
        "  print(\"The numbers are equal\\n\")    "
      ],
      "metadata": {
        "id": "iHjM2skmwk1F",
        "colab": {
          "base_uri": "https://localhost:8080/"
        },
        "outputId": "8ddec606-6bc5-427a-c1f2-222b8f507e3b"
      },
      "execution_count": null,
      "outputs": [
        {
          "output_type": "stream",
          "name": "stdout",
          "text": [
            "Sir,please enter the first number: 12\n",
            "Sir,please enter the second number: -3\n",
            "First is greater\n",
            "\n"
          ]
        }
      ]
    },
    {
      "cell_type": "markdown",
      "source": [
        "4.Write the Python code of a program that reads two numbers, subtracts the smaller number from\n",
        "the larger one, and prints the result."
      ],
      "metadata": {
        "id": "td0_MBdTadOE"
      }
    },
    {
      "cell_type": "code",
      "source": [
        "num_1=int(input(\"Sir,please enter the first number: \"))\n",
        "num_2=int(input(\"Sir,please enter the second number: \"))\n",
        "if num_1>num_2:\n",
        "  difference=num_1-num_2\n",
        "else:\n",
        "    difference=num_2-num_1\n",
        "print(difference)\n",
        "\n",
        "        "
      ],
      "metadata": {
        "id": "-rjAG3sRaeA6",
        "colab": {
          "base_uri": "https://localhost:8080/"
        },
        "outputId": "ac580f4d-a6a6-42c4-b4e7-c7a61af09470"
      },
      "execution_count": null,
      "outputs": [
        {
          "output_type": "stream",
          "name": "stdout",
          "text": [
            "Sir,please enter the first number: 6\n",
            "Sir,please enter the second number: 4\n",
            "2\n"
          ]
        }
      ]
    },
    {
      "cell_type": "markdown",
      "source": [
        "5.Write the Python code of a program that reads a number, and prints \"The number is even\" or \"The\n",
        "number is odd\", depending on whether the number is even or odd.\n"
      ],
      "metadata": {
        "id": "x0Sd9NghbH2k"
      }
    },
    {
      "cell_type": "code",
      "source": [
        "num_1=int(input(\"Sir,please enter the first number: \"))\n",
        "if num_1%2==0:\n",
        "  print(\"The number is even\\n\")\n",
        "else:\n",
        "  print(\"The number is odd\\n\")\n",
        "    "
      ],
      "metadata": {
        "colab": {
          "base_uri": "https://localhost:8080/"
        },
        "id": "NSwuWvW4bIvx",
        "outputId": "3a7d0376-dea9-48bf-98bf-c10bf884ad0a"
      },
      "execution_count": null,
      "outputs": [
        {
          "output_type": "stream",
          "name": "stdout",
          "text": [
            "Sir,please enter the first number: 6\n",
            "the number is even\n",
            "\n"
          ]
        }
      ]
    },
    {
      "cell_type": "markdown",
      "source": [
        "6.Write the Python code of a program that reads an integer as input from the user, and prints the\n",
        "integer if it is a multiple of 2 OR 5 and prints \"Not a multiple of 2 OR 5\" otherwise.\n"
      ],
      "metadata": {
        "id": "ZhdolDtIbfIq"
      }
    },
    {
      "cell_type": "code",
      "source": [
        "num_1=int(input(\"Sir,please enter the first number: \"))\n",
        "if num_1%2==0 or num_1%5==0:\n",
        "  print(num_1)\n",
        "else:\n",
        "  print(\"Not a multiple of 2 OR 5\")  "
      ],
      "metadata": {
        "colab": {
          "base_uri": "https://localhost:8080/"
        },
        "id": "7msYeiZobf-k",
        "outputId": "aec79a8a-19a9-4e98-de2f-7efb992440f5"
      },
      "execution_count": null,
      "outputs": [
        {
          "output_type": "stream",
          "name": "stdout",
          "text": [
            "Sir,please enter the first number: 27\n",
            "Not a multiple of 2 OR 5\n"
          ]
        }
      ]
    },
    {
      "cell_type": "markdown",
      "source": [
        "7.Write the Python code of a program that reads an integer, and prints the integer it is a multiple of\n",
        "either 2 or 5 but not both. If the number is a multiple of 2 and 5 both, then print \"Multiple of 2\n",
        "and 5 both\". For all other numbers, the program prints \"Not a multiple we want\"."
      ],
      "metadata": {
        "id": "BIl4xEQob5ss"
      }
    },
    {
      "cell_type": "code",
      "source": [
        "num_1=int(input(\"Sir,please enter the first number: \"))\n",
        "if num_1%2==0 or num_1%5==0:\n",
        "  if num_1%2==0 and num_1%5==0:\n",
        "    print(\"Multiple of 2 and 5 both\")\n",
        "  else:\n",
        "    print(num_1)\n",
        "else:\n",
        "  print(\"Not a multiple we want\")      \n"
      ],
      "metadata": {
        "colab": {
          "base_uri": "https://localhost:8080/"
        },
        "id": "iGSb25B_b6ad",
        "outputId": "b12281fe-717a-4c65-f17e-73fd4f9db184"
      },
      "execution_count": null,
      "outputs": [
        {
          "output_type": "stream",
          "name": "stdout",
          "text": [
            "Sir,please enter the first number: 5\n",
            "5\n"
          ]
        }
      ]
    },
    {
      "cell_type": "markdown",
      "source": [
        "8.Write the Python code of a program that reads an integer, and prints the integer if it is a multiple\n",
        "of 2 AND 5 and prints \"Not multiple of 2 and 5 both\" otherwise."
      ],
      "metadata": {
        "id": "KA8QRC7Ccv0Y"
      }
    },
    {
      "cell_type": "code",
      "source": [
        "num_1=int(input(\"Sir,please enter the first number: \"))\n",
        "if num_1%2==0 and num_1%5==0:\n",
        "     print(\"Multiple of 2 and 5 both\")\n",
        "else:\n",
        "  print(\"Not a multiple of both\\n\")\n",
        "  "
      ],
      "metadata": {
        "colab": {
          "base_uri": "https://localhost:8080/"
        },
        "id": "kJkzRZBqcybP",
        "outputId": "392064c4-0b23-40f4-d444-a9c9d591f63c"
      },
      "execution_count": null,
      "outputs": [
        {
          "output_type": "stream",
          "name": "stdout",
          "text": [
            "Sir,please enter the first number: 30\n",
            "Multiple of 2 and 5 both\n"
          ]
        }
      ]
    },
    {
      "cell_type": "markdown",
      "source": [
        "9.Write the Python code of a program that finds the number of hours, minutes, and seconds in a\n",
        "given number of seconds. The number of seconds is taken as input from the user."
      ],
      "metadata": {
        "id": "_FiALNJYdI4f"
      }
    },
    {
      "cell_type": "code",
      "source": [
        "time=int(input(\"Enter the amount of seconds: \"))\n",
        "hour=time//3600\n",
        "seconds=time%3600\n",
        "minutes=seconds//60\n",
        "seconds=time%60\n",
        "time=seconds\n",
        "print(f\"Hour: {hour} Minutes: {minutes} Seconds: {seconds}\")"
      ],
      "metadata": {
        "colab": {
          "base_uri": "https://localhost:8080/"
        },
        "id": "Kb7w1-pRdJvG",
        "outputId": "4e13f228-c274-43f9-d650-1effbaafc911"
      },
      "execution_count": null,
      "outputs": [
        {
          "output_type": "stream",
          "name": "stdout",
          "text": [
            "Enter the amount of seconds: 10000\n",
            "Hour: 2 Minutes: 46 Seconds: 40\n"
          ]
        }
      ]
    },
    {
      "cell_type": "markdown",
      "source": [
        "10.Write a Python program to compute and display a person’s weekly salary as determined by the\n",
        "following conditions:\n",
        "● If the hours worked is less than or equal to 40, then the person receives Tk 200 per hour.\n",
        "● If the hours worked is greater than 40, then the person receives Tk 8000 plus Tk 300 for\n",
        "each hour worked over 40 hours.\n",
        "The program should request the hours worked as an input from the user and display the salary as\n",
        "output. You need to make sure that user input is valid. For example, a person cannot work for -5\n",
        "hours or more than 168 hours in a week. So, the valid hours range is 0 to 168. For invalid hours,\n",
        "print outputs as given in the samples below.\n",
        "Hint: you can consider the hour (user input) to be an integer"
      ],
      "metadata": {
        "id": "F-1xoAagf1bp"
      }
    },
    {
      "cell_type": "code",
      "source": [
        "\n",
        "working_hour = int(input(\"Sir,Please enter the amount of hours you gave worked on: \"))\n",
        "if working_hour < 0:\n",
        "    print(\"Hours cannot be negative \")\n",
        "\n",
        "elif working_hour <= 168:\n",
        "\n",
        "    if working_hour <= 40:\n",
        "        salary = working_hour*200\n",
        "        print(salary)\n",
        "    elif working_hour > 40:\n",
        "        salary = 8000+(working_hour-40)*300\n",
        "        print(salary)\n",
        "\n",
        "else:\n",
        "    print(\"Impossible to work more than 168 hours weekly \")"
      ],
      "metadata": {
        "colab": {
          "base_uri": "https://localhost:8080/"
        },
        "id": "TdVFsuyZHDpb",
        "outputId": "c8232349-bddf-467b-8b13-104ab05b0267"
      },
      "execution_count": null,
      "outputs": [
        {
          "output_type": "stream",
          "name": "stdout",
          "text": [
            "Sir,Please enter the amount of hours you gave worked on 100\n",
            "26000\n"
          ]
        }
      ]
    },
    {
      "cell_type": "markdown",
      "source": [
        "11.Suppose the following expressions are used to calculate the values of L for different values of S:\n",
        "\n",
        "Write the Python code of a program that reads a value of S and then calculates the value of L."
      ],
      "metadata": {
        "id": "4XJjjztpiuzQ"
      }
    },
    {
      "cell_type": "code",
      "source": [
        "s=int(input(\"Enter the values of S:\\n\"))\n",
        "if s<100:\n",
        "  l=3000-125*s**2\n",
        "else:\n",
        "  l=12000/(4+s**2/14900)\n",
        "  \n",
        "print(l)   "
      ],
      "metadata": {
        "id": "kbPSuKUOi2AD",
        "colab": {
          "base_uri": "https://localhost:8080/"
        },
        "outputId": "8e99393f-f1ff-4d4c-a3ee-c1208926d820"
      },
      "execution_count": null,
      "outputs": [
        {
          "output_type": "stream",
          "name": "stdout",
          "text": [
            "Enter the values of S:\n",
            "3\n",
            "1875\n"
          ]
        }
      ]
    },
    {
      "cell_type": "markdown",
      "source": [
        "12.Write a Python program that takes an hour from the user as input and tells it is time for which\n",
        "meal.\n",
        "• The user will input the number in a 24-hour format. So, 14 means 2 pm, 3 means 3 am, 18\n",
        "means 6 pm, etc.\n",
        "• Valid inputs are 0 to 23. Inputs less than 0 or more than 23 are invalid in 24-hour clock.\n",
        "• Assume, input will be whole numbers. For example, 3.5 will NOT be given as input."
      ],
      "metadata": {
        "id": "e82-lUepjAlt"
      }
    },
    {
      "cell_type": "code",
      "source": [
        "hour=int(input(\"Enter the time:\\n\"))\n",
        "if 0<=hour<=24:\n",
        "   if 4<=hour<=6:\n",
        "       print(\"Breakfast\\n\")\n",
        "   elif 12<=hour<=13:\n",
        "        print(\"lunch\\n\")\n",
        "   elif 16<=hour<=17:\n",
        "       print(\"Snacks\\n\")\n",
        "   elif 19<=hour<=20:\n",
        "       print(\"Dinner\\n\")\n",
        "   else:    \n",
        "        print(\"Patience is a virtue\\n\")\n",
        "else:\n",
        "   print(\"Wrong Time\\n\")  "
      ],
      "metadata": {
        "colab": {
          "base_uri": "https://localhost:8080/"
        },
        "id": "KPAAI637jBl9",
        "outputId": "3b9746ba-a881-40b7-8101-31f3d80c8a4f"
      },
      "execution_count": null,
      "outputs": [
        {
          "output_type": "stream",
          "name": "stdout",
          "text": [
            "Enter the time:\n",
            "27\n",
            "Wrong Time\n",
            "\n"
          ]
        }
      ]
    },
    {
      "cell_type": "markdown",
      "source": [
        "13.Write the Python code of a program that reads a student’s mark for a single subject, and prints out\n",
        "the corresponding grade for that mark. The mark ranges and corresponding grades are shown in\n",
        "the table below. You need to make sure that the mark is valid. For example, a student cannot\n",
        "receive -5 or 110 marks. So, the valid marks range from 0 to 100.\n",
        "hint(1): you can consider the number to be an integer\n",
        "hint(2): this problem can be solved in two ways: top-down (starts from A) and bottom-up (starts\n",
        "from F)\n"
      ],
      "metadata": {
        "id": "Cn_eNpcAkxL7"
      }
    },
    {
      "cell_type": "code",
      "source": [
        "marks=int(input(\"Student, please enter your marks:\\n\"))\n",
        "if 0<=marks<=100:\n",
        "  if marks>=90:\n",
        "    print(\"A\")\n",
        "  elif 80<=marks<=89:\n",
        "      print(\"B\")  \n",
        "  elif 70<=marks<=79:\n",
        "      print(\"C\")\n",
        "  elif 60<=marks<=69:\n",
        "      print(\"D\")\n",
        "  elif 50<=marks<=59:\n",
        "      print(\"E\")\n",
        "  else:\n",
        "    print(\"F\")\n",
        "else:\n",
        "  print(\"Invalid marks\")    \n"
      ],
      "metadata": {
        "colab": {
          "base_uri": "https://localhost:8080/"
        },
        "id": "w9OS1f_TkyJV",
        "outputId": "10ca030e-4f2a-4797-8867-838cfac8580b"
      },
      "execution_count": null,
      "outputs": [
        {
          "output_type": "stream",
          "name": "stdout",
          "text": [
            "Student, please enter your marks:\n",
            "100\n",
            "A\n"
          ]
        }
      ]
    },
    {
      "cell_type": "markdown",
      "source": [
        "14.Suppose, your friend is building an automated car called “Besla”. He needs to fix the programming\n",
        "of the car so that it runs at a proper speed. Now, write a python program that takes 2 inputs (distance\n",
        "in meters and time in seconds). The program should then print the velocity in kilometers per hour\n",
        "of that car. Also, it should print whether the car is working properly based on the following chart."
      ],
      "metadata": {
        "id": "ZhT1Y2YEl22U"
      }
    },
    {
      "cell_type": "code",
      "source": [
        "distance=int(input(\"Enter the amount of distance covered\\n\"))\n",
        "time=int(input(\"Enter the amount of seconds passed\\n\"))\n",
        "velocity=((distance/time)*3.6)\n",
        "print(f\"{velocity} km/h\")\n",
        "if velocity<60:\n",
        "  print(\"Too slow.Needs more changes.\")\n",
        "elif velocity==60 or velocity<=90:\n",
        "  print(\"Velocity is okay.The car is ready!\")\n",
        "else:\n",
        "  print(\"Too fast.Only a few changes should suffice.\")\n"
      ],
      "metadata": {
        "colab": {
          "base_uri": "https://localhost:8080/"
        },
        "id": "z1v01yvMl5JU",
        "outputId": "c66c74fb-829c-4b45-9ddc-818186dcdc6e"
      },
      "execution_count": null,
      "outputs": [
        {
          "output_type": "stream",
          "name": "stdout",
          "text": [
            "Enter the amount of distance covered\n",
            "160000\n",
            "Enter the amount of seconds passed\n",
            "7200\n",
            "80.0 km/h\n",
            "Velocity is okay.The car is ready!\n"
          ]
        }
      ]
    },
    {
      "cell_type": "markdown",
      "source": [
        "15.Write a python program that takes the CGPA and no of credits completed by a student and prints\n",
        "whether the student is eligible for a waiver and of what percentage.\n",
        "To be eligible for a waiver, a student must have completed at least 30 credits and earned a CGPA\n",
        "greater or equal to 3.8. If not, please print \"The student is not eligible for a waiver\"."
      ],
      "metadata": {
        "id": "ewtcUsyqoR4h"
      }
    },
    {
      "cell_type": "code",
      "source": [
        "cgpa=float(input(\"Enter your CGPA: \"))\n",
        "credits=int(input(\"Enter the amount of credits you have finished: \"))\n",
        "\n",
        "if credits>=30 and cgpa>=3.80:\n",
        "  if 3.80<=cgpa<=3.89:\n",
        "    print(\"25 percent\")\n",
        "  elif 3.90<=cgpa<=3.94:\n",
        "    print(\"50 percent\")\n",
        "  elif 3.95<=cgpa<=3.99:\n",
        "    print(\"75 percent\")\n",
        "  else:\n",
        "    print(\"100 percent\")\n",
        "else:\n",
        "  print(\"The student is not eligible for a waiver\")\n",
        "  "
      ],
      "metadata": {
        "colab": {
          "base_uri": "https://localhost:8080/"
        },
        "id": "5D-lde2yoSqS",
        "outputId": "2c4f9e45-ae16-4c26-c636-c68c52e356ef"
      },
      "execution_count": null,
      "outputs": [
        {
          "output_type": "stream",
          "name": "stdout",
          "text": [
            "Enter your CGPA: 3.93\n",
            "Enter the amount of credits you have finished: 78\n",
            "50 percent\n"
          ]
        }
      ]
    },
    {
      "cell_type": "markdown",
      "source": [
        "21.Write the Python code of a program that reads an integer, and prints the integer if it is NOT a\n",
        "multiple of 2 OR NOT a multiple of 5."
      ],
      "metadata": {
        "id": "iMYr2G-8RrOW"
      }
    },
    {
      "cell_type": "code",
      "source": [
        "#task 21\n",
        "\n",
        "integer=int(input(\"Maam please enter an integer: \"))\n",
        "if integer%2!=0 or integer%5!=0:\n",
        "  print(integer)\n",
        "else:\n",
        "  print(\"No\")  \n"
      ],
      "metadata": {
        "colab": {
          "base_uri": "https://localhost:8080/"
        },
        "id": "G4Ss0riyxITl",
        "outputId": "15afcd49-17c6-41ef-a1d9-57bc0b3b8bb5"
      },
      "execution_count": null,
      "outputs": [
        {
          "output_type": "stream",
          "name": "stdout",
          "text": [
            "Maam please enter an integer: 20\n",
            "No\n"
          ]
        }
      ]
    }
  ]
}