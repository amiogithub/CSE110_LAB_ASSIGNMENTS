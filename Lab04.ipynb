{
  "nbformat": 4,
  "nbformat_minor": 0,
  "metadata": {
    "colab": {
      "provenance": []
    },
    "kernelspec": {
      "name": "python3",
      "display_name": "Python 3"
    },
    "language_info": {
      "name": "python"
    }
  },
  "cells": [
    {
      "cell_type": "markdown",
      "source": [
        "1. Write a Python program that takes a String as an input from the user and prints that String in reverse order. You cannot use the built-in reverse() function for this task.\n",
        "Sample Input 1\n",
        ":\n",
        "CSE110\n",
        "\n",
        "Sample Output 1:\n",
        "\n",
        "011ESC\n",
        "\n",
        "Sample Input 2:\n",
        "\n",
        "Python \n",
        "\n",
        "Sample Output 2:\n",
        "\n",
        "nohtyP\n",
        "\n",
        "Sample Input 3:\n",
        "\n",
        "1576527 \n",
        "\n",
        "Sample Output 3:\n",
        "\n",
        "7256751\n",
        "\n",
        "\n",
        " \n",
        "\n"
      ],
      "metadata": {
        "id": "RLPzQqOQ0MaH"
      }
    },
    {
      "cell_type": "code",
      "execution_count": null,
      "metadata": {
        "id": "Je5V3glIxiMo"
      },
      "outputs": [],
      "source": [
        "#task:01\n",
        "name=input()\n",
        "print(name[-1::-1])"
      ]
    },
    {
      "cell_type": "code",
      "source": [
        "# Solution to Task 1\n",
        "\n",
        "user_input = input(\"Sir, please enter a word: \")\n",
        "\n",
        "print(user_input[len(user_input)::-1])"
      ],
      "metadata": {
        "colab": {
          "base_uri": "https://localhost:8080/"
        },
        "id": "stGFKG_80elP",
        "outputId": "3c9de27d-c489-4a0f-fc8d-35bec16ac5d8"
      },
      "execution_count": null,
      "outputs": [
        {
          "output_type": "stream",
          "name": "stdout",
          "text": [
            "Sir, please enter a word: CSE110\n",
            "011ESC\n"
          ]
        }
      ]
    },
    {
      "cell_type": "markdown",
      "source": [
        "2. Write a python program that takes 2 inputs from the user, where the first input is a string with length greater than 1. The second input is the index of the first given string from where you have to start reversing. After reversing the first input string from that index, print the new string back to the user. See samples below for clarification."
      ],
      "metadata": {
        "id": "gxooQBut0fN-"
      }
    },
    {
      "cell_type": "code",
      "source": [
        "#main body (but take the valid and invalid conditions)\n",
        "name=input()\n",
        "index=int(input())\n",
        "print(name[index::-1]+name[index+1:])"
      ],
      "metadata": {
        "colab": {
          "base_uri": "https://localhost:8080/"
        },
        "id": "qgsUFo8VDST8",
        "outputId": "95cded14-2735-4955-abc1-d102a076c156"
      },
      "execution_count": null,
      "outputs": [
        {
          "output_type": "stream",
          "name": "stdout",
          "text": [
            "RAMISA\n",
            "2\n",
            "MARISA\n"
          ]
        }
      ]
    },
    {
      "cell_type": "code",
      "source": [
        "#Method:02\n",
        "name=input()\n",
        "index=int(input())\n",
        "length=len(name)\n",
        "while True:\n",
        "  if length>1:\n",
        "    break\n",
        "  else:\n",
        "    print(\"Invalid Input\")\n",
        "start=len(name)*-1+index\n",
        "end=len(name)*-1-1\n",
        "print(name[start:end:-1]+name[index+1:len(name)])\n"
      ],
      "metadata": {
        "colab": {
          "base_uri": "https://localhost:8080/"
        },
        "id": "Gkw5auJaCjDl",
        "outputId": "b667765a-4f3f-41e0-881f-41a3e30d85b2"
      },
      "execution_count": null,
      "outputs": [
        {
          "output_type": "stream",
          "name": "stdout",
          "text": [
            "cse110\n",
            "2\n",
            "esc110\n"
          ]
        }
      ]
    },
    {
      "cell_type": "code",
      "source": [
        "#02\n",
        "name=input()\n",
        "length=len(name)\n",
        "while True:\n",
        "  if length>1:\n",
        "    break\n",
        "  else:\n",
        "    print(\"Invalid Input\")\n",
        "\n",
        "while True:                                                # it will only take a valid index\n",
        "    index = int(input(\"Sir, please enter the index: \"))\n",
        "    if index >= length:\n",
        "        print(\"Invalid Index,Try Again!\")\n",
        "    else:\n",
        "        break      \n",
        "print(name[index::-1]+name[index+1:])"
      ],
      "metadata": {
        "id": "A3a3ma9q6Cas",
        "outputId": "8e9a22a9-d2f3-4582-f9f8-4b2f8c0655a0",
        "colab": {
          "base_uri": "https://localhost:8080/"
        }
      },
      "execution_count": null,
      "outputs": [
        {
          "output_type": "stream",
          "name": "stdout",
          "text": [
            "cse110\n",
            "Sir, please enter the index: 2\n",
            "esc110\n"
          ]
        }
      ]
    },
    {
      "cell_type": "markdown",
      "source": [
        "3. Write a program that takes a string as input and prints “Binary Number” if the string contains only 0s or 1s. Otherwise, print “Not a Binary Number”.\n"
      ],
      "metadata": {
        "id": "GvDkIJ590kOm"
      }
    },
    {
      "cell_type": "code",
      "source": [
        "# Solution to task 3\n",
        "\n",
        "user_input = input(\"Sir, please enter a word: \")\n",
        "\n",
        "binary = True\n",
        "\n",
        "for character in user_input:\n",
        "    if character not in \"01\":\n",
        "        binary = False\n",
        "\n",
        "if binary:\n",
        "    print(\"Binary Number\")\n",
        "else:\n",
        "    print(\"Not a Binary Number\")"
      ],
      "metadata": {
        "colab": {
          "base_uri": "https://localhost:8080/"
        },
        "id": "-snZw1WsBcHS",
        "outputId": "e6e48694-a954-4caf-88a3-6733b4551d80"
      },
      "execution_count": null,
      "outputs": [
        {
          "output_type": "stream",
          "name": "stdout",
          "text": [
            "Sir, please enter a word: 10127490111\n",
            "Not a Binary Number\n"
          ]
        }
      ]
    },
    {
      "cell_type": "code",
      "source": [
        "#03\n",
        "user_input = input(\"Sir, please enter a word: \")\n",
        "\n",
        "binary = True\n",
        "\n",
        "for i in user_input:\n",
        "    if i not in \"01\":\n",
        "        binary = False\n",
        "\n",
        "if binary:\n",
        "    print(\"Binary Number\")\n",
        "else:\n",
        "    print(\"Not a Binary Number\")"
      ],
      "metadata": {
        "colab": {
          "base_uri": "https://localhost:8080/"
        },
        "id": "HlwK3dRBDkpK",
        "outputId": "ff75737f-ddd1-4e34-f04d-7673e582eb05"
      },
      "execution_count": null,
      "outputs": [
        {
          "output_type": "stream",
          "name": "stdout",
          "text": [
            "Sir, please enter a word: 10127490111\n",
            "Not a Binary Number\n"
          ]
        }
      ]
    },
    {
      "cell_type": "markdown",
      "source": [
        "4. Write a Python program that will ask the user to enter a word as an input. \n",
        "If the length of the input string is less than 4, then your program should print the same string as an output. \n",
        "\n",
        "If the input string’s length is greater than 3, then your program should add \n",
        "\"er\" at the end of the input string. \n",
        "\n",
        "If the input string already ends with \"er\", then add \"est\" instead, regardless\n",
        " of the length of the input string\n",
        "\n",
        "If the input string already ends with \"est\", then your program should print the\n",
        " same input string as an output.\n",
        "\n"
      ],
      "metadata": {
        "id": "mMuiwz_Y0pGt"
      }
    },
    {
      "cell_type": "code",
      "source": [
        "user_input = input(\"Sir, please enter a word: \")\n",
        "length = len(user_input)\n",
        "\n",
        "if length < 4:\n",
        "    print(user_input)\n",
        "elif length > 3:\n",
        "    if user_input.endswith('er'):\n",
        "        \n",
        "        print(user_input.replace('er', 'est'))\n",
        "    elif user_input.endswith('est'):\n",
        "        print(user_input)\n",
        "    else:\n",
        "        print(user_input+\"er\")  \n",
        "        "
      ],
      "metadata": {
        "colab": {
          "base_uri": "https://localhost:8080/"
        },
        "id": "ZHcJU9jvIJd3",
        "outputId": "7374a0e1-3b87-4aff-894c-9c7fe40a5163"
      },
      "execution_count": null,
      "outputs": [
        {
          "output_type": "stream",
          "name": "stdout",
          "text": [
            "Sir, please enter a word: abc\n",
            "abc\n"
          ]
        }
      ]
    },
    {
      "cell_type": "code",
      "source": [
        "#04\n",
        "user_input = input(\"Sir, please enter a word: \")\n",
        "length = len(user_input)\n",
        "\n",
        "if length < 4:\n",
        "    print(user_input)\n",
        "elif length > 3:\n",
        "    if user_input[-2:]==\"er\":\n",
        "       user_input = user_input[0:length-2]+\"est\"\n",
        "       print(user_input)\n",
        "        \n",
        "    elif user_input[-2:]==\"est\":\n",
        "        print(user_input)\n",
        "    else:\n",
        "        print(user_input+\"er\")  \n",
        "        "
      ],
      "metadata": {
        "id": "_xk1wyhjPgqv",
        "colab": {
          "base_uri": "https://localhost:8080/"
        },
        "outputId": "c5417a0f-aa75-455e-828d-e286bb299d68"
      },
      "execution_count": null,
      "outputs": [
        {
          "output_type": "stream",
          "name": "stdout",
          "text": [
            "Sir, please enter a word: boom\n",
            "boomer\n"
          ]
        }
      ]
    },
    {
      "cell_type": "markdown",
      "source": [
        "5. Write a Python program that will ask the user to input a string (containing exactly one word). Then your program should print subsequent substrings of the given string as shown in the examples below.\n"
      ],
      "metadata": {
        "id": "757GfMu00vhe"
      }
    },
    {
      "cell_type": "code",
      "source": [
        "\n",
        "user_input = input(\"Sir, please enter a word: \")\n",
        "length = len(user_input)\n",
        "\n",
        "for counter in range(0, length+1):\n",
        "    print(user_input[0:counter])"
      ],
      "metadata": {
        "colab": {
          "base_uri": "https://localhost:8080/"
        },
        "id": "2dWF3vZtP3s1",
        "outputId": "62300356-d792-47c7-da90-91b6d338fe75"
      },
      "execution_count": null,
      "outputs": [
        {
          "output_type": "stream",
          "name": "stdout",
          "text": [
            "Sir, please enter a word: bangla\n",
            "\n",
            "b\n",
            "ba\n",
            "ban\n",
            "bang\n",
            "bangl\n",
            "bangla\n"
          ]
        }
      ]
    },
    {
      "cell_type": "markdown",
      "source": [
        "6. Write a Python program that will ask the user to input a string (containing exactly one word). Then print the ASCII code for each character in the String using the ord() function. \n",
        "To check if your program is working correctly or not, you can find a list of all correct values from the following website. You may look at “Dec” and “Char” columns only and ignore the other columns for this problem\n"
      ],
      "metadata": {
        "id": "XlDI2GtR0znF"
      }
    },
    {
      "cell_type": "code",
      "source": [
        "# Solution to task 6\n",
        "name=input()\n",
        "length=len(name)\n",
        "for i in range(0,length):\n",
        "    print(f\"{name[i]} : {ord(name[i])}\")\n",
        "\n",
        "    "
      ],
      "metadata": {
        "colab": {
          "base_uri": "https://localhost:8080/"
        },
        "id": "nOiwom_tQvmV",
        "outputId": "b1fccb23-6c56-4ccb-eaf0-d872aa206d92"
      },
      "execution_count": null,
      "outputs": [
        {
          "output_type": "stream",
          "name": "stdout",
          "text": [
            "python\n",
            "p : 112\n",
            "y : 121\n",
            "t : 116\n",
            "h : 104\n",
            "o : 111\n",
            "n : 110\n"
          ]
        }
      ]
    },
    {
      "cell_type": "markdown",
      "source": [
        "7. Write a Python program that takes a string as an input from the user containing all small letters and then prints the next alphabet in sequence for each alphabet in the input.\n",
        "Hint: You may need to use the functions ord() and chr(). The ASCII value of ‘a’ is 97 and ‘z’ is 122.\n"
      ],
      "metadata": {
        "id": "716zBSJz03MF"
      }
    },
    {
      "cell_type": "code",
      "source": [
        "#07\n",
        "x=input()\n",
        "length=len(x)\n",
        "for i in range(0,length):\n",
        "  if x[i] in \"z\":\n",
        "    print('a',end=\"\")\n",
        "  else:\n",
        "    print(chr(ord(x[i])+1),end=\"\")\n"
      ],
      "metadata": {
        "colab": {
          "base_uri": "https://localhost:8080/"
        },
        "id": "6MnUNV2VIpSK",
        "outputId": "ca59848c-7ce1-496e-a510-cef230f5e180"
      },
      "execution_count": null,
      "outputs": [
        {
          "output_type": "stream",
          "name": "stdout",
          "text": [
            "xyz\n",
            "yza"
          ]
        }
      ]
    },
    {
      "cell_type": "markdown",
      "source": [
        "8. Write a Python program that takes a String as input from the user, removes the characters at even index and prints the resulting String in uppercase without using the built-in function upper().\n"
      ],
      "metadata": {
        "id": "0Rn7hooK06pN"
      }
    },
    {
      "cell_type": "code",
      "source": [
        "#08\n",
        "x=input()\n",
        "length=len(x)\n",
        "for i in range(0,length):\n",
        "  if i%2!=0:\n",
        "    y=x[i]\n",
        "    # print(y)\n",
        "    print(y.capitalize(),end=\"\")"
      ],
      "metadata": {
        "colab": {
          "base_uri": "https://localhost:8080/"
        },
        "id": "yx_hEsfjYwra",
        "outputId": "78df674b-263b-4d31-ae9c-6d932aedc236"
      },
      "execution_count": null,
      "outputs": [
        {
          "output_type": "stream",
          "name": "stdout",
          "text": [
            "BALL\n",
            "AL"
          ]
        }
      ]
    },
    {
      "cell_type": "code",
      "source": [
        "#08\n",
        "user_input=input(\"Sir,please enter a lowercase word: \")\n",
        "small_letters=\"abcdefghijklmnopqrstuvwxyz\"\n",
        "result=''\n",
        "large_letters=\"ABCDEFGHIJKLMNOPQRSTUVWXYZ\"\n",
        "for character in user_input:\n",
        "  if character in small_letters:\n",
        "    for index in range(0,len(small_letters)):\n",
        "      if character==small_letters[index]:\n",
        "        result+=large_letters[index]\n",
        "  else:\n",
        "    result+=character\n",
        "print(result[1::2])"
      ],
      "metadata": {
        "colab": {
          "base_uri": "https://localhost:8080/"
        },
        "id": "hqmnmiU5YwpE",
        "outputId": "3812fa13-1e14-4dec-ef27-82305fa87687"
      },
      "execution_count": null,
      "outputs": [
        {
          "output_type": "stream",
          "name": "stdout",
          "text": [
            "Sir,please enter a lowercase word: String\n",
            "TIG\n"
          ]
        }
      ]
    },
    {
      "cell_type": "markdown",
      "source": [
        "9. Given a string, create a new string with all the consecutive duplicates removed. \n",
        "Hint: You may make a new string to store the result. You can check whether the current character and the next character are the same, then add that character to the new string.\n",
        "Note: Only consecutive letters are removed not all duplicate occurrences of a letter. You may try doing this alternative i.e., removing all duplicate letters from a given string, for your own practice.\n"
      ],
      "metadata": {
        "id": "DuBkpUnL0-DM"
      }
    },
    {
      "cell_type": "code",
      "source": [
        "#Solution of task:09\n",
        "word=input(\"Sir,please enter a word: \")\n",
        "old=word[0]\n",
        "new=word[0]\n",
        "for i in range(0,len(word)):\n",
        "  if word[i] not in old:\n",
        "    new+=word[i]\n",
        "    old=word[i]\n",
        "print(new) \n"
      ],
      "metadata": {
        "colab": {
          "base_uri": "https://localhost:8080/"
        },
        "id": "-TyhMVaHGQWQ",
        "outputId": "170c2b72-e77f-42ed-c568-7485bc10a793"
      },
      "execution_count": null,
      "outputs": [
        {
          "output_type": "stream",
          "name": "stdout",
          "text": [
            "Sir,please enter a word: Tapppppppim\n",
            "Tapim\n"
          ]
        }
      ]
    },
    {
      "cell_type": "code",
      "source": [
        "#Solution:09(Method:02)\n",
        "word=input(\"Sir,please enter a word \")\n",
        "length=len(word)\n",
        "new=word[0]\n",
        "for i in range(1,length):\n",
        "  if word[i-1]!=word[i]:\n",
        "    new+=word[i]\n",
        "print(new)    "
      ],
      "metadata": {
        "colab": {
          "base_uri": "https://localhost:8080/"
        },
        "id": "6LBysb9S7Xs9",
        "outputId": "9689fbde-9ff0-4c81-84b8-960b26948562"
      },
      "execution_count": null,
      "outputs": [
        {
          "output_type": "stream",
          "name": "stdout",
          "text": [
            "Sir,please enter a wordTapppppppimm\n",
            "Tapim\n"
          ]
        }
      ]
    },
    {
      "cell_type": "code",
      "source": [
        "#Solution of task:10 (breakdown)\n",
        "word1='ABCDEFGH'\n",
        "word2='ijkl'\n",
        "large_word=len(word1)\n",
        "small_word=len(word2)\n",
        "add=''\n",
        "for counter in range(0,small_word):\n",
        "  add+=word1[counter]+word2[counter]\n",
        "new_word=''\n",
        "new_word=add+word1[counter+1:]\n",
        "print(new_word)  \n"
      ],
      "metadata": {
        "colab": {
          "base_uri": "https://localhost:8080/"
        },
        "id": "Q0bKjfRVTUKm",
        "outputId": "48c045f0-2291-4b03-f0c3-b3f144764c1f"
      },
      "execution_count": null,
      "outputs": [
        {
          "output_type": "stream",
          "name": "stdout",
          "text": [
            "AiBjCkDlEFGH\n"
          ]
        }
      ]
    },
    {
      "cell_type": "markdown",
      "source": [
        "10. Write a Python program that will take one input from the user made up of two strings separated by a comma and a space (see samples below). Then create a mixed string with alternative characters from each string. Any leftover chars will be appended at the end of the resulting string. [ Do not use lists for this task]\n",
        "Hint: For adding the leftover characters you may use string slicing.\n",
        "\n"
      ],
      "metadata": {
        "id": "pfT7s6QT1Dj1"
      }
    },
    {
      "cell_type": "code",
      "source": [
        "#Solution of task:10 (Complete)\n",
        "a=input()                                      #NASHID, nashid2509\n",
        "x=\"\"                                           #empty string jeikhane apatoto keu nai\n",
        "\n",
        "for i in range(len(a)):                        #loop chaliye dekbo dustu comma koi aseh\n",
        "  if a[i]==\",\":                                #comma er position check korbe\n",
        "    c=a[:i]                                    #comma er left side er portion ke alada kore onno jaygay rakhbo\n",
        "    d=a[i+2:]                                  ##comma and space er right side er portion ke alada kore onno jaygay rakhbo [ comma+space(i+2) ]\n",
        "\n",
        "if len(c)>len(d):                              #If NASHID>>nashid2509 nki?\n",
        "  for i in range(len(d)):                      #je small tar index ke dhorbo\n",
        "    x=c[i]+d[i]                                #duijaiga theke shoman word nibo\n",
        "  x+=c[len(d):]                                #extra word jeita thakbe shetake shobar shesh e print korbo\n",
        "\n",
        "\n",
        "else:                                            #If nashid2509>>NASHID nki?\n",
        "  for i in range(len(c)):     \n",
        "    x+=c[i]+d[i]                                    #je small tar index ke dhorbo...#duijaiga theke shoman word nibo\n",
        "  x+=d[len(c):]                                        #extra word jeita thakbe shetake shobar shesh e print korbo\n",
        "print(x)      \n",
        "     "
      ],
      "metadata": {
        "id": "-J5-PMg9O9zv",
        "colab": {
          "base_uri": "https://localhost:8080/"
        },
        "outputId": "8a4e29df-27e2-4a3a-d5e3-b075c4c4c5bd"
      },
      "execution_count": null,
      "outputs": [
        {
          "output_type": "stream",
          "name": "stdout",
          "text": [
            "RAMISA, ramisa2509\n",
            "RrAaMmIiSsAa2509\n"
          ]
        }
      ]
    },
    {
      "cell_type": "code",
      "source": [
        "#Solution of task:10 (breakdown)\n",
        "word1=input(\"Sir,please enter a word\")\n",
        "word2=input(\"Sir,please enter another word\")\n",
        "if len(word1)>len(word2):\n",
        "  add=''\n",
        "  for counter in range(0,len(word2)):\n",
        "    add+=word1[counter]+word2[counter]\n",
        "  new_word=''\n",
        "  new_word=add+word1[counter+1:]\n",
        "else:\n",
        "  add=''\n",
        "  for counter in range(0,len(word1)):\n",
        "    add+=word1[counter]+word2[counter]\n",
        "  new_word=''\n",
        "  new_word=add+word2[counter+1:]\n",
        "\n",
        "print(new_word)  \n"
      ],
      "metadata": {
        "colab": {
          "base_uri": "https://localhost:8080/"
        },
        "id": "9Vn7Wpz_iQQE",
        "outputId": "e54ce72a-4da8-4622-aba2-3b4f340e4ff0"
      },
      "execution_count": null,
      "outputs": [
        {
          "output_type": "stream",
          "name": "stdout",
          "text": [
            "Sir,please enter a wordABCDEFGH\n",
            "Sir,please enter another wordabcd\n",
            "AaBbCcDdEFGH\n"
          ]
        }
      ]
    },
    {
      "cell_type": "code",
      "source": [
        "#Solution of task:10 (breakdown)\n",
        "word=input(\"Tell \")\n",
        "\n",
        "for i in range(len(word)):\n",
        "  if word[i]==\",\":\n",
        "    word1=word[:i]\n",
        "    word2=word[i+2:]\n",
        "print(word1)\n",
        "print(word2)\n",
        "if len(word1)>len(word2):\n",
        "  add=''\n",
        "  for counter in range(0,len(word2)):\n",
        "    add+=word1[counter]+word2[counter]\n",
        "  new_word=''\n",
        "  new_word=add+word1[counter+1:]\n",
        "\n",
        "else:\n",
        "\n",
        "  add=''\n",
        "  for counter in range(0,len(word1)):\n",
        "    add+=word1[counter]+word2[counter]\n",
        "  new_word=''\n",
        "  new_word=add+word2[counter+1:]\n",
        "\n",
        "print(new_word)  \n"
      ],
      "metadata": {
        "colab": {
          "base_uri": "https://localhost:8080/"
        },
        "id": "WvMizZGkjEHs",
        "outputId": "03789baa-4c17-4620-de85-658aa0907e55"
      },
      "execution_count": null,
      "outputs": [
        {
          "output_type": "stream",
          "name": "stdout",
          "text": [
            "Tell RAMISA, ramisa2509\n",
            "RAMISA\n",
            "ramisa2509\n",
            "RrAaMmIiSsAa2509\n"
          ]
        }
      ]
    },
    {
      "cell_type": "code",
      "source": [
        "# Write a program to print a word such that one become capital and other small\n",
        "user=input()\n",
        "result=\"\"\n",
        "cap=True\n",
        "for i in user:\n",
        "  if i==\" \":\n",
        "    result+=i\n",
        "  elif cap:\n",
        "    result+=i.upper()\n",
        "    cap=False\n",
        "  else:\n",
        "    result+=i.lower()\n",
        "    cap=True\n",
        "print(result)"
      ],
      "metadata": {
        "colab": {
          "base_uri": "https://localhost:8080/"
        },
        "id": "WsFMMp_TZyVO",
        "outputId": "09f83d3c-b559-4a9f-a16a-46aea9c159f9"
      },
      "execution_count": null,
      "outputs": [
        {
          "output_type": "stream",
          "name": "stdout",
          "text": [
            "kamado kamadi\n",
            "KaMaDo KaMaDi\n"
          ]
        }
      ]
    },
    {
      "cell_type": "markdown",
      "source": [
        "17. Write a python program that splits a given string on a given split character. The first input is a String and the second input is the character that will be used to split the first String. \n"
      ],
      "metadata": {
        "id": "1PHUTjr_1M2v"
      }
    },
    {
      "cell_type": "code",
      "source": [
        "#Task:17\n",
        "user=input()\n",
        "omit=input()\n",
        "result=\"\"\n",
        "for i in user:\n",
        "  if i==omit:\n",
        "    result+=\"\\n\"\n",
        "  else:\n",
        "    result+=i\n",
        "print(result)\n",
        "\n"
      ],
      "metadata": {
        "colab": {
          "base_uri": "https://localhost:8080/"
        },
        "id": "wxcyX77-joWL",
        "outputId": "2f009072-75b0-42a6-d09c-e34ed3c2479e"
      },
      "execution_count": null,
      "outputs": [
        {
          "output_type": "stream",
          "name": "stdout",
          "text": [
            "This-is-CSE110\n",
            "-\n",
            "This\n",
            "is\n",
            "CSE110\n"
          ]
        }
      ]
    },
    {
      "cell_type": "markdown",
      "source": [
        "18. Write a python program that takes two inputs. The first input is a string and the second input is a number. If the number is even then concatenate the given string two times the given number and if the number is odd then concatenate the given string three times the given number.\n"
      ],
      "metadata": {
        "id": "6wrY0L7d1PqO"
      }
    },
    {
      "cell_type": "code",
      "source": [
        "#18\n",
        "user=input()\n",
        "times=int(input())\n",
        "result=\"\"\n",
        "for i in user:\n",
        "  if times%2==0:\n",
        "    result=times*user*2\n",
        "  else:\n",
        "    result=times*user*3\n",
        "print(result)    "
      ],
      "metadata": {
        "colab": {
          "base_uri": "https://localhost:8080/"
        },
        "id": "PLIG6QFDkT2z",
        "outputId": "c207541f-30a9-45a1-e24c-c0b6c44bd1ff"
      },
      "execution_count": null,
      "outputs": [
        {
          "output_type": "stream",
          "name": "stdout",
          "text": [
            "CSE110\n",
            "3\n",
            "CSE110CSE110CSE110CSE110CSE110CSE110CSE110CSE110CSE110\n"
          ]
        }
      ]
    },
    {
      "cell_type": "code",
      "source": [
        "# Solution to task 18\n",
        "\n",
        "user_input = input(\"Sir, please enter a word: \")\n",
        "checker = int(input(\"Sir, please enter the checker: \"))\n",
        "\n",
        "if checker % 2 == 0:\n",
        "    print(user_input*2*checker)\n",
        "else:\n",
        "    print(user_input*3*checker)"
      ],
      "metadata": {
        "id": "fJYALxQElW5D"
      },
      "execution_count": null,
      "outputs": []
    },
    {
      "cell_type": "markdown",
      "source": [
        "19. Write a python program that takes a string as an input from the user and then modifies the string in such a way that the string always starts with an uppercase letter and the case of each subsequent letter is the opposite of the previous letter (uppercase character followed by a lowercase character followed by an uppercase character and so on). Finally, the modified string is printed to show the user.\n"
      ],
      "metadata": {
        "id": "cIoM_3GN1TFd"
      }
    },
    {
      "cell_type": "code",
      "source": [
        "# Solution to Task 19\n",
        "\n",
        "user_input = input(\"Sir please enter a sentence: \")\n",
        "length = len(user_input)\n",
        "result = user_input.upper()[0]\n",
        "toggle = True\n",
        "\n",
        "for counter in range(1, length):\n",
        "\n",
        "    if user_input[counter] in \"0123456789 \":\n",
        "        result += user_input[counter]\n",
        "    elif toggle:\n",
        "        result += user_input.lower()[counter]\n",
        "        toggle = False\n",
        "    elif not toggle:\n",
        "        result += user_input.upper()[counter]\n",
        "        toggle = True\n",
        "\n",
        "print(result)"
      ],
      "metadata": {
        "id": "BkpGb6KblZYc"
      },
      "execution_count": null,
      "outputs": []
    },
    {
      "cell_type": "markdown",
      "source": [
        "16. Write a python program that takes 2 inputs from the user. The first input is a string and the second input is a letter. The program should remove all occurences of the letter from the given string and print the output. If the letter is not found in the string and the length of string is greater than 3, then remove the first letter and last letter of the given string and print it. Otherwise print the string as it is. You can assume that all the input will be in lowercase letter.\n"
      ],
      "metadata": {
        "id": "nmKzLRG81Wsm"
      }
    },
    {
      "cell_type": "code",
      "source": [
        "#16\n",
        "user=input()\n",
        "letter=input()\n",
        "replace_with=\"\"\n",
        "result=\"\"\n",
        "if letter in user:\n",
        "  for i in user:\n",
        "    if i==letter:\n",
        "      result+=replace_with\n",
        "    else:\n",
        "      result+=i\n",
        "  print(result)    \n",
        "else:\n",
        "  if len(user)>3:\n",
        "    print(user[1:-1])\n",
        "  else:\n",
        "    print(user)          "
      ],
      "metadata": {
        "colab": {
          "base_uri": "https://localhost:8080/"
        },
        "id": "mM_zFMM9m0Yj",
        "outputId": "1c9c6093-0bc4-4544-d487-c7e7da209db0"
      },
      "execution_count": null,
      "outputs": [
        {
          "output_type": "stream",
          "name": "stdout",
          "text": [
            "tanjiro kamado\n",
            "a\n",
            "tnjiro kmdo\n"
          ]
        }
      ]
    },
    {
      "cell_type": "code",
      "source": [
        "#Extra vowel problem\n",
        "string=input()\n",
        "result=''\n",
        "for i in string:\n",
        "  if i in  'aeoiu':\n",
        "    result+=str(5)\n",
        "  else:\n",
        "    result+=i \n",
        "print(result)    "
      ],
      "metadata": {
        "colab": {
          "base_uri": "https://localhost:8080/"
        },
        "id": "gDJvlJUeugv0",
        "outputId": "1ccafbe1-8e97-47ff-8aff-3ffd912fb4b7"
      },
      "execution_count": null,
      "outputs": [
        {
          "output_type": "stream",
          "name": "stdout",
          "text": [
            "apple\n",
            "5ppl5\n"
          ]
        }
      ]
    },
    {
      "cell_type": "code",
      "source": [
        "#extra practise problem see output and figure out the question \n",
        "string =input()\n",
        "\n",
        "#initialize new empty string\n",
        "result =\"\"\n",
        "string = string.lower()\n",
        "\n",
        "for i in string:\n",
        "    #check condition if alphabet belong to group of vowels\n",
        "    if i in 'aeiou':\n",
        "        pass\n",
        "    else:\n",
        "        result = result + i\n",
        "\n",
        "#check for if the result is not null\n",
        "if len(result) == 0:\n",
        "    print('No vowel found in ' + string)\n",
        "else:\n",
        "    print('After removing vowels : ' + result)"
      ],
      "metadata": {
        "colab": {
          "base_uri": "https://localhost:8080/"
        },
        "id": "PEgfQTR5vzFU",
        "outputId": "02805c2e-35bd-4049-a3b2-23baa4e1df28"
      },
      "execution_count": null,
      "outputs": [
        {
          "output_type": "stream",
          "name": "stdout",
          "text": [
            "apple\n",
            "After removing vowels : ppl\n"
          ]
        }
      ]
    },
    {
      "cell_type": "code",
      "source": [
        "#extras\n",
        "word=input()\n",
        "print(\"The input string is:\", word)\n",
        "mySet = set(word)\n",
        "for i in mySet:\n",
        "    count = 0\n",
        "    for character in word:\n",
        "        if character == i:\n",
        "            count+= 1\n",
        "    print(f\"{i}={count}\")            "
      ],
      "metadata": {
        "colab": {
          "base_uri": "https://localhost:8080/"
        },
        "id": "PiGHLBYs5O0B",
        "outputId": "5d5317a8-32bf-4dbc-b5c9-9df8dd1a95a5"
      },
      "execution_count": null,
      "outputs": [
        {
          "output_type": "stream",
          "name": "stdout",
          "text": [
            "xxasssddd\n",
            "The input string is: xxasssddd\n",
            "a=1\n",
            "d=3\n",
            "s=3\n",
            "x=2\n"
          ]
        }
      ]
    },
    {
      "cell_type": "code",
      "source": [
        "#Again palindrome siuuuuuuuuuu\n",
        "s=input()\n",
        "count=0\n",
        "length=len(s)-1\n",
        "if (len(s)%2==0):\n",
        "    for i in range(len(s)//2):\n",
        "        if(s[i]!=[length-i]):\n",
        "            count+=1\n",
        "else:\n",
        "    for i in range(len(s)//2+1):\n",
        "        if (s[i]!=s[length-i]):\n",
        "            count+=1\n",
        "print(count)      "
      ],
      "metadata": {
        "id": "2H4lTKPUCZ1B"
      },
      "execution_count": null,
      "outputs": []
    },
    {
      "cell_type": "code",
      "source": [
        "#practise for tracing \n",
        "print(7+5-(42+7/5)/3.0%2)"
      ],
      "metadata": {
        "colab": {
          "base_uri": "https://localhost:8080/"
        },
        "id": "vOsWX65VPusn",
        "outputId": "fc155ea8-6247-4d58-c05a-52e6a45b39d2"
      },
      "execution_count": null,
      "outputs": [
        {
          "output_type": "stream",
          "name": "stdout",
          "text": [
            "11.533333333333333\n"
          ]
        }
      ]
    },
    {
      "cell_type": "code",
      "source": [
        "n=4\n",
        "for i in range(n):\n",
        "  for j in range(i,n):\n",
        "    print(\" \",end=\"\")\n",
        "  for j in range(i+1):\n",
        "    print(\"#\",end=\"\") \n",
        "  print()   "
      ],
      "metadata": {
        "colab": {
          "base_uri": "https://localhost:8080/"
        },
        "id": "sPfHgQqSkVJn",
        "outputId": "64a959b4-fe1d-4447-cb97-61d496901a26"
      },
      "execution_count": null,
      "outputs": [
        {
          "output_type": "stream",
          "name": "stdout",
          "text": [
            "    #\n",
            "   ##\n",
            "  ###\n",
            " ####\n"
          ]
        }
      ]
    },
    {
      "cell_type": "code",
      "source": [
        "user=input()\n",
        "count=input()\n",
        "result=0\n",
        "for i in user:\n",
        "  if i==count:\n",
        "    result=+1    \n",
        "print(result)"
      ],
      "metadata": {
        "colab": {
          "base_uri": "https://localhost:8080/"
        },
        "id": "ZvtZsZNVppIN",
        "outputId": "3d58b017-51b1-425b-902d-0482baa3d065"
      },
      "execution_count": null,
      "outputs": [
        {
          "output_type": "stream",
          "name": "stdout",
          "text": [
            "aaa\n",
            "a\n",
            "1\n"
          ]
        }
      ]
    },
    {
      "cell_type": "code",
      "source": [
        "# UB71202\n",
        "user=input()\n",
        "print(f\"Building:{int(user[2:3])} , Floor:{int(user[3:5])}, Room:{int(user[5:])} \")"
      ],
      "metadata": {
        "colab": {
          "base_uri": "https://localhost:8080/"
        },
        "id": "8drPIP2QrS99",
        "outputId": "f2cf54ad-452d-4b15-f37c-2e119acec94f"
      },
      "execution_count": null,
      "outputs": [
        {
          "output_type": "stream",
          "name": "stdout",
          "text": [
            "UB71202\n",
            "Building:7 , Floor:12, Room:2 \n"
          ]
        }
      ]
    },
    {
      "cell_type": "code",
      "source": [
        "#pASSWORD GENERATOR\n",
        "user_input=input(\"Press 8 digit character\")\n",
        "small=\"abcdefghijklmnopqrstuvwxyz\"\n",
        "large=\"ABCDEFGHIJKLMNOPQRSTUVWXYZ\"\n",
        "digit_scope=\"0123456789\"\n",
        "special_scope=\"$#%\"\n",
        "small_no=0\n",
        "large_no=0\n",
        "special_scope_no=0\n",
        "digit_scope_no=0\n",
        "\n",
        "for i in user_input:\n",
        "   if i in small:\n",
        "     small_no+=1\n",
        "   if i in large:\n",
        "     large_no+=1\n",
        "   if i in special_scope:\n",
        "     special_scope_no+=1\n",
        "   if i in digit_scope:\n",
        "     digit_scope_no+=1\n",
        "if large_no>=1 and special_scope_no>=1 and small_no>=1 and digit_scope_no>=1:   \n",
        "    print(\"valid\") \n",
        "else:\n",
        "     print(\"Invalid\") \n",
        " "
      ],
      "metadata": {
        "colab": {
          "base_uri": "https://localhost:8080/"
        },
        "id": "-5GOMagxtvut",
        "outputId": "bd3d19dd-1d36-4e28-b81a-9ca9d4b3295d"
      },
      "execution_count": null,
      "outputs": [
        {
          "output_type": "stream",
          "name": "stdout",
          "text": [
            "Press 8 digit characternashid#6528%\n",
            "Invalid\n"
          ]
        }
      ]
    },
    {
      "cell_type": "code",
      "source": [
        "user=input()\n",
        "large=\"ABCDEFGHIJKLMNOPQRSTUVWXYZ\"\n",
        "small=\"abcdefghijklmnopqrstuvwxyz\"\n",
        "special=\"%$#\"\n",
        "digit=\"0123456789\"\n",
        "result=0\n",
        "for i in range(len(user)):\n",
        "  if i%2!=0 and user[i] in large:\n",
        "    result+=ord(user[i])\n",
        "  if i%2!=0 and user[i] in small:\n",
        "    result+=ord(user[i])\n",
        "  if i%2!=0 and user[i] in digit:\n",
        "    result+=ord(user[i])\n",
        "  else:\n",
        "    pass\n",
        "print(result)          "
      ],
      "metadata": {
        "colab": {
          "base_uri": "https://localhost:8080/"
        },
        "id": "VdZQO_qwZsV0",
        "outputId": "dbd94308-7cfa-4409-d6da-d3fadcdf3987"
      },
      "execution_count": null,
      "outputs": [
        {
          "output_type": "stream",
          "name": "stdout",
          "text": [
            "apple\n",
            "220\n"
          ]
        }
      ]
    },
    {
      "cell_type": "code",
      "source": [
        "user=int(input())\n",
        "counter=1\n",
        "y=0\n",
        "for i in range(3,3*user+1,3):\n",
        "  if i%9==0:\n",
        "    y-=(counter*i)**2\n",
        "  else:\n",
        "    y+=(counter*i)**2\n",
        "print(y)      "
      ],
      "metadata": {
        "colab": {
          "base_uri": "https://localhost:8080/"
        },
        "id": "z7ji1USgdMMK",
        "outputId": "4784e2c7-7ee1-412e-9a7a-df9b1751f58e"
      },
      "execution_count": null,
      "outputs": [
        {
          "output_type": "stream",
          "name": "stdout",
          "text": [
            "4\n",
            "108\n"
          ]
        }
      ]
    },
    {
      "cell_type": "code",
      "source": [
        "user_input=input()\n",
        "space=\" \"\n",
        "result=0\n",
        "result1=0\n",
        "result3=0\n",
        "result4=0\n",
        "lower_case=\"abcdefghijklmnopqrstuvwxyz\"\n",
        "upper_case=\"ABCDEFGHIJKLMNOPQRSTUVWXYZ\"\n",
        "digits=\"0123456789\"\n",
        "special_characters=\"$#@%\"\n",
        "\n",
        "for i in range(len(user_input)):\n",
        "  if user_input[i] in space:\n",
        "    pass\n",
        "  if user_input[i] in upper_case:\n",
        "    result+=ord(user_input[i])\n",
        "\n",
        "  if user_input[i] in lower_case:\n",
        "    result1+=ord(user_input[i])\n",
        "    \n",
        "  \n",
        "  if user_input[i] in digits:\n",
        "    result3+=ord(user_input[i])\n",
        "  if user_input[i] in special_characters:\n",
        "    result4+=ord(user_input[i])\n",
        "  \n",
        "  else:\n",
        "    pass\n",
        "print(result,result3,result4,sep=\"\" )"
      ],
      "metadata": {
        "colab": {
          "base_uri": "https://localhost:8080/",
          "height": 235
        },
        "id": "H5XbwYmn-V7p",
        "outputId": "cf13e0dd-d6c7-4022-c23a-e6cb6c7651b5"
      },
      "execution_count": null,
      "outputs": [
        {
          "output_type": "error",
          "ename": "TypeError",
          "evalue": "ignored",
          "traceback": [
            "\u001b[0;31m---------------------------------------------------------------------------\u001b[0m",
            "\u001b[0;31mTypeError\u001b[0m                                 Traceback (most recent call last)",
            "\u001b[0;32m<ipython-input-46-26905db1f2bc>\u001b[0m in \u001b[0;36m<module>\u001b[0;34m\u001b[0m\n\u001b[0;32m----> 1\u001b[0;31m \u001b[0muser_input\u001b[0m\u001b[0;34m=\u001b[0m\u001b[0minput\u001b[0m\u001b[0;34m(\u001b[0m\u001b[0;34m)\u001b[0m\u001b[0;34m\u001b[0m\u001b[0;34m\u001b[0m\u001b[0m\n\u001b[0m\u001b[1;32m      2\u001b[0m \u001b[0mspace\u001b[0m\u001b[0;34m=\u001b[0m\u001b[0;34m\" \"\u001b[0m\u001b[0;34m\u001b[0m\u001b[0;34m\u001b[0m\u001b[0m\n\u001b[1;32m      3\u001b[0m \u001b[0mresult\u001b[0m\u001b[0;34m=\u001b[0m\u001b[0;36m0\u001b[0m\u001b[0;34m\u001b[0m\u001b[0;34m\u001b[0m\u001b[0m\n\u001b[1;32m      4\u001b[0m \u001b[0mresult1\u001b[0m\u001b[0;34m=\u001b[0m\u001b[0;36m0\u001b[0m\u001b[0;34m\u001b[0m\u001b[0;34m\u001b[0m\u001b[0m\n\u001b[1;32m      5\u001b[0m \u001b[0mresult3\u001b[0m\u001b[0;34m=\u001b[0m\u001b[0;36m0\u001b[0m\u001b[0;34m\u001b[0m\u001b[0;34m\u001b[0m\u001b[0m\n",
            "\u001b[0;31mTypeError\u001b[0m: 'str' object is not callable"
          ]
        }
      ]
    },
    {
      "cell_type": "code",
      "source": [
        "word=input()\n",
        "cap=\"\" \n",
        "small=\"\"\n",
        "dig=\"\" \n",
        "special =\"\"\n",
        "for i in range(len(word)):\n",
        "   if ord(\"Z\") >= ord(i) >= ord(\"A\"):\n",
        "       cap += i\n",
        "   elif ord(\"z\") >= ord(i) >= ord(\"a\"):\n",
        "       small += i\n",
        "   elif ord(\"9\") >= ord(i) >= ord(\"0\"):\n",
        "       dig += i\n",
        "   elif ord(i) == ord(\"@\") or ord(i) == ord(\"$\"):\n",
        "       special += i\n",
        "print(cap, small, dig, special, sep =\"\\n\")\n",
        "\n",
        "re=\"\"\n",
        "for i in range(len(dig)):\n",
        "     re += cap[i]\n",
        "     re += small[i]\n",
        "     re += dig[0]\n",
        "     re += special[0]\n",
        "print(re)"
      ],
      "metadata": {
        "id": "sQgcGKg9lEPM"
      },
      "execution_count": null,
      "outputs": []
    },
    {
      "cell_type": "code",
      "source": [
        "#Solution: 02(Problemmmmmmmmmmm)\n",
        "a=input()\n",
        "\n",
        "print(a)\n",
        "a=a.strip(\"''\")[1:-1].split(\",\")\n",
        "\n",
        "print(a)\n",
        "list=[]\n",
        "for i in a:\n",
        "   list.append(i[-1::-1].strip('\"'))\n",
        "   \n",
        "print(list)   \n"
      ],
      "metadata": {
        "id": "vUu9JKiO3FjJ"
      },
      "execution_count": null,
      "outputs": []
    },
    {
      "cell_type": "code",
      "source": [
        "#Happy ending"
      ],
      "metadata": {
        "id": "6Nxew0j13T5z"
      },
      "execution_count": null,
      "outputs": []
    }
  ]
}