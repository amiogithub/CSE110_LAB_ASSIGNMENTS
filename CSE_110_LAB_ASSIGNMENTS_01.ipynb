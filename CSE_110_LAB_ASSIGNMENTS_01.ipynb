{
  "nbformat": 4,
  "nbformat_minor": 0,
  "metadata": {
    "colab": {
      "provenance": [],
      "collapsed_sections": []
    },
    "kernelspec": {
      "name": "python3",
      "display_name": "Python 3"
    },
    "language_info": {
      "name": "python"
    }
  },
  "cells": [
    {
      "cell_type": "markdown",
      "source": [
        "# Task # 1. Write a Python program that prints \"hello world\" in a console. "
      ],
      "metadata": {
        "id": "j2nImoOwbq8C"
      }
    },
    {
      "cell_type": "code",
      "execution_count": null,
      "metadata": {
        "colab": {
          "base_uri": "https://localhost:8080/"
        },
        "id": "dN0GRw87aR7b",
        "outputId": "13a3819c-0963-4c74-e23d-413f46221cea"
      },
      "outputs": [
        {
          "output_type": "stream",
          "name": "stdout",
          "text": [
            "hello World\n"
          ]
        }
      ],
      "source": [
        "print(\"hello World\")"
      ]
    },
    {
      "cell_type": "markdown",
      "source": [
        "# **Task#2. Write a Python program that prints the summation of 54 and 56. The program must use Python operators and numbers but not use any variables.**\n"
      ],
      "metadata": {
        "id": "7teSCB-Cc0ZK"
      }
    },
    {
      "cell_type": "code",
      "source": [
        "print(54+56)"
      ],
      "metadata": {
        "colab": {
          "base_uri": "https://localhost:8080/"
        },
        "id": "GD0xegZac3L7",
        "outputId": "065ed562-a12f-4c85-d132-28b148c371ea"
      },
      "execution_count": null,
      "outputs": [
        {
          "output_type": "stream",
          "name": "stdout",
          "text": [
            "110\n"
          ]
        }
      ]
    },
    {
      "cell_type": "markdown",
      "source": [
        "## Task#3. Write a Python program that assigns the values \"Fall\" and 2022 to variables `season` and `year` respectively. Then, print the values of both variables in separate lines."
      ],
      "metadata": {
        "id": "0wfIshLCeXPU"
      }
    },
    {
      "cell_type": "code",
      "source": [
        "season=\"Fall\"\n",
        "year=2022\n",
        "print(season)\n",
        "print(year)"
      ],
      "metadata": {
        "colab": {
          "base_uri": "https://localhost:8080/"
        },
        "id": "f7NcBk8RdFNx",
        "outputId": "25cdcf9d-04ec-448a-8716-59c35b8e575c"
      },
      "execution_count": null,
      "outputs": [
        {
          "output_type": "stream",
          "name": "stdout",
          "text": [
            "Fall\n",
            "2022\n"
          ]
        }
      ]
    },
    {
      "cell_type": "code",
      "source": [
        "name_1=input(\"Sir,please enter your name: \")\n",
        "print(\"Your name is\",name_1+\".\")"
      ],
      "metadata": {
        "colab": {
          "base_uri": "https://localhost:8080/"
        },
        "id": "oPz5ElvUfxMo",
        "outputId": "6d69931c-ef9e-4dd4-d431-414fc786c80a"
      },
      "execution_count": null,
      "outputs": [
        {
          "output_type": "stream",
          "name": "stdout",
          "text": [
            "Sir,please enter your name: ron\n",
            "Your name is ron.\n"
          ]
        }
      ]
    },
    {
      "cell_type": "markdown",
      "source": [
        "# Task# 4. Write a Python program that reads the name of the user and prints it back as shown in the example below.\n"
      ],
      "metadata": {
        "id": "nUwHIg6_ftTK"
      }
    },
    {
      "cell_type": "code",
      "source": [
        "#TASK 4\n",
        "name = input(\"Sir,please enter your name: \")\n",
        "print (\"Your name is \", name)\n"
      ],
      "metadata": {
        "colab": {
          "base_uri": "https://localhost:8080/"
        },
        "id": "CUayXRvgsHmq",
        "outputId": "0a645b20-1a64-454b-d704-9ffaf57448db"
      },
      "execution_count": null,
      "outputs": [
        {
          "output_type": "stream",
          "name": "stdout",
          "text": [
            "Sir,please enter your name: Albert\n",
            "Your name is  Albert\n"
          ]
        }
      ]
    },
    {
      "cell_type": "markdown",
      "source": [
        "Task#5. Write a Python program that reads two integers M and N respectively and finds the value of M^N (or MN) and prints the value as shown in the *example.\n"
      ],
      "metadata": {
        "id": "MUrTbVGunsnT"
      }
    },
    {
      "cell_type": "code",
      "source": [
        "M=int(input(\"Sir,please enter your first integer: \"))\n",
        "N=int(input(\"Sir,please enter your second integer: \"))\n",
        "# pow=M**N\n",
        "# print(\"The result of M^N is :\", M**N)\n",
        "print(f\"The result of {M}^{N} is {M**N}\")\n"
      ],
      "metadata": {
        "colab": {
          "base_uri": "https://localhost:8080/"
        },
        "id": "oCcUtNTlnw1b",
        "outputId": "024c9c56-f674-4f08-dba2-be28e3551197"
      },
      "execution_count": null,
      "outputs": [
        {
          "output_type": "stream",
          "name": "stdout",
          "text": [
            "Sir,please enter your first integer: 10\n",
            "Sir,please enter your second integer: 3\n",
            "The result of 10^3 is 1000\n"
          ]
        }
      ]
    },
    {
      "cell_type": "markdown",
      "source": [
        "# Task#6.Write a Python program that reads the total weight of the shipment and prints the maximum load (or weight) the boat can take from the given shipment. We can assume that the weight of each good is exactly 1 unit, therefore, the weight of 5 units means there are 5 (loose) items in the shipment.\n"
      ],
      "metadata": {
        "id": "QX-JyzSMvGzE"
      }
    },
    {
      "cell_type": "code",
      "source": [
        "loads=int(input(\"Sir,please enter the total weight of the shipment :\"))\n",
        "reminder=loads%4\n",
        "maximum=loads-reminder\n",
        "print(\"The maximum amount of weight the sailor can carry at each shipment is\",maximum)"
      ],
      "metadata": {
        "colab": {
          "base_uri": "https://localhost:8080/"
        },
        "id": "aVouW3SavJwk",
        "outputId": "d8026368-adcc-4134-ab80-c7f8c93d446d"
      },
      "execution_count": null,
      "outputs": [
        {
          "output_type": "stream",
          "name": "stdout",
          "text": [
            "Sir,please enter the amount of weight:9\n",
            "The amount of maximum weight 8\n"
          ]
        }
      ]
    },
    {
      "cell_type": "code",
      "source": [
        "#TASK 6\n",
        "weight = int(input(\"Please enter the total weight of the shipment : \"))\n",
        "floor = weight // 4\n",
        "final = floor * 4\n",
        "print (\"The maximum amount of weight the sailor can carry at each shipment is\",maximum)"
      ],
      "metadata": {
        "colab": {
          "base_uri": "https://localhost:8080/"
        },
        "id": "W9xVvjoXudCr",
        "outputId": "0dbf62f4-04e6-4d70-d813-a14cf91db69d"
      },
      "execution_count": null,
      "outputs": [
        {
          "output_type": "stream",
          "name": "stdout",
          "text": [
            "Sir,please enter the total weight of the shipment : 23\n",
            "The maximum amount of weight the sailor can carry at each shipment is 8\n"
          ]
        }
      ]
    },
    {
      "cell_type": "markdown",
      "source": [
        "# Task#07. Write a Python program that reads 3 integers A, B, and C respectively, and then reads a floating point number D. After reading, the program should print the result (as int) using the given formula below"
      ],
      "metadata": {
        "id": "QRF2SeyOy0XM"
      }
    },
    {
      "cell_type": "code",
      "source": [
        "A=int( input(\"Please enter your first integer: \"))\n",
        "B=int (input(\"Please enter your second integer: \"))\n",
        "C=int( input(\"Please enter your third integer: \"))\n",
        "D=float( input(\"Please enter your fourth integer: \"))\n",
        "formula=A**C+B*A\n",
        "formula2=(D/3)\n",
        "final=formula-formula2\n",
        "print(int(final))\n",
        "\n",
        "\n",
        "\n"
      ],
      "metadata": {
        "colab": {
          "base_uri": "https://localhost:8080/"
        },
        "id": "ZVU_OfhNy1BM",
        "outputId": "f31ea65e-f68b-4467-c67b-85e58bd24e71"
      },
      "execution_count": null,
      "outputs": [
        {
          "output_type": "stream",
          "name": "stdout",
          "text": [
            "Please enter your first integer: 2\n",
            "Please enter your second integer: 6\n",
            "Please enter your third integer: 8\n",
            "Please enter your fourth integer: 1.3\n",
            "267\n"
          ]
        }
      ]
    },
    {
      "cell_type": "code",
      "source": [
        "#TASK 07\n",
        "a = int(input(\"Please enter your first integer: \"))\n",
        "b = int(input(\"Please enter your second integer: \"))\n",
        "c = int(input(\"Please enter your third integer: \"))\n",
        "d = float(input(\"Please enter your fourth integer: \"))\n",
        "formula1 = a ** c\n",
        "formula2 = b * a\n",
        "formula3 = d / 3\n",
        "finalformula = formula1 + formula2 - formula3\n",
        "print(int(finalformula))"
      ],
      "metadata": {
        "colab": {
          "base_uri": "https://localhost:8080/"
        },
        "id": "7D1g_kozxIPd",
        "outputId": "5c538c64-03db-4c7f-8525-470832cfc856"
      },
      "execution_count": null,
      "outputs": [
        {
          "output_type": "stream",
          "name": "stdout",
          "text": [
            "Please enter your first integer: 2\n",
            "Please enter your second integer: 6\n",
            "Please enter your third integer: 8\n",
            "Please enter your fourth integer: 1.3\n",
            "267\n"
          ]
        }
      ]
    },
    {
      "cell_type": "markdown",
      "source": [
        "# #Task 08. Write a python program that takes an integer from the user which represents the number of chocolates that he/she has. He/She decided to distribute the chocolates equally among 3 friends, keeping the remaining chocolates for him/herself. Find out the number of chocolates each friend will receive and the number of chocolates that will be remaining.\n"
      ],
      "metadata": {
        "id": "kjMxy5vP04Lk"
      }
    },
    {
      "cell_type": "code",
      "source": [
        "chocolates = int(input(\"Enter the number of chocolates you have:-\\n\"))\n",
        "each_friend = chocolates // 3\n",
        "remaining = chocolates % 3\n",
        "print(\"Each friend will receive\", each_friend, \"chocolates\" )\n",
        "print(\"The number of remaining chocolates is\", remaining)"
      ],
      "metadata": {
        "colab": {
          "base_uri": "https://localhost:8080/"
        },
        "id": "MQCpMzfx07aM",
        "outputId": "d2a3fbf0-1886-4b4a-a6a9-aade3a8f9aba"
      },
      "execution_count": null,
      "outputs": [
        {
          "output_type": "stream",
          "name": "stdout",
          "text": [
            "Enter the number of chocolates you have:-\n",
            "50\n",
            "Each friend will receive 16 chocolates\n",
            "The number of remaining chocolates is 2\n"
          ]
        }
      ]
    },
    {
      "cell_type": "markdown",
      "source": [
        "# #task 09\n",
        " Write a Python program that reads two values M and N from the user respectively and prints the result by joining (concatenating) them in a bottom-up approach as shown in the following example.\n"
      ],
      "metadata": {
        "id": "ae9gYvLf1q_2"
      }
    },
    {
      "cell_type": "code",
      "source": [
        "user_1=input(\"Please enter a value: \")\n",
        "user_2=input(\"Enter another value: \")\n",
        "print(user_2+user_1)"
      ],
      "metadata": {
        "colab": {
          "base_uri": "https://localhost:8080/"
        },
        "id": "S74wlV2o1tFM",
        "outputId": "7589786c-7a3b-4b7e-f380-1211d4f41ae9"
      },
      "execution_count": null,
      "outputs": [
        {
          "output_type": "stream",
          "name": "stdout",
          "text": [
            "python\n",
            "3\n",
            "3python\n"
          ]
        }
      ]
    },
    {
      "cell_type": "markdown",
      "source": [
        "#task 10\n",
        "** Write a Python program that reads a line from the user and prints the first character of the given input.**\n"
      ],
      "metadata": {
        "id": "lkMUsVmZ2dEz"
      }
    },
    {
      "cell_type": "code",
      "source": [
        "line=input(\"Please enter a sentence:\\n\")\n",
        "print(\"The first character of the given input is:\",line[0])"
      ],
      "metadata": {
        "colab": {
          "base_uri": "https://localhost:8080/"
        },
        "id": "JvC8Xw2l2klt",
        "outputId": "6b2c3a52-d0e3-4a2a-fec7-84b0dc3df113"
      },
      "execution_count": null,
      "outputs": [
        {
          "output_type": "stream",
          "name": "stdout",
          "text": [
            "Please enter a sentence:\n",
            "Python is an interpreted language\n",
            "The first character of the given input is: P\n"
          ]
        }
      ]
    },
    {
      "cell_type": "markdown",
      "source": [
        "#task 11 \n",
        "Write a Python program that reads an integer and prints \"True\" if the number is even, otherwise, \"False\".\n"
      ],
      "metadata": {
        "id": "-vIvUxUb3McU"
      }
    },
    {
      "cell_type": "code",
      "source": [
        "user_1=int(input(\"Sir,please enter an integer:\"))\n",
        "\n",
        "if (user_1%2==0):\n",
        "  print(\"True\")\n",
        "else:\n",
        "  print(\"False\")"
      ],
      "metadata": {
        "colab": {
          "base_uri": "https://localhost:8080/"
        },
        "id": "Z8w_VMZg3SB1",
        "outputId": "18d7cbdf-dcfe-409f-dccb-1b957049ce94"
      },
      "execution_count": null,
      "outputs": [
        {
          "output_type": "stream",
          "name": "stdout",
          "text": [
            "Sir,please enter an integer:-11\n",
            "False\n"
          ]
        }
      ]
    }
  ]
}