{
  "nbformat": 4,
  "nbformat_minor": 0,
  "metadata": {
    "colab": {
      "provenance": []
    },
    "kernelspec": {
      "name": "python3",
      "display_name": "Python 3"
    },
    "language_info": {
      "name": "python"
    }
  },
  "cells": [
    {
      "cell_type": "markdown",
      "source": [
        "1. Write one line of Python code to access and print the value 400.\n"
      ],
      "metadata": {
        "id": "EEZF19FP6Uk3"
      }
    },
    {
      "cell_type": "code",
      "source": [
        "a_tuple = (\"The Institute\", (\"Best Mystery & Thriller\", \"The Silent Patient\", 68821), 75717,\n",
        "[1, 2, 3, 400, 5, 6, 7], (\"Best Fiction\", \"The Testaments\", 98291))\n",
        "\n",
        "\n",
        "print(a_tuple[3][3])"
      ],
      "metadata": {
        "colab": {
          "base_uri": "https://localhost:8080/"
        },
        "id": "erC6e_7grVM0",
        "outputId": "e7be63a4-da71-461d-b783-1ab317f7d506"
      },
      "execution_count": null,
      "outputs": [
        {
          "output_type": "stream",
          "name": "stdout",
          "text": [
            "400\n"
          ]
        }
      ]
    },
    {
      "cell_type": "markdown",
      "source": [
        "2. Assume, you have been given a tuple. Write a Python program that creates a new tuple excluding the first and last two elements of the given tuple and prints the new tuple.\n",
        "Hint: You may use tuple slicing."
      ],
      "metadata": {
        "id": "wVryiGrT6Yjc"
      }
    },
    {
      "cell_type": "code",
      "source": [
        "#Solution:02\n",
        "sample=input(\"Sir,please enter a Tuple consisting of some elements: \")[1:-1]\n",
        "\n",
        "sample=sample.split(',')\n",
        "\n",
        "if len(sample)>=4:\n",
        "  a_list=[]\n",
        "  for i in range(2,len(sample)-2):\n",
        "     a_list.append(int(sample[i]))\n",
        "  print(tuple(a_list))  \n",
        "\n",
        "else:\n",
        "  print(\"Not possible\")"
      ],
      "metadata": {
        "colab": {
          "base_uri": "https://localhost:8080/"
        },
        "id": "EjmDty3UrntK",
        "outputId": "1877fd69-5aab-44c8-c631-f30dc5932b24"
      },
      "execution_count": null,
      "outputs": [
        {
          "output_type": "stream",
          "name": "stdout",
          "text": [
            "Sir,please enter a Tuple consisting of some elements: (1,2,3,4)\n",
            "()\n"
          ]
        }
      ]
    },
    {
      "cell_type": "code",
      "source": [
        "#Solution:02(Method:02)\n",
        "\n",
        "user_input = input(\"Sir, please enter your desired tuple: \")[1:-1]\n",
        "\n",
        "user_list = user_input.split(\", \")\n",
        "for i in range(len(user_list)):\n",
        "    user_list[i] = int(user_list[i])\n",
        "\n",
        "result_tuple = tuple(user_list[2:len(user_list) - 2])\n",
        "\n",
        "print(result_tuple)"
      ],
      "metadata": {
        "id": "VTEBc4AKyv2E"
      },
      "execution_count": null,
      "outputs": []
    },
    {
      "cell_type": "markdown",
      "source": [
        "3. Write a Python program that prints the size of the tuple and all its elements as shown below."
      ],
      "metadata": {
        "id": "gziPMnPT6cIf"
      }
    },
    {
      "cell_type": "code",
      "source": [
        "#Solution:03 \n",
        "book_info = (\n",
        "(\"Best Mystery & Thriller\",\"The Silent Patient\",68,821),\n",
        "(\"Best Horror\",\"The Institute\",75,717),\n",
        "(\"Best History & Biography\",\"The five\",31,783 ),\n",
        "(\"Best Fiction\",\"The Testaments\",98,291)\n",
        ")\n",
        "print(f\"Size of the tuple is: \",len(book_info))\n",
        "\n",
        "for loop in range(len(book_info)):\n",
        "  print(book_info[loop],sep=\"\\n\")\n",
        "\n",
        "\n"
      ],
      "metadata": {
        "colab": {
          "base_uri": "https://localhost:8080/"
        },
        "id": "51ZGF9o-1Udi",
        "outputId": "3157963c-4729-4b8e-f7f3-93b6c988084e"
      },
      "execution_count": null,
      "outputs": [
        {
          "output_type": "stream",
          "name": "stdout",
          "text": [
            "Size of the tuple is:  4\n",
            "('Best Mystery & Thriller', 'The Silent Patient', 68, 821)\n",
            "('Best Horror', 'The Institute', 75, 717)\n",
            "('Best History & Biography', 'The five', 31, 783)\n",
            "('Best Fiction', 'The Testaments', 98, 291)\n"
          ]
        }
      ]
    },
    {
      "cell_type": "markdown",
      "source": [
        "4. Write a Python program that prints the award category, the book name, and its total votes earned as shown below.\n",
        "[Must use Tuple unpacking for printing and need to handle the quotation marks as a part of the output]\n"
      ],
      "metadata": {
        "id": "2AqkBHgY6fGk"
      }
    },
    {
      "cell_type": "code",
      "source": [
        "#Solution:04(Method:01)\n",
        "book_info = (\n",
        "(\"Best Mystery & Thriller\",\"The Silent Patient\",68821),\n",
        "(\"Best Horror\",\"The Institute\",75717),\n",
        "(\"Best History & Biography\",\"The five\",31783 ),\n",
        "(\"Best Fiction\",\"The Testaments\",98291)\n",
        ") \n",
        "for i in book_info:\n",
        "   a,b,c=i\n",
        "\n",
        "   print(f\"{b} won the '{a}' category with {c} votes.\")\n",
        "\n"
      ],
      "metadata": {
        "colab": {
          "base_uri": "https://localhost:8080/"
        },
        "id": "h8yapPGTUwAy",
        "outputId": "565ebf17-3162-4b0e-9124-342ea4efe1c6"
      },
      "execution_count": null,
      "outputs": [
        {
          "output_type": "stream",
          "name": "stdout",
          "text": [
            "The Silent Patient won the 'Best Mystery & Thriller' category with 68821 votes.\n",
            "The Institute won the 'Best Horror' category with 75717 votes.\n",
            "The five won the 'Best History & Biography' category with 31783 votes.\n",
            "The Testaments won the 'Best Fiction' category with 98291 votes.\n"
          ]
        }
      ]
    },
    {
      "cell_type": "code",
      "source": [
        "#Solution:04(Method:02)(Notn recommended)\n",
        "book_info = (\n",
        "(\"Best Mystery & Thriller\",\"The Silent Patient\",68821),\n",
        "(\"Best Horror\",\"The Institute\",75717),\n",
        "(\"Best History & Biography\",\"The five\",31783 ),\n",
        "(\"Best Fiction\",\"The Testaments\",98291)\n",
        ") \n",
        "\n",
        "a,b,c,d=book_info\n",
        "print(f\"{a[1]} won the '{a[0]}' category with {a[2]} votes\")\n",
        "print(f\"{b[1]} won the '{b[0]}' category with {b[2]} votes\")\n",
        "print(f\"{c[1]} won the '{c[0]}' category with {c[2]} votes\")\n",
        "print(f\"{d[1]} won the '{d[0]}' category with {d[2]} votes\")"
      ],
      "metadata": {
        "colab": {
          "base_uri": "https://localhost:8080/"
        },
        "id": "czz0-hyv2TZj",
        "outputId": "92467cd5-52cb-48a1-888c-9ec1d9a38f55"
      },
      "execution_count": null,
      "outputs": [
        {
          "output_type": "stream",
          "name": "stdout",
          "text": [
            "The Silent Patient won the 'Best Mystery & Thriller' category with 68821 votes\n",
            "The Institute won the 'Best Horror' category with 75717 votes\n",
            "The five won the 'Best History & Biography' category with 31783 votes\n",
            "The Testaments won the 'Best Fiction' category with 98291 votes\n"
          ]
        }
      ]
    },
    {
      "cell_type": "code",
      "source": [
        "#Method(3)\n",
        "# Solution to Task 4\n",
        "\n",
        "book_info = ((\"Best Mystery & Thriller\", \"The Silent Patient\", 68821), (\"Best Horror\", \"The Institute\", 75717),\n",
        "             (\"Best History & Biography\", \"The five\", 31783), (\"Best Fiction\", \"The Testaments\", 98291))\n",
        "\n",
        "element1, element2, element3, element4 = book_info\n",
        "award_category1, book_name1, vote1 = element1\n",
        "award_category2, book_name2, vote2 = element2\n",
        "award_category3, book_name3, vote3 = element3\n",
        "award_category4, book_name4, vote4 = element4\n",
        "\n",
        "print(f\"{book_name1} won the '{award_category1}' category with {vote1} votes\")\n",
        "print(f\"{book_name2} won the '{award_category2}' category with {vote2} votes\")\n",
        "print(f\"{book_name3} won the '{award_category3}' category with {vote3} votes\")\n",
        "print(f\"{book_name4} won the '{award_category4}' category with {vote4} votes\")"
      ],
      "metadata": {
        "colab": {
          "base_uri": "https://localhost:8080/"
        },
        "id": "AY8G6CL55IRF",
        "outputId": "ec94d523-ec6f-4c55-bfc6-f9629e235749"
      },
      "execution_count": null,
      "outputs": [
        {
          "output_type": "stream",
          "name": "stdout",
          "text": [
            "The Silent Patient won the 'Best Mystery & Thriller' category with 68821 votes\n",
            "The Institute won the 'Best Horror' category with 75717 votes\n",
            "The five won the 'Best History & Biography' category with 31783 votes\n",
            "The Testaments won the 'Best Fiction' category with 98291 votes\n"
          ]
        }
      ]
    },
    {
      "cell_type": "markdown",
      "source": [
        "5. Write a python program that takes an input from the user and finds the number of times that the input is present in a given tuple.\n"
      ],
      "metadata": {
        "id": "qaEXlcf16iTz"
      }
    },
    {
      "cell_type": "code",
      "source": [
        "#Solution to task:05 (Method:01)\n",
        "a_tuple= (10, 8, 5, 2, 10, 15, 10, 8, 5, 8, 8, 2)\n",
        "number=int(input())\n",
        "count=0\n",
        "for i in  a_tuple:\n",
        "  if i==number:\n",
        "    count+=1\n",
        "print(f\"{number} appears {count} times in the tuple.\")    "
      ],
      "metadata": {
        "id": "cafFqd7yflTK",
        "colab": {
          "base_uri": "https://localhost:8080/"
        },
        "outputId": "f099a9b1-ab5d-45ee-f611-2c4c0d8c7a3d"
      },
      "execution_count": null,
      "outputs": [
        {
          "output_type": "stream",
          "name": "stdout",
          "text": [
            "1\n",
            "1 appears 0 times in the tuple.\n"
          ]
        }
      ]
    },
    {
      "cell_type": "markdown",
      "source": [
        "6. Write a Python program to reverse a given tuple."
      ],
      "metadata": {
        "id": "7DK3oDml6nSF"
      }
    },
    {
      "cell_type": "code",
      "source": [
        "#Solution to task:06\n",
        "a_tuple=(10, 20, 30, 40, 50, 6)\n",
        "\n",
        "a_list=list(a_tuple)\n",
        "final_list=[]\n",
        "# print(a_list)\n",
        "\n",
        "for i in range(len(a_list)-1,-1,-1):\n",
        "  final_list.append(a_list[i])\n",
        "final_list=tuple(final_list)\n",
        "print(final_list)  \n"
      ],
      "metadata": {
        "colab": {
          "base_uri": "https://localhost:8080/"
        },
        "id": "M6mx6gKuSXqb",
        "outputId": "fbfe0f9a-1db5-4f2f-efa8-4ccad6b3d983"
      },
      "execution_count": null,
      "outputs": [
        {
          "output_type": "stream",
          "name": "stdout",
          "text": [
            "(6, 50, 40, 30, 20, 10)\n"
          ]
        }
      ]
    },
    {
      "cell_type": "markdown",
      "source": [
        "Extrass cuteeee"
      ],
      "metadata": {
        "id": "16QR0a2A6qCL"
      }
    },
    {
      "cell_type": "code",
      "source": [
        "#Counts how many similar digits entry! Frequency counter\n",
        "a_tuple=(0,1,1,2,2,4,4,5,5,8,8,9,9,5,5,4,4,7,7,6,6,1,1,2,2,3,4,1,2,3,4,5,6,7,8,9)\n",
        "print('Original Tuple:',a_tuple)\n",
        "a_string=''\n",
        "\n",
        "for string in a_tuple:                                                           \n",
        "  a_string+=str(string)\n",
        "# print(a_list)                                                                    #011224455889955447766112234123456789\n",
        "\n",
        "backup_list=[0 for numbers in range(10)]\n",
        "# print(backup_list)                                                              #[0, 0, 0, 0, 0, 0, 0, 0, 0, 0]\n",
        "\n",
        "for count in range(len(a_string)):                                              # index=ord('0')-48=48-48=0          index=ord('1')-48=49-48=1        index=ord('1')-48=49-48=1 \n",
        "  index=ord(a_string[count])-48                                                      \n",
        "  backup_list[index]=backup_list[index]+1                                        #backup_list[0]=backup_list[0]+1    backup_list[1]=backup_list[1]+1=1  backup_list[1]=backup_list[1]+1=2\n",
        "# print('Backup_list',backup_list)\n",
        "\n",
        "for count in range(0,len(backup_list)):\n",
        "  print(f\"{chr(count+48)} has entered {backup_list[count]} times.\")\n",
        "\n"
      ],
      "metadata": {
        "colab": {
          "base_uri": "https://localhost:8080/"
        },
        "id": "Sy_JxcOjyKyv",
        "outputId": "c99a1eb6-f05c-41d3-cc17-b35c15ad8dac"
      },
      "execution_count": null,
      "outputs": [
        {
          "output_type": "stream",
          "name": "stdout",
          "text": [
            "Original Tuple: (0, 1, 1, 2, 2, 4, 4, 5, 5, 8, 8, 9, 9, 5, 5, 4, 4, 7, 7, 6, 6, 1, 1, 2, 2, 3, 4, 1, 2, 3, 4, 5, 6, 7, 8, 9)\n",
            "0 has entered 1 times.\n",
            "1 has entered 5 times.\n",
            "2 has entered 5 times.\n",
            "3 has entered 2 times.\n",
            "4 has entered 6 times.\n",
            "5 has entered 5 times.\n",
            "6 has entered 3 times.\n",
            "7 has entered 3 times.\n",
            "8 has entered 3 times.\n",
            "9 has entered 3 times.\n"
          ]
        }
      ]
    },
    {
      "cell_type": "code",
      "source": [
        "#Ungraded"
      ],
      "metadata": {
        "id": "HTD5ylvt6k4C"
      },
      "execution_count": null,
      "outputs": []
    },
    {
      "cell_type": "markdown",
      "source": [
        "15. Given a list of tuples, your task is to multiply the elements of the tuple and return a list of multiplied elements as shown below.\n"
      ],
      "metadata": {
        "id": "GtopjD2edENv"
      }
    },
    {
      "cell_type": "code",
      "source": [
        "#Solution:15\n",
        "a_tuple=[(2, 3), (4, 5), (6, 7), (2, 8)]\n",
        "a_list=[]\n",
        "for i in a_tuple:\n",
        "  a_list.append(i[0]*i[1])\n",
        "print(a_list)  "
      ],
      "metadata": {
        "colab": {
          "base_uri": "https://localhost:8080/"
        },
        "id": "h61RkmdFE8Qz",
        "outputId": "e31fca46-1b77-49f5-a40f-5d7d47c93047"
      },
      "execution_count": null,
      "outputs": [
        {
          "output_type": "stream",
          "name": "stdout",
          "text": [
            "[6, 20, 42, 16]\n"
          ]
        }
      ]
    },
    {
      "cell_type": "code",
      "source": [
        "#15\n",
        "a_tuple=[(2, 3), (4, 2), (6, 7), (2, 8)]\n",
        "Output = [(x * y) for x, y in a_tuple]\n",
        "print(Output)"
      ],
      "metadata": {
        "colab": {
          "base_uri": "https://localhost:8080/"
        },
        "id": "2JZPx-HSNxtF",
        "outputId": "2d390103-babb-49c5-d7fe-ad0d1c504b60"
      },
      "execution_count": null,
      "outputs": [
        {
          "output_type": "stream",
          "name": "stdout",
          "text": [
            "[6, 8, 42, 16]\n"
          ]
        }
      ]
    },
    {
      "cell_type": "markdown",
      "source": [
        "16. Assume, you have been given a tuple as below.\n",
        "a_tuple = ( [1, 2, 3], [4, 5, 6], [7, 8, 9], [10, 11, 12])\n",
        "Write a Python program that asks the user for an input (can be any data type) and replaces the last element of each of the inner lists with the user given value.\n"
      ],
      "metadata": {
        "id": "28nmSPLtdISX"
      }
    },
    {
      "cell_type": "code",
      "source": [
        "#Solution:16\n",
        "a_tuple =([1, 2, 3], [4, 5, 6], [7, 8, 9], [10, 11, 12])\n",
        "a_list=[]\n",
        "b=input()\n",
        "for i in range(len(a_tuple)):\n",
        "  a_list.append(a_tuple[i][:-1:]+[b])          \n",
        "print(tuple(a_list))   "
      ],
      "metadata": {
        "colab": {
          "base_uri": "https://localhost:8080/"
        },
        "id": "V3c5uhNqUuye",
        "outputId": "fc5095f9-8e94-49ad-b180-743ebcbf60a3"
      },
      "execution_count": null,
      "outputs": [
        {
          "output_type": "stream",
          "name": "stdout",
          "text": [
            "1000\n",
            "([1, 2, '1000'], [4, 5, '1000'], [7, 8, '1000'], [10, 11, '1000'])\n"
          ]
        }
      ]
    },
    {
      "cell_type": "code",
      "source": [
        "#Dictionary"
      ],
      "metadata": {
        "id": "qNMKkPiLV6U-"
      },
      "execution_count": null,
      "outputs": []
    },
    {
      "cell_type": "markdown",
      "source": [
        "7. Suppose you are given two dictionaries.\n",
        "Now create a new dictionary \"marks\", merging the two dictionaries, so that the original two dictionaries remain unchanged.\n",
        "Note: You can use dictionary functions"
      ],
      "metadata": {
        "id": "lqePeOxcdMlr"
      }
    },
    {
      "cell_type": "markdown",
      "source": [],
      "metadata": {
        "id": "lj1RDwEedMkG"
      }
    },
    {
      "cell_type": "code",
      "source": [
        "#Solution:07 (Method:01)\n",
        "dict_1={'Harry':15, 'Draco':8, 'Nevil':19}\n",
        "dict_2={'Ginie':18, 'Luna': 14}\n",
        "dict_3={}\n",
        "dict_3.update(dict_1)\n",
        "dict_3.update(dict_2)\n",
        "print(dict_3)"
      ],
      "metadata": {
        "id": "-AAoQH7YlwuB"
      },
      "execution_count": null,
      "outputs": []
    },
    {
      "cell_type": "code",
      "source": [
        "# Solution to task 7 (Method:02)\n",
        "\n",
        "given_1 = {'Harry': 15, 'Draco': 8, 'Nevil': 19}\n",
        "given_2 = {'Ginie': 18, 'Luna': 14}\n",
        "\n",
        "print({**given_1,**given_2})"
      ],
      "metadata": {
        "colab": {
          "base_uri": "https://localhost:8080/"
        },
        "id": "Zw8wjVqf0CwD",
        "outputId": "7d848c32-62ae-41fd-ede5-d222806f8824"
      },
      "execution_count": null,
      "outputs": [
        {
          "output_type": "stream",
          "name": "stdout",
          "text": [
            "{'Harry': 15, 'Draco': 8, 'Nevil': 19, 'Ginie': 18, 'Luna': 14}\n"
          ]
        }
      ]
    },
    {
      "cell_type": "code",
      "source": [
        "#Hacks(merge only keys)\n",
        "given_1 = {'Harry': 15, 'Draco': 8, 'Nevil': 19}\n",
        "given_2 = {'Ginie': 18, 'Luna': 14}\n",
        "\n",
        "print({*given_1, *given_2})"
      ],
      "metadata": {
        "colab": {
          "base_uri": "https://localhost:8080/"
        },
        "id": "suxR7bq90M0D",
        "outputId": "3bcf0f36-abc1-4b2d-f220-41f507574138"
      },
      "execution_count": null,
      "outputs": [
        {
          "output_type": "stream",
          "name": "stdout",
          "text": [
            "{'Draco', 'Harry', 'Ginie', 'Luna', 'Nevil'}\n"
          ]
        }
      ]
    },
    {
      "cell_type": "markdown",
      "source": [
        "8. Suppose you are given two dictionaries.\n",
        "Now create a new dictionary \"marks\", merging the two dictionaries, so that the original two dictionaries remain unchanged.\n",
        "Note: You can use dictionary functions"
      ],
      "metadata": {
        "id": "KCN6f0mHdQ4B"
      }
    },
    {
      "cell_type": "code",
      "source": [
        "# Solution:08 (Me)\n",
        "dictionary=input('Sir,please enter a dictionary: ')\n",
        "\n",
        "string=''\n",
        "for i in dictionary:\n",
        "  if i!=\"'\" and i!=\" \":  #be careful about the condition\n",
        "    string+=i\n",
        "print(string)    \n",
        "\n",
        "seperate=string.split(\",\")\n",
        "my_dict={}\n",
        "print(seperate)\n",
        "for i in seperate:\n",
        "  colon=i.split(\":\")\n",
        "  my_dict[colon[0]]=int(colon[1])\n",
        "\n",
        "print(my_dict)\n",
        "\n",
        "counter=0\n",
        "sum=0\n",
        "for values in my_dict:\n",
        "  sum+=my_dict[values]\n",
        "  counter+=1\n",
        "\n",
        "print('Average is',int(sum/counter))"
      ],
      "metadata": {
        "colab": {
          "base_uri": "https://localhost:8080/"
        },
        "id": "LoLgCaNv0i8x",
        "outputId": "89c52620-48e1-4dda-fc70-a173abb9c922"
      },
      "execution_count": null,
      "outputs": [
        {
          "output_type": "stream",
          "name": "stdout",
          "text": [
            "Sir,please enter a dictionary: Jon:100, Dan:200, Rob:300\n",
            "Jon:100,Dan:200,Rob:300\n",
            "['Jon:100', 'Dan:200', 'Rob:300']\n",
            "{'Jon': 100, 'Dan': 200, 'Rob': 300}\n",
            "Average is 200\n"
          ]
        }
      ]
    },
    {
      "cell_type": "code",
      "source": [
        "# Solution to task 8 (Dicitonary input)\n",
        "\n",
        "input_str = input(\"Enter the input:\")\n",
        "temp_str = input_str.replace(\"'\", \"\")\n",
        "temp_str = temp_str[1:len(temp_str)-1:]\n",
        "final_str = temp_str.split(\",\")\n",
        "sample = {}\n",
        "\n",
        "for count in final_str:\n",
        "    keyval = count.split(\":\")\n",
        "    sample[keyval[0]] = int(keyval[1])\n",
        "\n",
        "total_val = 0\n",
        "temp = 0\n",
        "\n",
        "for keys, values in sample.items():\n",
        "    total_val = total_val+values\n",
        "    temp = temp+1\n",
        "    \n",
        "\n",
        "print(\"Average is\", total_val/temp)"
      ],
      "metadata": {
        "colab": {
          "base_uri": "https://localhost:8080/"
        },
        "id": "mqOvK0u12JPG",
        "outputId": "54920911-49ce-4233-bef8-3df45baa74c5"
      },
      "execution_count": null,
      "outputs": [
        {
          "output_type": "stream",
          "name": "stdout",
          "text": [
            "Enter the input:{'Jon': 100, 'Dan':200, 'Rob':300}\n",
            "Average is 200.0\n"
          ]
        }
      ]
    },
    {
      "cell_type": "markdown",
      "source": [
        "9. Suppose there is a dictionary named exam_marks as given below.\n",
        "exam_marks = {'Cierra Vega': 175, 'Alden Cantrell': 200, 'Kierra Gentry': 165, 'Pierre Cox': 190}\n",
        "Write a Python program that takes an input from the user and creates a new dictionary with only those elements from 'exam_marks' whose keys have values higher than the user input (inclusive).\n"
      ],
      "metadata": {
        "id": "KuqZ_nEDdVpf"
      }
    },
    {
      "cell_type": "code",
      "source": [
        "#Solution:09\n",
        "\n",
        "exam_marks = {'Cierra Vega': 175, 'Alden Cantrell': 200, 'Kierra Gentry': 165, 'Pierre Cox': 190}\n",
        "number=int(input('Sir,please enter the desired marks: '))\n",
        "my_dict={}\n",
        "for keys,values in exam_marks.items():\n",
        "  if values>=number:\n",
        "    my_dict[keys]=values\n",
        "print(my_dict)    \n"
      ],
      "metadata": {
        "colab": {
          "base_uri": "https://localhost:8080/"
        },
        "id": "-rYuPzny4fd6",
        "outputId": "39828bf2-d37b-4ed4-c450-1745ad465e22"
      },
      "execution_count": null,
      "outputs": [
        {
          "output_type": "stream",
          "name": "stdout",
          "text": [
            "Sir,please enter the desired marks: 170\n",
            "{'Cierra Vega': 175, 'Alden Cantrell': 200, 'Pierre Cox': 190}\n"
          ]
        }
      ]
    },
    {
      "cell_type": "markdown",
      "source": [
        "10. Write a Python program that finds the largest value with its key from a given dictionary.\n",
        "[You are not allowed to use the max() function for this task]\n",
        "Note: You do not need to take the dictionaries as an input from the user but your code should work for any given dictionary. Also, you need to handle the quotation marks as a part of the output.\n",
        "Hint: Think of membership operators (in and not in). You can use dictionary functions to get the values.\n"
      ],
      "metadata": {
        "id": "MGwYvqzXdb8G"
      }
    },
    {
      "cell_type": "code",
      "source": [
        "# Solution to task 10\n",
        "\n",
        "given = {'sci fi': 5, 'mystery': 3, 'horror': 14, 'young_adult': 2, 'adventure': 9}\n",
        "temp = \"\"\n",
        "\n",
        "maximum = 0  # Quantity can't be negative\n",
        "max_key = None\n",
        "\n",
        "for keys, values in given.items():\n",
        "    if maximum < values:\n",
        "        maximum = values\n",
        "        max_key = keys\n",
        "\n",
        "print(\"The highest selling book genre is\", max_key, \"and the number of books sold are\", given[max_key])\n",
        "\n"
      ],
      "metadata": {
        "id": "jP0PUdxr_7ZM"
      },
      "execution_count": null,
      "outputs": []
    },
    {
      "cell_type": "code",
      "source": [
        "#Solution:10 (Method:01)\n",
        "given={'sci fi': 12, 'mystery': 15, 'horror': 8, 'mythology': 10, 'young_adult': 4, 'adventure':14}\n",
        "\n",
        "list=[]\n",
        "\n",
        "for values in given:\n",
        "  list.append(given[values])\n",
        "print(list)\n",
        "\n",
        "maximum=list[0]\n",
        "\n",
        "for i in list:\n",
        "  if i>maximum:\n",
        "    maximum=i\n",
        "print(maximum)    \n",
        "\n",
        "\n",
        "for keys,values in given.items():\n",
        "  if values==maximum:\n",
        "    print(f\"The highest selling book genre is '{keys}' and the number of books sold are {maximum}.\")\n"
      ],
      "metadata": {
        "colab": {
          "base_uri": "https://localhost:8080/"
        },
        "id": "lY6VkDw88Rvz",
        "outputId": "08ff6a9b-29ef-45b4-bae8-cac715a12e59"
      },
      "execution_count": null,
      "outputs": [
        {
          "output_type": "stream",
          "name": "stdout",
          "text": [
            "[12, 15, 8, 10, 4, 14]\n",
            "15\n",
            "The highest selling book genre is 'mystery' and the number of books sold are 15.\n"
          ]
        }
      ]
    },
    {
      "cell_type": "markdown",
      "source": [
        "11. Write a Python program that takes a String as an input from the user and counts the frequency of each character using a dictionary. For solving this problem, you may use each character as a key and its frequency as values. [You are not allowed to use the count() function]\n",
        "Hint: You can create a new dictionary to store the frequencies. You may ignore case for simplicity (i.e. may consider P and p to be the same).\n"
      ],
      "metadata": {
        "id": "Dj3sIZMjdfh3"
      }
    },
    {
      "cell_type": "code",
      "source": [
        "string=input(\"Sir,please enter a string: \")\n",
        "# print(string)  \n",
        "new=''\n",
        "for i in string:\n",
        "  if i!=\" \" and i!='\"':\n",
        "    new+=i.upper()\n",
        "print(new)        \n",
        "\n",
        "output_dict = {}\n",
        "\n",
        "\n",
        "for count in new:\n",
        "    if count in output_dict:\n",
        "        output_dict[count] = output_dict[count] + 1\n",
        "    else:\n",
        "        output_dict[count] = 1\n",
        "\n",
        "print(output_dict)\n"
      ],
      "metadata": {
        "colab": {
          "base_uri": "https://localhost:8080/"
        },
        "id": "gy_n0T5KXq6Y",
        "outputId": "ffac8e80-80cd-4113-d2db-0cf797c79ec2"
      },
      "execution_count": null,
      "outputs": [
        {
          "output_type": "stream",
          "name": "stdout",
          "text": [
            "Sir,please enter a string: \"Python programming is fun\"\n",
            "PYTHONPROGRAMMINGISFUN\n",
            "{'P': 2, 'Y': 1, 'T': 1, 'H': 1, 'O': 2, 'N': 3, 'R': 2, 'G': 2, 'A': 1, 'M': 2, 'I': 2, 'S': 1, 'F': 1, 'U': 1}\n"
          ]
        }
      ]
    },
    {
      "cell_type": "code",
      "source": [
        "#Solution:11 (Method:01)\n",
        "\n",
        "word=\"Python programming is fun\"\n",
        "list_1=[]\n",
        "for i in word:\n",
        "  list_1.append(i.lower())\n",
        "print(list_1)\n",
        "\n",
        "new_dict={}\n",
        "\n",
        "for count in range(len(list_1)):\n",
        "  if list_1[count] in ' ':\n",
        "    \n",
        "    pass\n",
        "\n",
        "  elif list_1[count] not in new_dict:\n",
        "    new_dict[list_1[count]]=1\n",
        "\n",
        "  else:\n",
        "    new_dict[list_1[count]]+=1\n",
        "\n",
        "print(new_dict)\n",
        "\n"
      ],
      "metadata": {
        "colab": {
          "base_uri": "https://localhost:8080/"
        },
        "id": "v8BiUIbyEEj8",
        "outputId": "e37aadf2-a3ab-43c6-c87c-b69929b19ac2"
      },
      "execution_count": null,
      "outputs": [
        {
          "output_type": "stream",
          "name": "stdout",
          "text": [
            "['p', 'y', 't', 'h', 'o', 'n', ' ', 'p', 'r', 'o', 'g', 'r', 'a', 'm', 'm', 'i', 'n', 'g', ' ', 'i', 's', ' ', 'f', 'u', 'n']\n",
            "{'p': 2, 'y': 1, 't': 1, 'h': 1, 'o': 2, 'n': 3, 'r': 2, 'g': 2, 'a': 1, 'm': 2, 'i': 2, 's': 1, 'f': 1, 'u': 1}\n"
          ]
        }
      ]
    },
    {
      "cell_type": "markdown",
      "source": [
        "12. Suppose you are given the following dictionary where the values are lists.\n",
        "dict_1 = {'A': [1, 2, 3], 'b': ['1', '2'], \"c\": [4, 5, 6, 7]}\n",
        "Write a Python program that counts the total number of items in a dictionary’s values and prints it.\n",
        "[Without using sum(), len(), count() functions]\n"
      ],
      "metadata": {
        "id": "sp01fT2bdj_5"
      }
    },
    {
      "cell_type": "code",
      "source": [
        "# Solution to task 12\n",
        "\n",
        "given_dict = {'A': [1, 2, 3], 'b': ['1', '2'], \"c\": [4, 5, 6, 7]}\n",
        "count = 0\n",
        "\n",
        "for keys, values in given_dict.items():\n",
        "    for temp in values:\n",
        "        count = count + 1\n",
        "\n",
        "print(\"The total number of items in a dictionary’s values: \", count)"
      ],
      "metadata": {
        "colab": {
          "base_uri": "https://localhost:8080/"
        },
        "id": "XuKrbZg5KoSc",
        "outputId": "5a873fd8-a58e-4c46-9e63-f171bc039d49"
      },
      "execution_count": null,
      "outputs": [
        {
          "output_type": "stream",
          "name": "stdout",
          "text": [
            "The total number of items in a dictionary’s values:  9\n"
          ]
        }
      ]
    },
    {
      "cell_type": "code",
      "source": [
        "#Solution to Task:12 (Method:02)\n",
        "dict_1 = {'A': [1, 2, 3], 'b': ['1', '2'], \"c\": [4, 5, 6, 7]}\n",
        "my_list=[]\n",
        "for values in dict_1:\n",
        "  my_list.extend(dict_1[values])\n",
        "# print(my_list)\n",
        "total=0\n",
        "for count in my_list:\n",
        "  total+=1\n",
        "print(total)  "
      ],
      "metadata": {
        "colab": {
          "base_uri": "https://localhost:8080/"
        },
        "id": "rL1jpCGfKZlc",
        "outputId": "c33002bd-cd5c-461c-ff37-cafda3c03a02"
      },
      "execution_count": null,
      "outputs": [
        {
          "output_type": "stream",
          "name": "stdout",
          "text": [
            "[1, 2, 3, '1', '2', 4, 5, 6, 7]\n",
            "9\n"
          ]
        }
      ]
    },
    {
      "cell_type": "markdown",
      "source": [
        "13. Suppose you have been given the following list of tuples.\n",
        "\n",
        "\n",
        "list_1 = [(\"a\", 1), (\"b\", 2), (\"a\", 3), (\"b\", 1), (\"a\", 2), (\"c\", 1)]\n",
        "\n",
        "\n",
        "Write a Python program that converts this list of tuples into a dictionary and then prints the dictionary. The items in each tuple are a key and its value respectively. You need to group the values with the same keys into a list as shown below.\n",
        "\n",
        "[You are not allowed to use set]\n",
        "\n",
        "Hint: Think of membership operators (in and not in).\n",
        "\n",
        "\n"
      ],
      "metadata": {
        "id": "C48LjRbqdnQW"
      }
    },
    {
      "cell_type": "code",
      "source": [
        "# Solution to task 13\n",
        "\n",
        "given_list = [(\"a\", 1), (\"b\", 2), (\"a\", 3), (\"b\", 1), (\"a\", 2), (\"c\", 1)]\n",
        "output_dict = {}\n",
        "\n",
        "for i in given_list:\n",
        "    output_dict[i[0]] = []\n",
        "print(output_dict)\n",
        "for j in given_list:\n",
        "    for keys, values in output_dict.items():\n",
        "        if keys == j[0]:\n",
        "            output_dict[keys].append(j[1])\n",
        "\n",
        "print(\"Output is: \", output_dict)"
      ],
      "metadata": {
        "colab": {
          "base_uri": "https://localhost:8080/"
        },
        "id": "1Py3wtozMg50",
        "outputId": "924c1db8-8359-418e-a537-dcbeced9693a"
      },
      "execution_count": null,
      "outputs": [
        {
          "output_type": "stream",
          "name": "stdout",
          "text": [
            "{'a': [], 'b': [], 'c': []}\n",
            "Output is:  {'a': [1, 3, 2], 'b': [2, 1], 'c': [1]}\n"
          ]
        }
      ]
    },
    {
      "cell_type": "markdown",
      "source": [
        "19. Given a list of tuples, your task is to group the tuples based on the second element in the tuples as shown in the examples below. We can achieve this using dictionary by checking the second element in each tuple.\n",
        "[You do not need to take tuple as input and can assume that it is given as below]\n"
      ],
      "metadata": {
        "id": "dqC_RJpFdsE2"
      }
    },
    {
      "cell_type": "code",
      "source": [
        "\n",
        "#sOlution: 19\n",
        "\n",
        "a_list=[(20, 'Sad'), (31, 'Sad'), (88, 'NotSad'), (27, 'NotSad')]\n",
        "\n",
        "b_list_keys=[]\n",
        "a_dict={}\n",
        "for count in range(0,len(a_list)):\n",
        "  if a_list[count][1] not in b_list_keys:\n",
        "    b_list_keys.append(a_list[count][1])\n",
        "\n",
        "print('keys list is',b_list_keys)  \n",
        "\n",
        "for count in range(0,len(b_list_keys)):\n",
        "  c_list_values=[]\n",
        "  for i in range(0,len(a_list)):\n",
        "    if b_list_keys[count] == a_list[i][1]:\n",
        "      c_list_values.append(a_list[i])\n",
        " \n",
        "  a_dict[b_list_keys[count]]=c_list_values\n",
        "\n",
        "\n",
        "print(a_dict)"
      ],
      "metadata": {
        "colab": {
          "base_uri": "https://localhost:8080/"
        },
        "id": "x9q1IoFZNnH-",
        "outputId": "63af2d5a-3ada-42ab-b3ce-7d8db61ef895"
      },
      "execution_count": null,
      "outputs": [
        {
          "output_type": "stream",
          "name": "stdout",
          "text": [
            "keys list is ['Sad', 'NotSad']\n",
            "{'Sad': [(20, 'Sad'), (31, 'Sad')], 'NotSad': [(88, 'NotSad'), (27, 'NotSad')]}\n"
          ]
        }
      ]
    },
    {
      "cell_type": "code",
      "source": [
        "#Method: 01\n",
        "# Input  :'%%space$$spacedotdot'\n",
        "# Output : a_dict={'dotdot':['%%','$$']}\n",
        "# a_dict={'dotdot':'$$%%'}\n",
        "word='%%space$$spacedotdot'\n",
        "new_list=word.split('space')\n",
        "print(new_list)\n",
        "\n",
        "new_dict={}\n",
        "\n",
        "for count in range(0,2):\n",
        "  if new_list[2] not in new_dict:\n",
        "    new_dict[new_list[2]]=[new_list[0]]\n",
        "  else:\n",
        "    new_dict[new_list[2]].append(new_list[1])  \n",
        "\n",
        "print('The dictionary is:',new_dict)\n",
        "\n"
      ],
      "metadata": {
        "colab": {
          "base_uri": "https://localhost:8080/"
        },
        "id": "uIdhQrOfORe4",
        "outputId": "dd3f20fe-01ff-46c3-e65f-1742581798b8"
      },
      "execution_count": null,
      "outputs": [
        {
          "output_type": "stream",
          "name": "stdout",
          "text": [
            "['%%', '$$', 'dotdot']\n",
            "The dictionary is: {'dotdot': ['%%', '$$']}\n"
          ]
        }
      ]
    },
    {
      "cell_type": "markdown",
      "source": [
        "17. Suppose there is a dictionary named my_dictionary.\n",
        "my_dictionary = {'c1':'Red', 'c2':'Green', 'c3':None, 'd4':'Blue', 'a5':None}.\n",
        "Now write a Python program to remove empty items from the dictionary. [Empty items means keys without any values (None)].\n"
      ],
      "metadata": {
        "id": "dXos-q1hdvCx"
      }
    },
    {
      "cell_type": "code",
      "source": [
        "# Solution:17\n",
        "my_dictionary = {'c1':'Red', 'c2':'Green', 'c3':None, 'd4':'Blue', 'a5':None}\n",
        "\n",
        "final_dictionary={}\n",
        "\n",
        "for keys,values in my_dictionary.items():\n",
        "  if values==None:\n",
        "    pass\n",
        "  else:\n",
        "    final_dictionary[keys]=values  \n",
        "print(final_dictionary)"
      ],
      "metadata": {
        "colab": {
          "base_uri": "https://localhost:8080/"
        },
        "id": "KTMbb-vLgKQ8",
        "outputId": "874fc7b3-49c5-40a7-afc0-c881b6f4f30d"
      },
      "execution_count": null,
      "outputs": [
        {
          "output_type": "stream",
          "name": "stdout",
          "text": [
            "{'c1': 'Red', 'c2': 'Green', 'd4': 'Blue'}\n"
          ]
        }
      ]
    },
    {
      "cell_type": "markdown",
      "source": [
        "18. Suppose you are given a dictionary as shown below. Write a Python program that takes two inputs from the user representing the lower (inclusive) and upper (exclusive) of a range of values. Your task is to extract all the items from the dictionary whose values lie in the range given as input by the user.\n",
        "\n",
        "dict_1 = {'a' : 6, 'b' : 7, 'c' : 9, 'd' : 8, 'e' : 11, 'f' : 12, 'g' : 13}\n",
        "\n"
      ],
      "metadata": {
        "id": "UuCsa45qdzcU"
      }
    },
    {
      "cell_type": "code",
      "source": [
        "#Solution:18\n",
        "dict_1 = {'a' : 6, 'b' : 7, 'c' : 9, 'd' : 8, 'e' : 11, 'f' : 12, 'g' : 13}\n",
        "numbers=input().split(',')\n",
        "list=[]\n",
        "for i in numbers:\n",
        "  list.append(int(i))\n",
        "\n",
        "my_dict={}\n",
        "print(list)\n",
        "for keys,values in dict_1.items():\n",
        "  if values>=list[0] and values<list[1]:\n",
        "    my_dict[keys]=values\n",
        "print(my_dict)    \n",
        "    \n"
      ],
      "metadata": {
        "colab": {
          "base_uri": "https://localhost:8080/"
        },
        "id": "Y_GaTUkurQoT",
        "outputId": "a5b7d6fd-4b8e-4e43-a9b1-a6adfd1bfc25"
      },
      "execution_count": null,
      "outputs": [
        {
          "output_type": "stream",
          "name": "stdout",
          "text": [
            "9,12\n",
            "[9, 12]\n",
            "{'c': 9, 'e': 11}\n"
          ]
        }
      ]
    },
    {
      "cell_type": "code",
      "source": [
        "#Task:20 (Method:01)\n",
        "word='The secret of getting ahead is getting started.'\n",
        "special=['-', '=', '+', '*', '%']\n",
        "length=len(special)\n",
        "\n",
        "#Remove the fullstops\n",
        "lst=''\n",
        "for i in word:\n",
        "  if i!=\".\":\n",
        "    lst+=i\n",
        "print(lst) \n",
        "\n",
        "# and split them word by word into a list\n",
        "split=lst.split(\" \")\n",
        "lsd=[]\n",
        "for i in split:\n",
        "  if i not in lsd:\n",
        "    lsd.append(i)\n",
        "\n",
        "print(lsd)\n",
        "\n",
        "my={}\n",
        "for i in lsd:\n",
        "  sum=0\n",
        "  index=0\n",
        "\n",
        "  for j in i:\n",
        "    sum+=ord(j)\n",
        "  index=sum%length\n",
        "  if special[index] not in my.keys():\n",
        "    my[special[index]]=[i]\n",
        "  else:\n",
        "    my[special[index]].append(i)\n",
        "    \n",
        "print(my)"
      ],
      "metadata": {
        "id": "77JuadYasMxT",
        "colab": {
          "base_uri": "https://localhost:8080/"
        },
        "outputId": "eed701d4-85d1-4730-b756-2dd5fbe1fe26"
      },
      "execution_count": null,
      "outputs": [
        {
          "output_type": "stream",
          "name": "stdout",
          "text": [
            "The secret of getting ahead is getting started\n",
            "['The', 'secret', 'of', 'getting', 'ahead', 'is', 'started']\n",
            "{'%': ['The', 'getting', 'ahead', 'started'], '=': ['secret'], '*': ['of'], '-': ['is']}\n"
          ]
        }
      ]
    },
    {
      "cell_type": "code",
      "source": [
        "#method:02\n",
        "val = 'I love Programming. Python is love.'\n",
        "sp = ['@', '$', '&', '#']\n",
        "new_list = []\n",
        "val2 = ''\n",
        "sum = 0\n",
        "my = {}\n",
        "for i in val:\n",
        "  if i != '.':\n",
        "    val2+=i\n",
        "print(val2)\n",
        "my_list = val2.split(' ')\n",
        "for a in my_list:\n",
        "  if a not in new_list:\n",
        "    new_list.append(a)   #Taking just the unique values (only one love)\n",
        "for a in new_list:\n",
        "  for b in a:\n",
        "    sum+=ord(b)\n",
        "  index = sum%4\n",
        "  if sp[index] not in my.keys():\n",
        "     my[sp[index]] = [a]\n",
        "  else:\n",
        "      my[sp[index]].append(a)\n",
        "  sum = 0\n",
        "print(my)"
      ],
      "metadata": {
        "colab": {
          "base_uri": "https://localhost:8080/"
        },
        "id": "GEwMP3vX4Iwp",
        "outputId": "3a5553a5-0ef8-4174-e577-6f45c8b62003"
      },
      "execution_count": null,
      "outputs": [
        {
          "output_type": "stream",
          "name": "stdout",
          "text": [
            "I love Programming Python is love\n",
            "{'$': ['I'], '&': ['love', 'Python'], '#': ['Programming'], '@': ['is']}\n"
          ]
        }
      ]
    },
    {
      "cell_type": "code",
      "source": [
        " #Extras"
      ],
      "metadata": {
        "id": "7cB5jUKoavox"
      },
      "execution_count": null,
      "outputs": []
    },
    {
      "cell_type": "code",
      "source": [
        "d={\n",
        "'Agent Name':['Sova','Jett','Chamber','Brimstone','Reyna'],\n",
        "'Agent Type':['Initiator','Duelist','Sentinel','Controller','Duelist'],\n",
        "'Sequence':[1,3,5,2,4]\n",
        "}\n",
        "\n",
        "new_dict={}\n",
        "\n",
        "# [('Sova','initiator'),('Jett','Duelist')]\n",
        "corelation=[]\n",
        "\n",
        "for pos in range(0,len(d['Agent Name'])):\n",
        "  corelation.append((d['Agent Name'][pos],d['Agent Type'][pos]))\n",
        "\n",
        "print('The corelation list is:',corelation)  \n",
        "\n",
        "for serial in range(1,max(d['Sequence'])+1):\n",
        "  pos=d['Sequence'].index(serial)\n",
        "  new_dict[serial]=corelation[pos]\n",
        "\n",
        "print(new_dict)"
      ],
      "metadata": {
        "colab": {
          "base_uri": "https://localhost:8080/"
        },
        "id": "Kepkf9F1Grv4",
        "outputId": "79b0a159-02ad-42e1-dc09-31bf94c7eda1"
      },
      "execution_count": null,
      "outputs": [
        {
          "output_type": "stream",
          "name": "stdout",
          "text": [
            "The corelation list is: [('Sova', 'Initiator'), ('Jett', 'Duelist'), ('Chamber', 'Sentinel'), ('Brimstone', 'Controller'), ('Reyna', 'Duelist')]\n",
            "{1: ('Sova', 'Initiator'), 2: ('Brimstone', 'Controller'), 3: ('Jett', 'Duelist'), 4: ('Reyna', 'Duelist'), 5: ('Chamber', 'Sentinel')}\n"
          ]
        }
      ]
    },
    {
      "cell_type": "code",
      "source": [
        "a_list=[1,3,5,2,4]\n",
        "print(a_list.index(2))"
      ],
      "metadata": {
        "colab": {
          "base_uri": "https://localhost:8080/"
        },
        "id": "N3DK0oRYJ0Hz",
        "outputId": "19be0190-b41c-41b9-8725-f5c5bed51f34"
      },
      "execution_count": null,
      "outputs": [
        {
          "output_type": "stream",
          "name": "stdout",
          "text": [
            "3\n"
          ]
        }
      ]
    },
    {
      "cell_type": "code",
      "source": [
        "d={\n",
        "'Agent Name':['Sova','Jett','Chamber','Brimstone','Reyna'],\n",
        "'Agent Type':['Initiator','Duelist','Sentinel','Controller','Duelist'],\n",
        "'Sequence':[1,3,5,2,4]\n",
        "}\n",
        "\n",
        "new_dict={}\n",
        "\n",
        "# [('Sova','initiator'),('Jett','Duelist')]\n",
        "corelation=[]\n",
        "\n",
        "for pos in range(0,len(d['Agent Name'])):\n",
        "  corelation.append((d['Agent Name'][pos],d['Agent Type'][pos]))\n",
        "\n",
        "print('The corelation list is:',corelation)  \n",
        "\n",
        "for serial in range(1,len(d['Sequence'])+1):\n",
        "  pos=d['Sequence'].index(serial)\n",
        "  new_dict[serial]=corelation[pos]\n",
        "\n",
        "print(new_dict)\n"
      ],
      "metadata": {
        "colab": {
          "base_uri": "https://localhost:8080/"
        },
        "id": "HWoy9zOyIVhH",
        "outputId": "8d63b8c6-38d8-4497-9d04-3edaa8357a20"
      },
      "execution_count": null,
      "outputs": [
        {
          "output_type": "stream",
          "name": "stdout",
          "text": [
            "The corelation list is: [('Sova', 'Initiator'), ('Jett', 'Duelist'), ('Chamber', 'Sentinel'), ('Brimstone', 'Controller'), ('Reyna', 'Duelist')]\n",
            "{1: ('Sova', 'Initiator'), 2: ('Brimstone', 'Controller'), 3: ('Jett', 'Duelist'), 4: ('Reyna', 'Duelist'), 5: ('Chamber', 'Sentinel')}\n"
          ]
        }
      ]
    },
    {
      "cell_type": "code",
      "source": [
        "# Solution to Task:20"
      ],
      "metadata": {
        "id": "qQbDzOunFwPZ"
      },
      "execution_count": null,
      "outputs": []
    },
    {
      "cell_type": "markdown",
      "source": [
        "***Tracing**"
      ],
      "metadata": {
        "id": "UMeDk_0R0avR"
      }
    },
    {
      "cell_type": "code",
      "source": [
        "dict1 = {'a':59 , 'b':-82 , 'c':5 , 'd':-81 , 'e':53}\n",
        "for i in dict1:\n",
        "    # print('I',i)\n",
        "    j = 0\n",
        "    k = 22\n",
        "    while j < 5:\n",
        "        if j % 2 == 0:\n",
        "            k = dict1[i] + j - (8 + k % 6) / 3\n",
        "            dict1[i] = dict1[i]+ int(k)\n",
        "\n",
        "        else:\n",
        "            k = dict1[i] + j - (6 - k % 8) * 3\n",
        "            dict1[i] = dict1[i] - int(k)\n",
        "        # print('dict',dict1[i])    \n",
        "        # print('K',k)\n",
        "        # print('j',j)\n",
        "        j += 1\n",
        "        \n",
        "    print(int(k))\n",
        "    print(i + \" -> \" + str(dict1[i]))\n",
        "\n"
      ],
      "metadata": {
        "id": "P-8utKSttlR3",
        "colab": {
          "base_uri": "https://localhost:8080/"
        },
        "outputId": "99a9352e-9a82-40cb-e483-cc08ce72270d"
      },
      "execution_count": null,
      "outputs": [
        {
          "output_type": "stream",
          "name": "stdout",
          "text": [
            "8\n",
            "a -> 17\n",
            "10\n",
            "b -> 19\n",
            "2\n",
            "c -> 5\n",
            "-7\n",
            "d -> -14\n",
            "2\n",
            "e -> 5\n"
          ]
        }
      ]
    },
    {
      "cell_type": "code",
      "source": [],
      "metadata": {
        "id": "ee1Ux7IcqoWP"
      },
      "execution_count": null,
      "outputs": []
    },
    {
      "cell_type": "code",
      "source": [],
      "metadata": {
        "id": "WEvu5AJYqnnG"
      },
      "execution_count": null,
      "outputs": []
    },
    {
      "cell_type": "code",
      "source": [
        "print(7.34%8)"
      ],
      "metadata": {
        "colab": {
          "base_uri": "https://localhost:8080/"
        },
        "id": "FsUNQ8zFqbSW",
        "outputId": "8ad0a06e-ad20-4e5a-e96d-48b1322b8626"
      },
      "execution_count": null,
      "outputs": [
        {
          "output_type": "stream",
          "name": "stdout",
          "text": [
            "7.34\n"
          ]
        }
      ]
    },
    {
      "cell_type": "code",
      "source": [
        "print(18-(6-(7.33%8))*3)"
      ],
      "metadata": {
        "colab": {
          "base_uri": "https://localhost:8080/"
        },
        "id": "LkHzIeqwp3N8",
        "outputId": "e5ce3190-f572-4dae-955c-21925a247f9e"
      },
      "execution_count": null,
      "outputs": [
        {
          "output_type": "stream",
          "name": "stdout",
          "text": [
            "21.990000000000002\n"
          ]
        }
      ]
    },
    {
      "cell_type": "code",
      "source": [
        "print(10-(8+(-174.0%6))/3)"
      ],
      "metadata": {
        "colab": {
          "base_uri": "https://localhost:8080/"
        },
        "id": "t2U5wgAlnT2e",
        "outputId": "0d5663d7-7a59-4368-b452-05c899f2257d"
      },
      "execution_count": null,
      "outputs": [
        {
          "output_type": "stream",
          "name": "stdout",
          "text": [
            "7.333333333333334\n"
          ]
        }
      ]
    },
    {
      "cell_type": "code",
      "source": [
        "print(-5.0//2)"
      ],
      "metadata": {
        "colab": {
          "base_uri": "https://localhost:8080/"
        },
        "id": "oDfzqroNngCX",
        "outputId": "c6ac0347-41a8-474a-cf0a-bb15179c44bb"
      },
      "execution_count": null,
      "outputs": [
        {
          "output_type": "stream",
          "name": "stdout",
          "text": [
            "-3.0\n"
          ]
        }
      ]
    },
    {
      "cell_type": "code",
      "source": [
        "\n",
        "print(-6.0%8)"
      ],
      "metadata": {
        "colab": {
          "base_uri": "https://localhost:8080/"
        },
        "id": "wJzeGcgPPJBF",
        "outputId": "1bb31c02-5bbd-4c9a-9612-e0d80497edcc"
      },
      "execution_count": null,
      "outputs": [
        {
          "output_type": "stream",
          "name": "stdout",
          "text": [
            "2.0\n"
          ]
        }
      ]
    },
    {
      "cell_type": "code",
      "source": [
        "print(-10+3-(6-(-6.0%8))*3)"
      ],
      "metadata": {
        "colab": {
          "base_uri": "https://localhost:8080/"
        },
        "id": "Rk4mXj9fYs8X",
        "outputId": "27dc1882-2521-4b75-ba35-742f5048a7b4"
      },
      "execution_count": null,
      "outputs": [
        {
          "output_type": "stream",
          "name": "stdout",
          "text": [
            "-19.0\n"
          ]
        }
      ]
    },
    {
      "cell_type": "code",
      "source": [
        "print(-10+3-(6+6.0%8)*3)"
      ],
      "metadata": {
        "colab": {
          "base_uri": "https://localhost:8080/"
        },
        "id": "GE0n_9klY6un",
        "outputId": "b58e1962-2441-46cd-ece1-78bc3e2c2a10"
      },
      "execution_count": null,
      "outputs": [
        {
          "output_type": "stream",
          "name": "stdout",
          "text": [
            "-43.0\n"
          ]
        }
      ]
    },
    {
      "cell_type": "code",
      "source": [
        "print(-6.0-8*(-6.0//8))"
      ],
      "metadata": {
        "colab": {
          "base_uri": "https://localhost:8080/"
        },
        "id": "COHztQkcZ4t0",
        "outputId": "03a9e7d5-6edc-4f38-9a54-50c66ffe0433"
      },
      "execution_count": null,
      "outputs": [
        {
          "output_type": "stream",
          "name": "stdout",
          "text": [
            "2.0\n"
          ]
        }
      ]
    },
    {
      "cell_type": "code",
      "source": [
        "print(-6.0//8)"
      ],
      "metadata": {
        "colab": {
          "base_uri": "https://localhost:8080/"
        },
        "id": "JJxVTkuUaqIj",
        "outputId": "6ae9bf93-cffc-4ff9-c881-443820ccb0cc"
      },
      "execution_count": null,
      "outputs": [
        {
          "output_type": "stream",
          "name": "stdout",
          "text": [
            "-1.0\n"
          ]
        }
      ]
    },
    {
      "cell_type": "code",
      "source": [
        "print(-19.0//6)"
      ],
      "metadata": {
        "colab": {
          "base_uri": "https://localhost:8080/"
        },
        "id": "kazx9G3XayAN",
        "outputId": "854e57e6-8cd1-41f3-bc5c-ac4424ea1c3b"
      },
      "execution_count": null,
      "outputs": [
        {
          "output_type": "stream",
          "name": "stdout",
          "text": [
            "-4.0\n"
          ]
        }
      ]
    },
    {
      "cell_type": "code",
      "source": [
        "print(9+4-(8+(-19.0%6))/3)"
      ],
      "metadata": {
        "colab": {
          "base_uri": "https://localhost:8080/"
        },
        "id": "ZFsiEoq_cMRi",
        "outputId": "b0c02070-4e1f-4a8c-9456-88f304ef051d"
      },
      "execution_count": null,
      "outputs": [
        {
          "output_type": "stream",
          "name": "stdout",
          "text": [
            "8.666666666666668\n"
          ]
        }
      ]
    },
    {
      "cell_type": "code",
      "source": [
        "print((8+(-19.0%6))/3)"
      ],
      "metadata": {
        "colab": {
          "base_uri": "https://localhost:8080/"
        },
        "id": "b3Sr4d8EdZjM",
        "outputId": "ad7b8f1c-3d4a-4283-e599-0a893b1a4484"
      },
      "execution_count": null,
      "outputs": [
        {
          "output_type": "stream",
          "name": "stdout",
          "text": [
            "4.333333333333333\n"
          ]
        }
      ]
    },
    {
      "cell_type": "code",
      "source": [
        "print(6+1-(6-1.0%8)*3)"
      ],
      "metadata": {
        "colab": {
          "base_uri": "https://localhost:8080/"
        },
        "id": "SSmywQOJdeDy",
        "outputId": "51670fde-cb55-439b-f3e3-5f33a4588034"
      },
      "execution_count": null,
      "outputs": [
        {
          "output_type": "stream",
          "name": "stdout",
          "text": [
            "-8.0\n"
          ]
        }
      ]
    },
    {
      "cell_type": "code",
      "source": [
        "print((6-1.0%8))"
      ],
      "metadata": {
        "colab": {
          "base_uri": "https://localhost:8080/"
        },
        "id": "VAwvtu54jMu2",
        "outputId": "55533251-0911-4732-b95a-4008e8feb71a"
      },
      "execution_count": null,
      "outputs": [
        {
          "output_type": "stream",
          "name": "stdout",
          "text": [
            "5.0\n"
          ]
        }
      ]
    },
    {
      "cell_type": "code",
      "source": [
        "#Task:20\n",
        "val = 'I love Programming. Python is love.'\n",
        "sp = ['@', '$', '&', '#']\n",
        "new_list = []\n",
        "val2 = ''\n",
        "sum = 0\n",
        "my = {}\n",
        "for i in val:\n",
        "  if i != '.':\n",
        "    val2+=i\n",
        "print(val2)\n",
        "my_list = val2.split(' ')\n",
        "for a in my_list:\n",
        "  if a not in new_list:\n",
        "    new_list.append(a)   #Taking just the unique values (only one love)\n",
        "for a in new_list:\n",
        "  for b in a:\n",
        "    sum+=ord(b)\n",
        "  index = sum%4\n",
        "  if sp[index] not in my.keys():\n",
        "     my[sp[index]] = [a]\n",
        "  else:\n",
        "      my[sp[index]].append(a)\n",
        "  sum = 0\n",
        "print(my)"
      ],
      "metadata": {
        "id": "eZ0kvpYBjouX",
        "colab": {
          "base_uri": "https://localhost:8080/"
        },
        "outputId": "2c61d0a6-b19d-4fff-b9f9-0a920b5145b2"
      },
      "execution_count": null,
      "outputs": [
        {
          "output_type": "stream",
          "name": "stdout",
          "text": [
            "I love Programming Python is love\n",
            "{'$': ['I'], '&': ['love', 'Python'], '#': ['Programming'], '@': ['is']}\n"
          ]
        }
      ]
    }
  ]
}