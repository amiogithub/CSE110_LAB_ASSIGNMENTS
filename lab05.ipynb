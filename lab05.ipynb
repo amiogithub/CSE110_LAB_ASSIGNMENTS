{
  "nbformat": 4,
  "nbformat_minor": 0,
  "metadata": {
    "colab": {
      "provenance": []
    },
    "kernelspec": {
      "name": "python3",
      "display_name": "Python 3"
    },
    "language_info": {
      "name": "python"
    }
  },
  "cells": [
    {
      "cell_type": "markdown",
      "source": [
        "1. Write a Python program that reads 5 numbers from the user into a list. After reading each number, print all the numbers that have been entered so far in the list.\n",
        "\n",
        "\n",
        "Example:\n",
        "\n",
        "If the user enters 3, prints “Numbers in the list: [3]”\n",
        "\n",
        "If the user enters 5 next, prints \n",
        "“Numbers in the list: [3, 5]”\n",
        "\n",
        "If the user enters 34, prints\n",
        " “Numbers in the list: [3, 5, 34]”\n",
        "\n",
        "If the user then enters -11, prints \n",
        "“Numbers in the list: [3, 5, 34, -11]”\n",
        "\n",
        "Finally, if the user enters 0 as the \n",
        "last number, prints “Numbers in the\n",
        " list: [3, 5, 34, -11, 0]”\n",
        "\n",
        "\n",
        "\n"
      ],
      "metadata": {
        "id": "rejSFt9uCPsQ"
      }
    },
    {
      "cell_type": "code",
      "source": [
        "#Solution:01\n",
        "#Method: 02 \n",
        "my_list=[]\n",
        "for i in range(5):\n",
        "  numbers=int(input())\n",
        "  my_list+=[numbers]\n",
        "  print(f\"Numbers in the list: {my_list}\")"
      ],
      "metadata": {
        "colab": {
          "base_uri": "https://localhost:8080/"
        },
        "id": "bBdMo-onGU8B",
        "outputId": "4bcf6135-bbb5-43e6-f249-6bae132f942d"
      },
      "execution_count": null,
      "outputs": [
        {
          "output_type": "stream",
          "name": "stdout",
          "text": [
            "1\n",
            "Numbers in the list: [1]\n",
            "2\n",
            "Numbers in the list: [1, 2]\n",
            "3\n",
            "Numbers in the list: [1, 2, 3]\n",
            "4\n",
            "Numbers in the list: [1, 2, 3, 4]\n",
            "5\n",
            "Numbers in the list: [1, 2, 3, 4, 5]\n"
          ]
        }
      ]
    },
    {
      "cell_type": "code",
      "source": [
        "#Method:01 (Don't Follow XD)\n",
        "my_list=[]\n",
        "for i in  range(1,6): \n",
        "  if i==1:\n",
        "   n=int(input(\"Please enter your 1st number: \"))\n",
        "   my_list+=[n]\n",
        "   print(f\"Numbers in the list: {my_list}\")\n",
        "  elif i==2:\n",
        "   n=int(input(\"Please enter your 2nd number: \")) \n",
        "   my_list+=[n]\n",
        "   print(f\"Numbers in the list: {my_list}\")\n",
        "  elif i==3:\n",
        "   n=int(input(\"Please enter your 3rd number: \"))\n",
        "   my_list+=[n]\n",
        "   print(f\"Numbers in the list: {my_list}\")\n",
        "\n",
        "  else:\n",
        "   n=int(input(f\"Please enter your {i}th number: \")) \n",
        "   my_list+=[n] \n",
        "   print(f\"Numbers in the list: {my_list}\")\n",
        "\n",
        "     "
      ],
      "metadata": {
        "id": "7TBQlTE6CObT",
        "colab": {
          "base_uri": "https://localhost:8080/"
        },
        "outputId": "3e4e32a7-10a0-4cc5-9215-155e296df4f4"
      },
      "execution_count": null,
      "outputs": [
        {
          "output_type": "stream",
          "name": "stdout",
          "text": [
            "Please enter your 1st number: 1\n",
            "Numbers in the list: [1]\n",
            "Please enter your 2nd number: 2\n",
            "Numbers in the list: [1, 2]\n",
            "Please enter your 3rd number: 3\n",
            "Numbers in the list: [1, 2, 3]\n",
            "Please enter your 4th number: 4\n",
            "Numbers in the list: [1, 2, 3, 4]\n",
            "Please enter your 5th number: 5\n",
            "Numbers in the list: [1, 2, 3, 4, 5]\n"
          ]
        }
      ]
    },
    {
      "cell_type": "code",
      "execution_count": null,
      "metadata": {
        "colab": {
          "base_uri": "https://localhost:8080/"
        },
        "id": "vQZhE-_i6jyd",
        "outputId": "672c5b9b-004b-4ee7-e1af-2fa0e667f4f8"
      },
      "outputs": [
        {
          "output_type": "stream",
          "name": "stdout",
          "text": [
            "1\n",
            "Numbers in the list: [1]\n",
            "2\n",
            "Numbers in the list: [1, 2]\n",
            "3\n",
            "Numbers in the list: [1, 2, 3]\n",
            "4\n",
            "Numbers in the list: [1, 2, 3, 4]\n",
            "5\n",
            "Numbers in the list: [1, 2, 3, 4, 5]\n"
          ]
        }
      ],
      "source": [
        "#Method:03\n",
        "my_list=[]\n",
        "for i in range(5):\n",
        "  numbers=int(input())\n",
        "  my_list.append(numbers)\n",
        "  print(f\"Numbers in the list: {my_list}\")\n"
      ]
    },
    {
      "cell_type": "markdown",
      "source": [
        "2. Write a Python program that takes a list as an input from the user, then creates a new list excluding the first and last two elements of the given list and prints the new list. If there are not enough elements in the list to do the task, print \"Not possible\".\n",
        "Note: You may use list slicing.\n",
        "\n",
        "\n",
        "Sample Input 1:\n",
        "\n",
        "[10, 20, 24, 25, 26, 35, 70]\n",
        "\n",
        "Sample Output 1:\n",
        "\n",
        "[24, 25, 26]\n",
        "\n"
      ],
      "metadata": {
        "id": "2_JcPy0iHA-M"
      }
    },
    {
      "cell_type": "code",
      "source": [
        "a_list=[10, 20, 24, 25, 26, 35, 70][2:-2]\n",
        "print(a_list)\n"
      ],
      "metadata": {
        "colab": {
          "base_uri": "https://localhost:8080/"
        },
        "id": "oFvNp6Y3uzqs",
        "outputId": "0c82f5d8-fcec-4760-bec1-2108f19e1436"
      },
      "execution_count": null,
      "outputs": [
        {
          "output_type": "stream",
          "name": "stdout",
          "text": [
            "[24, 25, 26]\n"
          ]
        }
      ]
    },
    {
      "cell_type": "code",
      "source": [
        "#Solution to Task:02\n",
        "\n",
        "user=input()\n",
        "user=user[1:-1]       #Please Integer er slicing koris na bhai\n",
        "# print(user)\n",
        "list=user.split(\",\")\n",
        "my_list=[]\n",
        "if len(list)<4:\n",
        "  print(\"Not possible\")\n",
        "else:      \n",
        "  \n",
        "    for i in range(2,len(list)-2):\n",
        "        my_list.append(int(list[i]))\n",
        "    print(my_list)"
      ],
      "metadata": {
        "colab": {
          "base_uri": "https://localhost:8080/"
        },
        "id": "nnhZM-eEG_0i",
        "outputId": "e9507924-f280-46de-ea7b-4f8cf282a0dc"
      },
      "execution_count": null,
      "outputs": [
        {
          "output_type": "stream",
          "name": "stdout",
          "text": [
            "[1,2,3]\n",
            "Not possible\n"
          ]
        }
      ]
    },
    {
      "cell_type": "code",
      "source": [
        "#task2\n",
        "user=input(\"An input from user \")\n",
        "print(\"user dise :\",user)\n",
        "new=user[1:-1]\n",
        "print('ami banaisi',new)                              # 10, 20, 24, 25, 26, 35, 70\n",
        "new_list=[]                                  # []\n",
        "var=\"\"                                       # ''\n",
        "for i in new:                               # 10, 20, 24, 25, 26, 35, 70   \n",
        "   if i==\",\":                                # if i== ','\n",
        "      new_list.append(int(var))              # new_list e add korbo empty string\n",
        "      var=\"\"                                  \n",
        "   else:\n",
        "     var+=i                                  # var='10'\n",
        "new_list.append(int(var))   \n",
        "print('list banalam',new_list)                \n",
        "if len(new_list)>=4:\n",
        "   print('eki holo',new_list[2:-2])\n",
        "else:\n",
        "   print(\"Not possible\")\n"
      ],
      "metadata": {
        "colab": {
          "base_uri": "https://localhost:8080/"
        },
        "id": "e5K7y4mFnSkW",
        "outputId": "10e5365c-dfc5-490f-e2c2-fbb2fa2fd96c"
      },
      "execution_count": null,
      "outputs": [
        {
          "output_type": "stream",
          "name": "stdout",
          "text": [
            "An input from user [10, 20, 24, 25, 26, 35, 70]\n",
            "user dise : [10, 20, 24, 25, 26, 35, 70]\n",
            "ami banaisi 10, 20, 24, 25, 26, 35, 70\n",
            "list banalam [10, 20, 24, 25, 26, 35, 70]\n",
            "eki holo [24, 25, 26]\n"
          ]
        }
      ]
    },
    {
      "cell_type": "markdown",
      "source": [
        "**3.**Write a python program that reads 5 numbers from the user into a list, and then prints them in the reverse order.\n",
        "Hint: You may create a list to store the input numbers and then use loop to print them in reverse order\n",
        "\n",
        "\n",
        "Sample Input:\n",
        "\n",
        "5\n",
        "\n",
        "-5\n",
        "\n",
        "100\n",
        "\n",
        "1\n",
        "\n",
        "0\n",
        "\n",
        "Sample Output:\n",
        "\n",
        "Input data:c\n",
        "\n",
        "Printing values from the list in \n",
        "reverse order:\n",
        "\n",
        "0\n",
        "\n",
        "1\n",
        "\n",
        "100\n",
        "\n",
        "-5\n",
        "\n",
        "5\n",
        "\n"
      ],
      "metadata": {
        "id": "PwXUOwFUdF50"
      }
    },
    {
      "cell_type": "code",
      "source": [
        "#Solution: 03\n",
        "my_list=[]\n",
        "for i in  range(5):\n",
        "  n=int(input())\n",
        "  my_list+=[n]\n",
        "print(f\"Input data:{my_list}\")\n",
        "print(\"Printing Values from the list in reverse order: \")\n",
        "print(*my_list[-1::-1],sep=\"\\n\")"
      ],
      "metadata": {
        "id": "_GqRFw1Cdlc1"
      },
      "execution_count": null,
      "outputs": []
    },
    {
      "cell_type": "code",
      "source": [
        "#Method:02\n",
        "a_list=[]\n",
        "for count in range(0,5):\n",
        "  user=int(input())\n",
        "  a_list.append(user)\n",
        "print(\"Input data\", a_list)\n",
        "print(\"Printing values from the list in reverse order: \")\n",
        "print(*a_list[-1:len(a_list)*-1-1:-1],sep=\"\\n\")  "
      ],
      "metadata": {
        "colab": {
          "base_uri": "https://localhost:8080/"
        },
        "id": "zRtuP5RGES8F",
        "outputId": "0e3695f2-eae2-4c0e-cd7f-ced74a160307"
      },
      "execution_count": null,
      "outputs": [
        {
          "output_type": "stream",
          "name": "stdout",
          "text": [
            "1\n",
            "2\n",
            "3\n",
            "4\n",
            "5\n",
            "Input data [1, 2, 3, 4, 5]\n",
            "Printing values from the list in reverse order: \n",
            "5\n",
            "4\n",
            "3\n",
            "2\n",
            "1\n"
          ]
        }
      ]
    },
    {
      "cell_type": "code",
      "source": [
        "#Method:03\n",
        "list_of_numbers = []\n",
        "for i in range(1, 6):\n",
        "    number = int(input(\"Sir, please enter you desired number: \"))\n",
        "    list_of_numbers.append(number)\n",
        "\n",
        "print(\"Input data:\", list_of_numbers)\n",
        "print(\"Printing values from the list in reverse order: \")\n",
        "\n",
        "# printing without for loop\n",
        "print(*list_of_numbers[::-1], sep=\"\\n\")"
      ],
      "metadata": {
        "colab": {
          "base_uri": "https://localhost:8080/"
        },
        "id": "yP5pUhO90kGQ",
        "outputId": "a3a448a9-aae3-4b04-94fb-8dfe3bcd4724"
      },
      "execution_count": null,
      "outputs": [
        {
          "output_type": "stream",
          "name": "stdout",
          "text": [
            "Sir, please enter you desired number: 1\n",
            "Sir, please enter you desired number: 2\n",
            "Sir, please enter you desired number: 3\n",
            "Sir, please enter you desired number: 4\n",
            "Sir, please enter you desired number: 5\n",
            "Input data: [1, 2, 3, 4, 5]\n",
            "Printing values from the list in reverse order: \n",
            "5\n",
            "4\n",
            "3\n",
            "2\n",
            "1\n"
          ]
        }
      ]
    },
    {
      "cell_type": "markdown",
      "source": [
        "**4.**Write a Python program that turns every item of a list into its square. [Your program should work for any lists; make changes to the lists below and check whether your program works correctly]\n",
        "\n",
        "\n",
        "Given list 1:\n",
        "\n",
        "\n",
        "[1, 2, 3, 4, 5, 6, 7]\n",
        "\n",
        "\n",
        "Sample Output 1:\n",
        "\n",
        "\n",
        "[1, 4, 9, 16, 25, 36, 49]\n",
        "\n",
        "\n"
      ],
      "metadata": {
        "id": "c3_IyZ49f5AV"
      }
    },
    {
      "cell_type": "code",
      "source": [
        "print(5**3)"
      ],
      "metadata": {
        "colab": {
          "base_uri": "https://localhost:8080/"
        },
        "id": "UpbVNs3cdgMW",
        "outputId": "e332837d-f048-4bfc-f278-0d2d9d855f22"
      },
      "execution_count": null,
      "outputs": [
        {
          "output_type": "stream",
          "name": "stdout",
          "text": [
            "125\n"
          ]
        }
      ]
    },
    {
      "cell_type": "code",
      "source": [
        "#Solution:04 (Follow)\n",
        "list=[1, 2, -4, 0, -5, -6, 7]\n",
        "my_list=[]\n",
        "for i in list:\n",
        "  my_list.append(int(i)*int(i))\n",
        "print(my_list)"
      ],
      "metadata": {
        "colab": {
          "base_uri": "https://localhost:8080/"
        },
        "id": "KRT-0mb8FoZn",
        "outputId": "a9948888-6fef-4d47-824d-308f20ab4da0"
      },
      "execution_count": null,
      "outputs": [
        {
          "output_type": "stream",
          "name": "stdout",
          "text": [
            "[1, 4, 16, 0, 25, 36, 49]\n"
          ]
        }
      ]
    },
    {
      "cell_type": "code",
      "source": [
        "#Solution:04 (Follow)\n",
        "list=[1, 2, 3, 4, 5, 6, 7]\n",
        "my_list=[]\n",
        "for i in list:\n",
        "  if int(i)<0:\n",
        "    my_list.append((int(i)*-1)**2)\n",
        "  else:\n",
        "    my_list.append(pow(int(i),2))\n",
        "print(my_list)"
      ],
      "metadata": {
        "colab": {
          "base_uri": "https://localhost:8080/"
        },
        "id": "hnuMf9skMqRI",
        "outputId": "59018186-f478-49e7-8d2a-2401b5bf024e"
      },
      "execution_count": null,
      "outputs": [
        {
          "output_type": "stream",
          "name": "stdout",
          "text": [
            "[1, 4, 9, 16, 25, 36, 49]\n"
          ]
        }
      ]
    },
    {
      "cell_type": "code",
      "source": [
        "#Solution:04\n",
        "input=input()\n",
        "input=input[1:-1]\n",
        "list=input.split(\",\")\n",
        "my_list=[]\n",
        "for i in list:\n",
        "  if int(i)<0:\n",
        "    my_list.append((int(i)*-1)**2)\n",
        "  else:\n",
        "    my_list.append(int(i)**2)    # or#  my_list.append(pow(int(i),2))\n",
        "print(my_list)"
      ],
      "metadata": {
        "colab": {
          "base_uri": "https://localhost:8080/"
        },
        "id": "1S0o2q-ThcB2",
        "outputId": "d60ff410-bba7-4bb1-ef0d-e393ff1defd6"
      },
      "execution_count": null,
      "outputs": [
        {
          "output_type": "stream",
          "name": "stdout",
          "text": [
            "[1, 2, 3, 4, 5, 6, 7]\n",
            "[1, 4, 9, 16, 25, 36, 49]\n"
          ]
        }
      ]
    },
    {
      "cell_type": "code",
      "source": [
        "#Method:02\n",
        "user_input = input(\"Sir, please enter your desired list: \")\n",
        "user_input = user_input[1:len(user_input)-1]\n",
        "\n",
        "list_of_str = user_input.split(\",\")\n",
        "list_of_numbers = []\n",
        "\n",
        "for number in list_of_str:\n",
        "    list_of_numbers.append(int(number.strip()))\n",
        "\n",
        "result_list = []\n",
        "\n",
        "for values in list_of_numbers:\n",
        "    if int(values) < 0:\n",
        "        result_list.append((int(values)*-1)**2)\n",
        "    else:\n",
        "        result_list.append(int(values)**2)\n",
        "\n",
        "print(result_list)"
      ],
      "metadata": {
        "id": "Ae19WCEZ6Y0D"
      },
      "execution_count": null,
      "outputs": []
    },
    {
      "cell_type": "markdown",
      "source": [
        "**5**.Write a Python program that removes all Empty strings from a given list and prints the modified list. [Your program should work for any given list; make changes to the list below and check whether your program works correctly]\n",
        "\n",
        "Given List:\n",
        "\n",
        "[\"hey\", \"there\", \"\", \"what's\", \"\", \"up\", \"\", \"?\"]\n",
        "\n",
        "Sample Output:\n",
        "\n",
        "Original List: ['hey', 'there', '', \n",
        "\"what's\", '', 'up', '', '?']\n",
        "\n",
        "Modified List: ['hey', 'there', \"what's\", \n",
        "'up', '?']\n",
        "\n"
      ],
      "metadata": {
        "id": "jcDPgpBNk1sI"
      }
    },
    {
      "cell_type": "code",
      "source": [
        "#05 (Main)\n",
        "list=[\"hey\", \"there\", \"\", \"what's\", \"\", \"up\", \"\", \"?\"]\n",
        "list2=[]\n",
        "for i in list:\n",
        "  if i==\"\":\n",
        "    pass\n",
        "  else:\n",
        "    list2.append(i)\n",
        "print(list)    \n",
        "print(list2)      \n",
        "       "
      ],
      "metadata": {
        "colab": {
          "base_uri": "https://localhost:8080/"
        },
        "id": "mX3RJoKtk1_H",
        "outputId": "34efee50-8f98-418e-85ea-f32a9ef7db5f"
      },
      "execution_count": null,
      "outputs": [
        {
          "output_type": "stream",
          "name": "stdout",
          "text": [
            "['hey', 'there', '', \"what's\", '', 'up', '', '?']\n",
            "['hey', 'there', \"what's\", 'up', '?']\n"
          ]
        }
      ]
    },
    {
      "cell_type": "code",
      "source": [
        "user_input = input(\"Sir, please enter your desired list: \")        #[\"hey\", \"there\", \"\", \"what's\", \"\", \"up\", \"\", \"?\"]\n",
        "user_input = user_input[1:len(user_input)-1]\n",
        "                                                                  # \"hey\", \"there\", \"\", \"what's\", \"\", \"up\", \"\", \"?\"\n",
        "print(user_input)\n",
        "\n",
        "list_of_str = user_input.split(\",\")\n",
        "list_of_words = []\n",
        "\n",
        "for number in list_of_str:\n",
        "    list_of_words.append(number.strip('\" '))\n",
        "print(list_of_words)\n",
        "\n",
        "result = []\n",
        "\n",
        "for values in list_of_words:\n",
        "    if values != '':\n",
        "        result.append(values)\n",
        "\n",
        "print(\"Original List: \",list_of_words)                       #  Original List: ['hey', 'there', '', \"what's\", '', 'up', '', '?']\n",
        "print(\"Modified List: \",result)                              #  Modified List: ['hey', 'there', \"what's\", 'up', '?']"
      ],
      "metadata": {
        "colab": {
          "base_uri": "https://localhost:8080/"
        },
        "id": "v47_ptrxgYM8",
        "outputId": "a2393a25-9ed6-4532-baa8-9e2fbfc3dea8"
      },
      "execution_count": null,
      "outputs": [
        {
          "output_type": "stream",
          "name": "stdout",
          "text": [
            "Sir, please enter your desired list: [\"hey\", \"there\", \"\", \"what's\", \"\", \"up\", \"\", \"?\"]\n",
            "\"hey\", \"there\", \"\", \"what's\", \"\", \"up\", \"\", \"?\"\n",
            "['hey', 'there', '', \"what's\", '', 'up', '', '?']\n",
            "Original List:  ['hey', 'there', '', \"what's\", '', 'up', '', '?']\n",
            "Modified List:  ['hey', 'there', \"what's\", 'up', '?']\n"
          ]
        }
      ]
    },
    {
      "cell_type": "markdown",
      "source": [
        "**06.** Write a Python program that reads a string containing 7 numbers separated by commas, then makes a list of those numbers and prints the largest number and its location or index position in the list. [You are not allowed to use the max(), sort(), sorted() function here]\n",
        "[Your program should work for any given list; make changes to the list below and check whether your program works correctly]\n",
        "Hint: You may assume the first input to be\n",
        "\n",
        "the largest value initially and the largest\n",
        "\n",
        "\n",
        "Note: You may need to be careful while \n",
        "\n",
        "printing the output. Depending on your code,\n",
        "\n",
        " you might need data conversion\n"
      ],
      "metadata": {
        "id": "iRo75k9P8YFy"
      }
    },
    {
      "cell_type": "code",
      "source": [
        "#Solution: 06(Main)\n",
        "list1=input()\n",
        "a=list1[0]\n",
        "b=[]\n",
        "for i in range(1,len(list1)):\n",
        "  if list1[i]!=\",\":\n",
        "    a+=list1[i]\n",
        "  else:\n",
        "    b.append(int(a))\n",
        "    a=\"\"\n",
        "max=b[0]\n",
        "for i in range(len(b)):\n",
        "  if b[i]>max:\n",
        "    max=b[i]\n",
        "  maxindex=i\n",
        "\n",
        "print(f\"Largest number in the list is {max} which was found at index {maxindex}\")      \n",
        "\n"
      ],
      "metadata": {
        "colab": {
          "base_uri": "https://localhost:8080/"
        },
        "id": "rCmEacf0ygDU",
        "outputId": "204872a7-3ad2-450c-d301-e7945db7e746"
      },
      "execution_count": null,
      "outputs": [
        {
          "output_type": "stream",
          "name": "stdout",
          "text": [
            "7, 13, 2, 10, 6, -11, 0\n",
            "Largest number in the list is 13 which was found at index 5\n"
          ]
        }
      ]
    },
    {
      "cell_type": "code",
      "source": [
        "#Solution: 06 (method:02)\n",
        "number=input()\n",
        "list=number.split(\",\")\n",
        "print(list)\n",
        "\n",
        "largest=int(list[0])\n",
        "new_list=[int(list[0])]\n",
        "\n",
        "for i in range(1,len(list)):\n",
        "  new_list.append(int(list[i]))\n",
        "  if largest<int(list[i]):\n",
        "     largest=int(list[i])\n",
        "     index=i\n",
        "\n",
        "print(f\"My List: {new_list}\")\n",
        "print(f\"Largest number in the list is {largest} which was found at index {index}\")   \n",
        "\n",
        "\n",
        "\n",
        "\n"
      ],
      "metadata": {
        "colab": {
          "base_uri": "https://localhost:8080/"
        },
        "id": "-mh-A4FE8YhB",
        "outputId": "bb9b2c49-5062-408f-d119-548ecc74f3be"
      },
      "execution_count": null,
      "outputs": [
        {
          "output_type": "stream",
          "name": "stdout",
          "text": [
            "7, 13, 2, 10, 6, -11, 0\n",
            "['7', ' 13', ' 2', ' 10', ' 6', ' -11', ' 0']\n",
            "My List: [7, 13, 2, 10, 6, -11, 0]\n",
            "Largest number in the list is 13 which was found at index 1\n"
          ]
        }
      ]
    },
    {
      "cell_type": "markdown",
      "source": [
        "**07.**Suppose you have been given two lists. Write a Python program that replaces the last element of the first list with the second list. [Your program should work for any two given lists; make changes to the lists below and check whether your program works correctly]\n",
        "\n",
        "Sample given lists 1:\n",
        "\n",
        "List_one : [1, 4, 7, 5]\n",
        "\n",
        "List_two : [6, 1, 3, 9]\n",
        "\n",
        "Sample Output 1:\n",
        "\n",
        "[1, 4, 7, 6, 1, 3, 9]\n",
        "\n",
        "\n",
        "Sample given lists 2:\n",
        "\n",
        "List_one : [1, 3, 5, 7, 9, 10]\n",
        "\n",
        "List_two : [2, 4, 6, 8]\n",
        "\n",
        "Sample Output 2:\n",
        "\n",
        "[1, 3, 5, 7, 9, 2, 4, 6, 8]\n"
      ],
      "metadata": {
        "id": "gBz9rf0tAp1q"
      }
    },
    {
      "cell_type": "code",
      "source": [
        "#07 (Main solution)\n",
        "list_one=[1,4,7,5]\n",
        "list_two=[6,1,3,9]\n",
        "list_3=[]\n",
        "list_4=[]\n",
        "for i in range(len(list_one)-1):\n",
        "   list_3.append(list_one[i])\n",
        "for j in range(len(list_two)):\n",
        "  list_4.append(list_two[j])\n",
        "\n",
        "print(list_3+list_4)   \n"
      ],
      "metadata": {
        "id": "RfJuUIA-0qhl",
        "colab": {
          "base_uri": "https://localhost:8080/"
        },
        "outputId": "e0974cad-e00b-41b6-e6bd-61563e563ea6"
      },
      "execution_count": null,
      "outputs": [
        {
          "output_type": "stream",
          "name": "stdout",
          "text": [
            "[1, 4, 7, 6, 1, 3, 9]\n"
          ]
        }
      ]
    },
    {
      "cell_type": "code",
      "source": [
        "#07(solution:02)\n",
        "list1=[1, 4, 7, 5]\n",
        "list2=[6, 1, 3, 9]\n",
        "print(list1[:-1]+list2)"
      ],
      "metadata": {
        "colab": {
          "base_uri": "https://localhost:8080/"
        },
        "id": "TvqTbEKmLt4r",
        "outputId": "26f49e59-9cc9-4916-e2b5-0e2e345e9fd4"
      },
      "execution_count": null,
      "outputs": [
        {
          "output_type": "stream",
          "name": "stdout",
          "text": [
            "[1, 4, 7, 6, 1, 3, 9]\n"
          ]
        }
      ]
    },
    {
      "cell_type": "code",
      "source": [
        "#Solution: 07 (Method: 01)\n",
        "\n",
        "list_one=input()\n",
        "list_two=input()\n",
        "list_one=list_one[1:-1]\n",
        "list_two=list_two[1:-1]\n",
        "list_one=list_one.split(\",\")\n",
        "# print(list_one)\n",
        "list_two=list_two.split(\",\")\n",
        "# print(list_two)\n",
        "my_list_1=[]\n",
        "my_list_2=[]\n",
        "for i in range(0,len(list_one)-1):\n",
        "  my_list_1.append(int(list_one[i]))\n",
        "# print(my_list_1)\n",
        "for j in range(len(list_two)):\n",
        "  my_list_2.append(int(list_two[j]))\n",
        "# print(my_list_2)  \n",
        "\n",
        "my_list_1.extend(my_list_2)\n",
        "print(my_list_1)"
      ],
      "metadata": {
        "colab": {
          "base_uri": "https://localhost:8080/"
        },
        "id": "NYuevTnIAqHK",
        "outputId": "74a42a3e-6dea-415c-abfc-a6faa14bd390"
      },
      "execution_count": null,
      "outputs": [
        {
          "output_type": "stream",
          "name": "stdout",
          "text": [
            "[1,4,7,5]\n",
            "[6,1,3,9]\n",
            "[1, 4, 7, 6, 1, 3, 9]\n"
          ]
        }
      ]
    },
    {
      "cell_type": "code",
      "source": [
        "# Solution to task 7\n",
        "\n",
        "user_input = input(\"Sir, please enter your desired list: \")\n",
        "user_input = user_input[1:len(user_input)-1]\n",
        "\n",
        "list_of_str = user_input.split(\",\")\n",
        "list_of_numbers = []\n",
        "\n",
        "for number in list_of_str:\n",
        "    list_of_numbers.append(int(number))\n",
        "\n",
        "user_input1 = input(\"Sir, please enter your desired list: \")\n",
        "user_input1 = user_input1[1:len(user_input1)-1]\n",
        "\n",
        "list_of_str1 = user_input1.split(\",\")\n",
        "list_of_numbers1 = []\n",
        "\n",
        "for number in list_of_str1:\n",
        "    list_of_numbers1.append(int(number))\n",
        "\n",
        "result = list_of_numbers[:len(list_of_numbers)-1]\n",
        "result.extend(list_of_numbers1)\n",
        "\n",
        "print(result)"
      ],
      "metadata": {
        "colab": {
          "base_uri": "https://localhost:8080/"
        },
        "id": "9o0pX5hRRNyF",
        "outputId": "e48a2a1f-422b-4da9-8afb-2b4a957db7d5"
      },
      "execution_count": null,
      "outputs": [
        {
          "output_type": "stream",
          "name": "stdout",
          "text": [
            "Sir, please enter your desired list: [1,3,5,7,9,10]\n",
            "Sir, please enter your desired list: [2,4,6,8]\n",
            "[1, 3, 5, 7, 9, 2, 4, 6, 8]\n"
          ]
        }
      ]
    },
    {
      "cell_type": "markdown",
      "source": [
        "**08.** Assume, you have been given two lists. [Your program should work for any two given lists; change the following lists and check whether your program works correctly for the code you have written]\n",
        "\n",
        "list_one = [1, 2, 3, 4, 5, 6, 7, 8, 9]\n",
        "\n",
        "list_two = [10, 11, 12, -13, -14, -15, -16]\n",
        "\n",
        "Write a Python program that creates a new list with all the even elements of both of the given lists and prints the new list.\n",
        "Hint: You may create a third list to store the even elements of the given lists.\n",
        "\n",
        "\n",
        "Output for the above lists: [2, 4, 6, 8, 10, 12, -14, -16]\n"
      ],
      "metadata": {
        "id": "P_IN7M8ET1-t"
      }
    },
    {
      "cell_type": "code",
      "source": [
        "#Solution: 08 (Main Solution) \n",
        "list_one=[1, 2, 3, 4, 5, 6, 7, 8, 9]\n",
        "list_two=[10, 11, 12, -13, -14, -15, -16]\n",
        "my_list_1=[]\n",
        "my_list_2=[]\n",
        "for i in list_one:\n",
        "  if(i)%2==0:\n",
        "    my_list_1+=[(i)]\n",
        "for j in list_two:\n",
        "  if (j)%2==0:\n",
        "    my_list_2+=[(j)]\n",
        "\n",
        "print(my_list_1+my_list_2)\n"
      ],
      "metadata": {
        "id": "Kfx2dzhu1Oo2",
        "colab": {
          "base_uri": "https://localhost:8080/"
        },
        "outputId": "5b8efc8a-b99f-468a-e3bb-62024c710b19"
      },
      "execution_count": null,
      "outputs": [
        {
          "output_type": "stream",
          "name": "stdout",
          "text": [
            "[2, 4, 6, 8, 10, 12, -14, -16]\n"
          ]
        }
      ]
    },
    {
      "cell_type": "code",
      "source": [
        "#Solution: 08 \n",
        "list_one=input()\n",
        "list_two=input()\n",
        "list_one=list_one[1:-1]\n",
        "list_two=list_two[1:-1]\n",
        "list_one=list_one.split(\",\")\n",
        "# print(list_one)\n",
        "list_two=list_two.split(\",\")\n",
        "# print(list_two)\n",
        "my_list_1=[]\n",
        "my_list_2=[]\n",
        "for i in list_one:\n",
        "  if int(i)%2==0:\n",
        "    my_list_1+=[int(i)]\n",
        "for j in list_two:\n",
        "  if int(j)%2==0:\n",
        "    my_list_2+=[int(j)]\n",
        "my_list_1.extend(my_list_2)\n",
        "print(my_list_1)\n"
      ],
      "metadata": {
        "colab": {
          "base_uri": "https://localhost:8080/"
        },
        "id": "6ZZJzc6NT9As",
        "outputId": "c87ece59-449a-46d4-b6fa-2d9767929664"
      },
      "execution_count": null,
      "outputs": [
        {
          "output_type": "stream",
          "name": "stdout",
          "text": [
            "[1,2,3,4,5,6,7,8,9]\n",
            "[10,11,12,-13,-14,-15,-16]\n",
            "[2, 4, 6, 8, 10, 12, -14, -16]\n"
          ]
        }
      ]
    },
    {
      "cell_type": "markdown",
      "source": [
        "**9.** Write a Python program that reads a string as an input from the user where multiple numbers are separated by spaces. Then, make a list of numbers from the input string without using the split() function and print the list. Finally, remove all the occurrences of even numbers from the same input list and print the modified list.\n",
        "\n",
        "\n",
        "Sample Input:\n",
        "\n",
        "7 12 4 55 96 2 11 61 33 42\n",
        "\n",
        "Sample Output:\n",
        "\n",
        "Original list: [7, 12, 4, 55, 96, 2, 11, 61, 33, 42]\n",
        "\n",
        "Modified list: [7, 55, 11, 61, 33]\n",
        "\n"
      ],
      "metadata": {
        "id": "ae3bWTcCXFZf"
      }
    },
    {
      "cell_type": "code",
      "source": [
        "#numbers='7 12 4 55 96 2 11 61 33 42'\n",
        "\n",
        "numbers=input('sir please enter multiple numbers seperated by spaces: ').split(\" \")\n",
        "print(numbers)\n",
        "\n",
        " \n",
        "for i in numbers:\n",
        "  print(i) \n"
      ],
      "metadata": {
        "colab": {
          "base_uri": "https://localhost:8080/"
        },
        "id": "jaonNEiqVlRs",
        "outputId": "a8fffa28-b75f-4195-bf4f-0af9fca254ed"
      },
      "execution_count": null,
      "outputs": [
        {
          "output_type": "stream",
          "name": "stdout",
          "text": [
            "sir please enter multiple numbers seperated by spaces: 7 12 4 55 96 2 11 61 33 42\n",
            "['7', '12', '4', '55', '96', '2', '11', '61', '33', '42']\n",
            "7\n",
            "12\n",
            "4\n",
            "55\n",
            "96\n",
            "2\n",
            "11\n",
            "61\n",
            "33\n",
            "42\n",
            "7\n",
            "12\n",
            "4\n",
            "55\n",
            "96\n",
            "2\n",
            "11\n",
            "61\n",
            "33\n",
            "42\n"
          ]
        }
      ]
    },
    {
      "cell_type": "code",
      "source": [
        "#Main SOlution\n",
        "user=input('sir,please enter a string: ')+' '\n",
        "print(user)\n",
        "new=[]\n",
        "new1=''\n",
        "for i in user:\n",
        "  if i!=\" \":\n",
        "     new1+=i\n",
        "  else:\n",
        "    new.append(int(new1)) #kitkat ke append korsi\n",
        "    new1=\"\"  \n",
        "print(new1)                 \n",
        "# new.append(int(new1))    \n",
        "# print(user) \n",
        "print('The list is',new)     \n",
        "ramisa=[]\n",
        "for i in new:\n",
        "  if i%2!=0:\n",
        "    ramisa.append(i)\n",
        "print('odd numbers list',ramisa)    \n",
        "\n"
      ],
      "metadata": {
        "colab": {
          "base_uri": "https://localhost:8080/"
        },
        "id": "m2nSq7drP5kh",
        "outputId": "02567dcd-e1ce-41a3-9795-04df036f5cc2"
      },
      "execution_count": null,
      "outputs": [
        {
          "output_type": "stream",
          "name": "stdout",
          "text": [
            "sir,please enter a string: 7 12 4 55 96 2 11 61 33 42\n",
            "7 12 4 55 96 2 11 61 33 42 \n",
            "\n",
            "The list is [7, 12, 4, 55, 96, 2, 11, 61, 33, 42]\n",
            "odd numbers list [7, 55, 11, 61, 33]\n"
          ]
        }
      ]
    },
    {
      "cell_type": "code",
      "source": [
        "#Method: 01\n",
        "a=input()+\" \"                    #7 12 4 55 96 2 11 61 33 42+space\n",
        "                                #7 12 4 55 96 2 11 61 33 42 \n",
        "b=[]\n",
        "d=[]\n",
        "c=\"\"\n",
        "for i in a:                         \n",
        "  if i!=\" \":                 #c=7       i=1       i=2         i=\" \"\n",
        "    c+=i                     #          c=1       c=12   \n",
        "  else:\n",
        "    b.append(int(c))        #  b=[7]                         b=[7,12]\n",
        "    c=\"\"                    #  c=\"\"                          c=\"\"\n",
        "for i in b: \n",
        "  if i%2!=0:\n",
        "    d.append(i)\n",
        "print(f\"Original List: {b}\")\n",
        "print(f\"Modified List: {d}\")\n"
      ],
      "metadata": {
        "id": "4w0hOow6T8uF"
      },
      "execution_count": null,
      "outputs": []
    },
    {
      "cell_type": "markdown",
      "source": [
        "**10.** Write a Python program that reads a string as an input from the user where multiple numbers are separated by commas. Then, make a list of numbers from the input string and print the list. Finally, remove multiple occurrences of any numbers from the input list and print the modified list without duplicate values.\n",
        "Hint: You may create a third list to store the results but you may try doing it in the same input list. You can use membership operators (in, not in) to make sure no duplicates are added.\n",
        "\n",
        "Sample Input 1:\n",
        "\n",
        "0, 0, 1, 2, 3, 4, 4, 5, 6, 6, 6, 7, 8, \n",
        "\n",
        "Sample Output 1:\n",
        "\n",
        "Input list: [0, 0, 1, 2, 3, 4, 4, 5, \n",
        "6, 6, 6, 7, 8, 9, 4, 4]\n",
        "\n",
        "Modified list: [0, 1, 2, 3, 4, 5, 6, \n",
        "7, 8, 9]\n",
        "\n"
      ],
      "metadata": {
        "id": "kDVrceP9gr5Q"
      }
    },
    {
      "cell_type": "code",
      "source": [
        "#Solve: 10\n",
        "input=input()\n",
        "input=input.split(\",\")\n",
        "list=[]\n",
        "for i in input:\n",
        "   list.append(int(i))\n",
        "# print(list) \n",
        "my_list=[]\n",
        "my_list.append(list[0])\n",
        "# print(my_list)\n",
        "for i in list:\n",
        "    if i not in my_list:\n",
        "        my_list.append(int(i))\n",
        "    else:\n",
        "        pass\n",
        "print(f\"Input list: {list}\")\n",
        "print(f\"Modified list: {my_list}\")        \n",
        "    \n",
        "    "
      ],
      "metadata": {
        "colab": {
          "base_uri": "https://localhost:8080/"
        },
        "id": "YMIM_TVWgsNX",
        "outputId": "dec3536c-96fa-444d-f80f-f81fc4472443"
      },
      "execution_count": null,
      "outputs": [
        {
          "output_type": "stream",
          "name": "stdout",
          "text": [
            "0, 0, 1, 2, 3, 4, 4, 5, 6, 6, 6, 7, 8, 9, 4, 4\n",
            "Input list: [0, 0, 1, 2, 3, 4, 4, 5, 6, 6, 6, 7, 8, 9, 4, 4]\n",
            "Modified list: [0, 1, 2, 3, 4, 5, 6, 7, 8, 9]\n"
          ]
        }
      ]
    },
    {
      "cell_type": "code",
      "source": [
        "#Method 02(solved with sets)\n",
        "input=input()\n",
        "input=input.split(\",\")\n",
        "list=[]\n",
        "for i in input:\n",
        "   list.append(int(i))\n",
        "# print(list) \n",
        "s={list[0]}\n",
        "for i in list:\n",
        "    s.add(i)\n",
        "print(s)"
      ],
      "metadata": {
        "id": "BULttnAdk5tp"
      },
      "execution_count": null,
      "outputs": []
    },
    {
      "cell_type": "markdown",
      "source": [
        "**11.** Assume, you have been given two lists: List_one and List_two. [Your program should work for any two given lists; change the following lists and check whether your program works correctly for the code you have written]\n",
        "\n",
        "Write a Python program that prints \"True\", if the given two lists have at least one common member. Otherwise, print \"False\".\n",
        "\n",
        "Note: Please use concepts of flag and break to solve this task.\n",
        "\n"
      ],
      "metadata": {
        "id": "kpGd-dhalFfn"
      }
    },
    {
      "cell_type": "code",
      "source": [
        "list_one=[1, 0, 3, 2, 5]\n",
        "list_two=[8, 7, 6, 9]\n",
        "flag=False\n",
        "\n",
        "for i in list_one:\n",
        "  if i in list_two:\n",
        "    flag=True\n",
        "    break\n",
        "  \n",
        "if flag:  #eita kemne kaaj kore.. if flag mane if true: flag toh false e chilo\n",
        "  print(\"True\")\n",
        "else:\n",
        "  print(\"False\")\n",
        "  "
      ],
      "metadata": {
        "colab": {
          "base_uri": "https://localhost:8080/"
        },
        "id": "lUXSEMXKUn7_",
        "outputId": "bd9a8733-cec8-4999-8edd-9d61d2649b18"
      },
      "execution_count": null,
      "outputs": [
        {
          "output_type": "stream",
          "name": "stdout",
          "text": [
            "False\n"
          ]
        }
      ]
    },
    {
      "cell_type": "code",
      "source": [
        "#Task:11 (Main)\n",
        "list_one=[1, 4, 3, 2, 5]\n",
        "list_two=[8, 7, 6, 9]\n",
        "flag=False\n",
        "for i in list_one:\n",
        "  if i  in list_two:\n",
        "    flag=True\n",
        "    break\n",
        "if flag:\n",
        "  print(\"True\") \n",
        "else:\n",
        "  print(\"False\")"
      ],
      "metadata": {
        "colab": {
          "base_uri": "https://localhost:8080/"
        },
        "id": "yx4Nj-kXWjCa",
        "outputId": "4dac60a3-589b-453b-acd0-adbfa76ad49d"
      },
      "execution_count": null,
      "outputs": [
        {
          "output_type": "stream",
          "name": "stdout",
          "text": [
            "False\n"
          ]
        }
      ]
    },
    {
      "cell_type": "code",
      "source": [
        "#Solve:11\n",
        "list_one=input()\n",
        "list_one=list_one[1:-1]\n",
        "list_two=input()\n",
        "list_two=list_two[1:-1]\n",
        "list_one=list_one.split(\",\")\n",
        "list_two=list_two.split(\",\")\n",
        "list_1=[]\n",
        "list_2=[]\n",
        "for i in list_one:\n",
        "  \n",
        "  list_1.append(int(i.strip()))\n",
        "for j in list_two:\n",
        "  list_2.append(int(j.strip()))\n",
        "print(f\"List_one:{list_1}\")\n",
        "print(f\"List_two:{list_2}\")\n",
        "flag=False\n",
        "for i in list_one:\n",
        "  if i in list_two:\n",
        "      flag=True\n",
        "      break\n",
        "if flag:\n",
        "  print(\"True\")\n",
        "else:\n",
        "  print(\"False\")        \n"
      ],
      "metadata": {
        "colab": {
          "base_uri": "https://localhost:8080/"
        },
        "id": "bvskVabIg8dY",
        "outputId": "92f9a9ea-1873-46db-cd0e-d45825be1cb2"
      },
      "execution_count": null,
      "outputs": [
        {
          "output_type": "stream",
          "name": "stdout",
          "text": [
            "[1,4,   3,2,6]\n",
            "[5,6,7,9,8]\n",
            "List_one:[1, 4, 3, 2, 6]\n",
            "List_two:[5, 6, 7, 9, 8]\n",
            "True\n"
          ]
        }
      ]
    },
    {
      "cell_type": "code",
      "source": [
        "# Solution to task 11\n",
        "\n",
        "user_input = input(\"Sir, please enter your desired list: \")\n",
        "user_input = user_input[1:len(user_input)-1]\n",
        "\n",
        "list_of_str = user_input.split(\",\")\n",
        "list_of_numbers = []\n",
        "\n",
        "for number in list_of_str:\n",
        "    list_of_numbers.append(int(number.strip()))\n",
        "\n",
        "user_input1 = input(\"Sir, please enter your desired list: \")\n",
        "user_input1 = user_input1[1:len(user_input1)-1]\n",
        "\n",
        "list_of_str1 = user_input1.split(\",\")\n",
        "list_of_numbers1 = []\n",
        "\n",
        "for number in list_of_str1:\n",
        "    list_of_numbers1.append(int(number.strip()))\n",
        "\n",
        "common = False\n",
        "\n",
        "for item in list_of_numbers:\n",
        "    if item in list_of_numbers1:\n",
        "        common = True\n",
        "\n",
        "print(common)"
      ],
      "metadata": {
        "colab": {
          "base_uri": "https://localhost:8080/"
        },
        "id": "kp_ZhgnB5ACI",
        "outputId": "2c8db126-a09d-468d-b6ea-569fcaa81c35"
      },
      "execution_count": null,
      "outputs": [
        {
          "output_type": "stream",
          "name": "stdout",
          "text": [
            "Sir, please enter your desired list: \"1,2,2,2\"\n",
            "Sir, please enter your desired list: \"1,0,9\"\n",
            "True\n"
          ]
        }
      ]
    },
    {
      "cell_type": "markdown",
      "source": [
        "**16.** Write a Python program that reads 7 numbers into a list and prints the second largest number and its location or index position on the list. [You are not allowed to use the max(), sort(), sorted() function here]\n",
        "\n",
        "\n",
        "Sample Input:\n",
        "\n",
        "7, 13, 2, 10, 6, -11, 0\n",
        "\n",
        "Sample Output:\n",
        "\n",
        "My list: [7, 13, 2, 10, 6, -11, 0]\n",
        "\n",
        "Second largest number in the list is \n",
        "10 which was found at index 3.\n",
        "\n",
        "\n"
      ],
      "metadata": {
        "id": "Nkn9ggr1qFhh"
      }
    },
    {
      "cell_type": "code",
      "source": [
        "numbers=input().split(\",\")\n",
        "lst=[]\n",
        "for i in numbers:\n",
        "  lst.append(int(i))\n",
        "index=None\n",
        "minimum=lst[0]\n",
        "maximum=lst[0]\n",
        "for i in range(1,len(lst)):\n",
        "  if lst[i]>maximum:\n",
        "    maximum=lst[i]  \n",
        "  else:\n",
        "    minimum=lst[i]  \n",
        "\n",
        "\n",
        "\n",
        "print(f'Second largest number in the list is {maximum} which was found at index {index}')       \n",
        "\n",
        "\n"
      ],
      "metadata": {
        "colab": {
          "base_uri": "https://localhost:8080/"
        },
        "id": "pduUA5deaK_m",
        "outputId": "c2de98d1-8080-41e8-a7fe-5b56bafb5df6"
      },
      "execution_count": null,
      "outputs": [
        {
          "output_type": "stream",
          "name": "stdout",
          "text": [
            "7, 13, 2, 10, 6, -11, 0\n",
            "0\n",
            "Second largest number in the list is 13 which was found at index None\n"
          ]
        }
      ]
    },
    {
      "cell_type": "code",
      "source": [
        "#Solution :16\n",
        "numbers=input().split(\",\")\n",
        "list=[]\n",
        "for i in numbers:\n",
        "  list.append(int(i))\n",
        "  c=0\n",
        "for i in list:\n",
        "  if c==0:\n",
        "    maximum=i\n",
        "    minimum=i\n",
        "    c=1\n",
        "  if i>maximum:\n",
        "    maximum=i\n",
        "  if i<minimum:\n",
        "    minimum=i \n",
        "print(maximum)\n",
        "print(minimum)         \n",
        "count=0\n",
        "for i in list:\n",
        "  if minimum<i<maximum:\n",
        "     minimum=i\n",
        "     index=count\n",
        "  count+=1\n",
        "print(f\"Second largest number in the list is {minimum} which was found at index {index}\")\n"
      ],
      "metadata": {
        "colab": {
          "base_uri": "https://localhost:8080/"
        },
        "id": "5ObGd5k8qKOB",
        "outputId": "2770eebc-fae5-4fdc-c9fa-f9c2231c1517"
      },
      "execution_count": null,
      "outputs": [
        {
          "output_type": "stream",
          "name": "stdout",
          "text": [
            "7, 13, 2, 10, 6, -11, 0\n",
            "13\n",
            "-11\n",
            "Second largest number in the list is 10 which was found at index 3\n"
          ]
        }
      ]
    },
    {
      "cell_type": "markdown",
      "source": [
        "**17.** Write a Python program that reads 5 numbers into a list and prints the smallest and largest number and their locations in the list.\n",
        "\n",
        " [You are not allowed to use the max()\n",
        "\n",
        " , min(), sort(), sorted() functions \n",
        " \n",
        " here]\n"
      ],
      "metadata": {
        "id": "XQzQWFhxnGdA"
      }
    },
    {
      "cell_type": "code",
      "source": [
        "#Solution :17\n",
        "numbers=input().split(\",\")\n",
        "list=[]\n",
        "for i in numbers:\n",
        "  list.append(int(i))\n",
        "maximum=list[0]\n",
        "minimum=list[0] \n",
        "count=1 \n",
        "\n",
        "for i in range(1,len(list)):\n",
        "\n",
        "  if list[i]>maximum:\n",
        "    maximum=list[i]\n",
        "    index_max=count\n",
        "  if list[i]<minimum:\n",
        "    minimum=list[i]\n",
        "    index_min=count\n",
        "  count+=1\n",
        "print(f\"Smallest number in the list is {minimum} which was found at index {index_min}\")\n",
        "print(f\"Largest number in the list is {maximum} which was found at index {index_max}\")\n",
        "\n",
        "\n",
        "  \n"
      ],
      "metadata": {
        "colab": {
          "base_uri": "https://localhost:8080/"
        },
        "id": "Y8JG0B1rnG07",
        "outputId": "fbbfc5d8-12e4-4e7c-df63-379b2b9c6b4b"
      },
      "execution_count": null,
      "outputs": [
        {
          "output_type": "stream",
          "name": "stdout",
          "text": [
            "7, 13, -5, 10, 6\n",
            "Smallest number in the list is -5 which was found at index 2\n",
            "Largest number in the list is 13 which was found at index 1\n"
          ]
        }
      ]
    },
    {
      "cell_type": "markdown",
      "source": [
        "**18.** Write a Python program that takes two lists as an input from the user. Then print a new list with the common elements of both the input lists.\n",
        "Hint: You may need to create a third list to store the results. You can use membership operators (in, not in) to make sure similar elements are added.\n",
        "Sample Input 1:\n",
        "\n",
        "A, B, C, D\n",
        "\n",
        "C, E, F, B\n",
        "\n",
        "Sample Output 1:\n",
        "\n",
        "['C', 'B']\n",
        "\n",
        "Sample Input 2:\n",
        "\n",
        "1, 3, A, H, P\n",
        "\n",
        "A, G, 1, P, O\n",
        "\n",
        "Sample Output 2:\n",
        "\n",
        "['1', 'A', 'P']\n",
        "\n",
        "\n",
        "\n"
      ],
      "metadata": {
        "id": "oEA2Poe9sb1J"
      }
    },
    {
      "cell_type": "code",
      "source": [
        "#Method:01 (Follow this)\n",
        "a=input().split(\",\")\n",
        "b=input().split(\",\")\n",
        "print(a)\n",
        "print(b)\n",
        "c=[]\n",
        "for i in a:\n",
        "\n",
        "  if i in b:\n",
        "    c.append(i)\n",
        "print(c)    "
      ],
      "metadata": {
        "colab": {
          "base_uri": "https://localhost:8080/"
        },
        "id": "HRTAZQBfxoa0",
        "outputId": "5fa34dd0-a0fd-42e5-80e0-8fd3d35ab863"
      },
      "execution_count": null,
      "outputs": [
        {
          "output_type": "stream",
          "name": "stdout",
          "text": [
            "1,3,A,H,P\n",
            "A,G,1,P,O\n",
            "['1', '3', 'A', 'H', 'P']\n",
            "['A', 'G', '1', 'P', 'O']\n",
            "['1', 'A', 'P']\n"
          ]
        }
      ]
    },
    {
      "cell_type": "code",
      "source": [
        "#Solve: 18\n",
        "list_one=input().split(\",\")\n",
        "list_two=input().split(\",\")\n",
        "list_3=[]\n",
        "list_4=[]\n",
        "for i in list_one:\n",
        "  list_3.append((i))\n",
        "for j in list_two:\n",
        "  if (j) in list_3:\n",
        "    list_4.append((j))\n",
        "print(list_4)\n",
        "\n"
      ],
      "metadata": {
        "colab": {
          "base_uri": "https://localhost:8080/"
        },
        "id": "Se-fqzW5slbZ",
        "outputId": "c63c3d7b-d5f4-481e-fd1a-419f218bf9ee"
      },
      "execution_count": null,
      "outputs": [
        {
          "output_type": "stream",
          "name": "stdout",
          "text": [
            "A, G, 1, P, O\n",
            "1, 3, A, H, P\n",
            "[' P']\n"
          ]
        }
      ]
    },
    {
      "cell_type": "markdown",
      "source": [
        "**19. **Assume, you have been given two lists. [Your program should work for any two given lists; make changes to the lists below and check whether your program works correctly]\n",
        "\n",
        "list_one = [1, 2, 2, 4, 5, 5, 7, 99, 200, 303, 70]\n",
        "\n",
        "list_two = [1, 1, 2, 3, 3, 3, 4, 5, 200, 500, -5]\n",
        "\n",
        "Write a Python program that creates a new list with all the unique elements of both the given lists. You need to make sure that there are no duplicates in the resulting list. Finally, print the updated list.\n",
        "Hint: You may create a third list to store the results. You can use membership operators (in, not in) to make sure no duplicates are added.\n",
        "\n",
        "list_one = [1, 2, 2, 4, 5, 5, 7, 99, 200, 303, 70]\n",
        "\n",
        "\n",
        "list_two = [1, 1, 2, 3, 3, 3, 4, 5, 200, 500, -5]\n",
        "\n",
        "Output for the above two lists: [1, 2, 4, 5, 7, 99, 200, 303, 70, 3, 500, -5]"
      ],
      "metadata": {
        "id": "ucinypAk1Mby"
      }
    },
    {
      "cell_type": "code",
      "source": [
        "#Method: Cute \n",
        "list_one=input()\n",
        "list_one=list_one[1:-1]\n",
        "list_two=input()\n",
        "list_two=list_two[1:-1]\n",
        "list_one=list_one.split(\",\")\n",
        "list_two=list_two.split(\",\")\n",
        "sum=list_one+list_two\n",
        "# print(sum)\n",
        "Final_list=[]\n",
        "for i in sum:\n",
        "  if int(i) not in Final_list:\n",
        "    Final_list.append(int(i))\n",
        "print(f\"Output for the above two lists: {Final_list}\")"
      ],
      "metadata": {
        "colab": {
          "base_uri": "https://localhost:8080/"
        },
        "id": "uPA61R-X1ayp",
        "outputId": "75c50080-8a3c-4e89-cf33-a2817fde1fdd"
      },
      "execution_count": null,
      "outputs": [
        {
          "output_type": "stream",
          "name": "stdout",
          "text": [
            "[1, 2, 2, 4, 5, 5, 7, 99, 200, 303, 70]\n",
            "[1, 1, 2, 3, 3, 3, 4, 5, 200, 500, -5]\n",
            "Output for the above two lists: [1, 2, 4, 5, 7, 99, 200, 303, 70, 3, 500, -5]\n"
          ]
        }
      ]
    },
    {
      "cell_type": "code",
      "source": [
        "#Method: 02 (Eker)\n",
        "list_one=input()\n",
        "list_one=list_one[1:-1]\n",
        "list_two=input()\n",
        "list_two=list_two[1:-1]\n",
        "list_one=list_one.split(\",\")\n",
        "list_two=list_two.split(\",\")\n",
        "sum=list_one+list_two\n",
        "set={int(sum[0])}\n",
        "for i in sum:\n",
        "   a=int(i)\n",
        "   set.add(a)\n",
        "list=[]   \n",
        "for j in set:\n",
        "  list.append(j)\n",
        "print(f\"Output for the above two lists: {list}\")\n",
        "\n"
      ],
      "metadata": {
        "id": "9oT9NmmH3jsz"
      },
      "execution_count": null,
      "outputs": []
    },
    {
      "cell_type": "markdown",
      "source": [
        "**20.** Write a python program to take a list as a string input from the user and print it back to the user as a list. Please look at the examples below for clarification.\n",
        "\n",
        "[Must use string split() and strip() functions]\n",
        "\n",
        "\n",
        "\n",
        "Sample Input 3:\n",
        "\n",
        "\"      [1,   2   ,         3,   50,   4]         \"\n",
        "\n",
        "Sample Output 3:\n",
        "\n",
        "Original data:       [1,   2   ,         3,   50,   4]   \n",
        "      \n",
        "After removing square brackets: 1,   2   ,         3,   50,   4\n",
        "\n",
        "Numbers in string format with extra white spaces: [' 1', '   2   ', '  \n",
        "       3', '   50', '   4']\n",
        "\n",
        "Final data (numbers in list format): [1, 2, 3, 50, 4]\n",
        "\n"
      ],
      "metadata": {
        "id": "8R4Caqcr7P3D"
      }
    },
    {
      "cell_type": "code",
      "source": [
        "#Solution: 20\n",
        "given=input()\n",
        "given=given[1:-1]\n",
        "print(f\"Original data: {given}\")\n",
        "given=given.strip()\n",
        "given=given[1:-1]\n",
        "print(f\"After removing the square brackets: {given}\")\n",
        "new=given.split(\",\")\n",
        "print(f\"Numbers in string format with extra white spaces: {new}\")\n",
        "final=[]\n",
        "for i in new:\n",
        "  final.append(int(i.strip()))\n",
        "print(f\"Final data (numbers in list format): {final}\")"
      ],
      "metadata": {
        "colab": {
          "base_uri": "https://localhost:8080/"
        },
        "id": "AuBu03iM7bu7",
        "outputId": "07f527d5-8499-4a8c-bd9d-b6e9efa16b6e"
      },
      "execution_count": null,
      "outputs": [
        {
          "output_type": "stream",
          "name": "stdout",
          "text": [
            "\"      [1,   2   ,         3,   50,   4]         \"\n",
            "Original data:       [1,   2   ,         3,   50,   4]         \n",
            "After removing the square brackets: 1,   2   ,         3,   50,   4\n",
            "Numbers in string format with extra white spaces: ['1', '   2   ', '         3', '   50', '   4']\n",
            "[1, 2, 3, 50, 4]\n"
          ]
        }
      ]
    },
    {
      "cell_type": "markdown",
      "source": [
        "**21.** Write a Python program that takes a single string as an input from the user where few numbers are separated by commas. Now, make a list with the numbers of the given string. Then your task is to remove multiple occurrences of any number and then finally print the list without any duplicate values.\n",
        "Hint (1): For obtaining the numbers from the string, use split(). For cleaning the data, use strip().\n",
        "Hint (2): You may create a third list to store the results. You can use membership operators (in, not in) to make sure no duplicates are added.\n",
        "\n",
        "Sample Input 1:\n",
        "\n",
        "0, 0, 1, 2, 3, 4,       4, 5, 6, 6, 6,      7, 8, 9, 4,         4\n",
        "\n",
        "Sample Output 1:\n",
        "\n",
        "Given numbers in list: [0, 0, 1, 2, 3, 4, 4, 5, 6, 6, 6, 7, 8, 9, 4, 4]\n",
        "\n",
        "List without any dupliacte values: [0, 1, 2, 3, 4, 5, 6, 7, 8, 9]\n",
        "\n",
        "\n",
        "\n",
        "\n",
        "\n",
        "\n",
        "\n",
        "\n",
        "\n",
        "\n",
        "\n",
        "\n"
      ],
      "metadata": {
        "id": "UCVbg2ka_zre"
      }
    },
    {
      "cell_type": "code",
      "source": [
        "#Solution: 21\n",
        "user=input()\n",
        "user=user.split(\",\")\n",
        "list=[]\n",
        "for i in user:\n",
        "  list.append(int(i.strip()))\n",
        "print(list)  \n",
        "new_list=[list[0]]\n",
        "for j in list:\n",
        "  if j not in new_list:\n",
        "    new_list+=[j]\n",
        "print(new_list)    "
      ],
      "metadata": {
        "colab": {
          "base_uri": "https://localhost:8080/"
        },
        "id": "3DC2kQKe_-oF",
        "outputId": "853c8dfa-6024-4686-cb87-a52fa3887d46"
      },
      "execution_count": null,
      "outputs": [
        {
          "output_type": "stream",
          "name": "stdout",
          "text": [
            "7, 7, 7, 1,           0, 3, 3,   55, 9\n",
            "[7, 7, 7, 1, 0, 3, 3, 55, 9]\n",
            "[7, 1, 0, 3, 55, 9]\n"
          ]
        }
      ]
    },
    {
      "cell_type": "markdown",
      "source": [
        "**#Extras (Practise Problems)**"
      ],
      "metadata": {
        "id": "kCMn3RmMpTlD"
      }
    },
    {
      "cell_type": "markdown",
      "source": [
        "Assume, you have been given two lists. Print both lists simultaneously such that list1 should display items\n",
        "in original order and list2 in reverse order.\n",
        "\n",
        "\n",
        "\n",
        "Given lists:\n",
        "\n",
        "List1 = [10,20,30,40]\n",
        "\n",
        "List2 = [100,200,300,400]\n",
        "\n",
        "Sample Output:\n",
        "\n",
        "10 400\n",
        "\n",
        "20 30\n",
        "\n",
        "30 200\n",
        "\n",
        "40 100\n"
      ],
      "metadata": {
        "id": "Mrm5er20pZ5x"
      }
    },
    {
      "cell_type": "code",
      "source": [
        "list1 =  [10,20,30,40,50]\n",
        "list2 = [100,200,300,400]\n",
        "list3=list2[-1::-1]\n",
        "\n",
        "if len(list1)>len(list3):\n",
        "  for i in range(len(list3)):\n",
        "    print(f\"{list1[i]} {list3[i]}\")\n",
        "  print(*list1[len(list3):])  \n",
        "\n",
        "else:\n",
        "  for i in range(len(list1)):\n",
        "    print(f\"{list1[i]} {list3[i]}\")\n",
        "  print(*list3[len(list1):]) "
      ],
      "metadata": {
        "colab": {
          "base_uri": "https://localhost:8080/"
        },
        "id": "bJE-3ZOcqNUh",
        "outputId": "4fc621b6-46e5-4642-a1ba-259192aa567c"
      },
      "execution_count": null,
      "outputs": [
        {
          "output_type": "stream",
          "name": "stdout",
          "text": [
            "10 400\n",
            "20 300\n",
            "30 200\n",
            "40 100\n",
            "50\n"
          ]
        }
      ]
    },
    {
      "cell_type": "markdown",
      "source": [
        "2. Write a Python program to reverse strings in a given list of string values without using reverse() or\n",
        "reversed().\n",
        "\n",
        "Sample Input: ['Red','Green','Blue','White','Black']\n",
        "\n",
        "Sample Output: ['deR', 'neerG', 'eulB', 'etihW', 'kcalB']\n"
      ],
      "metadata": {
        "id": "8P78p-Zw120J"
      }
    },
    {
      "cell_type": "code",
      "source": [
        "a=['Red','Green','Blue','White','Black']\n",
        "new=[]\n",
        "for i in a:\n",
        "  new+=a[-1::-1]\n",
        "print(new)   \n",
        "\n",
        "\n",
        "\n",
        "\n",
        "\n"
      ],
      "metadata": {
        "id": "32PstGX5wAed"
      },
      "execution_count": null,
      "outputs": []
    },
    {
      "cell_type": "code",
      "source": [
        "#Solution: 02(Problem)\n",
        "a=input()\n",
        "\n",
        "print(a)\n",
        "a=a.strip(\"''\")[1:-1].split(\",\")\n",
        "\n",
        "print(a)\n",
        "list=[]\n",
        "for i in a:\n",
        "   list.append(i[-1::-1].strip('\"'))\n",
        "   \n",
        "print(list)   \n"
      ],
      "metadata": {
        "id": "lzm5cg_U13M7",
        "colab": {
          "base_uri": "https://localhost:8080/"
        },
        "outputId": "adeba81b-e9b9-4428-b296-89a35d32865a"
      },
      "execution_count": null,
      "outputs": [
        {
          "output_type": "stream",
          "name": "stdout",
          "text": [
            "['Red','Green','Blue','White','Black']\n",
            "['Red','Green','Blue','White','Black']\n",
            "[\"'Red'\", \"'Green'\", \"'Blue'\", \"'White'\", \"'Black'\"]\n",
            "[\"'deR'\", \"'neerG'\", \"'eulB'\", \"'etihW'\", \"'kcalB'\"]\n"
          ]
        }
      ]
    },
    {
      "cell_type": "markdown",
      "source": [
        "*******\n",
        "Write a Python program that takes a list from the user. Then find the first even and first odd number in\n",
        "the list.\n",
        "\n",
        "Sample Input1:\n",
        "\n",
        "[1, 3, 5, 7, 4, 1, 6, 8]\n",
        "\n",
        "Sample Output1:\n",
        "\n",
        "First even:4 and First odd:1\n",
        "\n",
        "\n",
        "Sample Input2:\n",
        "\n",
        "[55, 5, 7, 9, 11]\n",
        "\n",
        "Sample Output2:\n",
        "\n",
        "First even: not found and First odd: 55"
      ],
      "metadata": {
        "id": "Z9Dl00904rnl"
      }
    },
    {
      "cell_type": "code",
      "source": [
        "#Solve:03\n",
        "list=input()\n",
        "list=list[1:-1].split(\",\")\n",
        "\n",
        "for i in list:\n",
        "  if int(i)%2!=0:\n",
        "    odd=int(i)\n",
        "    break\n",
        "  else:\n",
        "     odd=\"Not Found\"    \n",
        "\n",
        "for j in list:      \n",
        "  if int(j)%2==0:\n",
        "    even=int(j)  \n",
        "    break\n",
        "  else:\n",
        "     even=\"Not Found\" \n",
        "print(f\"First even:{even} and First odd: {odd}\")"
      ],
      "metadata": {
        "colab": {
          "base_uri": "https://localhost:8080/"
        },
        "id": "MKi2XNbj4yrb",
        "outputId": "032a8dd5-8aa4-41d9-d9da-dfd091e088e2"
      },
      "execution_count": null,
      "outputs": [
        {
          "output_type": "stream",
          "name": "stdout",
          "text": [
            "[50, 52, 6, 2, 10]\n",
            "First even:50 and First odd: Not Found\n"
          ]
        }
      ]
    },
    {
      "cell_type": "markdown",
      "source": [
        "4. Assume, you have been given a list T and a number, N. Now, create a list by concatenating the input list\n",
        "which range goes from 1 to N.\n",
        "\n",
        "\n",
        "Sample input1:\n",
        "\n",
        "T = ['p', 'q']\n",
        "\n",
        "N = 5\n",
        "\n",
        "Sample Output1:\n",
        "\n",
        "['p1', 'q1', 'p2', 'q2', 'p3', 'q3', 'p4', 'q4', 'p5', 'q5']\n",
        "\n",
        "\n",
        "\n",
        "Sample input2:\n",
        "\n",
        "T = ['p', 'q', 'r']\n",
        "\n",
        "N = 3\n",
        "\n",
        "Sample Output2:\n",
        "\n",
        "['p1', 'q1', 'r1', 'p2', 'q2', 'r2', 'p3', 'q3', 'r3']\n",
        "\n",
        "\n",
        "\n",
        "Sample input3:\n",
        "\n",
        "T = ['p', 'q', 'r','s']\n",
        "\n",
        "N = 2\n",
        "\n",
        "Sample Output3:\n",
        "\n",
        "['p1', 'q1', 'r1', 's1', 'p2', 'q2', 'r2', 's2']\n"
      ],
      "metadata": {
        "id": "8HW8p_Uj4nHK"
      }
    },
    {
      "cell_type": "code",
      "source": [
        "T = ['p', 'q', 'r','s']\n",
        "N=2\n",
        "list=[]\n",
        "for i in T:\n",
        "  for j in range(1,N+1):\n",
        "    list.append(i+str(j))\n",
        "print(list)    "
      ],
      "metadata": {
        "colab": {
          "base_uri": "https://localhost:8080/"
        },
        "id": "VfMgoFTj4wMK",
        "outputId": "73a4fe9e-866b-47c4-f45e-17e4e56c911e"
      },
      "execution_count": null,
      "outputs": [
        {
          "output_type": "stream",
          "name": "stdout",
          "text": [
            "['p1', 'p2', 'q1', 'q2', 'r1', 'r2', 's1', 's2']\n"
          ]
        }
      ]
    },
    {
      "cell_type": "code",
      "source": [
        "# Extras"
      ],
      "metadata": {
        "id": "c0M1YXIyGElo"
      },
      "execution_count": null,
      "outputs": []
    },
    {
      "cell_type": "code",
      "source": [
        "#Write a Python program to get a list, sorted in increasing order by the last\n",
        "#  element in each tuple from a given list of non-empty tuples\n",
        "a_tuple=[(2, 5), (1, 2), (4, 4), (2, 3), (2, 1)]\n",
        "# output=[(2, 1), (1, 2), (2, 3), (4, 4), (2, 5)]\n",
        "\n",
        "list2=[]\n",
        "list3=[]\n",
        "\n",
        "for i in a_tuple:\n",
        "  list2.append(i[1])\n",
        "\n",
        "list2.sort()\n",
        "\n",
        "print(list2)  \n",
        "\n",
        "for i in list2:\n",
        "  for j in a_tuple:\n",
        "    if i==j[1]:\n",
        "      list3.append(j)\n",
        "print(list3)        "
      ],
      "metadata": {
        "colab": {
          "base_uri": "https://localhost:8080/"
        },
        "id": "1Ze3vNzeYOl7",
        "outputId": "0058efe5-4923-409e-cd1e-2df16eba6b17"
      },
      "execution_count": null,
      "outputs": [
        {
          "output_type": "stream",
          "name": "stdout",
          "text": [
            "[1, 2, 3, 4, 5]\n",
            "[(2, 1), (1, 2), (2, 3), (4, 4), (2, 5)]\n"
          ]
        }
      ]
    },
    {
      "cell_type": "code",
      "source": [
        "# Write a Python program to remove duplicates from a list.\n",
        "list1=[1,2,3,4,5,5,5,5,66]\n",
        "list2=[list1[0]]\n",
        "print(list2)\n",
        "for i in list1:\n",
        "  if i not in list2:\n",
        "    list2.append(i)\n",
        "print(list2)"
      ],
      "metadata": {
        "colab": {
          "base_uri": "https://localhost:8080/"
        },
        "id": "NDZML16nYBTy",
        "outputId": "f45cf34f-2ed9-4f67-dd55-1ed66886ba83"
      },
      "execution_count": null,
      "outputs": [
        {
          "output_type": "stream",
          "name": "stdout",
          "text": [
            "[1]\n",
            "[1, 2, 3, 4, 5, 66]\n"
          ]
        }
      ]
    },
    {
      "cell_type": "code",
      "source": [
        "# Write a Python program that takes a list of integers and finds all pairs of integers that differ by three.\n",
        "#  Return all pairs of integers in a list.\n",
        "\n",
        "list1=([0, -3, -5, -7, -8])\n",
        "number=list1[0]\n",
        "lst=[]\n",
        "for i in range(1,len(list1)):\n",
        "  if abs(number-list1[i])==3:\n",
        "    \n",
        "    lst.append([number,list1[i]])\n",
        "   \n",
        "    number=list1[i]\n",
        "print(lst)\n",
        "  \n"
      ],
      "metadata": {
        "id": "n5EJLy1ZbC_o",
        "colab": {
          "base_uri": "https://localhost:8080/"
        },
        "outputId": "1398d0cd-5d58-4d24-bac2-e2669bdad4ac"
      },
      "execution_count": null,
      "outputs": [
        {
          "output_type": "stream",
          "name": "stdout",
          "text": [
            "[[0, -3]]\n"
          ]
        }
      ]
    },
    {
      "cell_type": "code",
      "source": [],
      "metadata": {
        "id": "jiVW9xmz4-ph"
      },
      "execution_count": null,
      "outputs": []
    }
  ]
}